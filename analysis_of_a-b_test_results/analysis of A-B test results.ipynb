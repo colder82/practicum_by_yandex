{
 "cells": [
  {
   "cell_type": "markdown",
   "metadata": {},
   "source": [
    "# Анализ результатов A/B теста\n",
    "\n",
    "Имеется крупный интернет-магазин. Вместе с отделом маркетинга был подготовлен список гипотез для увеличения выручки.\n",
    "\n",
    "В нашем распоряжении есть следующие данные:\n",
    "*\tфайл описания 9 гипотез с указанными параметрами Reach, Impact, Confidence, Effort для каждой гипотезы;\n",
    "*\tфайл с данными по заказам A/B теста по дням;\n",
    "*\tфайл с данными количества пользователей A/B теста по дням.\n",
    "\n",
    "**Цель исследования**:\n",
    "1. Приоритизировать гипотезы фреймворками ICE и RICE;\n",
    "2. Проанализировать результаты A/B теста.\n",
    "\n",
    "**Оглавление проекта**\n",
    "1. [Изучение данных и подготовка их к анализу](#start)\n",
    "    * 1.1. [Предобработка данных](#preprocessing)\n",
    "    * 1.2. [Вывод по данным](#conclusion_1)\n",
    "2. [Приоритизация гипотез](#priority)\n",
    "    * 2.1. [Вывод по приоритизации](#conclusion_2)\n",
    "3. [Анализ A/B-теста](#analysis)\n",
    "    * 3.1. [График кумулятивной выручки по группам](#analysis_1)\n",
    "    * 3.2. [График кумулятивного среднего чека по группам](#analysis_2)\n",
    "    * 3.3. [График относительного изменения кумулятивного среднего чека групп](#analysis_3)\n",
    "    * 3.4. [График кумулятивной конверсии по группам](#analysis_4)\n",
    "    * 3.5. [График относительного изменения кумулятивной конверсии групп](#analysis_5)\n",
    "    * 3.6. [Точечный график количества заказов по пользователям](#analysis_6)\n",
    "    * 3.7. [Подсчет перцентилей количества заказов на пользователя](#analysis_7)\n",
    "    * 3.8. [Точечный график стоимостей заказов](#analysis_8)\n",
    "    * 3.9. [Подсчет перцентилей стоимости заказов](#analysis_9)\n",
    "    * 3.10. [Статистическая значимость различий в конверсии между группами по сырым данным](#analysis_10)\n",
    "    * 3.11. [Cтатистическая значимость различий в среднем чеке заказа между группами по сырым данным](#analysis_11)\n",
    "    * 3.12. [Cтатистическая значимость различий в конверсии между группами по очищенным данным](#analysis_12)\n",
    "    * 3.13. [Cтатистическая значимость различий в среднем чеке заказа между группами по очищенным данным](#analysis_13)\n",
    "4. [Выводы по результатам теста](#conclusion)"
   ]
  },
  {
   "cell_type": "markdown",
   "metadata": {},
   "source": [
    "## Изучение данных и подготовка их к анализу\n",
    "<a id=\"start\"></a>\n",
    "Импортируем нужные библиотеки, загрузим данные, преобразуем значения в столбцах при необходимости, проверим на дубликаты."
   ]
  },
  {
   "cell_type": "code",
   "execution_count": 1,
   "metadata": {},
   "outputs": [],
   "source": [
    "# импорт необходимых библиотек\n",
    "import pandas as pd\n",
    "import datetime as dt\n",
    "import numpy as np\n",
    "import scipy.stats as stats\n",
    "import matplotlib.pyplot as plt\n",
    "import seaborn as sns\n",
    "from pandas.plotting import register_matplotlib_converters\n",
    "import warnings\n",
    "# конвертеры, которые позволяют использовать типы pandas в matplotlib  \n",
    "register_matplotlib_converters()"
   ]
  },
  {
   "cell_type": "code",
   "execution_count": 2,
   "metadata": {},
   "outputs": [],
   "source": [
    "# загрузка данных в переменные\n",
    "\n",
    "try:\n",
    "    hypothesis, orders, visitors = (\n",
    "    pd.read_csv('/datasets/hypothesis.csv', sep=','),  # гипотезы\n",
    "    pd.read_csv('/datasets/orders.csv', sep=','),  # заказы\n",
    "    pd.read_csv('/datasets/visitors.csv', sep=','),  # посетители интернет-магазина\n",
    "    )\n",
    "except:\n",
    "    hypothesis, orders, visitors = (\n",
    "    pd.read_csv('C:/Data/hypothesis.csv', sep=','),  \n",
    "    pd.read_csv('C:/Data/orders.csv', sep=','),  \n",
    "    pd.read_csv('C:/Data/visitors.csv', sep=','),  \n",
    "    )"
   ]
  },
  {
   "cell_type": "code",
   "execution_count": 3,
   "metadata": {},
   "outputs": [
    {
     "name": "stdout",
     "output_type": "stream",
     "text": [
      "Получение информации по файлу hypothesis:\n",
      "\n",
      "<class 'pandas.core.frame.DataFrame'>\n",
      "RangeIndex: 9 entries, 0 to 8\n",
      "Data columns (total 5 columns):\n",
      "Hypothesis    9 non-null object\n",
      "Reach         9 non-null int64\n",
      "Impact        9 non-null int64\n",
      "Confidence    9 non-null int64\n",
      "Efforts       9 non-null int64\n",
      "dtypes: int64(4), object(1)\n",
      "memory usage: 488.0+ bytes\n",
      "\n",
      "Получение информации по файлу orders:\n",
      "\n",
      "<class 'pandas.core.frame.DataFrame'>\n",
      "RangeIndex: 1197 entries, 0 to 1196\n",
      "Data columns (total 5 columns):\n",
      "transactionId    1197 non-null int64\n",
      "visitorId        1197 non-null int64\n",
      "date             1197 non-null object\n",
      "revenue          1197 non-null int64\n",
      "group            1197 non-null object\n",
      "dtypes: int64(3), object(2)\n",
      "memory usage: 46.9+ KB\n",
      "\n",
      "Получение информации по файлу visitors:\n",
      "\n",
      "<class 'pandas.core.frame.DataFrame'>\n",
      "RangeIndex: 62 entries, 0 to 61\n",
      "Data columns (total 3 columns):\n",
      "date        62 non-null object\n",
      "group       62 non-null object\n",
      "visitors    62 non-null int64\n",
      "dtypes: int64(1), object(2)\n",
      "memory usage: 1.6+ KB\n",
      "\n"
     ]
    }
   ],
   "source": [
    "# знакомство с данными в переменных\n",
    "files_dict = {'hypothesis':hypothesis, 'orders':orders, 'visitors':visitors}\n",
    "for i, j in files_dict.items():\n",
    "    print(f\"Получение информации по файлу {i}:\")\n",
    "    print('')\n",
    "    j.info()\n",
    "    print('')"
   ]
  },
  {
   "cell_type": "markdown",
   "metadata": {},
   "source": [
    "Знакомство с таблицей гипотез:"
   ]
  },
  {
   "cell_type": "code",
   "execution_count": 4,
   "metadata": {},
   "outputs": [
    {
     "data": {
      "text/html": [
       "<div>\n",
       "<style scoped>\n",
       "    .dataframe tbody tr th:only-of-type {\n",
       "        vertical-align: middle;\n",
       "    }\n",
       "\n",
       "    .dataframe tbody tr th {\n",
       "        vertical-align: top;\n",
       "    }\n",
       "\n",
       "    .dataframe thead th {\n",
       "        text-align: right;\n",
       "    }\n",
       "</style>\n",
       "<table border=\"1\" class=\"dataframe\">\n",
       "  <thead>\n",
       "    <tr style=\"text-align: right;\">\n",
       "      <th></th>\n",
       "      <th>Hypothesis</th>\n",
       "      <th>Reach</th>\n",
       "      <th>Impact</th>\n",
       "      <th>Confidence</th>\n",
       "      <th>Efforts</th>\n",
       "    </tr>\n",
       "  </thead>\n",
       "  <tbody>\n",
       "    <tr>\n",
       "      <td>0</td>\n",
       "      <td>Добавить два новых канала привлечения трафика, что позволит привлекать на 30% больше пользователей</td>\n",
       "      <td>3</td>\n",
       "      <td>10</td>\n",
       "      <td>8</td>\n",
       "      <td>6</td>\n",
       "    </tr>\n",
       "    <tr>\n",
       "      <td>1</td>\n",
       "      <td>Запустить собственную службу доставки, что сократит срок доставки заказов</td>\n",
       "      <td>2</td>\n",
       "      <td>5</td>\n",
       "      <td>4</td>\n",
       "      <td>10</td>\n",
       "    </tr>\n",
       "    <tr>\n",
       "      <td>2</td>\n",
       "      <td>Добавить блоки рекомендаций товаров на сайт интернет магазина, чтобы повысить конверсию и средний чек заказа</td>\n",
       "      <td>8</td>\n",
       "      <td>3</td>\n",
       "      <td>7</td>\n",
       "      <td>3</td>\n",
       "    </tr>\n",
       "    <tr>\n",
       "      <td>3</td>\n",
       "      <td>Изменить структура категорий, что увеличит конверсию, т.к. пользователи быстрее найдут нужный товар</td>\n",
       "      <td>8</td>\n",
       "      <td>3</td>\n",
       "      <td>3</td>\n",
       "      <td>8</td>\n",
       "    </tr>\n",
       "    <tr>\n",
       "      <td>4</td>\n",
       "      <td>Изменить цвет фона главной страницы, чтобы увеличить вовлеченность пользователей</td>\n",
       "      <td>3</td>\n",
       "      <td>1</td>\n",
       "      <td>1</td>\n",
       "      <td>1</td>\n",
       "    </tr>\n",
       "    <tr>\n",
       "      <td>5</td>\n",
       "      <td>Добавить страницу отзывов клиентов о магазине, что позволит увеличить количество заказов</td>\n",
       "      <td>3</td>\n",
       "      <td>2</td>\n",
       "      <td>2</td>\n",
       "      <td>3</td>\n",
       "    </tr>\n",
       "    <tr>\n",
       "      <td>6</td>\n",
       "      <td>Показать на главной странице баннеры с актуальными акциями и распродажами, чтобы увеличить конверсию</td>\n",
       "      <td>5</td>\n",
       "      <td>3</td>\n",
       "      <td>8</td>\n",
       "      <td>3</td>\n",
       "    </tr>\n",
       "    <tr>\n",
       "      <td>7</td>\n",
       "      <td>Добавить форму подписки на все основные страницы, чтобы собрать базу клиентов для email-рассылок</td>\n",
       "      <td>10</td>\n",
       "      <td>7</td>\n",
       "      <td>8</td>\n",
       "      <td>5</td>\n",
       "    </tr>\n",
       "    <tr>\n",
       "      <td>8</td>\n",
       "      <td>Запустить акцию, дающую скидку на товар в день рождения</td>\n",
       "      <td>1</td>\n",
       "      <td>9</td>\n",
       "      <td>9</td>\n",
       "      <td>5</td>\n",
       "    </tr>\n",
       "  </tbody>\n",
       "</table>\n",
       "</div>"
      ],
      "text/plain": [
       "                                                                                                     Hypothesis  \\\n",
       "0            Добавить два новых канала привлечения трафика, что позволит привлекать на 30% больше пользователей   \n",
       "1                                     Запустить собственную службу доставки, что сократит срок доставки заказов   \n",
       "2  Добавить блоки рекомендаций товаров на сайт интернет магазина, чтобы повысить конверсию и средний чек заказа   \n",
       "3           Изменить структура категорий, что увеличит конверсию, т.к. пользователи быстрее найдут нужный товар   \n",
       "4                              Изменить цвет фона главной страницы, чтобы увеличить вовлеченность пользователей   \n",
       "5                      Добавить страницу отзывов клиентов о магазине, что позволит увеличить количество заказов   \n",
       "6          Показать на главной странице баннеры с актуальными акциями и распродажами, чтобы увеличить конверсию   \n",
       "7              Добавить форму подписки на все основные страницы, чтобы собрать базу клиентов для email-рассылок   \n",
       "8                                                       Запустить акцию, дающую скидку на товар в день рождения   \n",
       "\n",
       "   Reach  Impact  Confidence  Efforts  \n",
       "0      3      10           8        6  \n",
       "1      2       5           4       10  \n",
       "2      8       3           7        3  \n",
       "3      8       3           3        8  \n",
       "4      3       1           1        1  \n",
       "5      3       2           2        3  \n",
       "6      5       3           8        3  \n",
       "7     10       7           8        5  \n",
       "8      1       9           9        5  "
      ]
     },
     "execution_count": 4,
     "metadata": {},
     "output_type": "execute_result"
    }
   ],
   "source": [
    "pd.set_option('display.max_colwidth', 1000)\n",
    "hypothesis"
   ]
  },
  {
   "cell_type": "markdown",
   "metadata": {},
   "source": [
    "Знакомство с таблицей заказов:"
   ]
  },
  {
   "cell_type": "code",
   "execution_count": 5,
   "metadata": {},
   "outputs": [
    {
     "data": {
      "text/html": [
       "<div>\n",
       "<style scoped>\n",
       "    .dataframe tbody tr th:only-of-type {\n",
       "        vertical-align: middle;\n",
       "    }\n",
       "\n",
       "    .dataframe tbody tr th {\n",
       "        vertical-align: top;\n",
       "    }\n",
       "\n",
       "    .dataframe thead th {\n",
       "        text-align: right;\n",
       "    }\n",
       "</style>\n",
       "<table border=\"1\" class=\"dataframe\">\n",
       "  <thead>\n",
       "    <tr style=\"text-align: right;\">\n",
       "      <th></th>\n",
       "      <th>transactionId</th>\n",
       "      <th>visitorId</th>\n",
       "      <th>date</th>\n",
       "      <th>revenue</th>\n",
       "      <th>group</th>\n",
       "    </tr>\n",
       "  </thead>\n",
       "  <tbody>\n",
       "    <tr>\n",
       "      <td>0</td>\n",
       "      <td>3667963787</td>\n",
       "      <td>3312258926</td>\n",
       "      <td>2019-08-15</td>\n",
       "      <td>1650</td>\n",
       "      <td>B</td>\n",
       "    </tr>\n",
       "    <tr>\n",
       "      <td>1</td>\n",
       "      <td>2804400009</td>\n",
       "      <td>3642806036</td>\n",
       "      <td>2019-08-15</td>\n",
       "      <td>730</td>\n",
       "      <td>B</td>\n",
       "    </tr>\n",
       "    <tr>\n",
       "      <td>2</td>\n",
       "      <td>2961555356</td>\n",
       "      <td>4069496402</td>\n",
       "      <td>2019-08-15</td>\n",
       "      <td>400</td>\n",
       "      <td>A</td>\n",
       "    </tr>\n",
       "    <tr>\n",
       "      <td>3</td>\n",
       "      <td>3797467345</td>\n",
       "      <td>1196621759</td>\n",
       "      <td>2019-08-15</td>\n",
       "      <td>9759</td>\n",
       "      <td>B</td>\n",
       "    </tr>\n",
       "    <tr>\n",
       "      <td>4</td>\n",
       "      <td>2282983706</td>\n",
       "      <td>2322279887</td>\n",
       "      <td>2019-08-15</td>\n",
       "      <td>2308</td>\n",
       "      <td>B</td>\n",
       "    </tr>\n",
       "  </tbody>\n",
       "</table>\n",
       "</div>"
      ],
      "text/plain": [
       "   transactionId   visitorId        date  revenue group\n",
       "0     3667963787  3312258926  2019-08-15     1650     B\n",
       "1     2804400009  3642806036  2019-08-15      730     B\n",
       "2     2961555356  4069496402  2019-08-15      400     A\n",
       "3     3797467345  1196621759  2019-08-15     9759     B\n",
       "4     2282983706  2322279887  2019-08-15     2308     B"
      ]
     },
     "metadata": {},
     "output_type": "display_data"
    },
    {
     "data": {
      "text/html": [
       "<div>\n",
       "<style scoped>\n",
       "    .dataframe tbody tr th:only-of-type {\n",
       "        vertical-align: middle;\n",
       "    }\n",
       "\n",
       "    .dataframe tbody tr th {\n",
       "        vertical-align: top;\n",
       "    }\n",
       "\n",
       "    .dataframe thead th {\n",
       "        text-align: right;\n",
       "    }\n",
       "</style>\n",
       "<table border=\"1\" class=\"dataframe\">\n",
       "  <thead>\n",
       "    <tr style=\"text-align: right;\">\n",
       "      <th></th>\n",
       "      <th>count</th>\n",
       "      <th>unique</th>\n",
       "      <th>top</th>\n",
       "      <th>freq</th>\n",
       "      <th>mean</th>\n",
       "      <th>std</th>\n",
       "      <th>min</th>\n",
       "      <th>25%</th>\n",
       "      <th>50%</th>\n",
       "      <th>75%</th>\n",
       "      <th>max</th>\n",
       "    </tr>\n",
       "  </thead>\n",
       "  <tbody>\n",
       "    <tr>\n",
       "      <td>transactionId</td>\n",
       "      <td>1197</td>\n",
       "      <td>NaN</td>\n",
       "      <td>NaN</td>\n",
       "      <td>NaN</td>\n",
       "      <td>2.15562e+09</td>\n",
       "      <td>1.22908e+09</td>\n",
       "      <td>1.06239e+06</td>\n",
       "      <td>1.16678e+09</td>\n",
       "      <td>2.14519e+09</td>\n",
       "      <td>3.23774e+09</td>\n",
       "      <td>4.29386e+09</td>\n",
       "    </tr>\n",
       "    <tr>\n",
       "      <td>visitorId</td>\n",
       "      <td>1197</td>\n",
       "      <td>NaN</td>\n",
       "      <td>NaN</td>\n",
       "      <td>NaN</td>\n",
       "      <td>2.16596e+09</td>\n",
       "      <td>1.23601e+09</td>\n",
       "      <td>5.11459e+06</td>\n",
       "      <td>1.11183e+09</td>\n",
       "      <td>2.21798e+09</td>\n",
       "      <td>3.17761e+09</td>\n",
       "      <td>4.28387e+09</td>\n",
       "    </tr>\n",
       "    <tr>\n",
       "      <td>date</td>\n",
       "      <td>1197</td>\n",
       "      <td>31</td>\n",
       "      <td>2019-08-05</td>\n",
       "      <td>48</td>\n",
       "      <td>NaN</td>\n",
       "      <td>NaN</td>\n",
       "      <td>NaN</td>\n",
       "      <td>NaN</td>\n",
       "      <td>NaN</td>\n",
       "      <td>NaN</td>\n",
       "      <td>NaN</td>\n",
       "    </tr>\n",
       "    <tr>\n",
       "      <td>revenue</td>\n",
       "      <td>1197</td>\n",
       "      <td>NaN</td>\n",
       "      <td>NaN</td>\n",
       "      <td>NaN</td>\n",
       "      <td>8348.01</td>\n",
       "      <td>39191.1</td>\n",
       "      <td>50</td>\n",
       "      <td>1220</td>\n",
       "      <td>2978</td>\n",
       "      <td>8290</td>\n",
       "      <td>1.2945e+06</td>\n",
       "    </tr>\n",
       "    <tr>\n",
       "      <td>group</td>\n",
       "      <td>1197</td>\n",
       "      <td>2</td>\n",
       "      <td>B</td>\n",
       "      <td>640</td>\n",
       "      <td>NaN</td>\n",
       "      <td>NaN</td>\n",
       "      <td>NaN</td>\n",
       "      <td>NaN</td>\n",
       "      <td>NaN</td>\n",
       "      <td>NaN</td>\n",
       "      <td>NaN</td>\n",
       "    </tr>\n",
       "  </tbody>\n",
       "</table>\n",
       "</div>"
      ],
      "text/plain": [
       "              count unique         top freq         mean          std  \\\n",
       "transactionId  1197    NaN         NaN  NaN  2.15562e+09  1.22908e+09   \n",
       "visitorId      1197    NaN         NaN  NaN  2.16596e+09  1.23601e+09   \n",
       "date           1197     31  2019-08-05   48          NaN          NaN   \n",
       "revenue        1197    NaN         NaN  NaN      8348.01      39191.1   \n",
       "group          1197      2           B  640          NaN          NaN   \n",
       "\n",
       "                       min          25%          50%          75%          max  \n",
       "transactionId  1.06239e+06  1.16678e+09  2.14519e+09  3.23774e+09  4.29386e+09  \n",
       "visitorId      5.11459e+06  1.11183e+09  2.21798e+09  3.17761e+09  4.28387e+09  \n",
       "date                   NaN          NaN          NaN          NaN          NaN  \n",
       "revenue                 50         1220         2978         8290   1.2945e+06  \n",
       "group                  NaN          NaN          NaN          NaN          NaN  "
      ]
     },
     "execution_count": 5,
     "metadata": {},
     "output_type": "execute_result"
    }
   ],
   "source": [
    "display(orders.head())\n",
    "# Вывод описательной статистики для таблицы заказов:\n",
    "orders.describe(include='all').T"
   ]
  },
  {
   "cell_type": "markdown",
   "metadata": {},
   "source": [
    "Знакомство с таблицей посетителей:"
   ]
  },
  {
   "cell_type": "code",
   "execution_count": 6,
   "metadata": {},
   "outputs": [
    {
     "data": {
      "text/html": [
       "<div>\n",
       "<style scoped>\n",
       "    .dataframe tbody tr th:only-of-type {\n",
       "        vertical-align: middle;\n",
       "    }\n",
       "\n",
       "    .dataframe tbody tr th {\n",
       "        vertical-align: top;\n",
       "    }\n",
       "\n",
       "    .dataframe thead th {\n",
       "        text-align: right;\n",
       "    }\n",
       "</style>\n",
       "<table border=\"1\" class=\"dataframe\">\n",
       "  <thead>\n",
       "    <tr style=\"text-align: right;\">\n",
       "      <th></th>\n",
       "      <th>date</th>\n",
       "      <th>group</th>\n",
       "      <th>visitors</th>\n",
       "    </tr>\n",
       "  </thead>\n",
       "  <tbody>\n",
       "    <tr>\n",
       "      <td>0</td>\n",
       "      <td>2019-08-01</td>\n",
       "      <td>A</td>\n",
       "      <td>719</td>\n",
       "    </tr>\n",
       "    <tr>\n",
       "      <td>1</td>\n",
       "      <td>2019-08-02</td>\n",
       "      <td>A</td>\n",
       "      <td>619</td>\n",
       "    </tr>\n",
       "    <tr>\n",
       "      <td>2</td>\n",
       "      <td>2019-08-03</td>\n",
       "      <td>A</td>\n",
       "      <td>507</td>\n",
       "    </tr>\n",
       "    <tr>\n",
       "      <td>3</td>\n",
       "      <td>2019-08-04</td>\n",
       "      <td>A</td>\n",
       "      <td>717</td>\n",
       "    </tr>\n",
       "    <tr>\n",
       "      <td>4</td>\n",
       "      <td>2019-08-05</td>\n",
       "      <td>A</td>\n",
       "      <td>756</td>\n",
       "    </tr>\n",
       "  </tbody>\n",
       "</table>\n",
       "</div>"
      ],
      "text/plain": [
       "         date group  visitors\n",
       "0  2019-08-01     A       719\n",
       "1  2019-08-02     A       619\n",
       "2  2019-08-03     A       507\n",
       "3  2019-08-04     A       717\n",
       "4  2019-08-05     A       756"
      ]
     },
     "metadata": {},
     "output_type": "display_data"
    },
    {
     "data": {
      "text/html": [
       "<div>\n",
       "<style scoped>\n",
       "    .dataframe tbody tr th:only-of-type {\n",
       "        vertical-align: middle;\n",
       "    }\n",
       "\n",
       "    .dataframe tbody tr th {\n",
       "        vertical-align: top;\n",
       "    }\n",
       "\n",
       "    .dataframe thead th {\n",
       "        text-align: right;\n",
       "    }\n",
       "</style>\n",
       "<table border=\"1\" class=\"dataframe\">\n",
       "  <thead>\n",
       "    <tr style=\"text-align: right;\">\n",
       "      <th></th>\n",
       "      <th>count</th>\n",
       "      <th>unique</th>\n",
       "      <th>top</th>\n",
       "      <th>freq</th>\n",
       "      <th>mean</th>\n",
       "      <th>std</th>\n",
       "      <th>min</th>\n",
       "      <th>25%</th>\n",
       "      <th>50%</th>\n",
       "      <th>75%</th>\n",
       "      <th>max</th>\n",
       "    </tr>\n",
       "  </thead>\n",
       "  <tbody>\n",
       "    <tr>\n",
       "      <td>date</td>\n",
       "      <td>62</td>\n",
       "      <td>31</td>\n",
       "      <td>2019-08-24</td>\n",
       "      <td>2</td>\n",
       "      <td>NaN</td>\n",
       "      <td>NaN</td>\n",
       "      <td>NaN</td>\n",
       "      <td>NaN</td>\n",
       "      <td>NaN</td>\n",
       "      <td>NaN</td>\n",
       "      <td>NaN</td>\n",
       "    </tr>\n",
       "    <tr>\n",
       "      <td>group</td>\n",
       "      <td>62</td>\n",
       "      <td>2</td>\n",
       "      <td>A</td>\n",
       "      <td>31</td>\n",
       "      <td>NaN</td>\n",
       "      <td>NaN</td>\n",
       "      <td>NaN</td>\n",
       "      <td>NaN</td>\n",
       "      <td>NaN</td>\n",
       "      <td>NaN</td>\n",
       "      <td>NaN</td>\n",
       "    </tr>\n",
       "    <tr>\n",
       "      <td>visitors</td>\n",
       "      <td>62</td>\n",
       "      <td>NaN</td>\n",
       "      <td>NaN</td>\n",
       "      <td>NaN</td>\n",
       "      <td>607.29</td>\n",
       "      <td>114.401</td>\n",
       "      <td>361</td>\n",
       "      <td>534</td>\n",
       "      <td>624.5</td>\n",
       "      <td>710.5</td>\n",
       "      <td>770</td>\n",
       "    </tr>\n",
       "  </tbody>\n",
       "</table>\n",
       "</div>"
      ],
      "text/plain": [
       "         count unique         top freq    mean      std  min  25%    50%  \\\n",
       "date        62     31  2019-08-24    2     NaN      NaN  NaN  NaN    NaN   \n",
       "group       62      2           A   31     NaN      NaN  NaN  NaN    NaN   \n",
       "visitors    62    NaN         NaN  NaN  607.29  114.401  361  534  624.5   \n",
       "\n",
       "            75%  max  \n",
       "date        NaN  NaN  \n",
       "group       NaN  NaN  \n",
       "visitors  710.5  770  "
      ]
     },
     "execution_count": 6,
     "metadata": {},
     "output_type": "execute_result"
    }
   ],
   "source": [
    "display(visitors.head())\n",
    "visitors.describe(include='all').T"
   ]
  },
  {
   "cell_type": "markdown",
   "metadata": {},
   "source": [
    "### Предобработка данных\n",
    "<a id=\"preprocessing\"></a>"
   ]
  },
  {
   "cell_type": "code",
   "execution_count": 7,
   "metadata": {},
   "outputs": [],
   "source": [
    "# преобразование стиля заголовка в столбцах таблиц\n",
    "hypothesis = hypothesis.rename(columns={'Hypothesis': 'hypothesis', 'Reach': 'reach', 'Impact': 'impact', \n",
    "                                        'Confidence': 'confidence', 'Efforts': 'efforts'})\n",
    "orders = orders.rename(columns={'transactionId': 'transaction_id', 'visitorId': 'visitor_id'})"
   ]
  },
  {
   "cell_type": "code",
   "execution_count": 8,
   "metadata": {},
   "outputs": [],
   "source": [
    "# преобразование данных о времени\n",
    "orders['date'] = orders['date'].map(lambda x: dt.datetime.strptime(x, '%Y-%m-%d'))\n",
    "visitors['date'] = visitors['date'].map(lambda x: dt.datetime.strptime(x, '%Y-%m-%d'))"
   ]
  },
  {
   "cell_type": "code",
   "execution_count": 9,
   "metadata": {},
   "outputs": [
    {
     "name": "stdout",
     "output_type": "stream",
     "text": [
      "Найдено дубликатов в таблице orders: 0\n",
      "Найдено дубликатов в таблице visitors: 0\n"
     ]
    }
   ],
   "source": [
    "# проверка таблиц на явные дубликаты \n",
    "print('Найдено дубликатов в таблице orders:', orders.duplicated().sum())\n",
    "print('Найдено дубликатов в таблице visitors:', visitors.duplicated().sum())"
   ]
  },
  {
   "cell_type": "code",
   "execution_count": 10,
   "metadata": {},
   "outputs": [
    {
     "data": {
      "text/plain": [
       "array(['2019-08-01T00:00:00.000000000', '2019-08-02T00:00:00.000000000',\n",
       "       '2019-08-03T00:00:00.000000000', '2019-08-04T00:00:00.000000000',\n",
       "       '2019-08-05T00:00:00.000000000', '2019-08-06T00:00:00.000000000',\n",
       "       '2019-08-07T00:00:00.000000000', '2019-08-08T00:00:00.000000000',\n",
       "       '2019-08-09T00:00:00.000000000', '2019-08-10T00:00:00.000000000',\n",
       "       '2019-08-11T00:00:00.000000000', '2019-08-12T00:00:00.000000000',\n",
       "       '2019-08-13T00:00:00.000000000', '2019-08-14T00:00:00.000000000',\n",
       "       '2019-08-15T00:00:00.000000000', '2019-08-16T00:00:00.000000000',\n",
       "       '2019-08-17T00:00:00.000000000', '2019-08-18T00:00:00.000000000',\n",
       "       '2019-08-19T00:00:00.000000000', '2019-08-20T00:00:00.000000000',\n",
       "       '2019-08-21T00:00:00.000000000', '2019-08-22T00:00:00.000000000',\n",
       "       '2019-08-23T00:00:00.000000000', '2019-08-24T00:00:00.000000000',\n",
       "       '2019-08-25T00:00:00.000000000', '2019-08-26T00:00:00.000000000',\n",
       "       '2019-08-27T00:00:00.000000000', '2019-08-28T00:00:00.000000000',\n",
       "       '2019-08-29T00:00:00.000000000', '2019-08-30T00:00:00.000000000',\n",
       "       '2019-08-31T00:00:00.000000000'], dtype='datetime64[ns]')"
      ]
     },
     "metadata": {},
     "output_type": "display_data"
    },
    {
     "data": {
      "text/plain": [
       "array(['2019-08-01T00:00:00.000000000', '2019-08-02T00:00:00.000000000',\n",
       "       '2019-08-03T00:00:00.000000000', '2019-08-04T00:00:00.000000000',\n",
       "       '2019-08-05T00:00:00.000000000', '2019-08-06T00:00:00.000000000',\n",
       "       '2019-08-07T00:00:00.000000000', '2019-08-08T00:00:00.000000000',\n",
       "       '2019-08-09T00:00:00.000000000', '2019-08-10T00:00:00.000000000',\n",
       "       '2019-08-11T00:00:00.000000000', '2019-08-12T00:00:00.000000000',\n",
       "       '2019-08-13T00:00:00.000000000', '2019-08-14T00:00:00.000000000',\n",
       "       '2019-08-15T00:00:00.000000000', '2019-08-16T00:00:00.000000000',\n",
       "       '2019-08-17T00:00:00.000000000', '2019-08-18T00:00:00.000000000',\n",
       "       '2019-08-19T00:00:00.000000000', '2019-08-20T00:00:00.000000000',\n",
       "       '2019-08-21T00:00:00.000000000', '2019-08-22T00:00:00.000000000',\n",
       "       '2019-08-23T00:00:00.000000000', '2019-08-24T00:00:00.000000000',\n",
       "       '2019-08-25T00:00:00.000000000', '2019-08-26T00:00:00.000000000',\n",
       "       '2019-08-27T00:00:00.000000000', '2019-08-28T00:00:00.000000000',\n",
       "       '2019-08-29T00:00:00.000000000', '2019-08-30T00:00:00.000000000',\n",
       "       '2019-08-31T00:00:00.000000000'], dtype='datetime64[ns]')"
      ]
     },
     "execution_count": 10,
     "metadata": {},
     "output_type": "execute_result"
    }
   ],
   "source": [
    "# проверка диапазона дней в таблицах\n",
    "display(visitors['date'].unique())\n",
    "orders['date'].sort_values().unique()"
   ]
  },
  {
   "cell_type": "code",
   "execution_count": 11,
   "metadata": {},
   "outputs": [
    {
     "data": {
      "text/plain": [
       "group\n",
       "A    557\n",
       "B    640\n",
       "Name: visitor_id, dtype: int64"
      ]
     },
     "execution_count": 11,
     "metadata": {},
     "output_type": "execute_result"
    }
   ],
   "source": [
    "# проверяем распределение посетителей по группам\n",
    "orders.groupby('group')['visitor_id'].count()"
   ]
  },
  {
   "cell_type": "code",
   "execution_count": 12,
   "metadata": {},
   "outputs": [
    {
     "data": {
      "text/plain": [
       "58"
      ]
     },
     "execution_count": 12,
     "metadata": {},
     "output_type": "execute_result"
    }
   ],
   "source": [
    "# проверяем и выделяем количество пользователей, которые входят в обе группы тестирования\n",
    "crossingGroups = orders.groupby('visitor_id', as_index=False).agg({'group':'nunique'}).query('group > 1')\n",
    "len(crossingGroups)"
   ]
  },
  {
   "cell_type": "code",
   "execution_count": 13,
   "metadata": {},
   "outputs": [
    {
     "data": {
      "text/plain": [
       "1031"
      ]
     },
     "execution_count": 13,
     "metadata": {},
     "output_type": "execute_result"
    }
   ],
   "source": [
    "# всего уникальных пользователей\n",
    "len(orders.groupby('visitor_id'))"
   ]
  },
  {
   "cell_type": "code",
   "execution_count": 14,
   "metadata": {},
   "outputs": [
    {
     "data": {
      "text/plain": [
       "5.63"
      ]
     },
     "execution_count": 14,
     "metadata": {},
     "output_type": "execute_result"
    }
   ],
   "source": [
    "# процент пользователей засветившихся в обеих группах\n",
    "round(58*100/1031, 2)"
   ]
  },
  {
   "cell_type": "markdown",
   "metadata": {},
   "source": [
    "Пересечение групп сильно влияет на результаты теста, если процент достаточно большой. Для учебного проекта пренебрежем этим пересечением."
   ]
  },
  {
   "cell_type": "markdown",
   "metadata": {},
   "source": [
    "### Вывод по данным\n",
    "<a id=\"conclusion_1\"></a>\n",
    "В таблице **hypothesis** 5 столбцов:\n",
    "*   `Hypothesis` — краткое описание гипотезы\n",
    "*   `Reach` — охват пользователей по 10-балльной шкале\n",
    "*   `Impact` — влияние на пользователей по 10-балльной шкале\n",
    "*   `Confidence` — уверенность в гипотезе по 10-балльной шкале\n",
    "*   `Efforts` - затраты ресурсов на проверку гипотезы по 10-балльной шкале.\n",
    "    \n",
    "Пропущенных значений и дубликатов в таблице нет. Названия колонок преобразованы к змеиному регистру. \n",
    "\n",
    "В таблице **orders** 5 столбцов:\n",
    "*   `transactionId` — идентификатор заказа\n",
    "*   `visitorId` — идентификатор пользователя, совершившего заказ\n",
    "*   `date` — дата, когда был совершён заказ\n",
    "*   `revenue` — выручка заказа\n",
    "*   `group` — группа A/B-теста, в которую попал заказ.\n",
    "    \n",
    "Пропущенных значений и дубликатов в таблице нет. Названия колонок преобразованы к змеиному регистру. Столбец `date` переведен в тип datetime.\n",
    "\n",
    "В таблице **visitors** 3 столбца:\n",
    "*   `date` — дата\n",
    "*   `group` — группа A/B-теста\n",
    "*   `visitors` — количество пользователей в указанную дату в указанной группе A/B-теста.\n",
    "    \n",
    "Пропущенных значений и дубликатов в таблице нет. Столбец `date` переведен в тип datetime.\n",
    "\n",
    "Судя по данным A/B-тест длился ровно 1 месяц (31 день) в течение августа 2019 года.\n",
    "\n",
    "Посетители интернет-сайта распределены по группам тестирования неодинаково, разница довольно существенная (около 15%). Так как у нас нет явного технического задания на процент соотношения пользователей в выборках, то пренебрежем этим замечанием.\n",
    "\n",
    "Выявлены пользователи, которые оказались в обеих группах тестирования и делали заказы, их более 5%. Возможно, им не нравилась новая функциональность, и они через техническую поддержку просили вернуть им старую. К сожалению, у нас нет данных, чтобы это изучить. Если бы проект был не учебный, стоило бы разобраться с причинами и, возможно, остановить тест."
   ]
  },
  {
   "cell_type": "markdown",
   "metadata": {},
   "source": [
    "## Приоритизация гипотез\n",
    "<a id=\"priority\"></a>"
   ]
  },
  {
   "cell_type": "markdown",
   "metadata": {},
   "source": [
    "### Применение фреймворка ICE для приоритизации гипотез\n",
    "\n",
    "Используем формулу для расчета коэффициента методом ICE: $$ ICE=\\frac{Impact*Confidence}{Efforts} $$"
   ]
  },
  {
   "cell_type": "code",
   "execution_count": 15,
   "metadata": {},
   "outputs": [
    {
     "data": {
      "text/html": [
       "<div>\n",
       "<style scoped>\n",
       "    .dataframe tbody tr th:only-of-type {\n",
       "        vertical-align: middle;\n",
       "    }\n",
       "\n",
       "    .dataframe tbody tr th {\n",
       "        vertical-align: top;\n",
       "    }\n",
       "\n",
       "    .dataframe thead th {\n",
       "        text-align: right;\n",
       "    }\n",
       "</style>\n",
       "<table border=\"1\" class=\"dataframe\">\n",
       "  <thead>\n",
       "    <tr style=\"text-align: right;\">\n",
       "      <th></th>\n",
       "      <th>hypothesis</th>\n",
       "      <th>reach</th>\n",
       "      <th>impact</th>\n",
       "      <th>confidence</th>\n",
       "      <th>efforts</th>\n",
       "      <th>ice</th>\n",
       "    </tr>\n",
       "  </thead>\n",
       "  <tbody>\n",
       "    <tr>\n",
       "      <td>8</td>\n",
       "      <td>Запустить акцию, дающую скидку на товар в день рождения</td>\n",
       "      <td>1</td>\n",
       "      <td>9</td>\n",
       "      <td>9</td>\n",
       "      <td>5</td>\n",
       "      <td>16.20</td>\n",
       "    </tr>\n",
       "    <tr>\n",
       "      <td>0</td>\n",
       "      <td>Добавить два новых канала привлечения трафика, что позволит привлекать на 30% больше пользователей</td>\n",
       "      <td>3</td>\n",
       "      <td>10</td>\n",
       "      <td>8</td>\n",
       "      <td>6</td>\n",
       "      <td>13.33</td>\n",
       "    </tr>\n",
       "    <tr>\n",
       "      <td>7</td>\n",
       "      <td>Добавить форму подписки на все основные страницы, чтобы собрать базу клиентов для email-рассылок</td>\n",
       "      <td>10</td>\n",
       "      <td>7</td>\n",
       "      <td>8</td>\n",
       "      <td>5</td>\n",
       "      <td>11.20</td>\n",
       "    </tr>\n",
       "    <tr>\n",
       "      <td>6</td>\n",
       "      <td>Показать на главной странице баннеры с актуальными акциями и распродажами, чтобы увеличить конверсию</td>\n",
       "      <td>5</td>\n",
       "      <td>3</td>\n",
       "      <td>8</td>\n",
       "      <td>3</td>\n",
       "      <td>8.00</td>\n",
       "    </tr>\n",
       "    <tr>\n",
       "      <td>2</td>\n",
       "      <td>Добавить блоки рекомендаций товаров на сайт интернет магазина, чтобы повысить конверсию и средний чек заказа</td>\n",
       "      <td>8</td>\n",
       "      <td>3</td>\n",
       "      <td>7</td>\n",
       "      <td>3</td>\n",
       "      <td>7.00</td>\n",
       "    </tr>\n",
       "    <tr>\n",
       "      <td>1</td>\n",
       "      <td>Запустить собственную службу доставки, что сократит срок доставки заказов</td>\n",
       "      <td>2</td>\n",
       "      <td>5</td>\n",
       "      <td>4</td>\n",
       "      <td>10</td>\n",
       "      <td>2.00</td>\n",
       "    </tr>\n",
       "    <tr>\n",
       "      <td>5</td>\n",
       "      <td>Добавить страницу отзывов клиентов о магазине, что позволит увеличить количество заказов</td>\n",
       "      <td>3</td>\n",
       "      <td>2</td>\n",
       "      <td>2</td>\n",
       "      <td>3</td>\n",
       "      <td>1.33</td>\n",
       "    </tr>\n",
       "    <tr>\n",
       "      <td>3</td>\n",
       "      <td>Изменить структура категорий, что увеличит конверсию, т.к. пользователи быстрее найдут нужный товар</td>\n",
       "      <td>8</td>\n",
       "      <td>3</td>\n",
       "      <td>3</td>\n",
       "      <td>8</td>\n",
       "      <td>1.12</td>\n",
       "    </tr>\n",
       "    <tr>\n",
       "      <td>4</td>\n",
       "      <td>Изменить цвет фона главной страницы, чтобы увеличить вовлеченность пользователей</td>\n",
       "      <td>3</td>\n",
       "      <td>1</td>\n",
       "      <td>1</td>\n",
       "      <td>1</td>\n",
       "      <td>1.00</td>\n",
       "    </tr>\n",
       "  </tbody>\n",
       "</table>\n",
       "</div>"
      ],
      "text/plain": [
       "                                                                                                     hypothesis  \\\n",
       "8                                                       Запустить акцию, дающую скидку на товар в день рождения   \n",
       "0            Добавить два новых канала привлечения трафика, что позволит привлекать на 30% больше пользователей   \n",
       "7              Добавить форму подписки на все основные страницы, чтобы собрать базу клиентов для email-рассылок   \n",
       "6          Показать на главной странице баннеры с актуальными акциями и распродажами, чтобы увеличить конверсию   \n",
       "2  Добавить блоки рекомендаций товаров на сайт интернет магазина, чтобы повысить конверсию и средний чек заказа   \n",
       "1                                     Запустить собственную службу доставки, что сократит срок доставки заказов   \n",
       "5                      Добавить страницу отзывов клиентов о магазине, что позволит увеличить количество заказов   \n",
       "3           Изменить структура категорий, что увеличит конверсию, т.к. пользователи быстрее найдут нужный товар   \n",
       "4                              Изменить цвет фона главной страницы, чтобы увеличить вовлеченность пользователей   \n",
       "\n",
       "   reach  impact  confidence  efforts    ice  \n",
       "8      1       9           9        5  16.20  \n",
       "0      3      10           8        6  13.33  \n",
       "7     10       7           8        5  11.20  \n",
       "6      5       3           8        3   8.00  \n",
       "2      8       3           7        3   7.00  \n",
       "1      2       5           4       10   2.00  \n",
       "5      3       2           2        3   1.33  \n",
       "3      8       3           3        8   1.12  \n",
       "4      3       1           1        1   1.00  "
      ]
     },
     "execution_count": 15,
     "metadata": {},
     "output_type": "execute_result"
    }
   ],
   "source": [
    "hypothesis['ice'] = round((hypothesis['impact']*hypothesis['confidence'])/hypothesis['efforts'], 2)\n",
    "\n",
    "hypothesis.sort_values(by='ice', ascending=False)"
   ]
  },
  {
   "cell_type": "markdown",
   "metadata": {},
   "source": [
    "### Применение фреймворка RICE для приоритизации гипотез\n",
    "\n",
    "Используем формулу для расчета коэффициента методом RICE: $$ RICE=\\frac{Reach*Impact*Confidence}{Efforts} $$"
   ]
  },
  {
   "cell_type": "code",
   "execution_count": 16,
   "metadata": {},
   "outputs": [
    {
     "data": {
      "text/html": [
       "<style  type=\"text/css\" >\n",
       "    #T_1ca412b6_9ec6_11ec_96b4_7c8ae16fc758row0_col5 {\n",
       "            background-color:  #4caa4c;\n",
       "            color:  #000000;\n",
       "        }    #T_1ca412b6_9ec6_11ec_96b4_7c8ae16fc758row0_col6 {\n",
       "            background-color:  #008000;\n",
       "            color:  #f1f1f1;\n",
       "        }    #T_1ca412b6_9ec6_11ec_96b4_7c8ae16fc758row1_col5 {\n",
       "            background-color:  #8bcd8b;\n",
       "            color:  #000000;\n",
       "        }    #T_1ca412b6_9ec6_11ec_96b4_7c8ae16fc758row1_col6 {\n",
       "            background-color:  #76c176;\n",
       "            color:  #000000;\n",
       "        }    #T_1ca412b6_9ec6_11ec_96b4_7c8ae16fc758row2_col5 {\n",
       "            background-color:  #2b982b;\n",
       "            color:  #000000;\n",
       "        }    #T_1ca412b6_9ec6_11ec_96b4_7c8ae16fc758row2_col6 {\n",
       "            background-color:  #98d498;\n",
       "            color:  #000000;\n",
       "        }    #T_1ca412b6_9ec6_11ec_96b4_7c8ae16fc758row3_col5 {\n",
       "            background-color:  #7cc57c;\n",
       "            color:  #000000;\n",
       "        }    #T_1ca412b6_9ec6_11ec_96b4_7c8ae16fc758row3_col6 {\n",
       "            background-color:  #98d498;\n",
       "            color:  #000000;\n",
       "        }    #T_1ca412b6_9ec6_11ec_96b4_7c8ae16fc758row4_col5 {\n",
       "            background-color:  #008000;\n",
       "            color:  #f1f1f1;\n",
       "        }    #T_1ca412b6_9ec6_11ec_96b4_7c8ae16fc758row4_col6 {\n",
       "            background-color:  #caf0ca;\n",
       "            color:  #000000;\n",
       "        }    #T_1ca412b6_9ec6_11ec_96b4_7c8ae16fc758row5_col5 {\n",
       "            background-color:  #e4fee4;\n",
       "            color:  #000000;\n",
       "        }    #T_1ca412b6_9ec6_11ec_96b4_7c8ae16fc758row5_col6 {\n",
       "            background-color:  #d9f8d9;\n",
       "            color:  #000000;\n",
       "        }    #T_1ca412b6_9ec6_11ec_96b4_7c8ae16fc758row6_col5 {\n",
       "            background-color:  #d7f7d7;\n",
       "            color:  #000000;\n",
       "        }    #T_1ca412b6_9ec6_11ec_96b4_7c8ae16fc758row6_col6 {\n",
       "            background-color:  #e4fee4;\n",
       "            color:  #000000;\n",
       "        }    #T_1ca412b6_9ec6_11ec_96b4_7c8ae16fc758row7_col5 {\n",
       "            background-color:  #e1fde1;\n",
       "            color:  #000000;\n",
       "        }    #T_1ca412b6_9ec6_11ec_96b4_7c8ae16fc758row7_col6 {\n",
       "            background-color:  #e4fee4;\n",
       "            color:  #000000;\n",
       "        }    #T_1ca412b6_9ec6_11ec_96b4_7c8ae16fc758row8_col5 {\n",
       "            background-color:  #e5ffe5;\n",
       "            color:  #000000;\n",
       "        }    #T_1ca412b6_9ec6_11ec_96b4_7c8ae16fc758row8_col6 {\n",
       "            background-color:  #e5ffe5;\n",
       "            color:  #000000;\n",
       "        }</style><table id=\"T_1ca412b6_9ec6_11ec_96b4_7c8ae16fc758\" ><thead>    <tr>        <th class=\"blank level0\" ></th>        <th class=\"col_heading level0 col0\" >hypothesis</th>        <th class=\"col_heading level0 col1\" >reach</th>        <th class=\"col_heading level0 col2\" >impact</th>        <th class=\"col_heading level0 col3\" >confidence</th>        <th class=\"col_heading level0 col4\" >efforts</th>        <th class=\"col_heading level0 col5\" >ice</th>        <th class=\"col_heading level0 col6\" >rice</th>    </tr></thead><tbody>\n",
       "                <tr>\n",
       "                        <th id=\"T_1ca412b6_9ec6_11ec_96b4_7c8ae16fc758level0_row0\" class=\"row_heading level0 row0\" >7</th>\n",
       "                        <td id=\"T_1ca412b6_9ec6_11ec_96b4_7c8ae16fc758row0_col0\" class=\"data row0 col0\" >Добавить форму подписки на все основные страницы, чтобы собрать базу клиентов для email-рассылок</td>\n",
       "                        <td id=\"T_1ca412b6_9ec6_11ec_96b4_7c8ae16fc758row0_col1\" class=\"data row0 col1\" >10</td>\n",
       "                        <td id=\"T_1ca412b6_9ec6_11ec_96b4_7c8ae16fc758row0_col2\" class=\"data row0 col2\" >7</td>\n",
       "                        <td id=\"T_1ca412b6_9ec6_11ec_96b4_7c8ae16fc758row0_col3\" class=\"data row0 col3\" >8</td>\n",
       "                        <td id=\"T_1ca412b6_9ec6_11ec_96b4_7c8ae16fc758row0_col4\" class=\"data row0 col4\" >5</td>\n",
       "                        <td id=\"T_1ca412b6_9ec6_11ec_96b4_7c8ae16fc758row0_col5\" class=\"data row0 col5\" >11.2</td>\n",
       "                        <td id=\"T_1ca412b6_9ec6_11ec_96b4_7c8ae16fc758row0_col6\" class=\"data row0 col6\" >112</td>\n",
       "            </tr>\n",
       "            <tr>\n",
       "                        <th id=\"T_1ca412b6_9ec6_11ec_96b4_7c8ae16fc758level0_row1\" class=\"row_heading level0 row1\" >2</th>\n",
       "                        <td id=\"T_1ca412b6_9ec6_11ec_96b4_7c8ae16fc758row1_col0\" class=\"data row1 col0\" >Добавить блоки рекомендаций товаров на сайт интернет магазина, чтобы повысить конверсию и средний чек заказа</td>\n",
       "                        <td id=\"T_1ca412b6_9ec6_11ec_96b4_7c8ae16fc758row1_col1\" class=\"data row1 col1\" >8</td>\n",
       "                        <td id=\"T_1ca412b6_9ec6_11ec_96b4_7c8ae16fc758row1_col2\" class=\"data row1 col2\" >3</td>\n",
       "                        <td id=\"T_1ca412b6_9ec6_11ec_96b4_7c8ae16fc758row1_col3\" class=\"data row1 col3\" >7</td>\n",
       "                        <td id=\"T_1ca412b6_9ec6_11ec_96b4_7c8ae16fc758row1_col4\" class=\"data row1 col4\" >3</td>\n",
       "                        <td id=\"T_1ca412b6_9ec6_11ec_96b4_7c8ae16fc758row1_col5\" class=\"data row1 col5\" >7</td>\n",
       "                        <td id=\"T_1ca412b6_9ec6_11ec_96b4_7c8ae16fc758row1_col6\" class=\"data row1 col6\" >56</td>\n",
       "            </tr>\n",
       "            <tr>\n",
       "                        <th id=\"T_1ca412b6_9ec6_11ec_96b4_7c8ae16fc758level0_row2\" class=\"row_heading level0 row2\" >0</th>\n",
       "                        <td id=\"T_1ca412b6_9ec6_11ec_96b4_7c8ae16fc758row2_col0\" class=\"data row2 col0\" >Добавить два новых канала привлечения трафика, что позволит привлекать на 30% больше пользователей</td>\n",
       "                        <td id=\"T_1ca412b6_9ec6_11ec_96b4_7c8ae16fc758row2_col1\" class=\"data row2 col1\" >3</td>\n",
       "                        <td id=\"T_1ca412b6_9ec6_11ec_96b4_7c8ae16fc758row2_col2\" class=\"data row2 col2\" >10</td>\n",
       "                        <td id=\"T_1ca412b6_9ec6_11ec_96b4_7c8ae16fc758row2_col3\" class=\"data row2 col3\" >8</td>\n",
       "                        <td id=\"T_1ca412b6_9ec6_11ec_96b4_7c8ae16fc758row2_col4\" class=\"data row2 col4\" >6</td>\n",
       "                        <td id=\"T_1ca412b6_9ec6_11ec_96b4_7c8ae16fc758row2_col5\" class=\"data row2 col5\" >13.33</td>\n",
       "                        <td id=\"T_1ca412b6_9ec6_11ec_96b4_7c8ae16fc758row2_col6\" class=\"data row2 col6\" >40</td>\n",
       "            </tr>\n",
       "            <tr>\n",
       "                        <th id=\"T_1ca412b6_9ec6_11ec_96b4_7c8ae16fc758level0_row3\" class=\"row_heading level0 row3\" >6</th>\n",
       "                        <td id=\"T_1ca412b6_9ec6_11ec_96b4_7c8ae16fc758row3_col0\" class=\"data row3 col0\" >Показать на главной странице баннеры с актуальными акциями и распродажами, чтобы увеличить конверсию</td>\n",
       "                        <td id=\"T_1ca412b6_9ec6_11ec_96b4_7c8ae16fc758row3_col1\" class=\"data row3 col1\" >5</td>\n",
       "                        <td id=\"T_1ca412b6_9ec6_11ec_96b4_7c8ae16fc758row3_col2\" class=\"data row3 col2\" >3</td>\n",
       "                        <td id=\"T_1ca412b6_9ec6_11ec_96b4_7c8ae16fc758row3_col3\" class=\"data row3 col3\" >8</td>\n",
       "                        <td id=\"T_1ca412b6_9ec6_11ec_96b4_7c8ae16fc758row3_col4\" class=\"data row3 col4\" >3</td>\n",
       "                        <td id=\"T_1ca412b6_9ec6_11ec_96b4_7c8ae16fc758row3_col5\" class=\"data row3 col5\" >8</td>\n",
       "                        <td id=\"T_1ca412b6_9ec6_11ec_96b4_7c8ae16fc758row3_col6\" class=\"data row3 col6\" >40</td>\n",
       "            </tr>\n",
       "            <tr>\n",
       "                        <th id=\"T_1ca412b6_9ec6_11ec_96b4_7c8ae16fc758level0_row4\" class=\"row_heading level0 row4\" >8</th>\n",
       "                        <td id=\"T_1ca412b6_9ec6_11ec_96b4_7c8ae16fc758row4_col0\" class=\"data row4 col0\" >Запустить акцию, дающую скидку на товар в день рождения</td>\n",
       "                        <td id=\"T_1ca412b6_9ec6_11ec_96b4_7c8ae16fc758row4_col1\" class=\"data row4 col1\" >1</td>\n",
       "                        <td id=\"T_1ca412b6_9ec6_11ec_96b4_7c8ae16fc758row4_col2\" class=\"data row4 col2\" >9</td>\n",
       "                        <td id=\"T_1ca412b6_9ec6_11ec_96b4_7c8ae16fc758row4_col3\" class=\"data row4 col3\" >9</td>\n",
       "                        <td id=\"T_1ca412b6_9ec6_11ec_96b4_7c8ae16fc758row4_col4\" class=\"data row4 col4\" >5</td>\n",
       "                        <td id=\"T_1ca412b6_9ec6_11ec_96b4_7c8ae16fc758row4_col5\" class=\"data row4 col5\" >16.2</td>\n",
       "                        <td id=\"T_1ca412b6_9ec6_11ec_96b4_7c8ae16fc758row4_col6\" class=\"data row4 col6\" >16.2</td>\n",
       "            </tr>\n",
       "            <tr>\n",
       "                        <th id=\"T_1ca412b6_9ec6_11ec_96b4_7c8ae16fc758level0_row5\" class=\"row_heading level0 row5\" >3</th>\n",
       "                        <td id=\"T_1ca412b6_9ec6_11ec_96b4_7c8ae16fc758row5_col0\" class=\"data row5 col0\" >Изменить структура категорий, что увеличит конверсию, т.к. пользователи быстрее найдут нужный товар</td>\n",
       "                        <td id=\"T_1ca412b6_9ec6_11ec_96b4_7c8ae16fc758row5_col1\" class=\"data row5 col1\" >8</td>\n",
       "                        <td id=\"T_1ca412b6_9ec6_11ec_96b4_7c8ae16fc758row5_col2\" class=\"data row5 col2\" >3</td>\n",
       "                        <td id=\"T_1ca412b6_9ec6_11ec_96b4_7c8ae16fc758row5_col3\" class=\"data row5 col3\" >3</td>\n",
       "                        <td id=\"T_1ca412b6_9ec6_11ec_96b4_7c8ae16fc758row5_col4\" class=\"data row5 col4\" >8</td>\n",
       "                        <td id=\"T_1ca412b6_9ec6_11ec_96b4_7c8ae16fc758row5_col5\" class=\"data row5 col5\" >1.12</td>\n",
       "                        <td id=\"T_1ca412b6_9ec6_11ec_96b4_7c8ae16fc758row5_col6\" class=\"data row5 col6\" >9</td>\n",
       "            </tr>\n",
       "            <tr>\n",
       "                        <th id=\"T_1ca412b6_9ec6_11ec_96b4_7c8ae16fc758level0_row6\" class=\"row_heading level0 row6\" >1</th>\n",
       "                        <td id=\"T_1ca412b6_9ec6_11ec_96b4_7c8ae16fc758row6_col0\" class=\"data row6 col0\" >Запустить собственную службу доставки, что сократит срок доставки заказов</td>\n",
       "                        <td id=\"T_1ca412b6_9ec6_11ec_96b4_7c8ae16fc758row6_col1\" class=\"data row6 col1\" >2</td>\n",
       "                        <td id=\"T_1ca412b6_9ec6_11ec_96b4_7c8ae16fc758row6_col2\" class=\"data row6 col2\" >5</td>\n",
       "                        <td id=\"T_1ca412b6_9ec6_11ec_96b4_7c8ae16fc758row6_col3\" class=\"data row6 col3\" >4</td>\n",
       "                        <td id=\"T_1ca412b6_9ec6_11ec_96b4_7c8ae16fc758row6_col4\" class=\"data row6 col4\" >10</td>\n",
       "                        <td id=\"T_1ca412b6_9ec6_11ec_96b4_7c8ae16fc758row6_col5\" class=\"data row6 col5\" >2</td>\n",
       "                        <td id=\"T_1ca412b6_9ec6_11ec_96b4_7c8ae16fc758row6_col6\" class=\"data row6 col6\" >4</td>\n",
       "            </tr>\n",
       "            <tr>\n",
       "                        <th id=\"T_1ca412b6_9ec6_11ec_96b4_7c8ae16fc758level0_row7\" class=\"row_heading level0 row7\" >5</th>\n",
       "                        <td id=\"T_1ca412b6_9ec6_11ec_96b4_7c8ae16fc758row7_col0\" class=\"data row7 col0\" >Добавить страницу отзывов клиентов о магазине, что позволит увеличить количество заказов</td>\n",
       "                        <td id=\"T_1ca412b6_9ec6_11ec_96b4_7c8ae16fc758row7_col1\" class=\"data row7 col1\" >3</td>\n",
       "                        <td id=\"T_1ca412b6_9ec6_11ec_96b4_7c8ae16fc758row7_col2\" class=\"data row7 col2\" >2</td>\n",
       "                        <td id=\"T_1ca412b6_9ec6_11ec_96b4_7c8ae16fc758row7_col3\" class=\"data row7 col3\" >2</td>\n",
       "                        <td id=\"T_1ca412b6_9ec6_11ec_96b4_7c8ae16fc758row7_col4\" class=\"data row7 col4\" >3</td>\n",
       "                        <td id=\"T_1ca412b6_9ec6_11ec_96b4_7c8ae16fc758row7_col5\" class=\"data row7 col5\" >1.33</td>\n",
       "                        <td id=\"T_1ca412b6_9ec6_11ec_96b4_7c8ae16fc758row7_col6\" class=\"data row7 col6\" >4</td>\n",
       "            </tr>\n",
       "            <tr>\n",
       "                        <th id=\"T_1ca412b6_9ec6_11ec_96b4_7c8ae16fc758level0_row8\" class=\"row_heading level0 row8\" >4</th>\n",
       "                        <td id=\"T_1ca412b6_9ec6_11ec_96b4_7c8ae16fc758row8_col0\" class=\"data row8 col0\" >Изменить цвет фона главной страницы, чтобы увеличить вовлеченность пользователей</td>\n",
       "                        <td id=\"T_1ca412b6_9ec6_11ec_96b4_7c8ae16fc758row8_col1\" class=\"data row8 col1\" >3</td>\n",
       "                        <td id=\"T_1ca412b6_9ec6_11ec_96b4_7c8ae16fc758row8_col2\" class=\"data row8 col2\" >1</td>\n",
       "                        <td id=\"T_1ca412b6_9ec6_11ec_96b4_7c8ae16fc758row8_col3\" class=\"data row8 col3\" >1</td>\n",
       "                        <td id=\"T_1ca412b6_9ec6_11ec_96b4_7c8ae16fc758row8_col4\" class=\"data row8 col4\" >1</td>\n",
       "                        <td id=\"T_1ca412b6_9ec6_11ec_96b4_7c8ae16fc758row8_col5\" class=\"data row8 col5\" >1</td>\n",
       "                        <td id=\"T_1ca412b6_9ec6_11ec_96b4_7c8ae16fc758row8_col6\" class=\"data row8 col6\" >3</td>\n",
       "            </tr>\n",
       "    </tbody></table>"
      ],
      "text/plain": [
       "<pandas.io.formats.style.Styler at 0x250ddae5048>"
      ]
     },
     "execution_count": 16,
     "metadata": {},
     "output_type": "execute_result"
    }
   ],
   "source": [
    "hypothesis['rice'] = round((hypothesis['reach']*hypothesis['impact']*hypothesis['confidence'])/hypothesis['efforts'], 2)\n",
    "\n",
    "# ранжируем и выделяем цветом полученные коэффициенты для гипотез по фреймфоркам\n",
    "cm = sns.light_palette(\"green\", as_cmap=True)\n",
    "hypothesis.sort_values(by='rice', ascending=False).style.background_gradient(cmap=cm, subset=['ice', 'rice'])"
   ]
  },
  {
   "cell_type": "markdown",
   "metadata": {},
   "source": [
    "### Вывод по приоритизации\n",
    "<a id=\"conclusion_2\"></a>\n",
    "После применения фреймворка ICE наиболее перспективными были гипотезы с индексами: 8, 0, 7.<br>\n",
    "После применения фреймворка RICE наиболее перспективными стали гипотезы с индексами: 7, 2, 0, 6.<br>\n",
    "\n",
    "С большим отрывом лидирует гипотеза \"Добавить форму подписки на все основные страницы, чтобы собрать базу клиентов для email-рассылок\" (индекс 7), в этом помогло максимальное значение параметра охвата пользователей (Reach). По той же причине на втором месте оказалась гипотеза \"Добавить блоки рекомендаций товаров на сайт интернет магазина, чтобы повысить конверсию и средний чек заказа\" (индекс 2) при относительно небольших затратах ресурсов. А вот гипотеза \"Запустить акцию, дающую скидку на товар в день рождения\" выпала из перспективных вовсе, так как охватывает малую аудиторию. <br> Гипотеза \"Добавить два новых канала привлечения трафика, что позволит привлекать на 30% больше пользователей\" (индекс 0) удержалась в тройке лидеров за счет высоких показателей влияния на пользователей и уверенности в гипотезе, но с ней сравнялась гипотеза \"Показать на главной странице баннеры с актуальными акциями и распродажами, чтобы увеличить конверсию\" (индекс 6) за счет параметра Reach."
   ]
  },
  {
   "cell_type": "markdown",
   "metadata": {},
   "source": [
    "## Анализ A/B-теста\n",
    "<a id=\"analysis\"></a>"
   ]
  },
  {
   "cell_type": "markdown",
   "metadata": {},
   "source": [
    "### График кумулятивной выручки по группам\n",
    "<a id=\"analysis_1\"></a>"
   ]
  },
  {
   "cell_type": "code",
   "execution_count": 17,
   "metadata": {},
   "outputs": [
    {
     "data": {
      "text/html": [
       "<div>\n",
       "<style scoped>\n",
       "    .dataframe tbody tr th:only-of-type {\n",
       "        vertical-align: middle;\n",
       "    }\n",
       "\n",
       "    .dataframe tbody tr th {\n",
       "        vertical-align: top;\n",
       "    }\n",
       "\n",
       "    .dataframe thead th {\n",
       "        text-align: right;\n",
       "    }\n",
       "</style>\n",
       "<table border=\"1\" class=\"dataframe\">\n",
       "  <thead>\n",
       "    <tr style=\"text-align: right;\">\n",
       "      <th></th>\n",
       "      <th>date</th>\n",
       "      <th>group</th>\n",
       "      <th>orders</th>\n",
       "      <th>buyers</th>\n",
       "      <th>revenue</th>\n",
       "      <th>visitors</th>\n",
       "    </tr>\n",
       "  </thead>\n",
       "  <tbody>\n",
       "    <tr>\n",
       "      <td>0</td>\n",
       "      <td>2019-08-01</td>\n",
       "      <td>A</td>\n",
       "      <td>24</td>\n",
       "      <td>20</td>\n",
       "      <td>148579</td>\n",
       "      <td>719</td>\n",
       "    </tr>\n",
       "    <tr>\n",
       "      <td>1</td>\n",
       "      <td>2019-08-01</td>\n",
       "      <td>B</td>\n",
       "      <td>21</td>\n",
       "      <td>20</td>\n",
       "      <td>101217</td>\n",
       "      <td>713</td>\n",
       "    </tr>\n",
       "    <tr>\n",
       "      <td>2</td>\n",
       "      <td>2019-08-02</td>\n",
       "      <td>A</td>\n",
       "      <td>44</td>\n",
       "      <td>38</td>\n",
       "      <td>242401</td>\n",
       "      <td>1338</td>\n",
       "    </tr>\n",
       "    <tr>\n",
       "      <td>3</td>\n",
       "      <td>2019-08-02</td>\n",
       "      <td>B</td>\n",
       "      <td>45</td>\n",
       "      <td>43</td>\n",
       "      <td>266748</td>\n",
       "      <td>1294</td>\n",
       "    </tr>\n",
       "    <tr>\n",
       "      <td>4</td>\n",
       "      <td>2019-08-03</td>\n",
       "      <td>A</td>\n",
       "      <td>68</td>\n",
       "      <td>62</td>\n",
       "      <td>354874</td>\n",
       "      <td>1845</td>\n",
       "    </tr>\n",
       "  </tbody>\n",
       "</table>\n",
       "</div>"
      ],
      "text/plain": [
       "        date group  orders  buyers  revenue  visitors\n",
       "0 2019-08-01     A      24      20   148579       719\n",
       "1 2019-08-01     B      21      20   101217       713\n",
       "2 2019-08-02     A      44      38   242401      1338\n",
       "3 2019-08-02     B      45      43   266748      1294\n",
       "4 2019-08-03     A      68      62   354874      1845"
      ]
     },
     "execution_count": 17,
     "metadata": {},
     "output_type": "execute_result"
    }
   ],
   "source": [
    "# создаем датафрейм datesGroups с уникальными парами значений 'date' и 'group' таблицы orders\n",
    "datesGroups = orders[['date','group']].drop_duplicates()\n",
    "\n",
    "# создаем переменную ordersAggregated, содержащую агрегированные данные таблицы orders по дням:\n",
    "# дату;\n",
    "# группу A/B-теста;\n",
    "# число уникальных заказов в группе теста по указанную дату включительно;\n",
    "# число уникальных пользователей, совершивших хотя бы 1 заказ в группе теста по указанную дату включительно;\n",
    "# суммарную выручку заказов в группе теста по указанную дату включительно.\n",
    "\n",
    "ordersAggregated = datesGroups.apply(\n",
    "    lambda x: orders[\n",
    "        np.logical_and(\n",
    "            orders['date'] <= x['date'], orders['group'] == x['group']\n",
    "        )\n",
    "    ].agg(\n",
    "        {\n",
    "            'date': 'max',\n",
    "            'group': 'max',\n",
    "            'transaction_id': 'nunique',\n",
    "            'visitor_id': 'nunique',\n",
    "            'revenue': 'sum',\n",
    "        }\n",
    "    ),\n",
    "    axis=1,\n",
    ").sort_values(by=['date', 'group'])\n",
    "\n",
    "# создаем переменную visitorsAggregated, содержащую агрегированные данные таблицы visitors по дням:\n",
    "# дату;\n",
    "# группу A/B-теста;\n",
    "# количество уникальных посетителей в группе теста по указанную дату включительно.\n",
    "\n",
    "visitorsAggregated = datesGroups.apply(\n",
    "    lambda x: visitors[\n",
    "        np.logical_and(\n",
    "            visitors['date'] <= x['date'], visitors['group'] == x['group']\n",
    "        )\n",
    "    ].agg({'date': 'max', 'group': 'max', 'visitors': 'sum'}),\n",
    "    axis=1,\n",
    ").sort_values(by=['date', 'group'])\n",
    "\n",
    "# объединяем в кумулятивную таблицу и переименовываем ее столбцы\n",
    "cumulativeData = ordersAggregated.merge(visitorsAggregated, on=['date', 'group'])\n",
    "cumulativeData.columns = ['date', 'group', 'orders', 'buyers', 'revenue', 'visitors']\n",
    "\n",
    "cumulativeData.head()"
   ]
  },
  {
   "cell_type": "code",
   "execution_count": 18,
   "metadata": {},
   "outputs": [
    {
     "data": {
      "image/png": "[encoded data removed]",
      "text/plain": [
       "<Figure size 1008x432 with 1 Axes>"
      ]
     },
     "metadata": {
      "needs_background": "light"
     },
     "output_type": "display_data"
    }
   ],
   "source": [
    "# делаем срез по группам и выделяем даты, выручку и число заказов\n",
    "cumulativeRevenueA = cumulativeData[cumulativeData['group']=='A'][['date','revenue', 'orders']]\n",
    "cumulativeRevenueB = cumulativeData[cumulativeData['group']=='B'][['date','revenue', 'orders']]\n",
    "\n",
    "# строим график кумулятивной выручки по группам\n",
    "plt.figure(figsize=(14,6))\n",
    "plt.plot(cumulativeRevenueA['date'], cumulativeRevenueA['revenue'], label='A')\n",
    "plt.plot(cumulativeRevenueB['date'], cumulativeRevenueB['revenue'], label='B')\n",
    "plt.title('График кумулятивной выручки по группам теста')\n",
    "plt.xlabel('Дата', size=12)\n",
    "plt.ylabel('Выручка, у.е.', size=12)\n",
    "plt.grid()\n",
    "plt.legend();"
   ]
  },
  {
   "cell_type": "markdown",
   "metadata": {},
   "source": [
    "Практически с первого дня теста сегмент B вырвался вперед по выручке и продолжал лидировать до конца теста, причем если сначала преимущество было незначительным, то около 18-19 августа резко ушел в отрыв. Это может сигнализировать о всплесках числа заказов в группе B, либо о появлении аномально дорогих заказов. По сегменту А выручка почти равномерно увеличивается в течение всего теста."
   ]
  },
  {
   "cell_type": "markdown",
   "metadata": {},
   "source": [
    "### График кумулятивного среднего чека по группам\n",
    "<a id=\"analysis_2\"></a>"
   ]
  },
  {
   "cell_type": "code",
   "execution_count": 19,
   "metadata": {},
   "outputs": [
    {
     "data": {
      "image/png": "[encoded data removed]",
      "text/plain": [
       "<Figure size 1008x432 with 1 Axes>"
      ]
     },
     "metadata": {
      "needs_background": "light"
     },
     "output_type": "display_data"
    }
   ],
   "source": [
    "# строим аналогичный график для средних чеков\n",
    "plt.figure(figsize=(14,6))\n",
    "plt.plot(cumulativeRevenueA['date'], cumulativeRevenueA['revenue']/cumulativeRevenueA['orders'], label='A')\n",
    "plt.plot(cumulativeRevenueB['date'], cumulativeRevenueB['revenue']/cumulativeRevenueB['orders'], label='B')\n",
    "plt.title('График кумулятивного среднего чека по группам теста')\n",
    "plt.xlabel('Дата', size=12)\n",
    "plt.ylabel('Средний чек, у.е.', size=12)\n",
    "plt.grid()\n",
    "plt.legend();"
   ]
  },
  {
   "cell_type": "markdown",
   "metadata": {},
   "source": [
    "Кумулятивное значение среднего чека по сегментам сильно изменялось большую часть теста. Средний чек становится равномерным ближе к концу теста: установился для группы A около 7000 у.е., и после резкого роста постепенно снижается для группы B. Вероятно, в группу B все-таки попали крупные заказы 19 августа (резкий всплеск)."
   ]
  },
  {
   "cell_type": "markdown",
   "metadata": {},
   "source": [
    "### График относительного изменения кумулятивного среднего чека групп\n",
    "<a id=\"analysis_3\"></a>\n",
    "Строим график относительного изменения кумулятивного среднего чека группы B к группе A"
   ]
  },
  {
   "cell_type": "code",
   "execution_count": 20,
   "metadata": {},
   "outputs": [
    {
     "data": {
      "image/png": "[encoded data removed]",
      "text/plain": [
       "<Figure size 1008x432 with 1 Axes>"
      ]
     },
     "metadata": {
      "needs_background": "light"
     },
     "output_type": "display_data"
    }
   ],
   "source": [
    "# собираем данные групп в одном датафрейме, строим отношение средних чеков и добавляем горизонтальную ось\n",
    "mergedCumulativeRevenue = cumulativeRevenueA.merge(cumulativeRevenueB, on='date', how='left', suffixes=['A', 'B'])\n",
    "\n",
    "plt.figure(figsize=(14,6))\n",
    "plt.plot(mergedCumulativeRevenue['date'], (mergedCumulativeRevenue['revenueB']/mergedCumulativeRevenue['ordersB'])/\n",
    "         (mergedCumulativeRevenue['revenueA']/mergedCumulativeRevenue['ordersA'])-1\n",
    "        )\n",
    "plt.axhline(y=0, color='black', linestyle='--')\n",
    "plt.title('Относительное изменение кумулятивного среднего чека группы B к группе A')\n",
    "plt.xlabel('Дата', size=12)\n",
    "plt.ylabel('Относительная разница', size=12)\n",
    "plt.grid();"
   ]
  },
  {
   "cell_type": "markdown",
   "metadata": {},
   "source": [
    "Результаты теста значительно и резко менялись в несколько дат, в самом начале теста и 19-го августа для группы B и в период с 8-го по 13-ое августа для группы А. Видимо, именно тогда были совершены аномальные заказы в группах."
   ]
  },
  {
   "cell_type": "markdown",
   "metadata": {},
   "source": [
    "### График кумулятивной конверсии по группам\n",
    "<a id=\"analysis_4\"></a>"
   ]
  },
  {
   "cell_type": "code",
   "execution_count": 21,
   "metadata": {},
   "outputs": [
    {
     "data": {
      "image/png": "[encoded data removed]",
      "text/plain": [
       "<Figure size 1008x432 with 1 Axes>"
      ]
     },
     "metadata": {
      "needs_background": "light"
     },
     "output_type": "display_data"
    }
   ],
   "source": [
    "# добавим в кумулятивную таблицу cumulativeData столбец 'conversion' c отношением числа заказов к количеству пользователей\n",
    "# в указанной группе в указанный день.\n",
    "\n",
    "cumulativeData['conversion'] = cumulativeData['orders']/cumulativeData['visitors']\n",
    "# объявляем переменные , в которых сохраним данные о заказах в сегментах A и B соответственно.\n",
    "cumulativeDataA = cumulativeData[cumulativeData['group']=='A']\n",
    "cumulativeDataB = cumulativeData[cumulativeData['group']=='B']\n",
    "\n",
    "# строим график кумулятивной конверсии по дням по группам.\n",
    "plt.figure(figsize=(14,6))\n",
    "plt.plot(cumulativeDataA['date'], cumulativeDataA['conversion'], label='A')\n",
    "plt.plot(cumulativeDataB['date'], cumulativeDataB['conversion'], label='B')\n",
    "plt.title('График кумулятивной конверсии по группам')\n",
    "plt.xlabel('Дата', size=12)\n",
    "plt.ylabel('Конверсия', size=12)\n",
    "plt.grid()\n",
    "plt.legend()\n",
    "# задаем масштаб осей\n",
    "plt.axis([\"2019-08-01\", '2019-08-31', 0.020, 0.040]);"
   ]
  },
  {
   "cell_type": "markdown",
   "metadata": {},
   "source": [
    "В первые дни конверсия группы А была выше, но с 6-го августа ситуация изменилась. Постепенно сегмент В вышел в лидеры по конверсии, выровнялся и зафиксировался примерно около одного значения, больше значения сегмента А примерно на 0.4%."
   ]
  },
  {
   "cell_type": "markdown",
   "metadata": {},
   "source": [
    "### График относительного изменения кумулятивной конверсии групп\n",
    "<a id=\"analysis_5\"></a>\n",
    "Строим график относительного изменения кумулятивной конверсии группы B к группе A"
   ]
  },
  {
   "cell_type": "code",
   "execution_count": 22,
   "metadata": {},
   "outputs": [
    {
     "data": {
      "image/png": "[encoded data removed]",
      "text/plain": [
       "<Figure size 1008x432 with 1 Axes>"
      ]
     },
     "metadata": {
      "needs_background": "light"
     },
     "output_type": "display_data"
    }
   ],
   "source": [
    "# собираем данные групп с конверсиями в одном датафрейме, строим их отношение и добавляем горизонтальную ось\n",
    "mergedCumulativeConversions = (cumulativeDataA[['date','conversion']]\n",
    "                               .merge(cumulativeDataB[['date','conversion']],\n",
    "                                      on='date', how='left', suffixes=['A', 'B'])[['date', 'conversionA', 'conversionB']]\n",
    "                              )\n",
    "plt.figure(figsize=(14,6))\n",
    "plt.plot(mergedCumulativeConversions['date'],\n",
    "         mergedCumulativeConversions['conversionB']/mergedCumulativeConversions['conversionA']-1)\n",
    "plt.title('Относительное изменение кумулятивной конверсии группы B к группе A')\n",
    "plt.xlabel('Дата', size=12)\n",
    "plt.ylabel('Относительная разница', size=12)\n",
    "plt.grid()\n",
    "plt.axhline(y=0, color='black', linestyle='--')\n",
    "plt.axhline(y=0.15, color='grey', linestyle='--')\n",
    "plt.axis([\"2019-08-01\", '2019-08-31', -0.5, 0.5]);"
   ]
  },
  {
   "cell_type": "markdown",
   "metadata": {},
   "source": [
    "Почти с самого начала теста группа В лидирует по конверсии – становится лучше и лучше, а потом фиксируется около прироста в 15% относительно группы А."
   ]
  },
  {
   "cell_type": "markdown",
   "metadata": {},
   "source": [
    "### Точечный график количества заказов по пользователям\n",
    "<a id=\"analysis_6\"></a>"
   ]
  },
  {
   "cell_type": "code",
   "execution_count": 23,
   "metadata": {},
   "outputs": [
    {
     "data": {
      "image/png": "[encoded data removed]",
      "text/plain": [
       "<Figure size 720x360 with 1 Axes>"
      ]
     },
     "metadata": {
      "needs_background": "light"
     },
     "output_type": "display_data"
    }
   ],
   "source": [
    "# создадим датафрейм c двумя столбцами: 'visitor_id' и 'orders', в котором будет число заказов по пользователям\n",
    "\n",
    "ordersByUsers = (\n",
    "    orders.groupby('visitor_id', as_index=False)\n",
    "    .agg({'transaction_id': 'count'})\n",
    "    .rename(columns={'transaction_id': 'orders'})\n",
    ")\n",
    "# строим точечную диаграмму методом scatter()\n",
    "# по оси X будет количество наблюдений в ordersByUsers\n",
    "x_values = pd.Series(range(0, len(ordersByUsers)))\n",
    "plt.figure(figsize=(10,5))\n",
    "plt.scatter(x_values, ordersByUsers['orders'])\n",
    "plt.title('Точечная диаграмма числа заказов на одного пользователя')\n",
    "plt.xlabel('Пользователи, шт.')\n",
    "plt.ylabel('Количество заказов, шт.');"
   ]
  },
  {
   "cell_type": "markdown",
   "metadata": {},
   "source": [
    "Пользователей заказавших более 2 раз совсем мало. Чтобы определиться с границой \"нормальности\" количества заказов посчитаем выборочные перцентели."
   ]
  },
  {
   "cell_type": "markdown",
   "metadata": {},
   "source": [
    "### Подсчет перцентилей количества заказов на пользователя\n",
    "<a id=\"analysis_7\"></a>\n",
    "Посчитаем 95-й и 99-й перцентили количества заказов на пользователя. Выберем границу для определения аномальных пользователей."
   ]
  },
  {
   "cell_type": "code",
   "execution_count": 24,
   "metadata": {},
   "outputs": [
    {
     "name": "stdout",
     "output_type": "stream",
     "text": [
      "[2. 4.]\n"
     ]
    }
   ],
   "source": [
    "print(np.percentile(ordersByUsers['orders'] , [95, 99]))"
   ]
  },
  {
   "cell_type": "markdown",
   "metadata": {},
   "source": [
    "Не более 5% пользователей совершали больше двух заказов. И не более 1% больше 4 заказов. Примем за аномальных пользователей тех, кто совершил 3 заказа и более."
   ]
  },
  {
   "cell_type": "code",
   "execution_count": 25,
   "metadata": {},
   "outputs": [
    {
     "name": "stdout",
     "output_type": "stream",
     "text": [
      "[1. 2.]\n"
     ]
    }
   ],
   "source": [
    "# посмотрим на границы количества заказов, если бы мы исключили пересекающихся пользователей в группах\n",
    "print(np.percentile(ordersByUsers[np.logical_not(ordersByUsers['visitor_id'].\n",
    "                                                 isin(crossingGroups['visitor_id']))]['orders'], [95, 99]))"
   ]
  },
  {
   "cell_type": "markdown",
   "metadata": {},
   "source": [
    "### Точечный график стоимостей заказов\n",
    "<a id=\"analysis_8\"></a>"
   ]
  },
  {
   "cell_type": "code",
   "execution_count": 26,
   "metadata": {},
   "outputs": [
    {
     "data": {
      "image/png": "[encoded data removed]",
      "text/plain": [
       "<Figure size 864x504 with 1 Axes>"
      ]
     },
     "metadata": {
      "needs_background": "light"
     },
     "output_type": "display_data"
    }
   ],
   "source": [
    "# строим точечную диаграмму методом scatter()\n",
    "# по оси X будет количество заказов в orders\n",
    "x_values = pd.Series(range(0, len(orders['revenue'])))\n",
    "plt.figure(figsize=(12,7))\n",
    "plt.scatter(x_values, orders['revenue'])\n",
    "plt.title('Точечная диаграмма стоимости заказов')\n",
    "plt.xlabel('Заказы, шт.')\n",
    "plt.ylabel('Стоимость заказов, у.е.')\n",
    "#plt.yticks(np.arange(0, 1200000, 50000))\n",
    "plt.minorticks_on();"
   ]
  },
  {
   "cell_type": "markdown",
   "metadata": {},
   "source": [
    "По графику примерно можно увидеть границу аномальных заказов - все что больше 50000 у.е."
   ]
  },
  {
   "cell_type": "markdown",
   "metadata": {},
   "source": [
    "### Подсчет перцентилей стоимости заказов\n",
    "<a id=\"analysis_9\"></a>\n",
    "Посчитаем 95-й и 99-й перцентили стоимости заказов. Выберем границу для определения аномальных заказов."
   ]
  },
  {
   "cell_type": "code",
   "execution_count": 27,
   "metadata": {},
   "outputs": [
    {
     "name": "stdout",
     "output_type": "stream",
     "text": [
      "[28000.  58233.2]\n"
     ]
    }
   ],
   "source": [
    "print(np.percentile(orders['revenue'], [95, 99]))"
   ]
  },
  {
   "cell_type": "markdown",
   "metadata": {},
   "source": [
    "Не более чем у 5% заказов чек дороже 28000 у.е., и не больше чем у 1% заказов – дороже 58233 у.е. Примем за аномальные заказы такие, стоимость которых свыше 30000 у.е."
   ]
  },
  {
   "cell_type": "code",
   "execution_count": 28,
   "metadata": {},
   "outputs": [
    {
     "name": "stdout",
     "output_type": "stream",
     "text": [
      "[26785. 53904.]\n"
     ]
    }
   ],
   "source": [
    "# посмотрим на границы стоимости заказов, если бы мы исключили пересекающихся пользователей в группах\n",
    "print(np.percentile(orders[np.logical_not(orders['visitor_id'].isin(crossingGroups['visitor_id']))]['revenue'], [95, 99]))"
   ]
  },
  {
   "cell_type": "markdown",
   "metadata": {},
   "source": [
    "Посчитали перцентели для выборки без заказов пересекающихся пользователей, есть изменение по количеству заказов. Можно было бы принять за аномальных пользователей таких, которые совершали от 2-ух заказов. Стоимость тоже изменилась, но там я бы все равно оставил границу в 30000."
   ]
  },
  {
   "cell_type": "markdown",
   "metadata": {},
   "source": [
    "### Статистическая значимость различий в конверсии между группами по сырым данным\n",
    "<a id=\"analysis_10\"></a>\n",
    "Посчитаем статистическую значимость различий в конверсии между группами по «сырым» данным - без удаления аномальных пользователей. Применим тест Манна-Уитни.\n",
    "\n",
    "Сформулируем нулевую и альтернативную гипотезы:\n",
    "1. H0: данные в выборках взяты из одной и той же генеральной совокупности;\n",
    "2. H1: данные в выборках взяты из разных генеральных совокупностей.\n",
    "\n",
    "Если данные в выборках взяты из разных генеральных совокупностей, то, скорее всего, у них будут различаться средние, медианы и другие параметры."
   ]
  },
  {
   "cell_type": "code",
   "execution_count": 29,
   "metadata": {},
   "outputs": [],
   "source": [
    "# делаем срез для каждой группы по количеству посетителей на каждый день\n",
    "visitorsADaily = visitors[visitors['group'] == 'A'][['date', 'visitors']]\n",
    "visitorsADaily.columns = ['date', 'visitorsPerDateA']\n",
    "\n",
    "visitorsBDaily = visitors[visitors['group'] == 'B'][['date', 'visitors']]\n",
    "visitorsBDaily.columns = ['date', 'visitorsPerDateB']"
   ]
  },
  {
   "cell_type": "code",
   "execution_count": 30,
   "metadata": {},
   "outputs": [],
   "source": [
    "# создадим переменные ordersByUsersA и ordersByUsersB со столбцами ['visitor_id', 'orders']. \n",
    "# в них для пользователей, которые заказывали хотя бы 1 раз, укажем число совершённых заказов.\n",
    "ordersByUsersA = (\n",
    "    orders[orders['group'] == 'A']\n",
    "    .groupby('visitor_id', as_index=False)\n",
    "    .agg({'transaction_id': pd.Series.nunique})\n",
    ")\n",
    "ordersByUsersA.columns = ['visitor_id', 'orders']\n",
    "\n",
    "ordersByUsersB = (\n",
    "    orders[orders['group'] == 'B']\n",
    "    .groupby('visitor_id', as_index=False)\n",
    "    .agg({'transaction_id': pd.Series.nunique})\n",
    ")\n",
    "ordersByUsersB.columns = ['visitor_id', 'orders']"
   ]
  },
  {
   "cell_type": "code",
   "execution_count": 31,
   "metadata": {},
   "outputs": [],
   "source": [
    "# объявим переменные sampleA и sampleB, в которых пользователям из разных групп будет соответствовать количество заказов. \n",
    "# тем, кто ничего не заказал, будут соответствовать нули -  \n",
    "# их количество равно разнице между суммой посетителей и количеством записей о заказах для группы: \n",
    "# data['visitorsPerDateA'].sum() - len(ordersByUsersA['orders']).\n",
    "sampleA = pd.concat(\n",
    "    [\n",
    "        ordersByUsersA['orders'],\n",
    "        pd.Series(\n",
    "            0,\n",
    "            index=np.arange(\n",
    "                visitorsADaily['visitorsPerDateA'].sum() - len(ordersByUsersA['orders'])\n",
    "            ),\n",
    "            name='orders',\n",
    "        ),\n",
    "    ],\n",
    "    axis=0,\n",
    ")\n",
    "\n",
    "sampleB = pd.concat(\n",
    "    [\n",
    "        ordersByUsersB['orders'],\n",
    "        pd.Series(\n",
    "            0,\n",
    "            index=np.arange(\n",
    "                visitorsBDaily['visitorsPerDateB'].sum() - len(ordersByUsersB['orders'])\n",
    "            ),\n",
    "            name='orders',\n",
    "        ),\n",
    "    ],\n",
    "    axis=0,\n",
    ")"
   ]
  },
  {
   "cell_type": "code",
   "execution_count": 32,
   "metadata": {},
   "outputs": [
    {
     "name": "stdout",
     "output_type": "stream",
     "text": [
      "p-значение: 0.01679\n",
      "Отвергаем нулевую гипотезу\n",
      "Относительный прирост конверсии: 0.138\n"
     ]
    }
   ],
   "source": [
    "# Определяем критический уровень статистической значимости\n",
    "alpha = 0.05\n",
    "\n",
    "# считаем статистическую значимость различия конверсии по результатам теста,\n",
    "# применим критерий Манна-Уитни и выведем p-value для сравнения конверсии между группами. \n",
    "results_1 = stats.mannwhitneyu(sampleA, sampleB, alternative = 'two-sided')\n",
    "print('p-значение:', \"{0:.5f}\".format(results_1.pvalue))\n",
    "\n",
    "if results_1.pvalue < alpha:\n",
    "    print('Отвергаем нулевую гипотезу')\n",
    "else:\n",
    "    print('Не получилось отвергнуть нулевую гипотезу')\n",
    "\n",
    "# выведем относительный прирост конверсии группы B: конверсия группы B / конверсия группы A - 1.\n",
    "print('Относительный прирост конверсии:',\"{0:.3f}\".format(sampleB.mean() / sampleA.mean() - 1))"
   ]
  },
  {
   "cell_type": "markdown",
   "metadata": {},
   "source": [
    "P-value меньше 0.05, потому нулевую гипотезу отвергаем. Анализ «сырых данных» сообщает, что в конверсии между группами есть статистически значимые различия. Относительный прирост конверсии группы В к конверсии группы А равен 13.8%."
   ]
  },
  {
   "cell_type": "markdown",
   "metadata": {},
   "source": [
    "### Cтатистическая значимость различий в среднем чеке заказа между группами по сырым данным\n",
    "<a id=\"analysis_11\"></a>\n",
    "Формулировки нулевой и альтернативной гипотезы остаются такими же как в предыдущем пункте."
   ]
  },
  {
   "cell_type": "code",
   "execution_count": 33,
   "metadata": {},
   "outputs": [
    {
     "name": "stdout",
     "output_type": "stream",
     "text": [
      "p-значение: 0.729\n",
      "Не получилось отвергнуть нулевую гипотезу\n",
      "Относительный прирост среднего чека: 0.259\n"
     ]
    }
   ],
   "source": [
    "results_2 = stats.mannwhitneyu(orders[orders['group']=='A']['revenue'], \n",
    "                               orders[orders['group']=='B']['revenue'], alternative = 'two-sided')\n",
    "print('p-значение:', \"{0:.3f}\".format(results_2.pvalue))\n",
    "\n",
    "if results_2.pvalue < alpha:\n",
    "    print('Отвергаем нулевую гипотезу')\n",
    "else:\n",
    "    print('Не получилось отвергнуть нулевую гипотезу')\n",
    "\n",
    "print('Относительный прирост среднего чека:',\n",
    "      '{0:.3f}'.format(orders[orders['group']=='B']['revenue'].mean()/orders[orders['group']=='A']['revenue'].mean()-1))"
   ]
  },
  {
   "cell_type": "markdown",
   "metadata": {},
   "source": [
    "P-value больше 0.05 – статистически значимых отличий в среднем чеке между группами нет. Несмотря на то, что относительное различие среднего чека между сегментами составляет 25,9%, но это могло случиться из-за выбросов. Нужно проверить статистическую значимость различий в среднем чеке и конверсии между группами, исключив аномалии."
   ]
  },
  {
   "cell_type": "markdown",
   "metadata": {},
   "source": [
    "### Cтатистическая значимость различий в конверсии между группами по очищенным данным\n",
    "<a id=\"analysis_12\"></a>"
   ]
  },
  {
   "cell_type": "code",
   "execution_count": 34,
   "metadata": {},
   "outputs": [
    {
     "data": {
      "text/plain": [
       "1099     148427295\n",
       "18       199603092\n",
       "928      204675465\n",
       "23       237748145\n",
       "37       249864742\n",
       "           ...    \n",
       "940     4003628586\n",
       "627     4120364173\n",
       "743     4133034833\n",
       "499     4256040402\n",
       "662     4266935830\n",
       "Name: visitor_id, Length: 68, dtype: int64"
      ]
     },
     "execution_count": 34,
     "metadata": {},
     "output_type": "execute_result"
    }
   ],
   "source": [
    "# cделаем срезы пользователей с числом заказов больше 2 — usersWithManyOrders и пользователей, \n",
    "# совершивших заказы дороже 30000 у.е. — usersWithExpensiveOrders. \n",
    "# объединим их в таблице abnormalUsers, удалим дубликаты, отсортируем по возрастанию.\n",
    "usersWithManyOrders = pd.concat(\n",
    "    [\n",
    "        ordersByUsersA[ordersByUsersA['orders'] > 2]['visitor_id'],\n",
    "        ordersByUsersB[ordersByUsersB['orders'] > 2]['visitor_id'],\n",
    "    ],\n",
    "    axis=0,\n",
    ")\n",
    "\n",
    "usersWithExpensiveOrders = orders[orders['revenue'] > 30000]['visitor_id']\n",
    "\n",
    "abnormalUsers = (\n",
    "    pd.concat([usersWithManyOrders, usersWithExpensiveOrders], axis=0)\n",
    "    .drop_duplicates()\n",
    "    .sort_values()\n",
    ")\n",
    "\n",
    "abnormalUsers"
   ]
  },
  {
   "cell_type": "code",
   "execution_count": 35,
   "metadata": {},
   "outputs": [
    {
     "name": "stdout",
     "output_type": "stream",
     "text": [
      "p-значение: 0.01334\n",
      "Отвергаем нулевую гипотезу\n",
      "Относительный прирост конверсии: 0.172\n"
     ]
    }
   ],
   "source": [
    "# cоздаем переменные sampleAFiltered и sampleBFiltered, в которых сохраним очищенные данные о заказах —\n",
    "# не включая аномальных пользователей.\n",
    "sampleAFiltered = pd.concat(\n",
    "    [\n",
    "        ordersByUsersA[\n",
    "            np.logical_not(ordersByUsersA['visitor_id'].isin(abnormalUsers))\n",
    "        ]['orders'],\n",
    "        pd.Series(\n",
    "            0,\n",
    "            index=np.arange(\n",
    "                visitorsADaily['visitorsPerDateA'].sum() - len(ordersByUsersA['orders'])\n",
    "            ),\n",
    "            name='orders',\n",
    "        ),\n",
    "    ],\n",
    "    axis=0,\n",
    ")\n",
    "\n",
    "sampleBFiltered = pd.concat(\n",
    "    [\n",
    "        ordersByUsersB[\n",
    "            np.logical_not(ordersByUsersB['visitor_id'].isin(abnormalUsers))\n",
    "        ]['orders'],\n",
    "        pd.Series(\n",
    "            0,\n",
    "            index=np.arange(\n",
    "                visitorsBDaily['visitorsPerDateB'].sum() - len(ordersByUsersB['orders'])\n",
    "            ),\n",
    "            name='orders',\n",
    "        ),\n",
    "    ],\n",
    "    axis=0,\n",
    ")\n",
    "\n",
    "# считаем статистическую значимость различия конверсии по результатам теста по \"очищенным\" данным,\n",
    "# применим критерий Манна-Уитни и выведем p-value для сравнения конверсии между группами. \n",
    "results_3 = stats.mannwhitneyu(sampleAFiltered, sampleBFiltered, alternative = 'two-sided')\n",
    "print('p-значение:', \"{0:.5f}\".format(results_3.pvalue))\n",
    "\n",
    "if results_3.pvalue < alpha:\n",
    "    print('Отвергаем нулевую гипотезу')\n",
    "else:\n",
    "    print('Не получилось отвергнуть нулевую гипотезу')\n",
    "\n",
    "# выведем относительный прирост конверсии группы B: конверсия группы B / конверсия группы A - 1.\n",
    "print('Относительный прирост конверсии:',\"{0:.3f}\".format(sampleBFiltered.mean() / sampleAFiltered.mean() - 1))"
   ]
  },
  {
   "cell_type": "markdown",
   "metadata": {},
   "source": [
    "Как и в случае с сырыми данными, статистическая значимость достигнута. Сегмент B по конверсии лучше сегмента А. Относительный прирост конверсии стал еще больше."
   ]
  },
  {
   "cell_type": "markdown",
   "metadata": {},
   "source": [
    "### Cтатистическая значимость различий в среднем чеке заказа между группами по очищенным данным\n",
    "<a id=\"analysis_13\"></a>"
   ]
  },
  {
   "cell_type": "code",
   "execution_count": 36,
   "metadata": {},
   "outputs": [
    {
     "name": "stdout",
     "output_type": "stream",
     "text": [
      "p-значение: 0.720\n",
      "Не получилось отвергнуть нулевую гипотезу\n",
      "Относительный прирост среднего чека: -0.023\n"
     ]
    }
   ],
   "source": [
    "results_4 = stats.mannwhitneyu(orders[\n",
    "                np.logical_and(\n",
    "                    orders['group'] == 'A',\n",
    "                    np.logical_not(orders['visitor_id'].isin(abnormalUsers)),\n",
    "                )\n",
    "            ]['revenue'],\n",
    "                               orders[\n",
    "                np.logical_and(\n",
    "                    orders['group'] == 'B',\n",
    "                    np.logical_not(orders['visitor_id'].isin(abnormalUsers)),\n",
    "                )\n",
    "            ]['revenue'], alternative = 'two-sided')\n",
    "print('p-значение:', \"{0:.3f}\".format(results_4.pvalue))\n",
    "\n",
    "if results_4.pvalue < alpha:\n",
    "    print('Отвергаем нулевую гипотезу')\n",
    "else:\n",
    "    print('Не получилось отвергнуть нулевую гипотезу')\n",
    "\n",
    "print('Относительный прирост среднего чека:',\n",
    "      '{0:.3f}'.format(orders[\n",
    "            np.logical_and(\n",
    "                orders['group'] == 'B',\n",
    "                np.logical_not(orders['visitor_id'].isin(abnormalUsers)),\n",
    "            )\n",
    "        ]['revenue'].mean()\n",
    "                       /orders[\n",
    "            np.logical_and(\n",
    "                orders['group'] == 'A',\n",
    "                np.logical_not(orders['visitor_id'].isin(abnormalUsers)),\n",
    "            )\n",
    "        ]['revenue'].mean()\n",
    "        - 1\n",
    "                      )\n",
    "     )"
   ]
  },
  {
   "cell_type": "markdown",
   "metadata": {},
   "source": [
    "P-value по среднему чеку все так же больше 0.05 – статистически значимых отличий в среднем чеке между группами нет. А вот относительный прирост среднего чека совсем исчез после очистки данных от выбросов, более того он незначительно уменьшился по группе B (2%). Считаем, это допустимым исходя из p-value, то есть, что разницы между средними чеками нет."
   ]
  },
  {
   "cell_type": "code",
   "execution_count": 37,
   "metadata": {},
   "outputs": [
    {
     "name": "stdout",
     "output_type": "stream",
     "text": [
      "Суммарная выручка группы A: 2529855\n",
      "Суммарная выручка группы B: 2923121\n"
     ]
    }
   ],
   "source": [
    "# проверяем суммарную выручку по сегментам на очищенных данных\n",
    "print('Суммарная выручка группы A:',\n",
    "      orders[np.logical_and(orders['group'] == 'A',\n",
    "                      np.logical_not(orders['visitor_id'].isin(abnormalUsers)))]['revenue'].sum())\n",
    "\n",
    "print('Суммарная выручка группы B:',\n",
    "      orders[np.logical_and(orders['group'] == 'B',\n",
    "                      np.logical_not(orders['visitor_id'].isin(abnormalUsers)))]['revenue'].sum())"
   ]
  },
  {
   "cell_type": "markdown",
   "metadata": {},
   "source": [
    "### Выводы по результатам теста\n",
    "<a id=\"conclusion\"></a>\n",
    "По результатам анализа A/B теста можно сделать следующие выводы:\n",
    "\n",
    "1. Сегмент B значительно лучше сегмента А по конверсии. Статистическая значимость различия присутствует и на \"сырых\" и на \"очищенных\" данных.\n",
    "2. Улучшения по среднему чеку по сегменту B не наблюдается, но что более важно - нет ухудшения. Средний чек по группам не меняется.\n",
    "3. Выручка по сегменту B лучше сегмента А (на основе графика кумулятивной выручки и суммарной выручки по \"очищенным\" данным).\n",
    "4. Остановливаем тест, фиксируем, что сегмент B показывает себя лучше сегмента A."
   ]
  }
 ],
 "metadata": {
  "ExecuteTimeLog": [
   {
    "duration": 1102,
    "start_time": "2022-02-04T09:02:37.494Z"
   },
   {
    "duration": 288,
    "start_time": "2022-02-04T11:01:14.712Z"
   },
   {
    "duration": 675,
    "start_time": "2022-02-04T11:01:43.737Z"
   },
   {
    "duration": 90,
    "start_time": "2022-02-04T11:01:49.029Z"
   },
   {
    "duration": 288,
    "start_time": "2022-02-04T11:02:30.767Z"
   },
   {
    "duration": 14,
    "start_time": "2022-02-04T11:03:24.668Z"
   },
   {
    "duration": 13,
    "start_time": "2022-02-04T11:12:33.254Z"
   },
   {
    "duration": 10,
    "start_time": "2022-02-04T11:15:03.299Z"
   },
   {
    "duration": 8,
    "start_time": "2022-02-04T11:18:06.974Z"
   },
   {
    "duration": 29,
    "start_time": "2022-02-04T11:18:56.555Z"
   },
   {
    "duration": 9,
    "start_time": "2022-02-04T11:19:11.220Z"
   },
   {
    "duration": 34,
    "start_time": "2022-02-04T11:19:23.900Z"
   },
   {
    "duration": 22,
    "start_time": "2022-02-04T11:21:03.329Z"
   },
   {
    "duration": 3,
    "start_time": "2022-02-04T11:22:28.659Z"
   },
   {
    "duration": 35,
    "start_time": "2022-02-04T11:28:30.476Z"
   },
   {
    "duration": 26,
    "start_time": "2022-02-04T11:29:17.068Z"
   },
   {
    "duration": 5,
    "start_time": "2022-02-04T11:35:20.928Z"
   },
   {
    "duration": 1543,
    "start_time": "2022-02-04T11:38:05.948Z"
   },
   {
    "duration": 1071,
    "start_time": "2022-02-04T11:39:27.825Z"
   },
   {
    "duration": 22,
    "start_time": "2022-02-04T11:40:05.566Z"
   },
   {
    "duration": 5606,
    "start_time": "2022-02-04T11:40:21.074Z"
   },
   {
    "duration": 6,
    "start_time": "2022-02-04T11:40:51.804Z"
   },
   {
    "duration": 120,
    "start_time": "2022-02-04T11:40:51.813Z"
   },
   {
    "duration": 17,
    "start_time": "2022-02-04T11:40:51.935Z"
   },
   {
    "duration": 12,
    "start_time": "2022-02-04T11:40:51.955Z"
   },
   {
    "duration": 50,
    "start_time": "2022-02-04T11:40:51.970Z"
   },
   {
    "duration": 26,
    "start_time": "2022-02-04T11:40:52.022Z"
   },
   {
    "duration": 5,
    "start_time": "2022-02-04T11:40:52.050Z"
   },
   {
    "duration": 54,
    "start_time": "2022-02-04T11:40:52.058Z"
   },
   {
    "duration": 1078,
    "start_time": "2022-02-04T11:41:21.057Z"
   },
   {
    "duration": 4,
    "start_time": "2022-02-04T11:41:28.834Z"
   },
   {
    "duration": 102,
    "start_time": "2022-02-04T11:41:28.840Z"
   },
   {
    "duration": 14,
    "start_time": "2022-02-04T11:41:28.944Z"
   },
   {
    "duration": 9,
    "start_time": "2022-02-04T11:41:28.961Z"
   },
   {
    "duration": 32,
    "start_time": "2022-02-04T11:41:28.972Z"
   },
   {
    "duration": 26,
    "start_time": "2022-02-04T11:41:29.006Z"
   },
   {
    "duration": 5,
    "start_time": "2022-02-04T11:41:29.034Z"
   },
   {
    "duration": 22,
    "start_time": "2022-02-04T11:41:29.041Z"
   },
   {
    "duration": 7,
    "start_time": "2022-02-04T11:43:52.174Z"
   },
   {
    "duration": 6,
    "start_time": "2022-02-04T11:44:02.766Z"
   },
   {
    "duration": 7,
    "start_time": "2022-02-04T11:44:42.350Z"
   },
   {
    "duration": 6,
    "start_time": "2022-02-04T11:44:57.909Z"
   },
   {
    "duration": 5,
    "start_time": "2022-02-04T11:47:35.512Z"
   },
   {
    "duration": 7,
    "start_time": "2022-02-04T11:48:21.845Z"
   },
   {
    "duration": 223,
    "start_time": "2022-02-04T11:49:33.928Z"
   },
   {
    "duration": 11,
    "start_time": "2022-02-04T11:49:55.403Z"
   },
   {
    "duration": 10,
    "start_time": "2022-02-04T12:18:29.208Z"
   },
   {
    "duration": 9,
    "start_time": "2022-02-04T12:19:08.634Z"
   },
   {
    "duration": 9,
    "start_time": "2022-02-04T12:19:32.672Z"
   },
   {
    "duration": 12,
    "start_time": "2022-02-04T12:20:10.553Z"
   },
   {
    "duration": 232,
    "start_time": "2022-02-04T12:27:41.471Z"
   },
   {
    "duration": 11,
    "start_time": "2022-02-04T12:27:59.960Z"
   },
   {
    "duration": 19,
    "start_time": "2022-02-04T12:32:10.356Z"
   },
   {
    "duration": 3,
    "start_time": "2022-02-04T12:32:54.304Z"
   },
   {
    "duration": 83,
    "start_time": "2022-02-04T12:32:54.309Z"
   },
   {
    "duration": 14,
    "start_time": "2022-02-04T12:32:54.394Z"
   },
   {
    "duration": 11,
    "start_time": "2022-02-04T12:32:54.410Z"
   },
   {
    "duration": 32,
    "start_time": "2022-02-04T12:32:54.423Z"
   },
   {
    "duration": 51,
    "start_time": "2022-02-04T12:32:54.457Z"
   },
   {
    "duration": 6,
    "start_time": "2022-02-04T12:32:54.511Z"
   },
   {
    "duration": 18,
    "start_time": "2022-02-04T12:32:54.520Z"
   },
   {
    "duration": 14,
    "start_time": "2022-02-04T12:32:54.540Z"
   },
   {
    "duration": 44,
    "start_time": "2022-02-04T12:32:54.556Z"
   },
   {
    "duration": 14,
    "start_time": "2022-02-04T12:33:11.674Z"
   },
   {
    "duration": 1164,
    "start_time": "2022-02-05T16:53:55.752Z"
   },
   {
    "duration": 67,
    "start_time": "2022-02-05T16:53:56.923Z"
   },
   {
    "duration": 29,
    "start_time": "2022-02-05T16:53:56.995Z"
   },
   {
    "duration": 24,
    "start_time": "2022-02-05T16:53:57.028Z"
   },
   {
    "duration": 76,
    "start_time": "2022-02-05T16:53:57.055Z"
   },
   {
    "duration": 72,
    "start_time": "2022-02-05T16:53:57.134Z"
   },
   {
    "duration": 8,
    "start_time": "2022-02-05T16:53:57.210Z"
   },
   {
    "duration": 55,
    "start_time": "2022-02-05T16:53:57.221Z"
   },
   {
    "duration": 26,
    "start_time": "2022-02-05T16:53:57.281Z"
   },
   {
    "duration": 33,
    "start_time": "2022-02-05T16:53:57.310Z"
   },
   {
    "duration": 39,
    "start_time": "2022-02-05T16:53:57.346Z"
   },
   {
    "duration": 409,
    "start_time": "2022-02-05T17:03:55.194Z"
   },
   {
    "duration": 15,
    "start_time": "2022-02-05T17:04:06.052Z"
   },
   {
    "duration": 18,
    "start_time": "2022-02-05T17:06:47.706Z"
   },
   {
    "duration": 91,
    "start_time": "2022-02-05T17:08:27.860Z"
   },
   {
    "duration": 95,
    "start_time": "2022-02-05T17:09:14.474Z"
   },
   {
    "duration": 17,
    "start_time": "2022-02-05T17:10:11.685Z"
   },
   {
    "duration": 14,
    "start_time": "2022-02-05T17:13:15.150Z"
   },
   {
    "duration": 19,
    "start_time": "2022-02-05T17:16:36.515Z"
   },
   {
    "duration": 12,
    "start_time": "2022-02-05T17:17:49.294Z"
   },
   {
    "duration": 106,
    "start_time": "2022-02-05T17:19:47.429Z"
   },
   {
    "duration": 77,
    "start_time": "2022-02-05T17:19:59.045Z"
   },
   {
    "duration": 74,
    "start_time": "2022-02-05T17:22:37.496Z"
   },
   {
    "duration": 5,
    "start_time": "2022-02-05T17:25:01.242Z"
   },
   {
    "duration": 5,
    "start_time": "2022-02-05T17:25:16.553Z"
   },
   {
    "duration": 4,
    "start_time": "2022-02-05T17:29:42.521Z"
   },
   {
    "duration": 60,
    "start_time": "2022-02-05T17:29:42.528Z"
   },
   {
    "duration": 18,
    "start_time": "2022-02-05T17:29:42.591Z"
   },
   {
    "duration": 14,
    "start_time": "2022-02-05T17:29:42.611Z"
   },
   {
    "duration": 65,
    "start_time": "2022-02-05T17:29:42.627Z"
   },
   {
    "duration": 45,
    "start_time": "2022-02-05T17:29:42.694Z"
   },
   {
    "duration": 8,
    "start_time": "2022-02-05T17:29:42.771Z"
   },
   {
    "duration": 33,
    "start_time": "2022-02-05T17:29:42.783Z"
   },
   {
    "duration": 11,
    "start_time": "2022-02-05T17:29:42.819Z"
   },
   {
    "duration": 42,
    "start_time": "2022-02-05T17:29:42.833Z"
   },
   {
    "duration": 11,
    "start_time": "2022-02-05T17:29:42.878Z"
   },
   {
    "duration": 99,
    "start_time": "2022-02-05T17:29:42.891Z"
   },
   {
    "duration": 5,
    "start_time": "2022-02-05T17:29:42.993Z"
   },
   {
    "duration": 32,
    "start_time": "2022-02-05T17:29:43.000Z"
   },
   {
    "duration": 39,
    "start_time": "2022-02-05T17:29:43.034Z"
   },
   {
    "duration": 840,
    "start_time": "2022-02-06T22:23:11.759Z"
   },
   {
    "duration": 69,
    "start_time": "2022-02-06T22:23:12.602Z"
   },
   {
    "duration": 21,
    "start_time": "2022-02-06T22:23:12.674Z"
   },
   {
    "duration": 19,
    "start_time": "2022-02-06T22:23:12.699Z"
   },
   {
    "duration": 71,
    "start_time": "2022-02-06T22:23:12.721Z"
   },
   {
    "duration": 44,
    "start_time": "2022-02-06T22:23:12.794Z"
   },
   {
    "duration": 10,
    "start_time": "2022-02-06T22:23:12.861Z"
   },
   {
    "duration": 33,
    "start_time": "2022-02-06T22:23:12.874Z"
   },
   {
    "duration": 12,
    "start_time": "2022-02-06T22:23:12.912Z"
   },
   {
    "duration": 42,
    "start_time": "2022-02-06T22:23:12.928Z"
   },
   {
    "duration": 18,
    "start_time": "2022-02-06T22:23:12.973Z"
   },
   {
    "duration": 105,
    "start_time": "2022-02-06T22:23:12.994Z"
   },
   {
    "duration": 5,
    "start_time": "2022-02-06T22:23:13.102Z"
   },
   {
    "duration": 19,
    "start_time": "2022-02-06T22:23:13.109Z"
   },
   {
    "duration": 43,
    "start_time": "2022-02-06T22:23:13.130Z"
   },
   {
    "duration": 9614,
    "start_time": "2022-02-06T22:53:51.246Z"
   },
   {
    "duration": 8213,
    "start_time": "2022-02-06T22:55:55.089Z"
   },
   {
    "duration": 546,
    "start_time": "2022-02-06T22:59:04.691Z"
   },
   {
    "duration": 313,
    "start_time": "2022-02-06T22:59:38.991Z"
   },
   {
    "duration": 312,
    "start_time": "2022-02-06T23:00:11.569Z"
   },
   {
    "duration": 433,
    "start_time": "2022-02-06T23:08:29.304Z"
   },
   {
    "duration": 489,
    "start_time": "2022-02-06T23:09:21.909Z"
   },
   {
    "duration": 425,
    "start_time": "2022-02-06T23:09:34.958Z"
   },
   {
    "duration": 851,
    "start_time": "2022-02-07T05:11:07.925Z"
   },
   {
    "duration": 58,
    "start_time": "2022-02-07T05:11:08.778Z"
   },
   {
    "duration": 19,
    "start_time": "2022-02-07T05:11:08.839Z"
   },
   {
    "duration": 16,
    "start_time": "2022-02-07T05:11:08.860Z"
   },
   {
    "duration": 65,
    "start_time": "2022-02-07T05:11:08.878Z"
   },
   {
    "duration": 41,
    "start_time": "2022-02-07T05:11:08.946Z"
   },
   {
    "duration": 6,
    "start_time": "2022-02-07T05:11:08.990Z"
   },
   {
    "duration": 50,
    "start_time": "2022-02-07T05:11:08.999Z"
   },
   {
    "duration": 13,
    "start_time": "2022-02-07T05:11:09.052Z"
   },
   {
    "duration": 13,
    "start_time": "2022-02-07T05:11:09.067Z"
   },
   {
    "duration": 51,
    "start_time": "2022-02-07T05:11:09.083Z"
   },
   {
    "duration": 116,
    "start_time": "2022-02-07T05:11:09.137Z"
   },
   {
    "duration": 6,
    "start_time": "2022-02-07T05:11:09.256Z"
   },
   {
    "duration": 28,
    "start_time": "2022-02-07T05:11:09.264Z"
   },
   {
    "duration": 39,
    "start_time": "2022-02-07T05:11:09.295Z"
   },
   {
    "duration": 548,
    "start_time": "2022-02-07T05:11:09.337Z"
   },
   {
    "duration": 449,
    "start_time": "2022-02-07T05:11:09.887Z"
   },
   {
    "duration": 444,
    "start_time": "2022-02-07T05:11:10.339Z"
   },
   {
    "duration": 434,
    "start_time": "2022-02-07T05:11:41.463Z"
   },
   {
    "duration": 474,
    "start_time": "2022-02-07T05:12:23.201Z"
   },
   {
    "duration": 5,
    "start_time": "2022-02-07T06:29:22.045Z"
   },
   {
    "duration": 59,
    "start_time": "2022-02-07T06:29:22.054Z"
   },
   {
    "duration": 16,
    "start_time": "2022-02-07T06:29:22.116Z"
   },
   {
    "duration": 14,
    "start_time": "2022-02-07T06:29:22.136Z"
   },
   {
    "duration": 44,
    "start_time": "2022-02-07T06:29:22.152Z"
   },
   {
    "duration": 60,
    "start_time": "2022-02-07T06:29:22.198Z"
   },
   {
    "duration": 6,
    "start_time": "2022-02-07T06:29:22.261Z"
   },
   {
    "duration": 32,
    "start_time": "2022-02-07T06:29:22.269Z"
   },
   {
    "duration": 32,
    "start_time": "2022-02-07T06:29:22.305Z"
   },
   {
    "duration": 11,
    "start_time": "2022-02-07T06:29:22.341Z"
   },
   {
    "duration": 13,
    "start_time": "2022-02-07T06:29:22.356Z"
   },
   {
    "duration": 104,
    "start_time": "2022-02-07T06:29:22.371Z"
   },
   {
    "duration": 5,
    "start_time": "2022-02-07T06:29:22.478Z"
   },
   {
    "duration": 19,
    "start_time": "2022-02-07T06:29:22.486Z"
   },
   {
    "duration": 19,
    "start_time": "2022-02-07T06:29:22.533Z"
   },
   {
    "duration": 578,
    "start_time": "2022-02-07T06:29:22.555Z"
   },
   {
    "duration": 455,
    "start_time": "2022-02-07T06:29:23.136Z"
   },
   {
    "duration": 547,
    "start_time": "2022-02-07T06:29:23.593Z"
   },
   {
    "duration": 449,
    "start_time": "2022-02-07T06:41:36.883Z"
   },
   {
    "duration": 20,
    "start_time": "2022-02-07T06:41:58.173Z"
   },
   {
    "duration": 20,
    "start_time": "2022-02-07T06:42:59.549Z"
   },
   {
    "duration": 20,
    "start_time": "2022-02-07T06:43:17.621Z"
   },
   {
    "duration": 361,
    "start_time": "2022-02-07T06:45:24.163Z"
   },
   {
    "duration": 549,
    "start_time": "2022-02-07T06:47:20.293Z"
   },
   {
    "duration": 520,
    "start_time": "2022-02-07T06:48:01.551Z"
   },
   {
    "duration": 453,
    "start_time": "2022-02-07T07:14:46.994Z"
   },
   {
    "duration": 453,
    "start_time": "2022-02-07T07:17:17.485Z"
   },
   {
    "duration": 486,
    "start_time": "2022-02-07T07:18:06.615Z"
   },
   {
    "duration": 491,
    "start_time": "2022-02-07T07:22:54.961Z"
   },
   {
    "duration": 448,
    "start_time": "2022-02-07T07:24:00.347Z"
   },
   {
    "duration": 426,
    "start_time": "2022-02-07T07:41:06.598Z"
   },
   {
    "duration": 531,
    "start_time": "2022-02-07T07:43:54.449Z"
   },
   {
    "duration": 559,
    "start_time": "2022-02-07T07:46:24.800Z"
   },
   {
    "duration": 418,
    "start_time": "2022-02-07T08:01:33.469Z"
   },
   {
    "duration": 285,
    "start_time": "2022-02-07T08:02:07.015Z"
   },
   {
    "duration": 14,
    "start_time": "2022-02-07T08:02:26.228Z"
   },
   {
    "duration": 359,
    "start_time": "2022-02-07T08:06:02.476Z"
   },
   {
    "duration": 378,
    "start_time": "2022-02-07T08:10:58.151Z"
   },
   {
    "duration": 256,
    "start_time": "2022-02-07T08:11:11.170Z"
   },
   {
    "duration": 535,
    "start_time": "2022-02-07T08:12:36.944Z"
   },
   {
    "duration": 345,
    "start_time": "2022-02-07T08:15:53.852Z"
   },
   {
    "duration": 386,
    "start_time": "2022-02-07T08:21:55.366Z"
   },
   {
    "duration": 511,
    "start_time": "2022-02-07T08:23:39.437Z"
   },
   {
    "duration": 402,
    "start_time": "2022-02-07T08:23:58.420Z"
   },
   {
    "duration": 402,
    "start_time": "2022-02-07T08:24:40.175Z"
   },
   {
    "duration": 6,
    "start_time": "2022-02-07T08:31:22.133Z"
   },
   {
    "duration": 311,
    "start_time": "2022-02-07T10:16:59.580Z"
   },
   {
    "duration": 692,
    "start_time": "2022-02-07T10:17:09.116Z"
   },
   {
    "duration": 73,
    "start_time": "2022-02-07T10:17:09.809Z"
   },
   {
    "duration": 13,
    "start_time": "2022-02-07T10:17:09.885Z"
   },
   {
    "duration": 15,
    "start_time": "2022-02-07T10:17:09.900Z"
   },
   {
    "duration": 30,
    "start_time": "2022-02-07T10:17:09.917Z"
   },
   {
    "duration": 23,
    "start_time": "2022-02-07T10:17:09.949Z"
   },
   {
    "duration": 5,
    "start_time": "2022-02-07T10:17:09.974Z"
   },
   {
    "duration": 44,
    "start_time": "2022-02-07T10:17:09.980Z"
   },
   {
    "duration": 19,
    "start_time": "2022-02-07T10:17:10.027Z"
   },
   {
    "duration": 20,
    "start_time": "2022-02-07T10:17:10.048Z"
   },
   {
    "duration": 11,
    "start_time": "2022-02-07T10:17:10.070Z"
   },
   {
    "duration": 53,
    "start_time": "2022-02-07T10:17:10.083Z"
   },
   {
    "duration": 4,
    "start_time": "2022-02-07T10:17:10.139Z"
   },
   {
    "duration": 22,
    "start_time": "2022-02-07T10:17:10.145Z"
   },
   {
    "duration": 15,
    "start_time": "2022-02-07T10:17:10.170Z"
   },
   {
    "duration": 390,
    "start_time": "2022-02-07T10:17:10.186Z"
   },
   {
    "duration": 311,
    "start_time": "2022-02-07T10:17:10.577Z"
   },
   {
    "duration": 299,
    "start_time": "2022-02-07T10:17:10.890Z"
   },
   {
    "duration": 439,
    "start_time": "2022-02-07T10:17:11.191Z"
   },
   {
    "duration": 342,
    "start_time": "2022-02-07T10:17:11.632Z"
   },
   {
    "duration": 409,
    "start_time": "2022-02-07T10:17:11.976Z"
   },
   {
    "duration": 354,
    "start_time": "2022-02-07T10:17:12.387Z"
   },
   {
    "duration": 4,
    "start_time": "2022-02-07T10:17:12.743Z"
   },
   {
    "duration": 289,
    "start_time": "2022-02-07T10:17:12.749Z"
   },
   {
    "duration": 450,
    "start_time": "2022-02-07T10:21:51.193Z"
   },
   {
    "duration": 5,
    "start_time": "2022-02-07T10:28:07.535Z"
   },
   {
    "duration": 348,
    "start_time": "2022-02-07T10:34:50.065Z"
   },
   {
    "duration": 687,
    "start_time": "2022-02-08T06:47:39.438Z"
   },
   {
    "duration": 70,
    "start_time": "2022-02-08T06:47:40.127Z"
   },
   {
    "duration": 15,
    "start_time": "2022-02-08T06:47:40.200Z"
   },
   {
    "duration": 17,
    "start_time": "2022-02-08T06:47:40.217Z"
   },
   {
    "duration": 33,
    "start_time": "2022-02-08T06:47:40.236Z"
   },
   {
    "duration": 47,
    "start_time": "2022-02-08T06:47:40.271Z"
   },
   {
    "duration": 6,
    "start_time": "2022-02-08T06:47:40.320Z"
   },
   {
    "duration": 19,
    "start_time": "2022-02-08T06:47:40.328Z"
   },
   {
    "duration": 8,
    "start_time": "2022-02-08T06:47:40.350Z"
   },
   {
    "duration": 9,
    "start_time": "2022-02-08T06:47:40.361Z"
   },
   {
    "duration": 39,
    "start_time": "2022-02-08T06:47:40.372Z"
   },
   {
    "duration": 52,
    "start_time": "2022-02-08T06:47:40.413Z"
   },
   {
    "duration": 5,
    "start_time": "2022-02-08T06:47:40.467Z"
   },
   {
    "duration": 46,
    "start_time": "2022-02-08T06:47:40.474Z"
   },
   {
    "duration": 14,
    "start_time": "2022-02-08T06:47:40.522Z"
   },
   {
    "duration": 395,
    "start_time": "2022-02-08T06:47:40.537Z"
   },
   {
    "duration": 333,
    "start_time": "2022-02-08T06:47:40.934Z"
   },
   {
    "duration": 316,
    "start_time": "2022-02-08T06:47:41.269Z"
   },
   {
    "duration": 424,
    "start_time": "2022-02-08T06:47:41.587Z"
   },
   {
    "duration": 362,
    "start_time": "2022-02-08T06:47:42.012Z"
   },
   {
    "duration": 404,
    "start_time": "2022-02-08T06:47:42.376Z"
   },
   {
    "duration": 354,
    "start_time": "2022-02-08T06:47:42.783Z"
   },
   {
    "duration": 5,
    "start_time": "2022-02-08T06:47:43.140Z"
   },
   {
    "duration": 366,
    "start_time": "2022-02-08T06:47:43.147Z"
   },
   {
    "duration": 4,
    "start_time": "2022-02-08T06:47:43.515Z"
   },
   {
    "duration": 607,
    "start_time": "2022-02-08T06:48:28.103Z"
   },
   {
    "duration": 405,
    "start_time": "2022-02-08T06:49:23.287Z"
   },
   {
    "duration": 465,
    "start_time": "2022-02-08T06:52:57.544Z"
   },
   {
    "duration": 498,
    "start_time": "2022-02-08T06:53:33.927Z"
   },
   {
    "duration": 478,
    "start_time": "2022-02-08T06:57:13.777Z"
   },
   {
    "duration": 434,
    "start_time": "2022-02-08T06:58:50.647Z"
   },
   {
    "duration": 429,
    "start_time": "2022-02-08T06:59:07.281Z"
   },
   {
    "duration": 469,
    "start_time": "2022-02-08T07:00:06.610Z"
   },
   {
    "duration": 439,
    "start_time": "2022-02-08T07:03:20.703Z"
   },
   {
    "duration": 414,
    "start_time": "2022-02-08T07:04:43.307Z"
   },
   {
    "duration": 381,
    "start_time": "2022-02-08T07:05:19.487Z"
   },
   {
    "duration": 398,
    "start_time": "2022-02-08T07:05:32.585Z"
   },
   {
    "duration": 364,
    "start_time": "2022-02-08T07:07:36.226Z"
   },
   {
    "duration": 506,
    "start_time": "2022-02-08T07:09:00.824Z"
   },
   {
    "duration": 467,
    "start_time": "2022-02-08T07:09:33.769Z"
   },
   {
    "duration": 117,
    "start_time": "2022-02-08T07:32:45.283Z"
   },
   {
    "duration": 227,
    "start_time": "2022-02-08T07:44:26.206Z"
   },
   {
    "duration": 11,
    "start_time": "2022-02-08T07:55:05.966Z"
   },
   {
    "duration": 8,
    "start_time": "2022-02-08T07:57:36.199Z"
   },
   {
    "duration": 118,
    "start_time": "2022-02-08T07:57:45.871Z"
   },
   {
    "duration": 8,
    "start_time": "2022-02-08T07:58:46.327Z"
   },
   {
    "duration": 11,
    "start_time": "2022-02-08T08:01:20.721Z"
   },
   {
    "duration": 10,
    "start_time": "2022-02-08T08:02:11.100Z"
   },
   {
    "duration": 11,
    "start_time": "2022-02-08T08:02:44.885Z"
   },
   {
    "duration": 262,
    "start_time": "2022-02-08T08:03:29.075Z"
   },
   {
    "duration": 502,
    "start_time": "2022-02-08T08:04:23.169Z"
   },
   {
    "duration": 74,
    "start_time": "2022-02-08T08:04:23.673Z"
   },
   {
    "duration": 19,
    "start_time": "2022-02-08T08:04:23.750Z"
   },
   {
    "duration": 16,
    "start_time": "2022-02-08T08:04:23.772Z"
   },
   {
    "duration": 42,
    "start_time": "2022-02-08T08:04:23.791Z"
   },
   {
    "duration": 28,
    "start_time": "2022-02-08T08:04:23.835Z"
   },
   {
    "duration": 8,
    "start_time": "2022-02-08T08:04:23.865Z"
   },
   {
    "duration": 45,
    "start_time": "2022-02-08T08:04:23.876Z"
   },
   {
    "duration": 15,
    "start_time": "2022-02-08T08:04:23.923Z"
   },
   {
    "duration": 14,
    "start_time": "2022-02-08T08:04:23.940Z"
   },
   {
    "duration": 18,
    "start_time": "2022-02-08T08:04:23.956Z"
   },
   {
    "duration": 58,
    "start_time": "2022-02-08T08:04:23.976Z"
   },
   {
    "duration": 4,
    "start_time": "2022-02-08T08:04:24.036Z"
   },
   {
    "duration": 24,
    "start_time": "2022-02-08T08:04:24.042Z"
   },
   {
    "duration": 46,
    "start_time": "2022-02-08T08:04:24.069Z"
   },
   {
    "duration": 411,
    "start_time": "2022-02-08T08:04:24.117Z"
   },
   {
    "duration": 465,
    "start_time": "2022-02-08T08:04:24.530Z"
   },
   {
    "duration": 460,
    "start_time": "2022-02-08T08:04:24.998Z"
   },
   {
    "duration": 437,
    "start_time": "2022-02-08T08:04:25.460Z"
   },
   {
    "duration": 321,
    "start_time": "2022-02-08T08:04:25.899Z"
   },
   {
    "duration": 396,
    "start_time": "2022-02-08T08:04:26.223Z"
   },
   {
    "duration": 341,
    "start_time": "2022-02-08T08:04:26.622Z"
   },
   {
    "duration": 4,
    "start_time": "2022-02-08T08:04:26.967Z"
   },
   {
    "duration": 553,
    "start_time": "2022-02-08T08:04:26.973Z"
   },
   {
    "duration": 5,
    "start_time": "2022-02-08T08:04:27.528Z"
   },
   {
    "duration": 47,
    "start_time": "2022-02-08T08:04:27.535Z"
   },
   {
    "duration": 138,
    "start_time": "2022-02-08T08:04:27.584Z"
   },
   {
    "duration": 90,
    "start_time": "2022-02-08T08:04:27.724Z"
   },
   {
    "duration": 10,
    "start_time": "2022-02-08T08:04:27.817Z"
   },
   {
    "duration": 150,
    "start_time": "2022-02-08T08:05:44.629Z"
   },
   {
    "duration": 3,
    "start_time": "2022-02-08T08:09:27.278Z"
   },
   {
    "duration": 83,
    "start_time": "2022-02-08T08:09:27.283Z"
   },
   {
    "duration": 13,
    "start_time": "2022-02-08T08:09:27.369Z"
   },
   {
    "duration": 13,
    "start_time": "2022-02-08T08:09:27.384Z"
   },
   {
    "duration": 35,
    "start_time": "2022-02-08T08:09:27.399Z"
   },
   {
    "duration": 26,
    "start_time": "2022-02-08T08:09:27.437Z"
   },
   {
    "duration": 7,
    "start_time": "2022-02-08T08:09:27.465Z"
   },
   {
    "duration": 16,
    "start_time": "2022-02-08T08:09:27.508Z"
   },
   {
    "duration": 13,
    "start_time": "2022-02-08T08:09:27.526Z"
   },
   {
    "duration": 10,
    "start_time": "2022-02-08T08:09:27.541Z"
   },
   {
    "duration": 11,
    "start_time": "2022-02-08T08:09:27.553Z"
   },
   {
    "duration": 69,
    "start_time": "2022-02-08T08:09:27.566Z"
   },
   {
    "duration": 5,
    "start_time": "2022-02-08T08:09:27.637Z"
   },
   {
    "duration": 15,
    "start_time": "2022-02-08T08:09:27.644Z"
   },
   {
    "duration": 47,
    "start_time": "2022-02-08T08:09:27.662Z"
   },
   {
    "duration": 383,
    "start_time": "2022-02-08T08:09:27.711Z"
   },
   {
    "duration": 313,
    "start_time": "2022-02-08T08:09:28.096Z"
   },
   {
    "duration": 311,
    "start_time": "2022-02-08T08:09:28.412Z"
   },
   {
    "duration": 393,
    "start_time": "2022-02-08T08:09:28.726Z"
   },
   {
    "duration": 300,
    "start_time": "2022-02-08T08:09:29.122Z"
   },
   {
    "duration": 385,
    "start_time": "2022-02-08T08:09:29.424Z"
   },
   {
    "duration": 341,
    "start_time": "2022-02-08T08:09:29.812Z"
   },
   {
    "duration": 4,
    "start_time": "2022-02-08T08:09:30.155Z"
   },
   {
    "duration": 538,
    "start_time": "2022-02-08T08:09:30.161Z"
   },
   {
    "duration": 5,
    "start_time": "2022-02-08T08:09:30.707Z"
   },
   {
    "duration": 16,
    "start_time": "2022-02-08T08:09:30.714Z"
   },
   {
    "duration": 140,
    "start_time": "2022-02-08T08:09:30.732Z"
   },
   {
    "duration": 11,
    "start_time": "2022-02-08T08:09:30.874Z"
   },
   {
    "duration": 30,
    "start_time": "2022-02-08T08:09:30.887Z"
   },
   {
    "duration": 16,
    "start_time": "2022-02-08T08:10:32.129Z"
   },
   {
    "duration": 5,
    "start_time": "2022-02-08T08:22:14.291Z"
   },
   {
    "duration": 70,
    "start_time": "2022-02-08T08:22:14.299Z"
   },
   {
    "duration": 16,
    "start_time": "2022-02-08T08:22:14.372Z"
   },
   {
    "duration": 9,
    "start_time": "2022-02-08T08:22:14.390Z"
   },
   {
    "duration": 51,
    "start_time": "2022-02-08T08:22:14.401Z"
   },
   {
    "duration": 28,
    "start_time": "2022-02-08T08:22:14.455Z"
   },
   {
    "duration": 23,
    "start_time": "2022-02-08T08:22:14.485Z"
   },
   {
    "duration": 23,
    "start_time": "2022-02-08T08:22:14.510Z"
   },
   {
    "duration": 16,
    "start_time": "2022-02-08T08:22:14.537Z"
   },
   {
    "duration": 29,
    "start_time": "2022-02-08T08:22:14.555Z"
   },
   {
    "duration": 21,
    "start_time": "2022-02-08T08:22:14.585Z"
   },
   {
    "duration": 50,
    "start_time": "2022-02-08T08:22:14.608Z"
   },
   {
    "duration": 4,
    "start_time": "2022-02-08T08:22:14.660Z"
   },
   {
    "duration": 27,
    "start_time": "2022-02-08T08:22:14.666Z"
   },
   {
    "duration": 28,
    "start_time": "2022-02-08T08:22:14.695Z"
   },
   {
    "duration": 407,
    "start_time": "2022-02-08T08:22:14.725Z"
   },
   {
    "duration": 326,
    "start_time": "2022-02-08T08:22:15.133Z"
   },
   {
    "duration": 311,
    "start_time": "2022-02-08T08:22:15.461Z"
   },
   {
    "duration": 524,
    "start_time": "2022-02-08T08:22:15.774Z"
   },
   {
    "duration": 425,
    "start_time": "2022-02-08T08:22:16.308Z"
   },
   {
    "duration": 403,
    "start_time": "2022-02-08T08:22:16.736Z"
   },
   {
    "duration": 371,
    "start_time": "2022-02-08T08:22:17.142Z"
   },
   {
    "duration": 6,
    "start_time": "2022-02-08T08:22:17.515Z"
   },
   {
    "duration": 528,
    "start_time": "2022-02-08T08:22:17.524Z"
   },
   {
    "duration": 6,
    "start_time": "2022-02-08T08:22:18.056Z"
   },
   {
    "duration": 25,
    "start_time": "2022-02-08T08:22:18.065Z"
   },
   {
    "duration": 164,
    "start_time": "2022-02-08T08:22:18.095Z"
   },
   {
    "duration": 3480,
    "start_time": "2022-02-08T08:22:18.262Z"
   },
   {
    "duration": -4375,
    "start_time": "2022-02-08T08:22:26.119Z"
   },
   {
    "duration": 11,
    "start_time": "2022-02-08T08:23:01.260Z"
   },
   {
    "duration": 11,
    "start_time": "2022-02-08T08:23:20.006Z"
   },
   {
    "duration": 10,
    "start_time": "2022-02-08T08:23:37.546Z"
   },
   {
    "duration": 212,
    "start_time": "2022-02-08T08:26:34.466Z"
   },
   {
    "duration": 354,
    "start_time": "2022-02-08T08:26:45.011Z"
   },
   {
    "duration": 10,
    "start_time": "2022-02-08T08:26:52.546Z"
   },
   {
    "duration": 8,
    "start_time": "2022-02-08T08:27:11.885Z"
   },
   {
    "duration": 14,
    "start_time": "2022-02-08T08:28:25.408Z"
   },
   {
    "duration": 14,
    "start_time": "2022-02-08T08:29:10.340Z"
   },
   {
    "duration": 6,
    "start_time": "2022-02-08T08:30:19.567Z"
   },
   {
    "duration": 9,
    "start_time": "2022-02-08T08:32:46.501Z"
   },
   {
    "duration": 7,
    "start_time": "2022-02-08T08:34:46.668Z"
   },
   {
    "duration": 8,
    "start_time": "2022-02-08T08:35:55.279Z"
   },
   {
    "duration": 9,
    "start_time": "2022-02-08T08:43:44.435Z"
   },
   {
    "duration": 9,
    "start_time": "2022-02-08T08:49:10.541Z"
   },
   {
    "duration": 9,
    "start_time": "2022-02-08T08:49:22.540Z"
   },
   {
    "duration": 13,
    "start_time": "2022-02-08T08:55:38.004Z"
   },
   {
    "duration": 12,
    "start_time": "2022-02-08T08:56:03.024Z"
   },
   {
    "duration": 12,
    "start_time": "2022-02-08T08:56:24.545Z"
   },
   {
    "duration": 15,
    "start_time": "2022-02-08T09:09:58.464Z"
   },
   {
    "duration": 6398,
    "start_time": "2022-02-08T09:19:21.925Z"
   },
   {
    "duration": 17,
    "start_time": "2022-02-08T09:20:05.312Z"
   },
   {
    "duration": 18,
    "start_time": "2022-02-08T09:32:37.671Z"
   },
   {
    "duration": 1058,
    "start_time": "2022-02-08T16:15:28.919Z"
   },
   {
    "duration": 38,
    "start_time": "2022-02-08T16:15:29.979Z"
   },
   {
    "duration": 17,
    "start_time": "2022-02-08T16:15:30.019Z"
   },
   {
    "duration": 25,
    "start_time": "2022-02-08T16:15:30.038Z"
   },
   {
    "duration": 44,
    "start_time": "2022-02-08T16:15:30.065Z"
   },
   {
    "duration": 29,
    "start_time": "2022-02-08T16:15:30.110Z"
   },
   {
    "duration": 34,
    "start_time": "2022-02-08T16:15:30.141Z"
   },
   {
    "duration": 34,
    "start_time": "2022-02-08T16:15:30.178Z"
   },
   {
    "duration": 30,
    "start_time": "2022-02-08T16:15:30.215Z"
   },
   {
    "duration": 26,
    "start_time": "2022-02-08T16:15:30.247Z"
   },
   {
    "duration": 26,
    "start_time": "2022-02-08T16:15:30.275Z"
   },
   {
    "duration": 49,
    "start_time": "2022-02-08T16:15:30.303Z"
   },
   {
    "duration": 5,
    "start_time": "2022-02-08T16:15:30.354Z"
   },
   {
    "duration": 51,
    "start_time": "2022-02-08T16:15:30.361Z"
   },
   {
    "duration": 41,
    "start_time": "2022-02-08T16:15:30.414Z"
   },
   {
    "duration": 350,
    "start_time": "2022-02-08T16:15:30.457Z"
   },
   {
    "duration": 309,
    "start_time": "2022-02-08T16:15:30.809Z"
   },
   {
    "duration": 289,
    "start_time": "2022-02-08T16:15:31.120Z"
   },
   {
    "duration": 408,
    "start_time": "2022-02-08T16:15:31.419Z"
   },
   {
    "duration": 291,
    "start_time": "2022-02-08T16:15:31.829Z"
   },
   {
    "duration": 391,
    "start_time": "2022-02-08T16:15:32.122Z"
   },
   {
    "duration": 352,
    "start_time": "2022-02-08T16:15:32.515Z"
   },
   {
    "duration": 4,
    "start_time": "2022-02-08T16:15:32.870Z"
   },
   {
    "duration": 506,
    "start_time": "2022-02-08T16:15:32.876Z"
   },
   {
    "duration": 4,
    "start_time": "2022-02-08T16:15:33.384Z"
   },
   {
    "duration": 13,
    "start_time": "2022-02-08T16:15:33.390Z"
   },
   {
    "duration": 121,
    "start_time": "2022-02-08T16:15:33.405Z"
   },
   {
    "duration": 7,
    "start_time": "2022-02-08T16:15:33.528Z"
   },
   {
    "duration": 15,
    "start_time": "2022-02-08T16:15:33.537Z"
   },
   {
    "duration": 13,
    "start_time": "2022-02-08T16:15:33.554Z"
   },
   {
    "duration": 11,
    "start_time": "2022-02-08T16:15:33.569Z"
   },
   {
    "duration": 42,
    "start_time": "2022-02-08T16:15:33.582Z"
   },
   {
    "duration": 14,
    "start_time": "2022-02-08T16:15:33.626Z"
   },
   {
    "duration": 6,
    "start_time": "2022-02-08T16:21:29.828Z"
   },
   {
    "duration": 13,
    "start_time": "2022-02-08T17:01:11.730Z"
   },
   {
    "duration": 8,
    "start_time": "2022-02-08T17:04:14.124Z"
   },
   {
    "duration": 5,
    "start_time": "2022-02-08T18:45:48.604Z"
   },
   {
    "duration": 8,
    "start_time": "2022-02-08T18:51:37.201Z"
   },
   {
    "duration": 14,
    "start_time": "2022-02-08T18:53:53.208Z"
   },
   {
    "duration": 10,
    "start_time": "2022-02-08T18:56:41.510Z"
   },
   {
    "duration": 3,
    "start_time": "2022-02-08T18:58:09.188Z"
   },
   {
    "duration": 52,
    "start_time": "2022-02-08T18:58:09.193Z"
   },
   {
    "duration": 37,
    "start_time": "2022-02-08T18:58:09.248Z"
   },
   {
    "duration": 18,
    "start_time": "2022-02-08T18:58:09.287Z"
   },
   {
    "duration": 46,
    "start_time": "2022-02-08T18:58:09.307Z"
   },
   {
    "duration": 26,
    "start_time": "2022-02-08T18:58:09.355Z"
   },
   {
    "duration": 6,
    "start_time": "2022-02-08T18:58:09.383Z"
   },
   {
    "duration": 38,
    "start_time": "2022-02-08T18:58:09.391Z"
   },
   {
    "duration": 31,
    "start_time": "2022-02-08T18:58:09.433Z"
   },
   {
    "duration": 29,
    "start_time": "2022-02-08T18:58:09.468Z"
   },
   {
    "duration": 13,
    "start_time": "2022-02-08T18:58:09.499Z"
   },
   {
    "duration": 28,
    "start_time": "2022-02-08T18:58:09.514Z"
   },
   {
    "duration": 47,
    "start_time": "2022-02-08T18:58:09.544Z"
   },
   {
    "duration": 4,
    "start_time": "2022-02-08T18:58:09.594Z"
   },
   {
    "duration": 29,
    "start_time": "2022-02-08T18:58:09.600Z"
   },
   {
    "duration": 35,
    "start_time": "2022-02-08T18:58:09.631Z"
   },
   {
    "duration": 370,
    "start_time": "2022-02-08T18:58:09.668Z"
   },
   {
    "duration": 381,
    "start_time": "2022-02-08T18:58:10.041Z"
   },
   {
    "duration": 301,
    "start_time": "2022-02-08T18:58:10.423Z"
   },
   {
    "duration": 414,
    "start_time": "2022-02-08T18:58:10.726Z"
   },
   {
    "duration": 309,
    "start_time": "2022-02-08T18:58:11.142Z"
   },
   {
    "duration": 358,
    "start_time": "2022-02-08T18:58:11.453Z"
   },
   {
    "duration": 337,
    "start_time": "2022-02-08T18:58:11.812Z"
   },
   {
    "duration": 4,
    "start_time": "2022-02-08T18:58:12.150Z"
   },
   {
    "duration": 524,
    "start_time": "2022-02-08T18:58:12.156Z"
   },
   {
    "duration": 4,
    "start_time": "2022-02-08T18:58:12.682Z"
   },
   {
    "duration": 18,
    "start_time": "2022-02-08T18:58:12.689Z"
   },
   {
    "duration": 135,
    "start_time": "2022-02-08T18:58:12.709Z"
   },
   {
    "duration": 7,
    "start_time": "2022-02-08T18:58:12.846Z"
   },
   {
    "duration": 25,
    "start_time": "2022-02-08T18:58:12.854Z"
   },
   {
    "duration": 20,
    "start_time": "2022-02-08T18:58:12.881Z"
   },
   {
    "duration": 12,
    "start_time": "2022-02-08T18:58:12.903Z"
   },
   {
    "duration": 35,
    "start_time": "2022-02-08T18:58:12.918Z"
   },
   {
    "duration": 30,
    "start_time": "2022-02-08T18:58:12.955Z"
   },
   {
    "duration": 28,
    "start_time": "2022-02-08T18:58:12.986Z"
   },
   {
    "duration": 1052,
    "start_time": "2022-02-09T09:45:00.168Z"
   },
   {
    "duration": 39,
    "start_time": "2022-02-09T09:45:01.222Z"
   },
   {
    "duration": 25,
    "start_time": "2022-02-09T09:45:01.263Z"
   },
   {
    "duration": 55,
    "start_time": "2022-02-09T09:45:01.290Z"
   },
   {
    "duration": 95,
    "start_time": "2022-02-09T09:45:01.347Z"
   },
   {
    "duration": 30,
    "start_time": "2022-02-09T09:45:01.444Z"
   },
   {
    "duration": 24,
    "start_time": "2022-02-09T09:45:01.476Z"
   },
   {
    "duration": 58,
    "start_time": "2022-02-09T09:45:01.503Z"
   },
   {
    "duration": 30,
    "start_time": "2022-02-09T09:45:01.564Z"
   },
   {
    "duration": 21,
    "start_time": "2022-02-09T09:45:01.596Z"
   },
   {
    "duration": 25,
    "start_time": "2022-02-09T09:45:01.619Z"
   },
   {
    "duration": 31,
    "start_time": "2022-02-09T09:45:01.646Z"
   },
   {
    "duration": 63,
    "start_time": "2022-02-09T09:45:01.679Z"
   },
   {
    "duration": 4,
    "start_time": "2022-02-09T09:45:01.744Z"
   },
   {
    "duration": 46,
    "start_time": "2022-02-09T09:45:01.750Z"
   },
   {
    "duration": 34,
    "start_time": "2022-02-09T09:45:01.798Z"
   },
   {
    "duration": 354,
    "start_time": "2022-02-09T09:45:01.833Z"
   },
   {
    "duration": 298,
    "start_time": "2022-02-09T09:45:02.188Z"
   },
   {
    "duration": 285,
    "start_time": "2022-02-09T09:45:02.488Z"
   },
   {
    "duration": 371,
    "start_time": "2022-02-09T09:45:02.775Z"
   },
   {
    "duration": 294,
    "start_time": "2022-02-09T09:45:03.148Z"
   },
   {
    "duration": 379,
    "start_time": "2022-02-09T09:45:03.444Z"
   },
   {
    "duration": 313,
    "start_time": "2022-02-09T09:45:03.826Z"
   },
   {
    "duration": 5,
    "start_time": "2022-02-09T09:45:04.141Z"
   },
   {
    "duration": 512,
    "start_time": "2022-02-09T09:45:04.147Z"
   },
   {
    "duration": 4,
    "start_time": "2022-02-09T09:45:04.661Z"
   },
   {
    "duration": 9,
    "start_time": "2022-02-09T09:45:04.666Z"
   },
   {
    "duration": 122,
    "start_time": "2022-02-09T09:45:04.677Z"
   },
   {
    "duration": 7,
    "start_time": "2022-02-09T09:45:04.801Z"
   },
   {
    "duration": 14,
    "start_time": "2022-02-09T09:45:04.809Z"
   },
   {
    "duration": 12,
    "start_time": "2022-02-09T09:45:04.825Z"
   },
   {
    "duration": 26,
    "start_time": "2022-02-09T09:45:04.839Z"
   },
   {
    "duration": 14,
    "start_time": "2022-02-09T09:45:04.867Z"
   },
   {
    "duration": 25,
    "start_time": "2022-02-09T09:45:04.882Z"
   },
   {
    "duration": 9,
    "start_time": "2022-02-09T09:45:04.908Z"
   },
   {
    "duration": 1506,
    "start_time": "2022-02-09T12:25:59.062Z"
   },
   {
    "duration": 46,
    "start_time": "2022-02-09T12:26:00.571Z"
   },
   {
    "duration": 19,
    "start_time": "2022-02-09T12:26:00.621Z"
   },
   {
    "duration": 17,
    "start_time": "2022-02-09T12:26:00.643Z"
   },
   {
    "duration": 52,
    "start_time": "2022-02-09T12:26:00.662Z"
   },
   {
    "duration": 65,
    "start_time": "2022-02-09T12:26:00.716Z"
   },
   {
    "duration": 7,
    "start_time": "2022-02-09T12:26:00.784Z"
   },
   {
    "duration": 26,
    "start_time": "2022-02-09T12:26:00.793Z"
   },
   {
    "duration": 22,
    "start_time": "2022-02-09T12:26:00.825Z"
   },
   {
    "duration": 28,
    "start_time": "2022-02-09T12:26:00.850Z"
   },
   {
    "duration": 9,
    "start_time": "2022-02-09T12:26:00.882Z"
   },
   {
    "duration": 15,
    "start_time": "2022-02-09T12:26:00.894Z"
   },
   {
    "duration": 100,
    "start_time": "2022-02-09T12:26:00.911Z"
   },
   {
    "duration": 5,
    "start_time": "2022-02-09T12:26:01.014Z"
   },
   {
    "duration": 51,
    "start_time": "2022-02-09T12:26:01.021Z"
   },
   {
    "duration": 19,
    "start_time": "2022-02-09T12:26:01.075Z"
   },
   {
    "duration": 639,
    "start_time": "2022-02-09T12:26:01.097Z"
   },
   {
    "duration": 506,
    "start_time": "2022-02-09T12:26:01.739Z"
   },
   {
    "duration": 480,
    "start_time": "2022-02-09T12:26:02.248Z"
   },
   {
    "duration": 708,
    "start_time": "2022-02-09T12:26:02.731Z"
   },
   {
    "duration": 482,
    "start_time": "2022-02-09T12:26:03.441Z"
   },
   {
    "duration": 569,
    "start_time": "2022-02-09T12:26:03.926Z"
   },
   {
    "duration": 439,
    "start_time": "2022-02-09T12:26:04.498Z"
   },
   {
    "duration": 7,
    "start_time": "2022-02-09T12:26:04.940Z"
   },
   {
    "duration": 783,
    "start_time": "2022-02-09T12:26:04.949Z"
   },
   {
    "duration": 17,
    "start_time": "2022-02-09T12:26:05.742Z"
   },
   {
    "duration": 117,
    "start_time": "2022-02-09T12:26:05.768Z"
   },
   {
    "duration": 287,
    "start_time": "2022-02-09T12:26:05.889Z"
   },
   {
    "duration": 9,
    "start_time": "2022-02-09T12:26:06.179Z"
   },
   {
    "duration": 19,
    "start_time": "2022-02-09T12:26:06.190Z"
   },
   {
    "duration": 17,
    "start_time": "2022-02-09T12:26:06.211Z"
   },
   {
    "duration": 43,
    "start_time": "2022-02-09T12:26:06.230Z"
   },
   {
    "duration": 25,
    "start_time": "2022-02-09T12:26:06.276Z"
   },
   {
    "duration": 23,
    "start_time": "2022-02-09T12:26:06.304Z"
   },
   {
    "duration": 48,
    "start_time": "2022-02-09T12:26:06.329Z"
   },
   {
    "duration": 5,
    "start_time": "2022-02-09T12:33:31.590Z"
   },
   {
    "duration": 63,
    "start_time": "2022-02-09T12:33:31.598Z"
   },
   {
    "duration": 21,
    "start_time": "2022-02-09T12:33:31.665Z"
   },
   {
    "duration": 29,
    "start_time": "2022-02-09T12:33:31.689Z"
   },
   {
    "duration": 65,
    "start_time": "2022-02-09T12:33:31.721Z"
   },
   {
    "duration": 38,
    "start_time": "2022-02-09T12:33:31.789Z"
   },
   {
    "duration": 7,
    "start_time": "2022-02-09T12:33:31.830Z"
   },
   {
    "duration": 43,
    "start_time": "2022-02-09T12:33:31.839Z"
   },
   {
    "duration": 23,
    "start_time": "2022-02-09T12:33:31.886Z"
   },
   {
    "duration": 27,
    "start_time": "2022-02-09T12:33:31.912Z"
   },
   {
    "duration": 27,
    "start_time": "2022-02-09T12:33:31.942Z"
   },
   {
    "duration": 26,
    "start_time": "2022-02-09T12:33:31.971Z"
   },
   {
    "duration": 73,
    "start_time": "2022-02-09T12:33:31.999Z"
   },
   {
    "duration": 5,
    "start_time": "2022-02-09T12:33:32.074Z"
   },
   {
    "duration": 35,
    "start_time": "2022-02-09T12:33:32.082Z"
   },
   {
    "duration": 33,
    "start_time": "2022-02-09T12:33:32.120Z"
   },
   {
    "duration": 587,
    "start_time": "2022-02-09T12:33:32.156Z"
   },
   {
    "duration": 565,
    "start_time": "2022-02-09T12:33:32.745Z"
   },
   {
    "duration": 468,
    "start_time": "2022-02-09T12:33:33.313Z"
   },
   {
    "duration": 547,
    "start_time": "2022-02-09T12:33:33.784Z"
   },
   {
    "duration": 475,
    "start_time": "2022-02-09T12:33:34.333Z"
   },
   {
    "duration": 571,
    "start_time": "2022-02-09T12:33:34.810Z"
   },
   {
    "duration": 438,
    "start_time": "2022-02-09T12:33:35.384Z"
   },
   {
    "duration": 6,
    "start_time": "2022-02-09T12:33:35.824Z"
   },
   {
    "duration": 762,
    "start_time": "2022-02-09T12:33:35.833Z"
   },
   {
    "duration": 6,
    "start_time": "2022-02-09T12:33:36.598Z"
   },
   {
    "duration": 11,
    "start_time": "2022-02-09T12:33:36.609Z"
   },
   {
    "duration": 246,
    "start_time": "2022-02-09T12:33:36.623Z"
   },
   {
    "duration": 9,
    "start_time": "2022-02-09T12:33:36.871Z"
   },
   {
    "duration": 12,
    "start_time": "2022-02-09T12:33:36.882Z"
   },
   {
    "duration": 17,
    "start_time": "2022-02-09T12:33:36.897Z"
   },
   {
    "duration": 17,
    "start_time": "2022-02-09T12:33:36.916Z"
   },
   {
    "duration": 56,
    "start_time": "2022-02-09T12:33:36.935Z"
   },
   {
    "duration": 26,
    "start_time": "2022-02-09T12:33:36.994Z"
   },
   {
    "duration": 51,
    "start_time": "2022-02-09T12:33:37.023Z"
   },
   {
    "duration": 171,
    "start_time": "2022-02-09T13:06:57.527Z"
   },
   {
    "duration": 860,
    "start_time": "2022-02-09T13:09:05.727Z"
   },
   {
    "duration": 29,
    "start_time": "2022-02-09T13:10:07.591Z"
   },
   {
    "duration": 454,
    "start_time": "2022-02-09T13:10:36.027Z"
   },
   {
    "duration": 321,
    "start_time": "2022-02-09T13:10:50.563Z"
   },
   {
    "duration": 2305,
    "start_time": "2022-02-09T13:11:05.382Z"
   },
   {
    "duration": 54,
    "start_time": "2022-02-09T13:11:33.031Z"
   },
   {
    "duration": 40,
    "start_time": "2022-02-09T13:14:03.092Z"
   },
   {
    "duration": 40,
    "start_time": "2022-02-09T13:15:09.108Z"
   },
   {
    "duration": 46,
    "start_time": "2022-02-09T13:16:04.187Z"
   },
   {
    "duration": 18,
    "start_time": "2022-02-09T13:17:28.775Z"
   },
   {
    "duration": 5,
    "start_time": "2022-02-09T13:20:43.180Z"
   },
   {
    "duration": 45,
    "start_time": "2022-02-09T13:20:43.187Z"
   },
   {
    "duration": 19,
    "start_time": "2022-02-09T13:20:43.236Z"
   },
   {
    "duration": 13,
    "start_time": "2022-02-09T13:20:43.270Z"
   },
   {
    "duration": 47,
    "start_time": "2022-02-09T13:20:43.286Z"
   },
   {
    "duration": 66,
    "start_time": "2022-02-09T13:20:43.336Z"
   },
   {
    "duration": 7,
    "start_time": "2022-02-09T13:20:43.404Z"
   },
   {
    "duration": 34,
    "start_time": "2022-02-09T13:20:43.414Z"
   },
   {
    "duration": 25,
    "start_time": "2022-02-09T13:20:43.452Z"
   },
   {
    "duration": 10,
    "start_time": "2022-02-09T13:20:43.480Z"
   },
   {
    "duration": 7,
    "start_time": "2022-02-09T13:20:43.493Z"
   },
   {
    "duration": 14,
    "start_time": "2022-02-09T13:20:43.503Z"
   },
   {
    "duration": 104,
    "start_time": "2022-02-09T13:20:43.520Z"
   },
   {
    "duration": 5,
    "start_time": "2022-02-09T13:20:43.626Z"
   },
   {
    "duration": 38,
    "start_time": "2022-02-09T13:20:43.633Z"
   },
   {
    "duration": 32,
    "start_time": "2022-02-09T13:20:43.674Z"
   },
   {
    "duration": 609,
    "start_time": "2022-02-09T13:20:43.708Z"
   },
   {
    "duration": 531,
    "start_time": "2022-02-09T13:20:44.320Z"
   },
   {
    "duration": 472,
    "start_time": "2022-02-09T13:20:44.854Z"
   },
   {
    "duration": 633,
    "start_time": "2022-02-09T13:20:45.329Z"
   },
   {
    "duration": 479,
    "start_time": "2022-02-09T13:20:45.964Z"
   },
   {
    "duration": 566,
    "start_time": "2022-02-09T13:20:46.446Z"
   },
   {
    "duration": 458,
    "start_time": "2022-02-09T13:20:47.015Z"
   },
   {
    "duration": 5,
    "start_time": "2022-02-09T13:20:47.475Z"
   },
   {
    "duration": 730,
    "start_time": "2022-02-09T13:20:47.483Z"
   },
   {
    "duration": 8,
    "start_time": "2022-02-09T13:20:48.216Z"
   },
   {
    "duration": 11,
    "start_time": "2022-02-09T13:20:48.231Z"
   },
   {
    "duration": 251,
    "start_time": "2022-02-09T13:20:48.271Z"
   },
   {
    "duration": 9,
    "start_time": "2022-02-09T13:20:48.524Z"
   },
   {
    "duration": 34,
    "start_time": "2022-02-09T13:20:48.536Z"
   },
   {
    "duration": 17,
    "start_time": "2022-02-09T13:20:48.573Z"
   },
   {
    "duration": 18,
    "start_time": "2022-02-09T13:20:48.593Z"
   },
   {
    "duration": 59,
    "start_time": "2022-02-09T13:20:48.614Z"
   },
   {
    "duration": 24,
    "start_time": "2022-02-09T13:20:48.676Z"
   },
   {
    "duration": 14,
    "start_time": "2022-02-09T13:20:48.703Z"
   },
   {
    "duration": 1466,
    "start_time": "2022-02-09T16:59:46.764Z"
   },
   {
    "duration": 45,
    "start_time": "2022-02-09T16:59:48.233Z"
   },
   {
    "duration": 19,
    "start_time": "2022-02-09T16:59:48.281Z"
   },
   {
    "duration": 20,
    "start_time": "2022-02-09T16:59:48.303Z"
   },
   {
    "duration": 55,
    "start_time": "2022-02-09T16:59:48.326Z"
   },
   {
    "duration": 36,
    "start_time": "2022-02-09T16:59:48.384Z"
   },
   {
    "duration": 32,
    "start_time": "2022-02-09T16:59:48.422Z"
   },
   {
    "duration": 23,
    "start_time": "2022-02-09T16:59:48.458Z"
   },
   {
    "duration": 17,
    "start_time": "2022-02-09T16:59:48.484Z"
   },
   {
    "duration": 11,
    "start_time": "2022-02-09T16:59:48.504Z"
   },
   {
    "duration": 8,
    "start_time": "2022-02-09T16:59:48.550Z"
   },
   {
    "duration": 14,
    "start_time": "2022-02-09T16:59:48.560Z"
   },
   {
    "duration": 92,
    "start_time": "2022-02-09T16:59:48.577Z"
   },
   {
    "duration": 4,
    "start_time": "2022-02-09T16:59:48.672Z"
   },
   {
    "duration": 19,
    "start_time": "2022-02-09T16:59:48.679Z"
   },
   {
    "duration": 794,
    "start_time": "2022-02-09T16:59:48.700Z"
   },
   {
    "duration": 562,
    "start_time": "2022-02-09T16:59:49.497Z"
   },
   {
    "duration": 463,
    "start_time": "2022-02-09T16:59:50.062Z"
   },
   {
    "duration": 445,
    "start_time": "2022-02-09T16:59:50.528Z"
   },
   {
    "duration": 556,
    "start_time": "2022-02-09T16:59:50.976Z"
   },
   {
    "duration": 543,
    "start_time": "2022-02-09T16:59:51.535Z"
   },
   {
    "duration": 540,
    "start_time": "2022-02-09T16:59:52.081Z"
   },
   {
    "duration": 473,
    "start_time": "2022-02-09T16:59:52.626Z"
   },
   {
    "duration": 6,
    "start_time": "2022-02-09T16:59:53.101Z"
   },
   {
    "duration": 716,
    "start_time": "2022-02-09T16:59:53.111Z"
   },
   {
    "duration": 6,
    "start_time": "2022-02-09T16:59:53.829Z"
   },
   {
    "duration": 10,
    "start_time": "2022-02-09T16:59:53.849Z"
   },
   {
    "duration": 227,
    "start_time": "2022-02-09T16:59:53.861Z"
   },
   {
    "duration": 8,
    "start_time": "2022-02-09T16:59:54.091Z"
   },
   {
    "duration": 17,
    "start_time": "2022-02-09T16:59:54.102Z"
   },
   {
    "duration": 38,
    "start_time": "2022-02-09T16:59:54.121Z"
   },
   {
    "duration": 16,
    "start_time": "2022-02-09T16:59:54.162Z"
   },
   {
    "duration": 27,
    "start_time": "2022-02-09T16:59:54.181Z"
   },
   {
    "duration": 50,
    "start_time": "2022-02-09T16:59:54.212Z"
   },
   {
    "duration": 12,
    "start_time": "2022-02-09T16:59:54.265Z"
   },
   {
    "duration": 20,
    "start_time": "2022-02-09T17:06:15.491Z"
   },
   {
    "duration": 10,
    "start_time": "2022-02-09T17:16:52.738Z"
   },
   {
    "duration": 5,
    "start_time": "2022-02-09T17:17:48.425Z"
   },
   {
    "duration": 43,
    "start_time": "2022-02-09T17:17:48.432Z"
   },
   {
    "duration": 18,
    "start_time": "2022-02-09T17:17:48.478Z"
   },
   {
    "duration": 14,
    "start_time": "2022-02-09T17:17:48.499Z"
   },
   {
    "duration": 46,
    "start_time": "2022-02-09T17:17:48.574Z"
   },
   {
    "duration": 48,
    "start_time": "2022-02-09T17:17:48.624Z"
   },
   {
    "duration": 8,
    "start_time": "2022-02-09T17:17:48.675Z"
   },
   {
    "duration": 23,
    "start_time": "2022-02-09T17:17:48.686Z"
   },
   {
    "duration": 37,
    "start_time": "2022-02-09T17:17:48.712Z"
   },
   {
    "duration": 10,
    "start_time": "2022-02-09T17:17:48.752Z"
   },
   {
    "duration": 8,
    "start_time": "2022-02-09T17:17:48.765Z"
   },
   {
    "duration": 15,
    "start_time": "2022-02-09T17:17:48.775Z"
   },
   {
    "duration": 112,
    "start_time": "2022-02-09T17:17:48.793Z"
   },
   {
    "duration": 6,
    "start_time": "2022-02-09T17:17:48.909Z"
   },
   {
    "duration": 51,
    "start_time": "2022-02-09T17:17:48.919Z"
   },
   {
    "duration": 49,
    "start_time": "2022-02-09T17:17:48.972Z"
   },
   {
    "duration": 572,
    "start_time": "2022-02-09T17:17:49.024Z"
   },
   {
    "duration": 454,
    "start_time": "2022-02-09T17:17:49.599Z"
   },
   {
    "duration": 442,
    "start_time": "2022-02-09T17:17:50.057Z"
   },
   {
    "duration": 560,
    "start_time": "2022-02-09T17:17:50.502Z"
   },
   {
    "duration": 454,
    "start_time": "2022-02-09T17:17:51.065Z"
   },
   {
    "duration": 539,
    "start_time": "2022-02-09T17:17:51.523Z"
   },
   {
    "duration": 431,
    "start_time": "2022-02-09T17:17:52.065Z"
   },
   {
    "duration": 7,
    "start_time": "2022-02-09T17:17:52.499Z"
   },
   {
    "duration": 813,
    "start_time": "2022-02-09T17:17:52.509Z"
   },
   {
    "duration": 7,
    "start_time": "2022-02-09T17:17:53.326Z"
   },
   {
    "duration": 12,
    "start_time": "2022-02-09T17:17:53.349Z"
   },
   {
    "duration": 13,
    "start_time": "2022-02-09T17:17:53.364Z"
   },
   {
    "duration": 241,
    "start_time": "2022-02-09T17:17:53.379Z"
   },
   {
    "duration": 10,
    "start_time": "2022-02-09T17:17:53.622Z"
   },
   {
    "duration": 11,
    "start_time": "2022-02-09T17:17:53.652Z"
   },
   {
    "duration": 15,
    "start_time": "2022-02-09T17:17:53.666Z"
   },
   {
    "duration": 17,
    "start_time": "2022-02-09T17:17:53.683Z"
   },
   {
    "duration": 59,
    "start_time": "2022-02-09T17:17:53.703Z"
   },
   {
    "duration": 22,
    "start_time": "2022-02-09T17:17:53.765Z"
   },
   {
    "duration": 13,
    "start_time": "2022-02-09T17:17:53.789Z"
   },
   {
    "duration": 770,
    "start_time": "2022-02-09T17:19:13.973Z"
   },
   {
    "duration": 10,
    "start_time": "2022-02-09T17:23:37.419Z"
   },
   {
    "duration": 7,
    "start_time": "2022-02-09T17:26:47.070Z"
   },
   {
    "duration": 10,
    "start_time": "2022-02-09T17:27:55.390Z"
   },
   {
    "duration": 13,
    "start_time": "2022-02-09T17:28:44.873Z"
   },
   {
    "duration": 464,
    "start_time": "2022-02-09T17:29:18.226Z"
   },
   {
    "duration": 235,
    "start_time": "2022-02-09T17:29:32.032Z"
   },
   {
    "duration": 139,
    "start_time": "2022-02-09T17:32:18.320Z"
   },
   {
    "duration": 14,
    "start_time": "2022-02-09T17:32:26.590Z"
   },
   {
    "duration": 12,
    "start_time": "2022-02-09T17:32:51.570Z"
   },
   {
    "duration": 5,
    "start_time": "2022-02-09T17:47:47.858Z"
   },
   {
    "duration": 44,
    "start_time": "2022-02-09T17:47:47.866Z"
   },
   {
    "duration": 19,
    "start_time": "2022-02-09T17:47:47.913Z"
   },
   {
    "duration": 20,
    "start_time": "2022-02-09T17:47:47.935Z"
   },
   {
    "duration": 49,
    "start_time": "2022-02-09T17:47:47.957Z"
   },
   {
    "duration": 78,
    "start_time": "2022-02-09T17:47:48.008Z"
   },
   {
    "duration": 7,
    "start_time": "2022-02-09T17:47:48.089Z"
   },
   {
    "duration": 68,
    "start_time": "2022-02-09T17:47:48.102Z"
   },
   {
    "duration": 13,
    "start_time": "2022-02-09T17:47:48.178Z"
   },
   {
    "duration": 14,
    "start_time": "2022-02-09T17:47:48.194Z"
   },
   {
    "duration": 42,
    "start_time": "2022-02-09T17:47:48.212Z"
   },
   {
    "duration": 15,
    "start_time": "2022-02-09T17:47:48.257Z"
   },
   {
    "duration": 101,
    "start_time": "2022-02-09T17:47:48.274Z"
   },
   {
    "duration": 5,
    "start_time": "2022-02-09T17:47:48.378Z"
   },
   {
    "duration": 33,
    "start_time": "2022-02-09T17:47:48.386Z"
   },
   {
    "duration": 50,
    "start_time": "2022-02-09T17:47:48.421Z"
   },
   {
    "duration": 619,
    "start_time": "2022-02-09T17:47:48.474Z"
   },
   {
    "duration": 470,
    "start_time": "2022-02-09T17:47:49.096Z"
   },
   {
    "duration": 460,
    "start_time": "2022-02-09T17:47:49.569Z"
   },
   {
    "duration": 608,
    "start_time": "2022-02-09T17:47:50.032Z"
   },
   {
    "duration": 526,
    "start_time": "2022-02-09T17:47:50.642Z"
   },
   {
    "duration": 617,
    "start_time": "2022-02-09T17:47:51.172Z"
   },
   {
    "duration": 612,
    "start_time": "2022-02-09T17:47:51.794Z"
   },
   {
    "duration": 7,
    "start_time": "2022-02-09T17:47:52.410Z"
   },
   {
    "duration": 854,
    "start_time": "2022-02-09T17:47:52.419Z"
   },
   {
    "duration": 7,
    "start_time": "2022-02-09T17:47:53.275Z"
   },
   {
    "duration": 13,
    "start_time": "2022-02-09T17:47:53.284Z"
   },
   {
    "duration": 11,
    "start_time": "2022-02-09T17:47:53.300Z"
   },
   {
    "duration": 265,
    "start_time": "2022-02-09T17:47:53.313Z"
   },
   {
    "duration": 9,
    "start_time": "2022-02-09T17:47:53.580Z"
   },
   {
    "duration": 23,
    "start_time": "2022-02-09T17:47:53.592Z"
   },
   {
    "duration": 34,
    "start_time": "2022-02-09T17:47:53.617Z"
   },
   {
    "duration": 15,
    "start_time": "2022-02-09T17:47:53.654Z"
   },
   {
    "duration": 27,
    "start_time": "2022-02-09T17:47:53.672Z"
   },
   {
    "duration": 57,
    "start_time": "2022-02-09T17:47:53.702Z"
   },
   {
    "duration": 13,
    "start_time": "2022-02-09T17:47:53.762Z"
   },
   {
    "duration": 6,
    "start_time": "2022-02-09T18:10:46.534Z"
   },
   {
    "duration": 47,
    "start_time": "2022-02-09T18:10:46.544Z"
   },
   {
    "duration": 22,
    "start_time": "2022-02-09T18:10:46.594Z"
   },
   {
    "duration": 29,
    "start_time": "2022-02-09T18:10:46.619Z"
   },
   {
    "duration": 47,
    "start_time": "2022-02-09T18:10:46.651Z"
   },
   {
    "duration": 87,
    "start_time": "2022-02-09T18:10:46.701Z"
   },
   {
    "duration": 10,
    "start_time": "2022-02-09T18:10:46.792Z"
   },
   {
    "duration": 57,
    "start_time": "2022-02-09T18:10:46.808Z"
   },
   {
    "duration": 15,
    "start_time": "2022-02-09T18:10:46.868Z"
   },
   {
    "duration": 12,
    "start_time": "2022-02-09T18:10:46.885Z"
   },
   {
    "duration": 9,
    "start_time": "2022-02-09T18:10:46.900Z"
   },
   {
    "duration": 47,
    "start_time": "2022-02-09T18:10:46.911Z"
   },
   {
    "duration": 114,
    "start_time": "2022-02-09T18:10:46.961Z"
   },
   {
    "duration": 9,
    "start_time": "2022-02-09T18:10:47.077Z"
   },
   {
    "duration": 18,
    "start_time": "2022-02-09T18:10:47.089Z"
   },
   {
    "duration": 64,
    "start_time": "2022-02-09T18:10:47.110Z"
   },
   {
    "duration": 623,
    "start_time": "2022-02-09T18:10:47.176Z"
   },
   {
    "duration": 474,
    "start_time": "2022-02-09T18:10:47.802Z"
   },
   {
    "duration": 536,
    "start_time": "2022-02-09T18:10:48.279Z"
   },
   {
    "duration": 747,
    "start_time": "2022-02-09T18:10:48.818Z"
   },
   {
    "duration": 464,
    "start_time": "2022-02-09T18:10:49.568Z"
   },
   {
    "duration": 531,
    "start_time": "2022-02-09T18:10:50.035Z"
   },
   {
    "duration": 424,
    "start_time": "2022-02-09T18:10:50.571Z"
   },
   {
    "duration": 6,
    "start_time": "2022-02-09T18:10:50.998Z"
   },
   {
    "duration": 745,
    "start_time": "2022-02-09T18:10:51.006Z"
   },
   {
    "duration": 6,
    "start_time": "2022-02-09T18:10:51.754Z"
   },
   {
    "duration": 14,
    "start_time": "2022-02-09T18:10:51.762Z"
   },
   {
    "duration": 15,
    "start_time": "2022-02-09T18:10:51.779Z"
   },
   {
    "duration": 344,
    "start_time": "2022-02-09T18:10:51.797Z"
   },
   {
    "duration": 11,
    "start_time": "2022-02-09T18:10:52.144Z"
   },
   {
    "duration": 17,
    "start_time": "2022-02-09T18:10:52.159Z"
   },
   {
    "duration": 17,
    "start_time": "2022-02-09T18:10:52.178Z"
   },
   {
    "duration": 59,
    "start_time": "2022-02-09T18:10:52.198Z"
   },
   {
    "duration": 30,
    "start_time": "2022-02-09T18:10:52.260Z"
   },
   {
    "duration": 64,
    "start_time": "2022-02-09T18:10:52.294Z"
   },
   {
    "duration": 18,
    "start_time": "2022-02-09T18:10:52.362Z"
   },
   {
    "duration": 10,
    "start_time": "2022-02-09T18:11:58.671Z"
   },
   {
    "duration": 6637,
    "start_time": "2022-02-09T18:19:10.237Z"
   },
   {
    "duration": 9,
    "start_time": "2022-02-09T18:19:58.609Z"
   },
   {
    "duration": 11,
    "start_time": "2022-02-09T18:20:50.584Z"
   },
   {
    "duration": 16,
    "start_time": "2022-02-09T18:22:57.066Z"
   },
   {
    "duration": 15,
    "start_time": "2022-02-09T18:23:52.061Z"
   },
   {
    "duration": 14,
    "start_time": "2022-02-09T18:24:13.674Z"
   },
   {
    "duration": 9,
    "start_time": "2022-02-09T18:24:28.937Z"
   },
   {
    "duration": 14,
    "start_time": "2022-02-09T18:25:05.878Z"
   },
   {
    "duration": 8,
    "start_time": "2022-02-09T18:25:18.999Z"
   },
   {
    "duration": 6,
    "start_time": "2022-02-09T18:26:01.554Z"
   },
   {
    "duration": 10,
    "start_time": "2022-02-09T18:27:30.529Z"
   },
   {
    "duration": 12,
    "start_time": "2022-02-09T18:39:59.971Z"
   },
   {
    "duration": 18,
    "start_time": "2022-02-09T18:41:31.373Z"
   },
   {
    "duration": 24,
    "start_time": "2022-02-09T18:42:52.180Z"
   },
   {
    "duration": 23,
    "start_time": "2022-02-09T18:44:35.578Z"
   },
   {
    "duration": 90,
    "start_time": "2022-02-09T18:47:11.785Z"
   },
   {
    "duration": 1455,
    "start_time": "2022-02-09T18:56:07.749Z"
   },
   {
    "duration": 43,
    "start_time": "2022-02-09T18:56:09.207Z"
   },
   {
    "duration": 20,
    "start_time": "2022-02-09T18:56:09.254Z"
   },
   {
    "duration": 16,
    "start_time": "2022-02-09T18:56:09.277Z"
   },
   {
    "duration": 74,
    "start_time": "2022-02-09T18:56:09.296Z"
   },
   {
    "duration": 37,
    "start_time": "2022-02-09T18:56:09.373Z"
   },
   {
    "duration": 6,
    "start_time": "2022-02-09T18:56:09.413Z"
   },
   {
    "duration": 43,
    "start_time": "2022-02-09T18:56:09.423Z"
   },
   {
    "duration": 11,
    "start_time": "2022-02-09T18:56:09.469Z"
   },
   {
    "duration": 15,
    "start_time": "2022-02-09T18:56:09.482Z"
   },
   {
    "duration": 11,
    "start_time": "2022-02-09T18:56:09.500Z"
   },
   {
    "duration": 14,
    "start_time": "2022-02-09T18:56:09.548Z"
   },
   {
    "duration": 85,
    "start_time": "2022-02-09T18:56:09.565Z"
   },
   {
    "duration": 5,
    "start_time": "2022-02-09T18:56:09.653Z"
   },
   {
    "duration": 22,
    "start_time": "2022-02-09T18:56:09.660Z"
   },
   {
    "duration": 643,
    "start_time": "2022-02-09T18:56:09.684Z"
   },
   {
    "duration": 586,
    "start_time": "2022-02-09T18:56:10.331Z"
   },
   {
    "duration": 448,
    "start_time": "2022-02-09T18:56:10.919Z"
   },
   {
    "duration": 467,
    "start_time": "2022-02-09T18:56:11.369Z"
   },
   {
    "duration": 713,
    "start_time": "2022-02-09T18:56:11.838Z"
   },
   {
    "duration": 522,
    "start_time": "2022-02-09T18:56:12.554Z"
   },
   {
    "duration": 516,
    "start_time": "2022-02-09T18:56:13.079Z"
   },
   {
    "duration": 494,
    "start_time": "2022-02-09T18:56:13.600Z"
   },
   {
    "duration": 6,
    "start_time": "2022-02-09T18:56:14.097Z"
   },
   {
    "duration": 14,
    "start_time": "2022-02-09T18:56:14.105Z"
   },
   {
    "duration": 840,
    "start_time": "2022-02-09T18:56:14.122Z"
   },
   {
    "duration": 7,
    "start_time": "2022-02-09T18:56:14.965Z"
   },
   {
    "duration": 11,
    "start_time": "2022-02-09T18:56:14.974Z"
   },
   {
    "duration": 11,
    "start_time": "2022-02-09T18:56:14.987Z"
   },
   {
    "duration": 234,
    "start_time": "2022-02-09T18:56:15.000Z"
   },
   {
    "duration": 14,
    "start_time": "2022-02-09T18:56:15.237Z"
   },
   {
    "duration": 13,
    "start_time": "2022-02-09T18:56:15.253Z"
   },
   {
    "duration": 20,
    "start_time": "2022-02-09T18:56:15.269Z"
   },
   {
    "duration": 17,
    "start_time": "2022-02-09T18:56:15.292Z"
   },
   {
    "duration": 23,
    "start_time": "2022-02-09T18:56:15.349Z"
   },
   {
    "duration": 21,
    "start_time": "2022-02-09T18:56:15.374Z"
   },
   {
    "duration": 15,
    "start_time": "2022-02-09T18:56:15.397Z"
   },
   {
    "duration": 1576,
    "start_time": "2022-02-10T07:36:57.076Z"
   },
   {
    "duration": 41,
    "start_time": "2022-02-10T07:36:58.654Z"
   },
   {
    "duration": 19,
    "start_time": "2022-02-10T07:36:58.698Z"
   },
   {
    "duration": 21,
    "start_time": "2022-02-10T07:36:58.720Z"
   },
   {
    "duration": 42,
    "start_time": "2022-02-10T07:36:58.744Z"
   },
   {
    "duration": 60,
    "start_time": "2022-02-10T07:36:58.788Z"
   },
   {
    "duration": 7,
    "start_time": "2022-02-10T07:36:58.851Z"
   },
   {
    "duration": 23,
    "start_time": "2022-02-10T07:36:58.860Z"
   },
   {
    "duration": 9,
    "start_time": "2022-02-10T07:36:58.888Z"
   },
   {
    "duration": 10,
    "start_time": "2022-02-10T07:36:58.934Z"
   },
   {
    "duration": 8,
    "start_time": "2022-02-10T07:36:58.946Z"
   },
   {
    "duration": 19,
    "start_time": "2022-02-10T07:36:58.957Z"
   },
   {
    "duration": 91,
    "start_time": "2022-02-10T07:36:58.978Z"
   },
   {
    "duration": 5,
    "start_time": "2022-02-10T07:36:59.072Z"
   },
   {
    "duration": 18,
    "start_time": "2022-02-10T07:36:59.079Z"
   },
   {
    "duration": 83073,
    "start_time": "2022-02-10T07:36:59.099Z"
   },
   {
    "duration": 640,
    "start_time": "2022-02-10T07:38:22.174Z"
   },
   {
    "duration": 547,
    "start_time": "2022-02-10T07:38:22.816Z"
   },
   {
    "duration": 539,
    "start_time": "2022-02-10T07:38:23.366Z"
   },
   {
    "duration": 708,
    "start_time": "2022-02-10T07:38:23.908Z"
   },
   {
    "duration": 560,
    "start_time": "2022-02-10T07:38:24.618Z"
   },
   {
    "duration": 590,
    "start_time": "2022-02-10T07:38:25.181Z"
   },
   {
    "duration": 441,
    "start_time": "2022-02-10T07:38:25.774Z"
   },
   {
    "duration": 6,
    "start_time": "2022-02-10T07:38:26.218Z"
   },
   {
    "duration": 7,
    "start_time": "2022-02-10T07:38:26.233Z"
   },
   {
    "duration": 761,
    "start_time": "2022-02-10T07:38:26.243Z"
   },
   {
    "duration": 7,
    "start_time": "2022-02-10T07:38:27.009Z"
   },
   {
    "duration": 9,
    "start_time": "2022-02-10T07:38:27.034Z"
   },
   {
    "duration": 19,
    "start_time": "2022-02-10T07:38:27.046Z"
   },
   {
    "duration": 236,
    "start_time": "2022-02-10T07:38:27.068Z"
   },
   {
    "duration": 10,
    "start_time": "2022-02-10T07:38:27.306Z"
   },
   {
    "duration": 16,
    "start_time": "2022-02-10T07:38:27.333Z"
   },
   {
    "duration": 18,
    "start_time": "2022-02-10T07:38:27.352Z"
   },
   {
    "duration": 59,
    "start_time": "2022-02-10T07:38:27.373Z"
   },
   {
    "duration": 21,
    "start_time": "2022-02-10T07:38:27.434Z"
   },
   {
    "duration": 20,
    "start_time": "2022-02-10T07:38:27.458Z"
   },
   {
    "duration": 12,
    "start_time": "2022-02-10T07:38:27.480Z"
   }
  ],
  "kernelspec": {
   "display_name": "Python 3 (ipykernel)",
   "language": "python",
   "name": "python3"
  },
  "language_info": {
   "codemirror_mode": {
    "name": "ipython",
    "version": 3
   },
   "file_extension": ".py",
   "mimetype": "text/x-python",
   "name": "python",
   "nbconvert_exporter": "python",
   "pygments_lexer": "ipython3",
   "version": "3.7.8"
  },
  "toc": {
   "base_numbering": 1,
   "nav_menu": {},
   "number_sections": true,
   "sideBar": true,
   "skip_h1_title": true,
   "title_cell": "Table of Contents",
   "title_sidebar": "Contents",
   "toc_cell": false,
   "toc_position": {},
   "toc_section_display": true,
   "toc_window_display": false
  }
 },
 "nbformat": 4,
 "nbformat_minor": 2
}
