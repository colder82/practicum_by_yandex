{
 "cells": [
  {
   "cell_type": "markdown",
   "metadata": {},
   "source": [
    "# Продажи компьютерных игр\n",
    "\n",
    "Из открытых источников доступны исторические данные (до 2016 г.) о продажах компьютерных игр, оценки пользователей и экспертов, жанры и платформы (например, Xbox или PlayStation). Необходимо выявить определяющие успешность игры закономерности. Это позволит спланировать рекламные кампании для интернет-магазина по продаже игр.\n",
    "\n",
    "Данные предоставлены в файле games.csv. Из документации по каждой компьютерной игре в данных можно найти название, жанр, год выпуска, платформу, информацию по продажам в разных частях света, возрастной рейтинг и оценки от пользователей и экспертов. Данные за 2016 год могут быть неполными.\n",
    "\n",
    "**Цель исследования** — установить параметры, влияющие на успешность (продаваемость) игр. Это позволит спланировать рекламную кампанию на 2017 год. А также проверить гипотезы:\n",
    "1. Средние пользовательские рейтинги платформ Xbox One и PC одинаковые;\n",
    "2. Средние пользовательские рейтинги жанров Action и Sports разные.\n",
    "\n",
    "**Оглавление проекта**\n",
    "1. [Изучение данных из файла](#start)\n",
    "    * 1.1. [Вывод по файлу](#conclusion_1)\n",
    "2. [Предобработка данных](#preprocessing)\n",
    "    * 2.1. [Обработка пропущенных значений](#preprocessing_1)\n",
    "    * 2.2. [Замена типа данных](#preprocessing_2)\n",
    "    * 2.3. [Добавление рассчетных данных](#preprocessing_3)\n",
    "3. [Исследовательский анализ данных](#analysis)\n",
    "    * 3.1. [Вывод по анализу](#conclusion_3)\n",
    "4. [Портрет пользователей по регионам](#portrait)\n",
    "    * 4.1. [Вывод по региональным портретам](#conclusion_4)\n",
    "5. [Проверка гипотез](#hypotheses)\n",
    "6. [Общий вывод по исследованию](#conclusion)"
   ]
  },
  {
   "cell_type": "markdown",
   "metadata": {},
   "source": [
    "## Изучение данных из файла\n",
    "<a id=\"start\"></a>"
   ]
  },
  {
   "cell_type": "code",
   "execution_count": 1,
   "metadata": {
    "scrolled": true
   },
   "outputs": [],
   "source": [
    "# импорт необходимых библиотек\n",
    "import pandas as pd\n",
    "import matplotlib.pyplot as plt\n",
    "import seaborn as sns\n",
    "from scipy import stats as st\n",
    "import numpy as np\n",
    "import math\n",
    "import warnings\n",
    "warnings.filterwarnings('ignore')\n",
    "#from IPython.core.interactiveshell import InteractiveShell\n",
    "#InteractiveShell.ast_node_interactivity = \"all\""
   ]
  },
  {
   "cell_type": "markdown",
   "metadata": {},
   "source": [
    "Получение общей информации о данных и первых 10 строк таблицы:"
   ]
  },
  {
   "cell_type": "code",
   "execution_count": 2,
   "metadata": {},
   "outputs": [
    {
     "name": "stdout",
     "output_type": "stream",
     "text": [
      "<class 'pandas.core.frame.DataFrame'>\n",
      "RangeIndex: 16715 entries, 0 to 16714\n",
      "Data columns (total 11 columns):\n",
      "Name               16713 non-null object\n",
      "Platform           16715 non-null object\n",
      "Year_of_Release    16446 non-null float64\n",
      "Genre              16713 non-null object\n",
      "NA_sales           16715 non-null float64\n",
      "EU_sales           16715 non-null float64\n",
      "JP_sales           16715 non-null float64\n",
      "Other_sales        16715 non-null float64\n",
      "Critic_Score       8137 non-null float64\n",
      "User_Score         10014 non-null object\n",
      "Rating             9949 non-null object\n",
      "dtypes: float64(6), object(5)\n",
      "memory usage: 5.6 MB\n"
     ]
    },
    {
     "data": {
      "text/html": [
       "<div>\n",
       "<style scoped>\n",
       "    .dataframe tbody tr th:only-of-type {\n",
       "        vertical-align: middle;\n",
       "    }\n",
       "\n",
       "    .dataframe tbody tr th {\n",
       "        vertical-align: top;\n",
       "    }\n",
       "\n",
       "    .dataframe thead th {\n",
       "        text-align: right;\n",
       "    }\n",
       "</style>\n",
       "<table border=\"1\" class=\"dataframe\">\n",
       "  <thead>\n",
       "    <tr style=\"text-align: right;\">\n",
       "      <th></th>\n",
       "      <th>Name</th>\n",
       "      <th>Platform</th>\n",
       "      <th>Year_of_Release</th>\n",
       "      <th>Genre</th>\n",
       "      <th>NA_sales</th>\n",
       "      <th>EU_sales</th>\n",
       "      <th>JP_sales</th>\n",
       "      <th>Other_sales</th>\n",
       "      <th>Critic_Score</th>\n",
       "      <th>User_Score</th>\n",
       "      <th>Rating</th>\n",
       "    </tr>\n",
       "  </thead>\n",
       "  <tbody>\n",
       "    <tr>\n",
       "      <td>0</td>\n",
       "      <td>Wii Sports</td>\n",
       "      <td>Wii</td>\n",
       "      <td>2006.0</td>\n",
       "      <td>Sports</td>\n",
       "      <td>41.36</td>\n",
       "      <td>28.96</td>\n",
       "      <td>3.77</td>\n",
       "      <td>8.45</td>\n",
       "      <td>76.0</td>\n",
       "      <td>8</td>\n",
       "      <td>E</td>\n",
       "    </tr>\n",
       "    <tr>\n",
       "      <td>1</td>\n",
       "      <td>Super Mario Bros.</td>\n",
       "      <td>NES</td>\n",
       "      <td>1985.0</td>\n",
       "      <td>Platform</td>\n",
       "      <td>29.08</td>\n",
       "      <td>3.58</td>\n",
       "      <td>6.81</td>\n",
       "      <td>0.77</td>\n",
       "      <td>NaN</td>\n",
       "      <td>NaN</td>\n",
       "      <td>NaN</td>\n",
       "    </tr>\n",
       "    <tr>\n",
       "      <td>2</td>\n",
       "      <td>Mario Kart Wii</td>\n",
       "      <td>Wii</td>\n",
       "      <td>2008.0</td>\n",
       "      <td>Racing</td>\n",
       "      <td>15.68</td>\n",
       "      <td>12.76</td>\n",
       "      <td>3.79</td>\n",
       "      <td>3.29</td>\n",
       "      <td>82.0</td>\n",
       "      <td>8.3</td>\n",
       "      <td>E</td>\n",
       "    </tr>\n",
       "    <tr>\n",
       "      <td>3</td>\n",
       "      <td>Wii Sports Resort</td>\n",
       "      <td>Wii</td>\n",
       "      <td>2009.0</td>\n",
       "      <td>Sports</td>\n",
       "      <td>15.61</td>\n",
       "      <td>10.93</td>\n",
       "      <td>3.28</td>\n",
       "      <td>2.95</td>\n",
       "      <td>80.0</td>\n",
       "      <td>8</td>\n",
       "      <td>E</td>\n",
       "    </tr>\n",
       "    <tr>\n",
       "      <td>4</td>\n",
       "      <td>Pokemon Red/Pokemon Blue</td>\n",
       "      <td>GB</td>\n",
       "      <td>1996.0</td>\n",
       "      <td>Role-Playing</td>\n",
       "      <td>11.27</td>\n",
       "      <td>8.89</td>\n",
       "      <td>10.22</td>\n",
       "      <td>1.00</td>\n",
       "      <td>NaN</td>\n",
       "      <td>NaN</td>\n",
       "      <td>NaN</td>\n",
       "    </tr>\n",
       "    <tr>\n",
       "      <td>5</td>\n",
       "      <td>Tetris</td>\n",
       "      <td>GB</td>\n",
       "      <td>1989.0</td>\n",
       "      <td>Puzzle</td>\n",
       "      <td>23.20</td>\n",
       "      <td>2.26</td>\n",
       "      <td>4.22</td>\n",
       "      <td>0.58</td>\n",
       "      <td>NaN</td>\n",
       "      <td>NaN</td>\n",
       "      <td>NaN</td>\n",
       "    </tr>\n",
       "    <tr>\n",
       "      <td>6</td>\n",
       "      <td>New Super Mario Bros.</td>\n",
       "      <td>DS</td>\n",
       "      <td>2006.0</td>\n",
       "      <td>Platform</td>\n",
       "      <td>11.28</td>\n",
       "      <td>9.14</td>\n",
       "      <td>6.50</td>\n",
       "      <td>2.88</td>\n",
       "      <td>89.0</td>\n",
       "      <td>8.5</td>\n",
       "      <td>E</td>\n",
       "    </tr>\n",
       "    <tr>\n",
       "      <td>7</td>\n",
       "      <td>Wii Play</td>\n",
       "      <td>Wii</td>\n",
       "      <td>2006.0</td>\n",
       "      <td>Misc</td>\n",
       "      <td>13.96</td>\n",
       "      <td>9.18</td>\n",
       "      <td>2.93</td>\n",
       "      <td>2.84</td>\n",
       "      <td>58.0</td>\n",
       "      <td>6.6</td>\n",
       "      <td>E</td>\n",
       "    </tr>\n",
       "    <tr>\n",
       "      <td>8</td>\n",
       "      <td>New Super Mario Bros. Wii</td>\n",
       "      <td>Wii</td>\n",
       "      <td>2009.0</td>\n",
       "      <td>Platform</td>\n",
       "      <td>14.44</td>\n",
       "      <td>6.94</td>\n",
       "      <td>4.70</td>\n",
       "      <td>2.24</td>\n",
       "      <td>87.0</td>\n",
       "      <td>8.4</td>\n",
       "      <td>E</td>\n",
       "    </tr>\n",
       "    <tr>\n",
       "      <td>9</td>\n",
       "      <td>Duck Hunt</td>\n",
       "      <td>NES</td>\n",
       "      <td>1984.0</td>\n",
       "      <td>Shooter</td>\n",
       "      <td>26.93</td>\n",
       "      <td>0.63</td>\n",
       "      <td>0.28</td>\n",
       "      <td>0.47</td>\n",
       "      <td>NaN</td>\n",
       "      <td>NaN</td>\n",
       "      <td>NaN</td>\n",
       "    </tr>\n",
       "  </tbody>\n",
       "</table>\n",
       "</div>"
      ],
      "text/plain": [
       "                        Name Platform  Year_of_Release         Genre  \\\n",
       "0                 Wii Sports      Wii           2006.0        Sports   \n",
       "1          Super Mario Bros.      NES           1985.0      Platform   \n",
       "2             Mario Kart Wii      Wii           2008.0        Racing   \n",
       "3          Wii Sports Resort      Wii           2009.0        Sports   \n",
       "4   Pokemon Red/Pokemon Blue       GB           1996.0  Role-Playing   \n",
       "5                     Tetris       GB           1989.0        Puzzle   \n",
       "6      New Super Mario Bros.       DS           2006.0      Platform   \n",
       "7                   Wii Play      Wii           2006.0          Misc   \n",
       "8  New Super Mario Bros. Wii      Wii           2009.0      Platform   \n",
       "9                  Duck Hunt      NES           1984.0       Shooter   \n",
       "\n",
       "   NA_sales  EU_sales  JP_sales  Other_sales  Critic_Score User_Score Rating  \n",
       "0     41.36     28.96      3.77         8.45          76.0          8      E  \n",
       "1     29.08      3.58      6.81         0.77           NaN        NaN    NaN  \n",
       "2     15.68     12.76      3.79         3.29          82.0        8.3      E  \n",
       "3     15.61     10.93      3.28         2.95          80.0          8      E  \n",
       "4     11.27      8.89     10.22         1.00           NaN        NaN    NaN  \n",
       "5     23.20      2.26      4.22         0.58           NaN        NaN    NaN  \n",
       "6     11.28      9.14      6.50         2.88          89.0        8.5      E  \n",
       "7     13.96      9.18      2.93         2.84          58.0        6.6      E  \n",
       "8     14.44      6.94      4.70         2.24          87.0        8.4      E  \n",
       "9     26.93      0.63      0.28         0.47           NaN        NaN    NaN  "
      ]
     },
     "execution_count": 2,
     "metadata": {},
     "output_type": "execute_result"
    }
   ],
   "source": [
    "# загрузка данных с возможностью открывать файл локально\n",
    "path = 'C:/Data/'\n",
    "data = pd.read_csv(path + 'games.csv')\n",
    "data.info(memory_usage='deep')\n",
    "data.head(10)"
   ]
  },
  {
   "cell_type": "markdown",
   "metadata": {},
   "source": [
    "Получение случайных 10 значений из выборки:"
   ]
  },
  {
   "cell_type": "code",
   "execution_count": 3,
   "metadata": {},
   "outputs": [
    {
     "data": {
      "text/html": [
       "<div>\n",
       "<style scoped>\n",
       "    .dataframe tbody tr th:only-of-type {\n",
       "        vertical-align: middle;\n",
       "    }\n",
       "\n",
       "    .dataframe tbody tr th {\n",
       "        vertical-align: top;\n",
       "    }\n",
       "\n",
       "    .dataframe thead th {\n",
       "        text-align: right;\n",
       "    }\n",
       "</style>\n",
       "<table border=\"1\" class=\"dataframe\">\n",
       "  <thead>\n",
       "    <tr style=\"text-align: right;\">\n",
       "      <th></th>\n",
       "      <th>Name</th>\n",
       "      <th>Platform</th>\n",
       "      <th>Year_of_Release</th>\n",
       "      <th>Genre</th>\n",
       "      <th>NA_sales</th>\n",
       "      <th>EU_sales</th>\n",
       "      <th>JP_sales</th>\n",
       "      <th>Other_sales</th>\n",
       "      <th>Critic_Score</th>\n",
       "      <th>User_Score</th>\n",
       "      <th>Rating</th>\n",
       "    </tr>\n",
       "  </thead>\n",
       "  <tbody>\n",
       "    <tr>\n",
       "      <td>14230</td>\n",
       "      <td>Rakushou! Pachi-Slot Sengen 5: Rio Paradise</td>\n",
       "      <td>PS2</td>\n",
       "      <td>2007.0</td>\n",
       "      <td>Misc</td>\n",
       "      <td>0.00</td>\n",
       "      <td>0.00</td>\n",
       "      <td>0.03</td>\n",
       "      <td>0.00</td>\n",
       "      <td>NaN</td>\n",
       "      <td>NaN</td>\n",
       "      <td>NaN</td>\n",
       "    </tr>\n",
       "    <tr>\n",
       "      <td>14043</td>\n",
       "      <td>Nobunaga's Ambition II</td>\n",
       "      <td>3DS</td>\n",
       "      <td>2015.0</td>\n",
       "      <td>Strategy</td>\n",
       "      <td>0.00</td>\n",
       "      <td>0.00</td>\n",
       "      <td>0.04</td>\n",
       "      <td>0.00</td>\n",
       "      <td>NaN</td>\n",
       "      <td>NaN</td>\n",
       "      <td>NaN</td>\n",
       "    </tr>\n",
       "    <tr>\n",
       "      <td>3158</td>\n",
       "      <td>Up</td>\n",
       "      <td>DS</td>\n",
       "      <td>2009.0</td>\n",
       "      <td>Action</td>\n",
       "      <td>0.30</td>\n",
       "      <td>0.27</td>\n",
       "      <td>0.00</td>\n",
       "      <td>0.07</td>\n",
       "      <td>NaN</td>\n",
       "      <td>tbd</td>\n",
       "      <td>E</td>\n",
       "    </tr>\n",
       "    <tr>\n",
       "      <td>22</td>\n",
       "      <td>Super Mario Bros. 3</td>\n",
       "      <td>NES</td>\n",
       "      <td>1988.0</td>\n",
       "      <td>Platform</td>\n",
       "      <td>9.54</td>\n",
       "      <td>3.44</td>\n",
       "      <td>3.84</td>\n",
       "      <td>0.46</td>\n",
       "      <td>NaN</td>\n",
       "      <td>NaN</td>\n",
       "      <td>NaN</td>\n",
       "    </tr>\n",
       "    <tr>\n",
       "      <td>110</td>\n",
       "      <td>Mario Kart 8</td>\n",
       "      <td>WiiU</td>\n",
       "      <td>2014.0</td>\n",
       "      <td>Racing</td>\n",
       "      <td>3.15</td>\n",
       "      <td>2.15</td>\n",
       "      <td>1.28</td>\n",
       "      <td>0.51</td>\n",
       "      <td>88.0</td>\n",
       "      <td>9.1</td>\n",
       "      <td>E</td>\n",
       "    </tr>\n",
       "    <tr>\n",
       "      <td>1988</td>\n",
       "      <td>ATV: Quad Power Racing</td>\n",
       "      <td>PS</td>\n",
       "      <td>2000.0</td>\n",
       "      <td>Racing</td>\n",
       "      <td>0.58</td>\n",
       "      <td>0.39</td>\n",
       "      <td>0.00</td>\n",
       "      <td>0.07</td>\n",
       "      <td>42.0</td>\n",
       "      <td>tbd</td>\n",
       "      <td>E</td>\n",
       "    </tr>\n",
       "    <tr>\n",
       "      <td>7130</td>\n",
       "      <td>64 de Hakken! Tamagotchi Minna de Tamagotchi W...</td>\n",
       "      <td>N64</td>\n",
       "      <td>1997.0</td>\n",
       "      <td>Misc</td>\n",
       "      <td>0.00</td>\n",
       "      <td>0.00</td>\n",
       "      <td>0.22</td>\n",
       "      <td>0.00</td>\n",
       "      <td>NaN</td>\n",
       "      <td>NaN</td>\n",
       "      <td>NaN</td>\n",
       "    </tr>\n",
       "    <tr>\n",
       "      <td>8849</td>\n",
       "      <td>Derby Stallion 64</td>\n",
       "      <td>N64</td>\n",
       "      <td>2001.0</td>\n",
       "      <td>Sports</td>\n",
       "      <td>0.00</td>\n",
       "      <td>0.00</td>\n",
       "      <td>0.15</td>\n",
       "      <td>0.00</td>\n",
       "      <td>NaN</td>\n",
       "      <td>NaN</td>\n",
       "      <td>NaN</td>\n",
       "    </tr>\n",
       "    <tr>\n",
       "      <td>14602</td>\n",
       "      <td>Star Wars: The Force Unleashed II</td>\n",
       "      <td>PC</td>\n",
       "      <td>2010.0</td>\n",
       "      <td>Action</td>\n",
       "      <td>0.03</td>\n",
       "      <td>0.00</td>\n",
       "      <td>0.00</td>\n",
       "      <td>0.00</td>\n",
       "      <td>59.0</td>\n",
       "      <td>5.8</td>\n",
       "      <td>T</td>\n",
       "    </tr>\n",
       "    <tr>\n",
       "      <td>106</td>\n",
       "      <td>Tekken 3</td>\n",
       "      <td>PS</td>\n",
       "      <td>1998.0</td>\n",
       "      <td>Fighting</td>\n",
       "      <td>3.27</td>\n",
       "      <td>2.22</td>\n",
       "      <td>1.40</td>\n",
       "      <td>0.29</td>\n",
       "      <td>96.0</td>\n",
       "      <td>9.1</td>\n",
       "      <td>T</td>\n",
       "    </tr>\n",
       "  </tbody>\n",
       "</table>\n",
       "</div>"
      ],
      "text/plain": [
       "                                                    Name Platform  \\\n",
       "14230        Rakushou! Pachi-Slot Sengen 5: Rio Paradise      PS2   \n",
       "14043                             Nobunaga's Ambition II      3DS   \n",
       "3158                                                  Up       DS   \n",
       "22                                   Super Mario Bros. 3      NES   \n",
       "110                                         Mario Kart 8     WiiU   \n",
       "1988                              ATV: Quad Power Racing       PS   \n",
       "7130   64 de Hakken! Tamagotchi Minna de Tamagotchi W...      N64   \n",
       "8849                                   Derby Stallion 64      N64   \n",
       "14602                  Star Wars: The Force Unleashed II       PC   \n",
       "106                                             Tekken 3       PS   \n",
       "\n",
       "       Year_of_Release     Genre  NA_sales  EU_sales  JP_sales  Other_sales  \\\n",
       "14230           2007.0      Misc      0.00      0.00      0.03         0.00   \n",
       "14043           2015.0  Strategy      0.00      0.00      0.04         0.00   \n",
       "3158            2009.0    Action      0.30      0.27      0.00         0.07   \n",
       "22              1988.0  Platform      9.54      3.44      3.84         0.46   \n",
       "110             2014.0    Racing      3.15      2.15      1.28         0.51   \n",
       "1988            2000.0    Racing      0.58      0.39      0.00         0.07   \n",
       "7130            1997.0      Misc      0.00      0.00      0.22         0.00   \n",
       "8849            2001.0    Sports      0.00      0.00      0.15         0.00   \n",
       "14602           2010.0    Action      0.03      0.00      0.00         0.00   \n",
       "106             1998.0  Fighting      3.27      2.22      1.40         0.29   \n",
       "\n",
       "       Critic_Score User_Score Rating  \n",
       "14230           NaN        NaN    NaN  \n",
       "14043           NaN        NaN    NaN  \n",
       "3158            NaN        tbd      E  \n",
       "22              NaN        NaN    NaN  \n",
       "110            88.0        9.1      E  \n",
       "1988           42.0        tbd      E  \n",
       "7130            NaN        NaN    NaN  \n",
       "8849            NaN        NaN    NaN  \n",
       "14602          59.0        5.8      T  \n",
       "106            96.0        9.1      T  "
      ]
     },
     "execution_count": 3,
     "metadata": {},
     "output_type": "execute_result"
    }
   ],
   "source": [
    "data.sample(n=10, random_state=1)"
   ]
  },
  {
   "cell_type": "markdown",
   "metadata": {},
   "source": [
    "Вывод описательной статистики по столбцам в транспонированном виде:"
   ]
  },
  {
   "cell_type": "code",
   "execution_count": 4,
   "metadata": {},
   "outputs": [
    {
     "data": {
      "text/html": [
       "<div>\n",
       "<style scoped>\n",
       "    .dataframe tbody tr th:only-of-type {\n",
       "        vertical-align: middle;\n",
       "    }\n",
       "\n",
       "    .dataframe tbody tr th {\n",
       "        vertical-align: top;\n",
       "    }\n",
       "\n",
       "    .dataframe thead th {\n",
       "        text-align: right;\n",
       "    }\n",
       "</style>\n",
       "<table border=\"1\" class=\"dataframe\">\n",
       "  <thead>\n",
       "    <tr style=\"text-align: right;\">\n",
       "      <th></th>\n",
       "      <th>count</th>\n",
       "      <th>unique</th>\n",
       "      <th>top</th>\n",
       "      <th>freq</th>\n",
       "      <th>mean</th>\n",
       "      <th>std</th>\n",
       "      <th>min</th>\n",
       "      <th>25%</th>\n",
       "      <th>50%</th>\n",
       "      <th>75%</th>\n",
       "      <th>max</th>\n",
       "    </tr>\n",
       "  </thead>\n",
       "  <tbody>\n",
       "    <tr>\n",
       "      <td>Name</td>\n",
       "      <td>16713</td>\n",
       "      <td>11559</td>\n",
       "      <td>Need for Speed: Most Wanted</td>\n",
       "      <td>12</td>\n",
       "      <td>NaN</td>\n",
       "      <td>NaN</td>\n",
       "      <td>NaN</td>\n",
       "      <td>NaN</td>\n",
       "      <td>NaN</td>\n",
       "      <td>NaN</td>\n",
       "      <td>NaN</td>\n",
       "    </tr>\n",
       "    <tr>\n",
       "      <td>Platform</td>\n",
       "      <td>16715</td>\n",
       "      <td>31</td>\n",
       "      <td>PS2</td>\n",
       "      <td>2161</td>\n",
       "      <td>NaN</td>\n",
       "      <td>NaN</td>\n",
       "      <td>NaN</td>\n",
       "      <td>NaN</td>\n",
       "      <td>NaN</td>\n",
       "      <td>NaN</td>\n",
       "      <td>NaN</td>\n",
       "    </tr>\n",
       "    <tr>\n",
       "      <td>Year_of_Release</td>\n",
       "      <td>16446</td>\n",
       "      <td>NaN</td>\n",
       "      <td>NaN</td>\n",
       "      <td>NaN</td>\n",
       "      <td>2006.48</td>\n",
       "      <td>5.87705</td>\n",
       "      <td>1980</td>\n",
       "      <td>2003</td>\n",
       "      <td>2007</td>\n",
       "      <td>2010</td>\n",
       "      <td>2016</td>\n",
       "    </tr>\n",
       "    <tr>\n",
       "      <td>Genre</td>\n",
       "      <td>16713</td>\n",
       "      <td>12</td>\n",
       "      <td>Action</td>\n",
       "      <td>3369</td>\n",
       "      <td>NaN</td>\n",
       "      <td>NaN</td>\n",
       "      <td>NaN</td>\n",
       "      <td>NaN</td>\n",
       "      <td>NaN</td>\n",
       "      <td>NaN</td>\n",
       "      <td>NaN</td>\n",
       "    </tr>\n",
       "    <tr>\n",
       "      <td>NA_sales</td>\n",
       "      <td>16715</td>\n",
       "      <td>NaN</td>\n",
       "      <td>NaN</td>\n",
       "      <td>NaN</td>\n",
       "      <td>0.263377</td>\n",
       "      <td>0.813604</td>\n",
       "      <td>0</td>\n",
       "      <td>0</td>\n",
       "      <td>0.08</td>\n",
       "      <td>0.24</td>\n",
       "      <td>41.36</td>\n",
       "    </tr>\n",
       "    <tr>\n",
       "      <td>EU_sales</td>\n",
       "      <td>16715</td>\n",
       "      <td>NaN</td>\n",
       "      <td>NaN</td>\n",
       "      <td>NaN</td>\n",
       "      <td>0.14506</td>\n",
       "      <td>0.503339</td>\n",
       "      <td>0</td>\n",
       "      <td>0</td>\n",
       "      <td>0.02</td>\n",
       "      <td>0.11</td>\n",
       "      <td>28.96</td>\n",
       "    </tr>\n",
       "    <tr>\n",
       "      <td>JP_sales</td>\n",
       "      <td>16715</td>\n",
       "      <td>NaN</td>\n",
       "      <td>NaN</td>\n",
       "      <td>NaN</td>\n",
       "      <td>0.0776171</td>\n",
       "      <td>0.308853</td>\n",
       "      <td>0</td>\n",
       "      <td>0</td>\n",
       "      <td>0</td>\n",
       "      <td>0.04</td>\n",
       "      <td>10.22</td>\n",
       "    </tr>\n",
       "    <tr>\n",
       "      <td>Other_sales</td>\n",
       "      <td>16715</td>\n",
       "      <td>NaN</td>\n",
       "      <td>NaN</td>\n",
       "      <td>NaN</td>\n",
       "      <td>0.0473419</td>\n",
       "      <td>0.186731</td>\n",
       "      <td>0</td>\n",
       "      <td>0</td>\n",
       "      <td>0.01</td>\n",
       "      <td>0.03</td>\n",
       "      <td>10.57</td>\n",
       "    </tr>\n",
       "    <tr>\n",
       "      <td>Critic_Score</td>\n",
       "      <td>8137</td>\n",
       "      <td>NaN</td>\n",
       "      <td>NaN</td>\n",
       "      <td>NaN</td>\n",
       "      <td>68.9677</td>\n",
       "      <td>13.9382</td>\n",
       "      <td>13</td>\n",
       "      <td>60</td>\n",
       "      <td>71</td>\n",
       "      <td>79</td>\n",
       "      <td>98</td>\n",
       "    </tr>\n",
       "    <tr>\n",
       "      <td>User_Score</td>\n",
       "      <td>10014</td>\n",
       "      <td>96</td>\n",
       "      <td>tbd</td>\n",
       "      <td>2424</td>\n",
       "      <td>NaN</td>\n",
       "      <td>NaN</td>\n",
       "      <td>NaN</td>\n",
       "      <td>NaN</td>\n",
       "      <td>NaN</td>\n",
       "      <td>NaN</td>\n",
       "      <td>NaN</td>\n",
       "    </tr>\n",
       "    <tr>\n",
       "      <td>Rating</td>\n",
       "      <td>9949</td>\n",
       "      <td>8</td>\n",
       "      <td>E</td>\n",
       "      <td>3990</td>\n",
       "      <td>NaN</td>\n",
       "      <td>NaN</td>\n",
       "      <td>NaN</td>\n",
       "      <td>NaN</td>\n",
       "      <td>NaN</td>\n",
       "      <td>NaN</td>\n",
       "      <td>NaN</td>\n",
       "    </tr>\n",
       "  </tbody>\n",
       "</table>\n",
       "</div>"
      ],
      "text/plain": [
       "                 count unique                          top  freq       mean  \\\n",
       "Name             16713  11559  Need for Speed: Most Wanted    12        NaN   \n",
       "Platform         16715     31                          PS2  2161        NaN   \n",
       "Year_of_Release  16446    NaN                          NaN   NaN    2006.48   \n",
       "Genre            16713     12                       Action  3369        NaN   \n",
       "NA_sales         16715    NaN                          NaN   NaN   0.263377   \n",
       "EU_sales         16715    NaN                          NaN   NaN    0.14506   \n",
       "JP_sales         16715    NaN                          NaN   NaN  0.0776171   \n",
       "Other_sales      16715    NaN                          NaN   NaN  0.0473419   \n",
       "Critic_Score      8137    NaN                          NaN   NaN    68.9677   \n",
       "User_Score       10014     96                          tbd  2424        NaN   \n",
       "Rating            9949      8                            E  3990        NaN   \n",
       "\n",
       "                      std   min   25%   50%   75%    max  \n",
       "Name                  NaN   NaN   NaN   NaN   NaN    NaN  \n",
       "Platform              NaN   NaN   NaN   NaN   NaN    NaN  \n",
       "Year_of_Release   5.87705  1980  2003  2007  2010   2016  \n",
       "Genre                 NaN   NaN   NaN   NaN   NaN    NaN  \n",
       "NA_sales         0.813604     0     0  0.08  0.24  41.36  \n",
       "EU_sales         0.503339     0     0  0.02  0.11  28.96  \n",
       "JP_sales         0.308853     0     0     0  0.04  10.22  \n",
       "Other_sales      0.186731     0     0  0.01  0.03  10.57  \n",
       "Critic_Score      13.9382    13    60    71    79     98  \n",
       "User_Score            NaN   NaN   NaN   NaN   NaN    NaN  \n",
       "Rating                NaN   NaN   NaN   NaN   NaN    NaN  "
      ]
     },
     "execution_count": 4,
     "metadata": {},
     "output_type": "execute_result"
    }
   ],
   "source": [
    "data.describe(include='all').T"
   ]
  },
  {
   "cell_type": "markdown",
   "metadata": {},
   "source": [
    "### Вывод по файлу\n",
    "<a id=\"conclusion_1\"></a>\n",
    "В таблице всего 11 столбцов.\n",
    "\n",
    "Следующие столбцы имеют тип данных object:\n",
    "* `Name` — название игры;\n",
    "* `Platform` — платформа;\n",
    "* `Genre` — жанр игры;\n",
    "* `User_Score` — оценка пользователей (максимум 10);\n",
    "* `Rating` — возрастной рейтинг от организации ESRB (англ. Entertainment Software Rating Board).\n",
    "\n",
    "Следующие столбцы имеют тип данных float64:\n",
    "* `Year_of_Release` — год выпуска игры;\n",
    "* `NA_sales` — продажи в Северной Америке (млн. проданных копий);  \n",
    "* `EU_sales` — продажи в Европе (млн. проданных копий);\n",
    "* `JP_sales` — продажи в Японии (млн. проданных копий);\n",
    "* `Other_sales` — продажи в других странах (млн. проданных копий);\n",
    "* `Critic_Score` — оценка критиков (максимум 100).\n",
    "\n",
    "В данных многих столбцов есть пропущенные значения. Необходимо проанализировать их и заполнить пропуски там, где это уместно. У нас пропуски в таблице есть полностью случайные (большинство) и случайные (например, в колонке Рейтинг от ESRB, который используется для американского рынка и естественно его не будет у игр ориентированных на Японию). Непонятна природа получения этих данных (кажется, что они собирались из нескольких источников), кто их заполнял, чтобы предположить, например, что оценки критиков и пользователей были незаполнены неслучайно (с целью, чтобы на них никто не посмотрел). Возможно, часть данных с оценками просто потерялась из-за чьей-то ошибки (потому что достаточно много игр с отличными продажами, но вообще без оценок и рейтинга, и нет такого что отсутствуют оценки пользователей/критиков только для определенных платформ).\n",
    "\n",
    "Есть столбцы, где тип данных следует изменить: `User_Score` на float64, `Year_of_Release` на datetime, `Genre` и `Rating` на category. Названия столбцов лучше привести к нижнему регистру. Обязательно проверим таблицу на дубликаты, в том числе на неявные дубликаты колонки `Name`, `Platform` и `Genre`. Возрастные категории в колонке `Rating` опишем на основе данных с сайта https://www.esrb.org/, так как в столбце указаны только аббревиатуры.\n",
    "\n",
    "Чтобы корректно провести анализ факторов, влияющих на успешность игр, нужно в первую очередь устранить проблемы в данных. Также для исследования может понадобиться информация по суммарным продажам для каждой игры."
   ]
  },
  {
   "cell_type": "markdown",
   "metadata": {},
   "source": [
    "## Предобработка данных\n",
    "<a id=\"preprocessing\"></a>"
   ]
  },
  {
   "cell_type": "markdown",
   "metadata": {},
   "source": [
    "Переименование столбцов:"
   ]
  },
  {
   "cell_type": "code",
   "execution_count": 5,
   "metadata": {
    "scrolled": false
   },
   "outputs": [
    {
     "data": {
      "text/plain": [
       "Index(['name', 'platform', 'year_of_release', 'genre', 'na_sales', 'eu_sales',\n",
       "       'jp_sales', 'other_sales', 'critic_score', 'user_score', 'rating'],\n",
       "      dtype='object')"
      ]
     },
     "execution_count": 5,
     "metadata": {},
     "output_type": "execute_result"
    }
   ],
   "source": [
    "data.columns = map(str.lower, data.columns)\n",
    "data.columns"
   ]
  },
  {
   "cell_type": "markdown",
   "metadata": {},
   "source": [
    "Проверка на дубликаты:"
   ]
  },
  {
   "cell_type": "code",
   "execution_count": 6,
   "metadata": {},
   "outputs": [
    {
     "name": "stdout",
     "output_type": "stream",
     "text": [
      "Найдено явных дубликатов: 0\n"
     ]
    },
    {
     "data": {
      "text/plain": [
       "array(['wii', 'nes', 'gb', 'ds', 'x360', 'ps3', 'ps2', 'snes', 'gba',\n",
       "       'ps4', '3ds', 'n64', 'ps', 'xb', 'pc', '2600', 'psp', 'xone',\n",
       "       'wiiu', 'gc', 'gen', 'dc', 'psv', 'sat', 'scd', 'ws', 'ng', 'tg16',\n",
       "       '3do', 'gg', 'pcfx'], dtype=object)"
      ]
     },
     "metadata": {},
     "output_type": "display_data"
    },
    {
     "data": {
      "text/plain": [
       "31"
      ]
     },
     "metadata": {},
     "output_type": "display_data"
    },
    {
     "data": {
      "text/plain": [
       "array(['sports', 'platform', 'racing', 'role-playing', 'puzzle', 'misc',\n",
       "       'shooter', 'simulation', 'action', 'fighting', 'adventure',\n",
       "       'strategy', nan], dtype=object)"
      ]
     },
     "metadata": {},
     "output_type": "display_data"
    },
    {
     "data": {
      "text/plain": [
       "13"
      ]
     },
     "metadata": {},
     "output_type": "display_data"
    },
    {
     "data": {
      "text/plain": [
       "need for speed: most wanted                12\n",
       "fifa 14                                     9\n",
       "ratatouille                                 9\n",
       "madden nfl 07                               9\n",
       "lego marvel super heroes                    9\n",
       "lego batman 3: beyond gotham                8\n",
       "fifa 15                                     8\n",
       "angry birds star wars                       8\n",
       "lego star wars ii: the original trilogy     8\n",
       "lego the hobbit                             8\n",
       "Name: name, dtype: int64"
      ]
     },
     "execution_count": 6,
     "metadata": {},
     "output_type": "execute_result"
    }
   ],
   "source": [
    "print('Найдено явных дубликатов:', data.duplicated().sum())\n",
    "display(data['platform'].str.lower().unique(), len(data['platform'].str.lower().unique()))\n",
    "display(data['genre'].str.lower().unique(), len(data['genre'].str.lower().unique()))\n",
    "data['name'].str.lower().value_counts().head(10)"
   ]
  },
  {
   "cell_type": "markdown",
   "metadata": {},
   "source": [
    "В столбцах **platform** и **genre** неявных дубликатов нет. А вот столбец **name** лучше изучить подробнее:"
   ]
  },
  {
   "cell_type": "code",
   "execution_count": 7,
   "metadata": {},
   "outputs": [
    {
     "data": {
      "text/html": [
       "<div>\n",
       "<style scoped>\n",
       "    .dataframe tbody tr th:only-of-type {\n",
       "        vertical-align: middle;\n",
       "    }\n",
       "\n",
       "    .dataframe tbody tr th {\n",
       "        vertical-align: top;\n",
       "    }\n",
       "\n",
       "    .dataframe thead th {\n",
       "        text-align: right;\n",
       "    }\n",
       "</style>\n",
       "<table border=\"1\" class=\"dataframe\">\n",
       "  <thead>\n",
       "    <tr style=\"text-align: right;\">\n",
       "      <th></th>\n",
       "      <th>name</th>\n",
       "      <th>platform</th>\n",
       "      <th>year_of_release</th>\n",
       "      <th>genre</th>\n",
       "      <th>na_sales</th>\n",
       "      <th>eu_sales</th>\n",
       "      <th>jp_sales</th>\n",
       "      <th>other_sales</th>\n",
       "      <th>critic_score</th>\n",
       "      <th>user_score</th>\n",
       "      <th>rating</th>\n",
       "    </tr>\n",
       "  </thead>\n",
       "  <tbody>\n",
       "    <tr>\n",
       "      <td>253</td>\n",
       "      <td>Need for Speed: Most Wanted</td>\n",
       "      <td>PS2</td>\n",
       "      <td>2005.0</td>\n",
       "      <td>Racing</td>\n",
       "      <td>2.03</td>\n",
       "      <td>1.79</td>\n",
       "      <td>0.08</td>\n",
       "      <td>0.47</td>\n",
       "      <td>82.0</td>\n",
       "      <td>9.1</td>\n",
       "      <td>T</td>\n",
       "    </tr>\n",
       "    <tr>\n",
       "      <td>523</td>\n",
       "      <td>Need for Speed: Most Wanted</td>\n",
       "      <td>PS3</td>\n",
       "      <td>2012.0</td>\n",
       "      <td>Racing</td>\n",
       "      <td>0.71</td>\n",
       "      <td>1.46</td>\n",
       "      <td>0.06</td>\n",
       "      <td>0.58</td>\n",
       "      <td>NaN</td>\n",
       "      <td>NaN</td>\n",
       "      <td>NaN</td>\n",
       "    </tr>\n",
       "    <tr>\n",
       "      <td>1190</td>\n",
       "      <td>Need for Speed: Most Wanted</td>\n",
       "      <td>X360</td>\n",
       "      <td>2012.0</td>\n",
       "      <td>Racing</td>\n",
       "      <td>0.62</td>\n",
       "      <td>0.78</td>\n",
       "      <td>0.01</td>\n",
       "      <td>0.15</td>\n",
       "      <td>83.0</td>\n",
       "      <td>8.5</td>\n",
       "      <td>T</td>\n",
       "    </tr>\n",
       "    <tr>\n",
       "      <td>1591</td>\n",
       "      <td>Need for Speed: Most Wanted</td>\n",
       "      <td>X360</td>\n",
       "      <td>2005.0</td>\n",
       "      <td>Racing</td>\n",
       "      <td>1.00</td>\n",
       "      <td>0.13</td>\n",
       "      <td>0.02</td>\n",
       "      <td>0.10</td>\n",
       "      <td>83.0</td>\n",
       "      <td>8.5</td>\n",
       "      <td>T</td>\n",
       "    </tr>\n",
       "    <tr>\n",
       "      <td>1998</td>\n",
       "      <td>Need for Speed: Most Wanted</td>\n",
       "      <td>XB</td>\n",
       "      <td>2005.0</td>\n",
       "      <td>Racing</td>\n",
       "      <td>0.53</td>\n",
       "      <td>0.46</td>\n",
       "      <td>0.00</td>\n",
       "      <td>0.05</td>\n",
       "      <td>83.0</td>\n",
       "      <td>8.8</td>\n",
       "      <td>T</td>\n",
       "    </tr>\n",
       "    <tr>\n",
       "      <td>2048</td>\n",
       "      <td>Need for Speed: Most Wanted</td>\n",
       "      <td>PSV</td>\n",
       "      <td>2012.0</td>\n",
       "      <td>Racing</td>\n",
       "      <td>0.33</td>\n",
       "      <td>0.45</td>\n",
       "      <td>0.01</td>\n",
       "      <td>0.22</td>\n",
       "      <td>NaN</td>\n",
       "      <td>NaN</td>\n",
       "      <td>NaN</td>\n",
       "    </tr>\n",
       "    <tr>\n",
       "      <td>3581</td>\n",
       "      <td>Need for Speed: Most Wanted</td>\n",
       "      <td>GC</td>\n",
       "      <td>2005.0</td>\n",
       "      <td>Racing</td>\n",
       "      <td>0.43</td>\n",
       "      <td>0.11</td>\n",
       "      <td>0.00</td>\n",
       "      <td>0.02</td>\n",
       "      <td>80.0</td>\n",
       "      <td>9.1</td>\n",
       "      <td>T</td>\n",
       "    </tr>\n",
       "    <tr>\n",
       "      <td>5972</td>\n",
       "      <td>Need for Speed: Most Wanted</td>\n",
       "      <td>PC</td>\n",
       "      <td>2005.0</td>\n",
       "      <td>Racing</td>\n",
       "      <td>0.02</td>\n",
       "      <td>0.23</td>\n",
       "      <td>0.00</td>\n",
       "      <td>0.04</td>\n",
       "      <td>82.0</td>\n",
       "      <td>8.5</td>\n",
       "      <td>T</td>\n",
       "    </tr>\n",
       "    <tr>\n",
       "      <td>6273</td>\n",
       "      <td>Need for Speed: Most Wanted</td>\n",
       "      <td>WiiU</td>\n",
       "      <td>2013.0</td>\n",
       "      <td>Racing</td>\n",
       "      <td>0.13</td>\n",
       "      <td>0.12</td>\n",
       "      <td>0.00</td>\n",
       "      <td>0.02</td>\n",
       "      <td>NaN</td>\n",
       "      <td>NaN</td>\n",
       "      <td>NaN</td>\n",
       "    </tr>\n",
       "    <tr>\n",
       "      <td>6410</td>\n",
       "      <td>Need for Speed: Most Wanted</td>\n",
       "      <td>DS</td>\n",
       "      <td>2005.0</td>\n",
       "      <td>Racing</td>\n",
       "      <td>0.24</td>\n",
       "      <td>0.01</td>\n",
       "      <td>0.00</td>\n",
       "      <td>0.02</td>\n",
       "      <td>45.0</td>\n",
       "      <td>6.1</td>\n",
       "      <td>E</td>\n",
       "    </tr>\n",
       "    <tr>\n",
       "      <td>6473</td>\n",
       "      <td>Need for Speed: Most Wanted</td>\n",
       "      <td>GBA</td>\n",
       "      <td>2005.0</td>\n",
       "      <td>Racing</td>\n",
       "      <td>0.19</td>\n",
       "      <td>0.07</td>\n",
       "      <td>0.00</td>\n",
       "      <td>0.00</td>\n",
       "      <td>NaN</td>\n",
       "      <td>8.3</td>\n",
       "      <td>E</td>\n",
       "    </tr>\n",
       "    <tr>\n",
       "      <td>11715</td>\n",
       "      <td>Need for Speed: Most Wanted</td>\n",
       "      <td>PC</td>\n",
       "      <td>2012.0</td>\n",
       "      <td>Racing</td>\n",
       "      <td>0.00</td>\n",
       "      <td>0.06</td>\n",
       "      <td>0.00</td>\n",
       "      <td>0.02</td>\n",
       "      <td>82.0</td>\n",
       "      <td>8.5</td>\n",
       "      <td>T</td>\n",
       "    </tr>\n",
       "  </tbody>\n",
       "</table>\n",
       "</div>"
      ],
      "text/plain": [
       "                              name platform  year_of_release   genre  \\\n",
       "253    Need for Speed: Most Wanted      PS2           2005.0  Racing   \n",
       "523    Need for Speed: Most Wanted      PS3           2012.0  Racing   \n",
       "1190   Need for Speed: Most Wanted     X360           2012.0  Racing   \n",
       "1591   Need for Speed: Most Wanted     X360           2005.0  Racing   \n",
       "1998   Need for Speed: Most Wanted       XB           2005.0  Racing   \n",
       "2048   Need for Speed: Most Wanted      PSV           2012.0  Racing   \n",
       "3581   Need for Speed: Most Wanted       GC           2005.0  Racing   \n",
       "5972   Need for Speed: Most Wanted       PC           2005.0  Racing   \n",
       "6273   Need for Speed: Most Wanted     WiiU           2013.0  Racing   \n",
       "6410   Need for Speed: Most Wanted       DS           2005.0  Racing   \n",
       "6473   Need for Speed: Most Wanted      GBA           2005.0  Racing   \n",
       "11715  Need for Speed: Most Wanted       PC           2012.0  Racing   \n",
       "\n",
       "       na_sales  eu_sales  jp_sales  other_sales  critic_score user_score  \\\n",
       "253        2.03      1.79      0.08         0.47          82.0        9.1   \n",
       "523        0.71      1.46      0.06         0.58           NaN        NaN   \n",
       "1190       0.62      0.78      0.01         0.15          83.0        8.5   \n",
       "1591       1.00      0.13      0.02         0.10          83.0        8.5   \n",
       "1998       0.53      0.46      0.00         0.05          83.0        8.8   \n",
       "2048       0.33      0.45      0.01         0.22           NaN        NaN   \n",
       "3581       0.43      0.11      0.00         0.02          80.0        9.1   \n",
       "5972       0.02      0.23      0.00         0.04          82.0        8.5   \n",
       "6273       0.13      0.12      0.00         0.02           NaN        NaN   \n",
       "6410       0.24      0.01      0.00         0.02          45.0        6.1   \n",
       "6473       0.19      0.07      0.00         0.00           NaN        8.3   \n",
       "11715      0.00      0.06      0.00         0.02          82.0        8.5   \n",
       "\n",
       "      rating  \n",
       "253        T  \n",
       "523      NaN  \n",
       "1190       T  \n",
       "1591       T  \n",
       "1998       T  \n",
       "2048     NaN  \n",
       "3581       T  \n",
       "5972       T  \n",
       "6273     NaN  \n",
       "6410       E  \n",
       "6473       E  \n",
       "11715      T  "
      ]
     },
     "metadata": {},
     "output_type": "display_data"
    },
    {
     "data": {
      "text/html": [
       "<div>\n",
       "<style scoped>\n",
       "    .dataframe tbody tr th:only-of-type {\n",
       "        vertical-align: middle;\n",
       "    }\n",
       "\n",
       "    .dataframe tbody tr th {\n",
       "        vertical-align: top;\n",
       "    }\n",
       "\n",
       "    .dataframe thead th {\n",
       "        text-align: right;\n",
       "    }\n",
       "</style>\n",
       "<table border=\"1\" class=\"dataframe\">\n",
       "  <thead>\n",
       "    <tr style=\"text-align: right;\">\n",
       "      <th></th>\n",
       "      <th>name</th>\n",
       "      <th>platform</th>\n",
       "      <th>year_of_release</th>\n",
       "      <th>genre</th>\n",
       "      <th>na_sales</th>\n",
       "      <th>eu_sales</th>\n",
       "      <th>jp_sales</th>\n",
       "      <th>other_sales</th>\n",
       "      <th>critic_score</th>\n",
       "      <th>user_score</th>\n",
       "      <th>rating</th>\n",
       "    </tr>\n",
       "  </thead>\n",
       "  <tbody>\n",
       "    <tr>\n",
       "      <td>1598</td>\n",
       "      <td>Ratatouille</td>\n",
       "      <td>DS</td>\n",
       "      <td>2007.0</td>\n",
       "      <td>Action</td>\n",
       "      <td>0.49</td>\n",
       "      <td>0.62</td>\n",
       "      <td>0.0</td>\n",
       "      <td>0.14</td>\n",
       "      <td>NaN</td>\n",
       "      <td>NaN</td>\n",
       "      <td>NaN</td>\n",
       "    </tr>\n",
       "    <tr>\n",
       "      <td>2442</td>\n",
       "      <td>Ratatouille</td>\n",
       "      <td>PS2</td>\n",
       "      <td>2007.0</td>\n",
       "      <td>Action</td>\n",
       "      <td>0.31</td>\n",
       "      <td>0.00</td>\n",
       "      <td>0.0</td>\n",
       "      <td>0.53</td>\n",
       "      <td>65.0</td>\n",
       "      <td>8</td>\n",
       "      <td>E</td>\n",
       "    </tr>\n",
       "    <tr>\n",
       "      <td>3069</td>\n",
       "      <td>Ratatouille</td>\n",
       "      <td>PSP</td>\n",
       "      <td>2007.0</td>\n",
       "      <td>Action</td>\n",
       "      <td>0.22</td>\n",
       "      <td>0.27</td>\n",
       "      <td>0.0</td>\n",
       "      <td>0.16</td>\n",
       "      <td>64.0</td>\n",
       "      <td>7.1</td>\n",
       "      <td>E</td>\n",
       "    </tr>\n",
       "    <tr>\n",
       "      <td>3902</td>\n",
       "      <td>Ratatouille</td>\n",
       "      <td>PS3</td>\n",
       "      <td>2007.0</td>\n",
       "      <td>Action</td>\n",
       "      <td>0.09</td>\n",
       "      <td>0.32</td>\n",
       "      <td>0.0</td>\n",
       "      <td>0.10</td>\n",
       "      <td>55.0</td>\n",
       "      <td>4.8</td>\n",
       "      <td>E</td>\n",
       "    </tr>\n",
       "    <tr>\n",
       "      <td>3948</td>\n",
       "      <td>Ratatouille</td>\n",
       "      <td>Wii</td>\n",
       "      <td>2007.0</td>\n",
       "      <td>Action</td>\n",
       "      <td>0.43</td>\n",
       "      <td>0.03</td>\n",
       "      <td>0.0</td>\n",
       "      <td>0.04</td>\n",
       "      <td>62.0</td>\n",
       "      <td>6.7</td>\n",
       "      <td>E</td>\n",
       "    </tr>\n",
       "    <tr>\n",
       "      <td>6398</td>\n",
       "      <td>Ratatouille</td>\n",
       "      <td>X360</td>\n",
       "      <td>2007.0</td>\n",
       "      <td>Action</td>\n",
       "      <td>0.23</td>\n",
       "      <td>0.02</td>\n",
       "      <td>0.0</td>\n",
       "      <td>0.02</td>\n",
       "      <td>56.0</td>\n",
       "      <td>tbd</td>\n",
       "      <td>E</td>\n",
       "    </tr>\n",
       "    <tr>\n",
       "      <td>7681</td>\n",
       "      <td>Ratatouille</td>\n",
       "      <td>GBA</td>\n",
       "      <td>2007.0</td>\n",
       "      <td>Action</td>\n",
       "      <td>0.14</td>\n",
       "      <td>0.05</td>\n",
       "      <td>0.0</td>\n",
       "      <td>0.00</td>\n",
       "      <td>65.0</td>\n",
       "      <td>tbd</td>\n",
       "      <td>E</td>\n",
       "    </tr>\n",
       "    <tr>\n",
       "      <td>9015</td>\n",
       "      <td>Ratatouille</td>\n",
       "      <td>GC</td>\n",
       "      <td>2007.0</td>\n",
       "      <td>Action</td>\n",
       "      <td>0.11</td>\n",
       "      <td>0.03</td>\n",
       "      <td>0.0</td>\n",
       "      <td>0.00</td>\n",
       "      <td>60.0</td>\n",
       "      <td>5.6</td>\n",
       "      <td>E</td>\n",
       "    </tr>\n",
       "    <tr>\n",
       "      <td>14514</td>\n",
       "      <td>Ratatouille</td>\n",
       "      <td>PC</td>\n",
       "      <td>2007.0</td>\n",
       "      <td>Action</td>\n",
       "      <td>0.01</td>\n",
       "      <td>0.01</td>\n",
       "      <td>0.0</td>\n",
       "      <td>0.00</td>\n",
       "      <td>NaN</td>\n",
       "      <td>7.9</td>\n",
       "      <td>E</td>\n",
       "    </tr>\n",
       "  </tbody>\n",
       "</table>\n",
       "</div>"
      ],
      "text/plain": [
       "              name platform  year_of_release   genre  na_sales  eu_sales  \\\n",
       "1598   Ratatouille       DS           2007.0  Action      0.49      0.62   \n",
       "2442   Ratatouille      PS2           2007.0  Action      0.31      0.00   \n",
       "3069   Ratatouille      PSP           2007.0  Action      0.22      0.27   \n",
       "3902   Ratatouille      PS3           2007.0  Action      0.09      0.32   \n",
       "3948   Ratatouille      Wii           2007.0  Action      0.43      0.03   \n",
       "6398   Ratatouille     X360           2007.0  Action      0.23      0.02   \n",
       "7681   Ratatouille      GBA           2007.0  Action      0.14      0.05   \n",
       "9015   Ratatouille       GC           2007.0  Action      0.11      0.03   \n",
       "14514  Ratatouille       PC           2007.0  Action      0.01      0.01   \n",
       "\n",
       "       jp_sales  other_sales  critic_score user_score rating  \n",
       "1598        0.0         0.14           NaN        NaN    NaN  \n",
       "2442        0.0         0.53          65.0          8      E  \n",
       "3069        0.0         0.16          64.0        7.1      E  \n",
       "3902        0.0         0.10          55.0        4.8      E  \n",
       "3948        0.0         0.04          62.0        6.7      E  \n",
       "6398        0.0         0.02          56.0        tbd      E  \n",
       "7681        0.0         0.00          65.0        tbd      E  \n",
       "9015        0.0         0.00          60.0        5.6      E  \n",
       "14514       0.0         0.00           NaN        7.9      E  "
      ]
     },
     "execution_count": 7,
     "metadata": {},
     "output_type": "execute_result"
    }
   ],
   "source": [
    "display(data.query('name == \"Need for Speed: Most Wanted\"'))\n",
    "data.query('name == \"Ratatouille\"')"
   ]
  },
  {
   "cell_type": "markdown",
   "metadata": {},
   "source": [
    "На основе вывода информации по двум часто встречающимся играм в данных следует, что одни и те же игры выходили для разных платформ, а также бывают игры для одной платформы, но с разным годом релиза."
   ]
  },
  {
   "cell_type": "markdown",
   "metadata": {},
   "source": [
    "Обогащение данных столбца **rating**:"
   ]
  },
  {
   "cell_type": "code",
   "execution_count": 8,
   "metadata": {},
   "outputs": [
    {
     "data": {
      "text/plain": [
       "array(['E', nan, 'M', 'T', 'E10+', 'K-A', 'AO', 'EC', 'RP'], dtype=object)"
      ]
     },
     "execution_count": 8,
     "metadata": {},
     "output_type": "execute_result"
    }
   ],
   "source": [
    "data['rating'].unique()"
   ]
  },
  {
   "cell_type": "code",
   "execution_count": 9,
   "metadata": {
    "scrolled": false
   },
   "outputs": [
    {
     "data": {
      "text/plain": [
       "array(['Everyone', nan, 'Mature 17+', 'Teen', 'Everyone 10+',\n",
       "       'Kids to Adults', 'Adults Only 18+', 'Early Childhood',\n",
       "       'Rating Pending'], dtype=object)"
      ]
     },
     "execution_count": 9,
     "metadata": {},
     "output_type": "execute_result"
    }
   ],
   "source": [
    "# с сайта ассоциации ESRB и википедии берем значения для каждой категории и меняем в таблице:\n",
    "data['rating'] = data['rating'].replace('E', 'Everyone')\n",
    "data['rating'] = data['rating'].replace('M', 'Mature 17+')\n",
    "data['rating'] = data['rating'].replace('T', 'Teen') # от 13 лет\n",
    "data['rating'] = data['rating'].replace('E10+', 'Everyone 10+')\n",
    "data['rating'] = data['rating'].replace('K-A', 'Kids to Adults') # использовался до 1998 г. и затем переименован в E\n",
    "data['rating'] = data['rating'].replace('AO', 'Adults Only 18+') \n",
    "data['rating'] = data['rating'].replace('EC', 'Early Childhood') # От 3 лет, с 2018 г. относится к E\n",
    "data['rating'] = data['rating'].replace('RP', 'Rating Pending') # рейтинг ожидается\n",
    "data['rating'].unique()"
   ]
  },
  {
   "cell_type": "markdown",
   "metadata": {},
   "source": [
    "### Обработка пропущенных значений\n",
    "<a id=\"preprocessing_1\"></a>"
   ]
  },
  {
   "cell_type": "code",
   "execution_count": 10,
   "metadata": {},
   "outputs": [
    {
     "data": {
      "text/html": [
       "<div>\n",
       "<style scoped>\n",
       "    .dataframe tbody tr th:only-of-type {\n",
       "        vertical-align: middle;\n",
       "    }\n",
       "\n",
       "    .dataframe tbody tr th {\n",
       "        vertical-align: top;\n",
       "    }\n",
       "\n",
       "    .dataframe thead th {\n",
       "        text-align: right;\n",
       "    }\n",
       "</style>\n",
       "<table border=\"1\" class=\"dataframe\">\n",
       "  <thead>\n",
       "    <tr style=\"text-align: right;\">\n",
       "      <th></th>\n",
       "      <th>name</th>\n",
       "      <th>platform</th>\n",
       "      <th>year_of_release</th>\n",
       "      <th>genre</th>\n",
       "      <th>na_sales</th>\n",
       "      <th>eu_sales</th>\n",
       "      <th>jp_sales</th>\n",
       "      <th>other_sales</th>\n",
       "      <th>critic_score</th>\n",
       "      <th>user_score</th>\n",
       "      <th>rating</th>\n",
       "    </tr>\n",
       "  </thead>\n",
       "  <tbody>\n",
       "    <tr>\n",
       "      <td>659</td>\n",
       "      <td>NaN</td>\n",
       "      <td>GEN</td>\n",
       "      <td>1993.0</td>\n",
       "      <td>NaN</td>\n",
       "      <td>1.78</td>\n",
       "      <td>0.53</td>\n",
       "      <td>0.00</td>\n",
       "      <td>0.08</td>\n",
       "      <td>NaN</td>\n",
       "      <td>NaN</td>\n",
       "      <td>NaN</td>\n",
       "    </tr>\n",
       "    <tr>\n",
       "      <td>14244</td>\n",
       "      <td>NaN</td>\n",
       "      <td>GEN</td>\n",
       "      <td>1993.0</td>\n",
       "      <td>NaN</td>\n",
       "      <td>0.00</td>\n",
       "      <td>0.00</td>\n",
       "      <td>0.03</td>\n",
       "      <td>0.00</td>\n",
       "      <td>NaN</td>\n",
       "      <td>NaN</td>\n",
       "      <td>NaN</td>\n",
       "    </tr>\n",
       "  </tbody>\n",
       "</table>\n",
       "</div>"
      ],
      "text/plain": [
       "      name platform  year_of_release genre  na_sales  eu_sales  jp_sales  \\\n",
       "659    NaN      GEN           1993.0   NaN      1.78      0.53      0.00   \n",
       "14244  NaN      GEN           1993.0   NaN      0.00      0.00      0.03   \n",
       "\n",
       "       other_sales  critic_score user_score rating  \n",
       "659           0.08           NaN        NaN    NaN  \n",
       "14244         0.00           NaN        NaN    NaN  "
      ]
     },
     "execution_count": 10,
     "metadata": {},
     "output_type": "execute_result"
    }
   ],
   "source": [
    "# смотрим что за строки с пропущенным значением genre\n",
    "data.loc[data['genre'].isna()]"
   ]
  },
  {
   "cell_type": "markdown",
   "metadata": {},
   "source": [
    "В столбце **genre** всего 2 пропуска, совпадающих с пропусками в столбце **name**. Жанр игры важный параметр для исследования. Считаю, что эти строки можно удалить, на выборку это не повлияет."
   ]
  },
  {
   "cell_type": "code",
   "execution_count": 11,
   "metadata": {
    "scrolled": false
   },
   "outputs": [
    {
     "data": {
      "text/plain": [
       "name                  0\n",
       "platform              0\n",
       "year_of_release     269\n",
       "genre                 0\n",
       "na_sales              0\n",
       "eu_sales              0\n",
       "jp_sales              0\n",
       "other_sales           0\n",
       "critic_score       8576\n",
       "user_score         6699\n",
       "rating             6764\n",
       "dtype: int64"
      ]
     },
     "execution_count": 11,
     "metadata": {},
     "output_type": "execute_result"
    }
   ],
   "source": [
    "data = data.dropna(subset=['genre'])\n",
    "# подсчет оставшихся пропусков\n",
    "data.isna().sum()"
   ]
  },
  {
   "cell_type": "code",
   "execution_count": 12,
   "metadata": {},
   "outputs": [
    {
     "data": {
      "text/html": [
       "<div>\n",
       "<style scoped>\n",
       "    .dataframe tbody tr th:only-of-type {\n",
       "        vertical-align: middle;\n",
       "    }\n",
       "\n",
       "    .dataframe tbody tr th {\n",
       "        vertical-align: top;\n",
       "    }\n",
       "\n",
       "    .dataframe thead th {\n",
       "        text-align: right;\n",
       "    }\n",
       "</style>\n",
       "<table border=\"1\" class=\"dataframe\">\n",
       "  <thead>\n",
       "    <tr style=\"text-align: right;\">\n",
       "      <th></th>\n",
       "      <th>name</th>\n",
       "      <th>platform</th>\n",
       "      <th>year_of_release</th>\n",
       "      <th>genre</th>\n",
       "      <th>na_sales</th>\n",
       "      <th>eu_sales</th>\n",
       "      <th>jp_sales</th>\n",
       "      <th>other_sales</th>\n",
       "      <th>critic_score</th>\n",
       "      <th>user_score</th>\n",
       "      <th>rating</th>\n",
       "    </tr>\n",
       "  </thead>\n",
       "  <tbody>\n",
       "    <tr>\n",
       "      <td>183</td>\n",
       "      <td>Madden NFL 2004</td>\n",
       "      <td>PS2</td>\n",
       "      <td>NaN</td>\n",
       "      <td>Sports</td>\n",
       "      <td>4.26</td>\n",
       "      <td>0.26</td>\n",
       "      <td>0.01</td>\n",
       "      <td>0.71</td>\n",
       "      <td>94.0</td>\n",
       "      <td>8.5</td>\n",
       "      <td>Everyone</td>\n",
       "    </tr>\n",
       "    <tr>\n",
       "      <td>377</td>\n",
       "      <td>FIFA Soccer 2004</td>\n",
       "      <td>PS2</td>\n",
       "      <td>NaN</td>\n",
       "      <td>Sports</td>\n",
       "      <td>0.59</td>\n",
       "      <td>2.36</td>\n",
       "      <td>0.04</td>\n",
       "      <td>0.51</td>\n",
       "      <td>84.0</td>\n",
       "      <td>6.4</td>\n",
       "      <td>Everyone</td>\n",
       "    </tr>\n",
       "    <tr>\n",
       "      <td>456</td>\n",
       "      <td>LEGO Batman: The Videogame</td>\n",
       "      <td>Wii</td>\n",
       "      <td>NaN</td>\n",
       "      <td>Action</td>\n",
       "      <td>1.80</td>\n",
       "      <td>0.97</td>\n",
       "      <td>0.00</td>\n",
       "      <td>0.29</td>\n",
       "      <td>74.0</td>\n",
       "      <td>7.9</td>\n",
       "      <td>Everyone 10+</td>\n",
       "    </tr>\n",
       "    <tr>\n",
       "      <td>475</td>\n",
       "      <td>wwe Smackdown vs. Raw 2006</td>\n",
       "      <td>PS2</td>\n",
       "      <td>NaN</td>\n",
       "      <td>Fighting</td>\n",
       "      <td>1.57</td>\n",
       "      <td>1.02</td>\n",
       "      <td>0.00</td>\n",
       "      <td>0.41</td>\n",
       "      <td>NaN</td>\n",
       "      <td>NaN</td>\n",
       "      <td>NaN</td>\n",
       "    </tr>\n",
       "    <tr>\n",
       "      <td>609</td>\n",
       "      <td>Space Invaders</td>\n",
       "      <td>2600</td>\n",
       "      <td>NaN</td>\n",
       "      <td>Shooter</td>\n",
       "      <td>2.36</td>\n",
       "      <td>0.14</td>\n",
       "      <td>0.00</td>\n",
       "      <td>0.03</td>\n",
       "      <td>NaN</td>\n",
       "      <td>NaN</td>\n",
       "      <td>NaN</td>\n",
       "    </tr>\n",
       "  </tbody>\n",
       "</table>\n",
       "</div>"
      ],
      "text/plain": [
       "                           name platform  year_of_release     genre  na_sales  \\\n",
       "183             Madden NFL 2004      PS2              NaN    Sports      4.26   \n",
       "377            FIFA Soccer 2004      PS2              NaN    Sports      0.59   \n",
       "456  LEGO Batman: The Videogame      Wii              NaN    Action      1.80   \n",
       "475  wwe Smackdown vs. Raw 2006      PS2              NaN  Fighting      1.57   \n",
       "609              Space Invaders     2600              NaN   Shooter      2.36   \n",
       "\n",
       "     eu_sales  jp_sales  other_sales  critic_score user_score        rating  \n",
       "183      0.26      0.01         0.71          94.0        8.5      Everyone  \n",
       "377      2.36      0.04         0.51          84.0        6.4      Everyone  \n",
       "456      0.97      0.00         0.29          74.0        7.9  Everyone 10+  \n",
       "475      1.02      0.00         0.41           NaN        NaN           NaN  \n",
       "609      0.14      0.00         0.03           NaN        NaN           NaN  "
      ]
     },
     "execution_count": 12,
     "metadata": {},
     "output_type": "execute_result"
    }
   ],
   "source": [
    "# смотрим что за строки с пропущенным значением year_of_release\n",
    "data.loc[data['year_of_release'].isna()].head()"
   ]
  },
  {
   "cell_type": "code",
   "execution_count": 13,
   "metadata": {},
   "outputs": [
    {
     "data": {
      "text/html": [
       "<div>\n",
       "<style scoped>\n",
       "    .dataframe tbody tr th:only-of-type {\n",
       "        vertical-align: middle;\n",
       "    }\n",
       "\n",
       "    .dataframe tbody tr th {\n",
       "        vertical-align: top;\n",
       "    }\n",
       "\n",
       "    .dataframe thead th {\n",
       "        text-align: right;\n",
       "    }\n",
       "</style>\n",
       "<table border=\"1\" class=\"dataframe\">\n",
       "  <thead>\n",
       "    <tr style=\"text-align: right;\">\n",
       "      <th></th>\n",
       "      <th>name</th>\n",
       "      <th>platform</th>\n",
       "      <th>year_of_release</th>\n",
       "      <th>genre</th>\n",
       "      <th>na_sales</th>\n",
       "      <th>eu_sales</th>\n",
       "      <th>jp_sales</th>\n",
       "      <th>other_sales</th>\n",
       "      <th>critic_score</th>\n",
       "      <th>user_score</th>\n",
       "      <th>rating</th>\n",
       "    </tr>\n",
       "  </thead>\n",
       "  <tbody>\n",
       "    <tr>\n",
       "      <td>183</td>\n",
       "      <td>Madden NFL 2004</td>\n",
       "      <td>PS2</td>\n",
       "      <td>NaN</td>\n",
       "      <td>Sports</td>\n",
       "      <td>4.26</td>\n",
       "      <td>0.26</td>\n",
       "      <td>0.01</td>\n",
       "      <td>0.71</td>\n",
       "      <td>94.0</td>\n",
       "      <td>8.5</td>\n",
       "      <td>Everyone</td>\n",
       "    </tr>\n",
       "    <tr>\n",
       "      <td>1881</td>\n",
       "      <td>Madden NFL 2004</td>\n",
       "      <td>XB</td>\n",
       "      <td>2003.0</td>\n",
       "      <td>Sports</td>\n",
       "      <td>1.02</td>\n",
       "      <td>0.02</td>\n",
       "      <td>0.00</td>\n",
       "      <td>0.05</td>\n",
       "      <td>92.0</td>\n",
       "      <td>8.3</td>\n",
       "      <td>Everyone</td>\n",
       "    </tr>\n",
       "    <tr>\n",
       "      <td>3889</td>\n",
       "      <td>Madden NFL 2004</td>\n",
       "      <td>GC</td>\n",
       "      <td>2003.0</td>\n",
       "      <td>Sports</td>\n",
       "      <td>0.40</td>\n",
       "      <td>0.10</td>\n",
       "      <td>0.00</td>\n",
       "      <td>0.01</td>\n",
       "      <td>94.0</td>\n",
       "      <td>7.7</td>\n",
       "      <td>Everyone</td>\n",
       "    </tr>\n",
       "    <tr>\n",
       "      <td>5708</td>\n",
       "      <td>Madden NFL 2004</td>\n",
       "      <td>GBA</td>\n",
       "      <td>2003.0</td>\n",
       "      <td>Sports</td>\n",
       "      <td>0.22</td>\n",
       "      <td>0.08</td>\n",
       "      <td>0.00</td>\n",
       "      <td>0.01</td>\n",
       "      <td>70.0</td>\n",
       "      <td>6.6</td>\n",
       "      <td>Everyone</td>\n",
       "    </tr>\n",
       "  </tbody>\n",
       "</table>\n",
       "</div>"
      ],
      "text/plain": [
       "                 name platform  year_of_release   genre  na_sales  eu_sales  \\\n",
       "183   Madden NFL 2004      PS2              NaN  Sports      4.26      0.26   \n",
       "1881  Madden NFL 2004       XB           2003.0  Sports      1.02      0.02   \n",
       "3889  Madden NFL 2004       GC           2003.0  Sports      0.40      0.10   \n",
       "5708  Madden NFL 2004      GBA           2003.0  Sports      0.22      0.08   \n",
       "\n",
       "      jp_sales  other_sales  critic_score user_score    rating  \n",
       "183       0.01         0.71          94.0        8.5  Everyone  \n",
       "1881      0.00         0.05          92.0        8.3  Everyone  \n",
       "3889      0.00         0.01          94.0        7.7  Everyone  \n",
       "5708      0.00         0.01          70.0        6.6  Everyone  "
      ]
     },
     "execution_count": 13,
     "metadata": {},
     "output_type": "execute_result"
    }
   ],
   "source": [
    "data.query('name == \"Madden NFL 2004\"')"
   ]
  },
  {
   "cell_type": "markdown",
   "metadata": {},
   "source": [
    "Пропуски года релиза можно заполнить на основе значений в этой колонке по этой игре на других платформах, как правило релизы выходят на всех платформах в один год."
   ]
  },
  {
   "cell_type": "code",
   "execution_count": 14,
   "metadata": {
    "scrolled": false
   },
   "outputs": [
    {
     "data": {
      "text/plain": [
       "name                  0\n",
       "platform              0\n",
       "year_of_release     146\n",
       "genre                 0\n",
       "na_sales              0\n",
       "eu_sales              0\n",
       "jp_sales              0\n",
       "other_sales           0\n",
       "critic_score       8576\n",
       "user_score         6699\n",
       "rating             6764\n",
       "dtype: int64"
      ]
     },
     "execution_count": 14,
     "metadata": {},
     "output_type": "execute_result"
    }
   ],
   "source": [
    "# для удобства будем брать максимальный год\n",
    "for game_name in data['name'].unique():\n",
    "    max_year_of_release = data.loc[data['name'] == game_name, 'year_of_release'].max()\n",
    "    data.loc[(data['year_of_release'].isna()) & (data['name'] == game_name), 'year_of_release'] = max_year_of_release\n",
    "data.isna().sum()"
   ]
  },
  {
   "cell_type": "markdown",
   "metadata": {},
   "source": [
    "По оставшимся 146 пустым значениям вряд ли получится заполнить чем-то разумным значение года релиза, если только в интернете искать по каждой игре, но это займет слишком много времени. Пропуски в столбцах **critic_score** и **user_score** не заполняем, так как заполнять даже на основе рейтинга на других платформах при наличии было бы некорректно (это очень субъективные данные), не говоря уже о медианных значениях по жанру, заполнение может исказить результаты кореляционного анализа. В колонке **rating** отсутствующие значения разумно заполнить заглушкой \"Unknown\"."
   ]
  },
  {
   "cell_type": "code",
   "execution_count": 15,
   "metadata": {},
   "outputs": [],
   "source": [
    "data['rating'] = data['rating'].fillna('Unknown')"
   ]
  },
  {
   "cell_type": "markdown",
   "metadata": {},
   "source": [
    "В столбце **user_score** присутствует 2424 значения \"tbd\", что означает \"подлежит определению\" или \"будет определено\". Заполним это значение NaN, т.е. отсутствием данных, чтобы потом перевести значения столбца в подходящий тип данных."
   ]
  },
  {
   "cell_type": "code",
   "execution_count": 16,
   "metadata": {},
   "outputs": [],
   "source": [
    "data['user_score'] = data['user_score'].replace('tbd', np.NaN)"
   ]
  },
  {
   "cell_type": "markdown",
   "metadata": {},
   "source": [
    "### Замена типа данных\n",
    "<a id=\"preprocessing_2\"></a>"
   ]
  },
  {
   "cell_type": "code",
   "execution_count": 17,
   "metadata": {
    "scrolled": false
   },
   "outputs": [
    {
     "name": "stdout",
     "output_type": "stream",
     "text": [
      "<class 'pandas.core.frame.DataFrame'>\n",
      "Int64Index: 16713 entries, 0 to 16714\n",
      "Data columns (total 11 columns):\n",
      "name               16713 non-null object\n",
      "platform           16713 non-null object\n",
      "year_of_release    16567 non-null datetime64[ns]\n",
      "genre              16713 non-null category\n",
      "na_sales           16713 non-null float64\n",
      "eu_sales           16713 non-null float64\n",
      "jp_sales           16713 non-null float64\n",
      "other_sales        16713 non-null float64\n",
      "critic_score       8137 non-null float64\n",
      "user_score         7590 non-null float64\n",
      "rating             16713 non-null category\n",
      "dtypes: category(2), datetime64[ns](1), float64(6), object(2)\n",
      "memory usage: 3.3 MB\n"
     ]
    }
   ],
   "source": [
    "data['user_score'] = data['user_score'].astype('float')\n",
    "data['genre'] = data['genre'].astype('category')\n",
    "data['rating'] = data['rating'].astype('category')\n",
    "data['year_of_release'] = pd.to_datetime(data['year_of_release'], format='%Y')\n",
    "data.info(memory_usage='deep')"
   ]
  },
  {
   "cell_type": "markdown",
   "metadata": {},
   "source": [
    "### Добавление рассчетных данных\n",
    "<a id=\"preprocessing_3\"></a>"
   ]
  },
  {
   "cell_type": "code",
   "execution_count": 18,
   "metadata": {},
   "outputs": [],
   "source": [
    "# добавим суммарные продажи во всех регионах в отдельный столбец\n",
    "data['world_sales'] = data['na_sales'] + data['eu_sales'] + data['jp_sales'] + data['other_sales']"
   ]
  },
  {
   "cell_type": "markdown",
   "metadata": {},
   "source": [
    "## Исследовательский анализ данных\n",
    "<a id=\"analysis\"></a>"
   ]
  },
  {
   "cell_type": "markdown",
   "metadata": {},
   "source": [
    "Смотрим, сколько игр выпускалось в разные годы:"
   ]
  },
  {
   "cell_type": "code",
   "execution_count": 19,
   "metadata": {},
   "outputs": [
    {
     "data": {
      "image/png": "[encoded data removed]",
      "text/plain": [
       "<Figure size 864x360 with 1 Axes>"
      ]
     },
     "metadata": {
      "needs_background": "light"
     },
     "output_type": "display_data"
    }
   ],
   "source": [
    "(\n",
    "    data.pivot_table(index='year_of_release', values='name', aggfunc='count')\n",
    "    .plot(grid=True, figsize=(12, 5))\n",
    ")\n",
    "plt.xlabel('Год релиза')\n",
    "plt.ylabel('Количество выпущенных игр, шт.')\n",
    "plt.title('Количество выпущенных игр в разные годы');"
   ]
  },
  {
   "cell_type": "markdown",
   "metadata": {},
   "source": [
    "Видно, что до 1990 года количество игр близко к 0, можно отсеить эти игры, так как платформ тогда было очень мало и игры были примитивные. После 2009 года наблюдается спад в индустрии. Прежде всего это может быть связано с развитием смартфонов и переходом части аудитории на мобильный гейминг. Во-вторых, перестали выпускать что-то бомбическое, не хватает новых идей и чего-то революционного в этой отрасли."
   ]
  },
  {
   "cell_type": "markdown",
   "metadata": {},
   "source": [
    "Смотрим, какие были продажи по платформам:"
   ]
  },
  {
   "cell_type": "code",
   "execution_count": 20,
   "metadata": {},
   "outputs": [
    {
     "data": {
      "text/html": [
       "<div>\n",
       "<style scoped>\n",
       "    .dataframe tbody tr th:only-of-type {\n",
       "        vertical-align: middle;\n",
       "    }\n",
       "\n",
       "    .dataframe tbody tr th {\n",
       "        vertical-align: top;\n",
       "    }\n",
       "\n",
       "    .dataframe thead th {\n",
       "        text-align: right;\n",
       "    }\n",
       "</style>\n",
       "<table border=\"1\" class=\"dataframe\">\n",
       "  <thead>\n",
       "    <tr style=\"text-align: right;\">\n",
       "      <th></th>\n",
       "      <th>world_sales</th>\n",
       "    </tr>\n",
       "    <tr>\n",
       "      <th>platform</th>\n",
       "      <th></th>\n",
       "    </tr>\n",
       "  </thead>\n",
       "  <tbody>\n",
       "    <tr>\n",
       "      <td>PS2</td>\n",
       "      <td>1255.77</td>\n",
       "    </tr>\n",
       "    <tr>\n",
       "      <td>X360</td>\n",
       "      <td>971.42</td>\n",
       "    </tr>\n",
       "    <tr>\n",
       "      <td>PS3</td>\n",
       "      <td>939.65</td>\n",
       "    </tr>\n",
       "    <tr>\n",
       "      <td>Wii</td>\n",
       "      <td>907.51</td>\n",
       "    </tr>\n",
       "    <tr>\n",
       "      <td>DS</td>\n",
       "      <td>806.12</td>\n",
       "    </tr>\n",
       "    <tr>\n",
       "      <td>PS</td>\n",
       "      <td>730.86</td>\n",
       "    </tr>\n",
       "    <tr>\n",
       "      <td>GBA</td>\n",
       "      <td>317.85</td>\n",
       "    </tr>\n",
       "    <tr>\n",
       "      <td>PS4</td>\n",
       "      <td>314.14</td>\n",
       "    </tr>\n",
       "    <tr>\n",
       "      <td>PSP</td>\n",
       "      <td>294.05</td>\n",
       "    </tr>\n",
       "    <tr>\n",
       "      <td>PC</td>\n",
       "      <td>259.52</td>\n",
       "    </tr>\n",
       "    <tr>\n",
       "      <td>3DS</td>\n",
       "      <td>259.00</td>\n",
       "    </tr>\n",
       "    <tr>\n",
       "      <td>XB</td>\n",
       "      <td>257.74</td>\n",
       "    </tr>\n",
       "    <tr>\n",
       "      <td>GB</td>\n",
       "      <td>255.46</td>\n",
       "    </tr>\n",
       "    <tr>\n",
       "      <td>NES</td>\n",
       "      <td>251.05</td>\n",
       "    </tr>\n",
       "    <tr>\n",
       "      <td>N64</td>\n",
       "      <td>218.68</td>\n",
       "    </tr>\n",
       "    <tr>\n",
       "      <td>SNES</td>\n",
       "      <td>200.04</td>\n",
       "    </tr>\n",
       "    <tr>\n",
       "      <td>GC</td>\n",
       "      <td>198.93</td>\n",
       "    </tr>\n",
       "    <tr>\n",
       "      <td>XOne</td>\n",
       "      <td>159.32</td>\n",
       "    </tr>\n",
       "    <tr>\n",
       "      <td>2600</td>\n",
       "      <td>96.98</td>\n",
       "    </tr>\n",
       "    <tr>\n",
       "      <td>WiiU</td>\n",
       "      <td>82.19</td>\n",
       "    </tr>\n",
       "    <tr>\n",
       "      <td>PSV</td>\n",
       "      <td>54.07</td>\n",
       "    </tr>\n",
       "    <tr>\n",
       "      <td>SAT</td>\n",
       "      <td>33.59</td>\n",
       "    </tr>\n",
       "    <tr>\n",
       "      <td>GEN</td>\n",
       "      <td>28.35</td>\n",
       "    </tr>\n",
       "    <tr>\n",
       "      <td>DC</td>\n",
       "      <td>15.95</td>\n",
       "    </tr>\n",
       "    <tr>\n",
       "      <td>SCD</td>\n",
       "      <td>1.86</td>\n",
       "    </tr>\n",
       "    <tr>\n",
       "      <td>NG</td>\n",
       "      <td>1.44</td>\n",
       "    </tr>\n",
       "    <tr>\n",
       "      <td>WS</td>\n",
       "      <td>1.42</td>\n",
       "    </tr>\n",
       "    <tr>\n",
       "      <td>TG16</td>\n",
       "      <td>0.16</td>\n",
       "    </tr>\n",
       "    <tr>\n",
       "      <td>3DO</td>\n",
       "      <td>0.10</td>\n",
       "    </tr>\n",
       "    <tr>\n",
       "      <td>GG</td>\n",
       "      <td>0.04</td>\n",
       "    </tr>\n",
       "    <tr>\n",
       "      <td>PCFX</td>\n",
       "      <td>0.03</td>\n",
       "    </tr>\n",
       "  </tbody>\n",
       "</table>\n",
       "</div>"
      ],
      "text/plain": [
       "          world_sales\n",
       "platform             \n",
       "PS2           1255.77\n",
       "X360           971.42\n",
       "PS3            939.65\n",
       "Wii            907.51\n",
       "DS             806.12\n",
       "PS             730.86\n",
       "GBA            317.85\n",
       "PS4            314.14\n",
       "PSP            294.05\n",
       "PC             259.52\n",
       "3DS            259.00\n",
       "XB             257.74\n",
       "GB             255.46\n",
       "NES            251.05\n",
       "N64            218.68\n",
       "SNES           200.04\n",
       "GC             198.93\n",
       "XOne           159.32\n",
       "2600            96.98\n",
       "WiiU            82.19\n",
       "PSV             54.07\n",
       "SAT             33.59\n",
       "GEN             28.35\n",
       "DC              15.95\n",
       "SCD              1.86\n",
       "NG               1.44\n",
       "WS               1.42\n",
       "TG16             0.16\n",
       "3DO              0.10\n",
       "GG               0.04\n",
       "PCFX             0.03"
      ]
     },
     "execution_count": 20,
     "metadata": {},
     "output_type": "execute_result"
    }
   ],
   "source": [
    "data.pivot_table(index='platform', values='world_sales', aggfunc='sum').sort_values('world_sales', ascending = False)"
   ]
  },
  {
   "cell_type": "code",
   "execution_count": 21,
   "metadata": {},
   "outputs": [
    {
     "data": {
      "image/png": "[encoded data removed]",
      "text/plain": [
       "<Figure size 864x360 with 1 Axes>"
      ]
     },
     "metadata": {
      "needs_background": "light"
     },
     "output_type": "display_data"
    }
   ],
   "source": [
    "# в предыдущей таблице выделяются 6 платформ по наибольшим продажам, смотрим по ним график продаж по годам\n",
    "(\n",
    "    data.query('platform in (\"PS2\", \"X360\", \"PS3\", \"Wii\", \"DS\", \"PS\")')\n",
    "    .pivot_table(index='year_of_release', columns='platform', values='world_sales', aggfunc='sum')\n",
    "    .plot(grid=True, figsize=(12, 5))\n",
    ")\n",
    "plt.xlabel('Год релиза')\n",
    "plt.ylabel('Проданные копии, млн. шт.')\n",
    "plt.title('Топ-6 платформ с наибольшими суммарными продажами по годам')\n",
    "plt.minorticks_on()\n",
    "plt.grid(which='minor', linestyle=':');"
   ]
  },
  {
   "cell_type": "code",
   "execution_count": 22,
   "metadata": {},
   "outputs": [
    {
     "data": {
      "text/plain": [
       "10.17"
      ]
     },
     "execution_count": 22,
     "metadata": {},
     "output_type": "execute_result"
    }
   ],
   "source": [
    "# теперь понятно почему график начинается с 1985 года, есть ошибочное значение по платформе DS, избавлюсь от него\n",
    "data = data[~((data['platform'] == 'DS') & (data['year_of_release'] < '2004-01-01'))]\n",
    "# подсчет средней продолжительности существования платформы\n",
    "platform_max_year = data.query('platform in (\"PS2\", \"X360\", \"PS3\", \"Wii\", \"DS\", \"PS\")').pivot_table(index='platform', values='year_of_release', aggfunc='max')\n",
    "platform_min_year = data.query('platform in (\"PS2\", \"X360\", \"PS3\", \"Wii\", \"DS\", \"PS\")').pivot_table(index='platform', values='year_of_release', aggfunc='min')\n",
    "diff_platform_year = platform_max_year['year_of_release'].dt.year - platform_min_year['year_of_release'].dt.year\n",
    "diff_platform_year.mean().round(2)"
   ]
  },
  {
   "cell_type": "markdown",
   "metadata": {},
   "source": [
    "Можно выделить характерный срок за который появляются новые и исчезают старые платформы. Это 10 лет. Игровая индустрия достаточно быстро меняется, данные за предыдущие годы учитывать не стоит. Если в расчет характерного срока включить все платформы, то мы получим выбросы. Некоторые платформы появились только в 2013 году, а некоторые живут с 1985 года - это PC. Есть и старые платформы, которые жили пару десятилетий (как \"2600\") до бурного развития индустрии."
   ]
  },
  {
   "cell_type": "code",
   "execution_count": 23,
   "metadata": {},
   "outputs": [],
   "source": [
    "# оставляем игры с релизом не раньше 2007 года\n",
    "data = data.query('year_of_release >= 2007')"
   ]
  },
  {
   "cell_type": "markdown",
   "metadata": {},
   "source": [
    "Посмотрим такой же график но уже по всем платформам с 2007 года:"
   ]
  },
  {
   "cell_type": "code",
   "execution_count": 24,
   "metadata": {},
   "outputs": [
    {
     "data": {
      "image/png": "[encoded data removed]",
      "text/plain": [
       "<Figure size 1008x504 with 1 Axes>"
      ]
     },
     "metadata": {
      "needs_background": "light"
     },
     "output_type": "display_data"
    }
   ],
   "source": [
    "(\n",
    "    data.pivot_table(index='year_of_release', columns='platform', values='world_sales', aggfunc='sum')\n",
    "    .plot(grid=True, figsize=(14, 7))\n",
    ")\n",
    "plt.xlabel('Год релиза')\n",
    "plt.ylabel('Проданные копии, млн. шт.')\n",
    "plt.title('Суммарные продажи по годам по платформам');"
   ]
  },
  {
   "cell_type": "markdown",
   "metadata": {},
   "source": [
    "Учитывая, что данные за 2016 год у нас неполные, вполне вероятно, что падение продаж в 2016 году на графике по платформам PS4 и XOne таковым не является, у них есть перспективы лидировать по продажам игр в ближайшие годы, так как они появились сравнительно недавно. Тройку лидеров по 2016 году замыкает платформа 3DS, но перспектив для роста у нее не видно. Остальные платформы существуют на рынке достаточно давно и либо скоро исчезнут, либо продажи по ним незначительны. Можно заметить на примере PlayStation, что обновленная платформа выходит через 5-8 лет. Будем считать, что **актуальный период** данных для нашего исследования начинается с 2013 года, когда вышли последние платформы линеек PlayStation и Xbox, данные за предыдущие годы учитывать не будем."
   ]
  },
  {
   "cell_type": "code",
   "execution_count": 25,
   "metadata": {},
   "outputs": [],
   "source": [
    "# оставляем игры с релизом не раньше 2013 года\n",
    "data = data.query('year_of_release >= 2013')"
   ]
  },
  {
   "cell_type": "markdown",
   "metadata": {},
   "source": [
    "Построим график «ящик с усами» по глобальным продажам игр в разбивке по платформам:"
   ]
  },
  {
   "cell_type": "code",
   "execution_count": 26,
   "metadata": {},
   "outputs": [
    {
     "data": {
      "image/png": "[encoded data removed]",
      "text/plain": [
       "<Figure size 1008x504 with 1 Axes>"
      ]
     },
     "metadata": {
      "needs_background": "light"
     },
     "output_type": "display_data"
    }
   ],
   "source": [
    "data.boxplot(column = 'world_sales', by = 'platform', figsize=(14, 7))\n",
    "plt.xlabel('Платформы для игр')\n",
    "plt.ylabel('Проданные копии, млн. шт.')\n",
    "plt.suptitle('')\n",
    "plt.title('Диаграммы размаха глобальных продаж игр в разбивке по платформам');"
   ]
  },
  {
   "cell_type": "markdown",
   "metadata": {},
   "source": [
    "Из-за большого количества выбивающихся значений (успешных по продажам игр) графики сложно анализировать, но в целом заметно, что интервал до 2 млн. копий был бы нагляднее."
   ]
  },
  {
   "cell_type": "code",
   "execution_count": 27,
   "metadata": {},
   "outputs": [
    {
     "data": {
      "image/png": "[encoded data removed]",
      "text/plain": [
       "<Figure size 1008x504 with 1 Axes>"
      ]
     },
     "metadata": {
      "needs_background": "light"
     },
     "output_type": "display_data"
    }
   ],
   "source": [
    "(\n",
    "    data.query('world_sales <= 2.0')\n",
    "    .boxplot(column = 'world_sales', by = 'platform', figsize=(14, 7))\n",
    ")\n",
    "plt.xlabel('Платформы для игр')\n",
    "plt.ylabel('Проданные копии, млн. шт.')\n",
    "plt.suptitle('')\n",
    "plt.title('Диаграммы размаха глобальных продаж игр в разбивке по платформам');"
   ]
  },
  {
   "cell_type": "markdown",
   "metadata": {},
   "source": [
    "По графикам можно сказать, что медианные значения продаж игр по платформам не превышают 250 тыс. копий по игре. В лидерах по медианному значению продаж платформа X360. Для нее граница нормальных значений продаж за игру не превышает 1.5 млн. копий, у платформ от PlayStation (PS3 и PS4) эта граница находится в диапазоне 1 млн. копий, но видно насколько больше выбивающихся значений продаж игр именно у PlayStation. Еще можно отметить хорошие значения средних продаж у платформ WiiU и XOne - граница находится у 1.25 млн. копий."
   ]
  },
  {
   "cell_type": "code",
   "execution_count": 28,
   "metadata": {},
   "outputs": [
    {
     "data": {
      "text/plain": [
       "PS4     392\n",
       "PSV     358\n",
       "PS3     345\n",
       "3DS     303\n",
       "XOne    247\n",
       "PC      192\n",
       "X360    186\n",
       "WiiU    115\n",
       "PSP      68\n",
       "Wii      23\n",
       "DS        8\n",
       "Name: platform, dtype: int64"
      ]
     },
     "metadata": {},
     "output_type": "display_data"
    }
   ],
   "source": [
    "# дополнительно смотрим сколько игр по платформам\n",
    "display(data['platform'].value_counts())"
   ]
  },
  {
   "cell_type": "markdown",
   "metadata": {},
   "source": [
    "Медианные значения продаж игр по платформам определяют среднее значение продаж в наборе данных с выбивающимися значениями. То есть там, где медианные значения больше у платформ, средняя продажа копий игры выше. В приципе везде, где датасеты скошены сильно вверх от медианного значения, то там или большой разброс значений в сторону Q3 и до верхнего уса или есть приличная доля игр-бестселлеров, для нашего исследования многочисленные выбивающиеся значения - это хорошо, эти платформы должны показывать хорошие продажи игр."
   ]
  },
  {
   "cell_type": "code",
   "execution_count": 29,
   "metadata": {},
   "outputs": [
    {
     "data": {
      "text/html": [
       "<div>\n",
       "<style scoped>\n",
       "    .dataframe tbody tr th:only-of-type {\n",
       "        vertical-align: middle;\n",
       "    }\n",
       "\n",
       "    .dataframe tbody tr th {\n",
       "        vertical-align: top;\n",
       "    }\n",
       "\n",
       "    .dataframe thead th {\n",
       "        text-align: right;\n",
       "    }\n",
       "</style>\n",
       "<table border=\"1\" class=\"dataframe\">\n",
       "  <thead>\n",
       "    <tr style=\"text-align: right;\">\n",
       "      <th></th>\n",
       "      <th>world_sales</th>\n",
       "    </tr>\n",
       "    <tr>\n",
       "      <th>platform</th>\n",
       "      <th></th>\n",
       "    </tr>\n",
       "  </thead>\n",
       "  <tbody>\n",
       "    <tr>\n",
       "      <td>PS4</td>\n",
       "      <td>225.52</td>\n",
       "    </tr>\n",
       "    <tr>\n",
       "      <td>PS3</td>\n",
       "      <td>94.56</td>\n",
       "    </tr>\n",
       "    <tr>\n",
       "      <td>3DS</td>\n",
       "      <td>91.15</td>\n",
       "    </tr>\n",
       "    <tr>\n",
       "      <td>XOne</td>\n",
       "      <td>88.51</td>\n",
       "    </tr>\n",
       "    <tr>\n",
       "      <td>X360</td>\n",
       "      <td>78.67</td>\n",
       "    </tr>\n",
       "    <tr>\n",
       "      <td>WiiU</td>\n",
       "      <td>32.82</td>\n",
       "    </tr>\n",
       "    <tr>\n",
       "      <td>Wii</td>\n",
       "      <td>9.34</td>\n",
       "    </tr>\n",
       "    <tr>\n",
       "      <td>PC</td>\n",
       "      <td>4.72</td>\n",
       "    </tr>\n",
       "    <tr>\n",
       "      <td>PSV</td>\n",
       "      <td>1.96</td>\n",
       "    </tr>\n",
       "  </tbody>\n",
       "</table>\n",
       "</div>"
      ],
      "text/plain": [
       "          world_sales\n",
       "platform             \n",
       "PS4            225.52\n",
       "PS3             94.56\n",
       "3DS             91.15\n",
       "XOne            88.51\n",
       "X360            78.67\n",
       "WiiU            32.82\n",
       "Wii              9.34\n",
       "PC               4.72\n",
       "PSV              1.96"
      ]
     },
     "execution_count": 29,
     "metadata": {},
     "output_type": "execute_result"
    }
   ],
   "source": [
    "# посмотрим лидеров выбивающихся значений по платформам (берем порог в 1.50 млн. копий)\n",
    "(\n",
    "    data.query('world_sales > 1.50')\n",
    "    .pivot_table(index='platform', values='world_sales', aggfunc='sum').sort_values('world_sales', ascending = False)\n",
    ")"
   ]
  },
  {
   "cell_type": "markdown",
   "metadata": {},
   "source": [
    "Посмотрим, как влияют на продажи внутри одной популярной платформы (X360) отзывы пользователей и критиков. Построим диаграмму рассеяния и посчитаем корреляцию между отзывами и продажами:"
   ]
  },
  {
   "cell_type": "code",
   "execution_count": 30,
   "metadata": {},
   "outputs": [
    {
     "data": {
      "image/png": "[encoded data removed]",
      "text/plain": [
       "<Figure size 1008x288 with 2 Axes>"
      ]
     },
     "metadata": {
      "needs_background": "light"
     },
     "output_type": "display_data"
    },
    {
     "name": "stdout",
     "output_type": "stream",
     "text": [
      "Коэффициент Пирсона корреляции между продажей игр для X360 и оценками критиков: 0.3503445460228666\n",
      "Коэффициент Пирсона корреляции между продажей игр для X360 и оценками пользователей: -0.011742185147181387\n"
     ]
    }
   ],
   "source": [
    "data_x360 = data.query('platform == \"X360\"')\n",
    "\n",
    "# использую диаграммы рассеяния для анализа зависимостей продаж игр для X360 от оценок пользователей и критикиов\n",
    "fig, (ax1, ax2) = plt.subplots(\n",
    "    nrows=1, ncols=2,\n",
    "    figsize=(14, 4)\n",
    ")\n",
    "ax1.scatter(x=data_x360['critic_score'], y=data_x360['world_sales'], alpha=0.3)\n",
    "ax1.set_title('Анализ влияния оценки критиков на продажи')\n",
    "ax1.set_xlabel('Оценки критиков')\n",
    "ax1.set_ylabel('Проданные копии, млн. шт.')\n",
    "ax2.scatter(x=data_x360['user_score'], y=data_x360['world_sales'], alpha=0.3)\n",
    "ax2.set_title('Анализ влияния оценки пользователей на продажи')\n",
    "ax2.set_xlabel('Оценки пользователей')\n",
    "ax2.set_ylabel('Проданные копии, млн. шт.')\n",
    "plt.show()\n",
    "\n",
    "print(\"Коэффициент Пирсона корреляции между продажей игр для X360 и оценками критиков:\",\n",
    "               data_x360['critic_score'].corr(data_x360['world_sales']))\n",
    "print(\"Коэффициент Пирсона корреляции между продажей игр для X360 и оценками пользователей:\",\n",
    "               data_x360['user_score'].corr(data_x360['world_sales']))"
   ]
  },
  {
   "cell_type": "markdown",
   "metadata": {},
   "source": [
    "Можно сделать вывод, что нет зависимости между количеством продаж игр для платформы X360 и оценками от пользователей, и наблюдается тенденция к увеличению продаж игр при высоких оценках критиков, но явной корреляции тоже нет. Посмотрим, как обстоит дело с такими же зависимостями по другим популярным платформам:"
   ]
  },
  {
   "cell_type": "code",
   "execution_count": 31,
   "metadata": {},
   "outputs": [
    {
     "name": "stdout",
     "output_type": "stream",
     "text": [
      "Корреляция между количеством продаж игр и оценкой пользователей по первым 5 платформам:\n"
     ]
    },
    {
     "data": {
      "text/plain": [
       "'PS4'"
      ]
     },
     "metadata": {},
     "output_type": "display_data"
    },
    {
     "data": {
      "text/plain": [
       "[             world_sales  user_score\n",
       " world_sales     1.000000   -0.031957\n",
       " user_score     -0.031957    1.000000]"
      ]
     },
     "metadata": {},
     "output_type": "display_data"
    },
    {
     "data": {
      "text/plain": [
       "'PS3'"
      ]
     },
     "metadata": {},
     "output_type": "display_data"
    },
    {
     "data": {
      "text/plain": [
       "[             world_sales  user_score\n",
       " world_sales     1.000000    0.002394\n",
       " user_score      0.002394    1.000000]"
      ]
     },
     "metadata": {},
     "output_type": "display_data"
    },
    {
     "data": {
      "text/plain": [
       "'XOne'"
      ]
     },
     "metadata": {},
     "output_type": "display_data"
    },
    {
     "data": {
      "text/plain": [
       "[             world_sales  user_score\n",
       " world_sales     1.000000   -0.068925\n",
       " user_score     -0.068925    1.000000]"
      ]
     },
     "metadata": {},
     "output_type": "display_data"
    },
    {
     "data": {
      "text/plain": [
       "'3DS'"
      ]
     },
     "metadata": {},
     "output_type": "display_data"
    },
    {
     "data": {
      "text/plain": [
       "[             world_sales  user_score\n",
       " world_sales     1.000000    0.241504\n",
       " user_score      0.241504    1.000000]"
      ]
     },
     "metadata": {},
     "output_type": "display_data"
    },
    {
     "data": {
      "text/plain": [
       "'X360'"
      ]
     },
     "metadata": {},
     "output_type": "display_data"
    },
    {
     "data": {
      "text/plain": [
       "[             world_sales  user_score\n",
       " world_sales     1.000000   -0.011742\n",
       " user_score     -0.011742    1.000000]"
      ]
     },
     "metadata": {},
     "output_type": "display_data"
    },
    {
     "name": "stdout",
     "output_type": "stream",
     "text": [
      "\n",
      "Корреляция между количеством продаж игр и оценкой критиков по первым 5 платформам:\n"
     ]
    },
    {
     "data": {
      "text/plain": [
       "'PS4'"
      ]
     },
     "metadata": {},
     "output_type": "display_data"
    },
    {
     "data": {
      "text/plain": [
       "[              world_sales  critic_score\n",
       " world_sales      1.000000      0.406568\n",
       " critic_score     0.406568      1.000000]"
      ]
     },
     "metadata": {},
     "output_type": "display_data"
    },
    {
     "data": {
      "text/plain": [
       "'PS3'"
      ]
     },
     "metadata": {},
     "output_type": "display_data"
    },
    {
     "data": {
      "text/plain": [
       "[              world_sales  critic_score\n",
       " world_sales      1.000000      0.334285\n",
       " critic_score     0.334285      1.000000]"
      ]
     },
     "metadata": {},
     "output_type": "display_data"
    },
    {
     "data": {
      "text/plain": [
       "'XOne'"
      ]
     },
     "metadata": {},
     "output_type": "display_data"
    },
    {
     "data": {
      "text/plain": [
       "[              world_sales  critic_score\n",
       " world_sales      1.000000      0.416998\n",
       " critic_score     0.416998      1.000000]"
      ]
     },
     "metadata": {},
     "output_type": "display_data"
    },
    {
     "data": {
      "text/plain": [
       "'3DS'"
      ]
     },
     "metadata": {},
     "output_type": "display_data"
    },
    {
     "data": {
      "text/plain": [
       "[              world_sales  critic_score\n",
       " world_sales      1.000000      0.357057\n",
       " critic_score     0.357057      1.000000]"
      ]
     },
     "metadata": {},
     "output_type": "display_data"
    },
    {
     "data": {
      "text/plain": [
       "'X360'"
      ]
     },
     "metadata": {},
     "output_type": "display_data"
    },
    {
     "data": {
      "text/plain": [
       "[              world_sales  critic_score\n",
       " world_sales      1.000000      0.350345\n",
       " critic_score     0.350345      1.000000]"
      ]
     },
     "metadata": {},
     "output_type": "display_data"
    }
   ],
   "source": [
    "top_5 = data.groupby('platform').agg({'world_sales':'sum'}).sort_values('world_sales', ascending = False).head().index\n",
    "\n",
    "print('Корреляция между количеством продаж игр и оценкой пользователей по первым 5 платформам:')\n",
    "for platform in top_5:\n",
    "    display(platform, [data.query('platform == @platform')[['world_sales', 'user_score']].corr()])\n",
    "print('')    \n",
    "print('Корреляция между количеством продаж игр и оценкой критиков по первым 5 платформам:')\n",
    "for platform in top_5:\n",
    "    display(platform, [data.query('platform == @platform')[['world_sales', 'critic_score']].corr()])        "
   ]
  },
  {
   "cell_type": "markdown",
   "metadata": {},
   "source": [
    "Кажется, что никакой корреляции по отзывам пользователей с продажами не наблюдается, кроме тенденции к корреляции у 3DS. А вот по хорошим отзывам критиков можно сказать, что тенденция к повышению продаж есть у всех популярных платформ. Графики решил не выводить, так как на них ничего нового мы не увидим, будет плюс-минус как у X360.\n",
    "\n",
    "Полагаю, что оценка от критиков выходит раньше, чем от пользователей. И некоторые геймеры действительно ориентируются на оценку рецензии на игру и после этого покупают ее. То есть игра вышла, есть какая-то оценка критиков хорошая, продажи по игре растут, потом оказывается, что пользователям она не особо понравилась, но продажи состоялись."
   ]
  },
  {
   "cell_type": "markdown",
   "metadata": {},
   "source": [
    "Посмотрим на общее распределение игр по жанрам. Выделим хорошо продаваемые и не очень продаваемые жанры, а также определим, что на это может влиять:"
   ]
  },
  {
   "cell_type": "code",
   "execution_count": 32,
   "metadata": {},
   "outputs": [
    {
     "data": {
      "text/plain": [
       "Action          769\n",
       "Role-Playing    292\n",
       "Adventure       245\n",
       "Sports          214\n",
       "Shooter         187\n",
       "Misc            156\n",
       "Racing           85\n",
       "Fighting         80\n",
       "Platform         74\n",
       "Simulation       62\n",
       "Strategy         56\n",
       "Puzzle           17\n",
       "Name: genre, dtype: int64"
      ]
     },
     "execution_count": 32,
     "metadata": {},
     "output_type": "execute_result"
    }
   ],
   "source": [
    "# разбивка количества игр по жанрам\n",
    "data['genre'].value_counts()"
   ]
  },
  {
   "cell_type": "code",
   "execution_count": 33,
   "metadata": {},
   "outputs": [
    {
     "data": {
      "text/html": [
       "<div>\n",
       "<style scoped>\n",
       "    .dataframe tbody tr th:only-of-type {\n",
       "        vertical-align: middle;\n",
       "    }\n",
       "\n",
       "    .dataframe tbody tr th {\n",
       "        vertical-align: top;\n",
       "    }\n",
       "\n",
       "    .dataframe thead th {\n",
       "        text-align: right;\n",
       "    }\n",
       "</style>\n",
       "<table border=\"1\" class=\"dataframe\">\n",
       "  <thead>\n",
       "    <tr style=\"text-align: right;\">\n",
       "      <th></th>\n",
       "      <th>eu_sales</th>\n",
       "      <th>jp_sales</th>\n",
       "      <th>na_sales</th>\n",
       "      <th>other_sales</th>\n",
       "      <th>world_sales</th>\n",
       "    </tr>\n",
       "    <tr>\n",
       "      <th>genre</th>\n",
       "      <th></th>\n",
       "      <th></th>\n",
       "      <th></th>\n",
       "      <th></th>\n",
       "      <th></th>\n",
       "    </tr>\n",
       "  </thead>\n",
       "  <tbody>\n",
       "    <tr>\n",
       "      <td>Action</td>\n",
       "      <td>118.61</td>\n",
       "      <td>40.49</td>\n",
       "      <td>126.13</td>\n",
       "      <td>37.27</td>\n",
       "      <td>322.50</td>\n",
       "    </tr>\n",
       "    <tr>\n",
       "      <td>Shooter</td>\n",
       "      <td>87.86</td>\n",
       "      <td>6.61</td>\n",
       "      <td>109.74</td>\n",
       "      <td>28.77</td>\n",
       "      <td>232.98</td>\n",
       "    </tr>\n",
       "    <tr>\n",
       "      <td>Sports</td>\n",
       "      <td>60.52</td>\n",
       "      <td>5.41</td>\n",
       "      <td>65.27</td>\n",
       "      <td>19.45</td>\n",
       "      <td>150.65</td>\n",
       "    </tr>\n",
       "    <tr>\n",
       "      <td>Role-Playing</td>\n",
       "      <td>36.97</td>\n",
       "      <td>51.04</td>\n",
       "      <td>46.40</td>\n",
       "      <td>11.48</td>\n",
       "      <td>145.89</td>\n",
       "    </tr>\n",
       "    <tr>\n",
       "      <td>Misc</td>\n",
       "      <td>20.04</td>\n",
       "      <td>9.44</td>\n",
       "      <td>27.49</td>\n",
       "      <td>6.09</td>\n",
       "      <td>63.06</td>\n",
       "    </tr>\n",
       "    <tr>\n",
       "      <td>Platform</td>\n",
       "      <td>15.58</td>\n",
       "      <td>4.79</td>\n",
       "      <td>18.14</td>\n",
       "      <td>4.12</td>\n",
       "      <td>42.63</td>\n",
       "    </tr>\n",
       "    <tr>\n",
       "      <td>Racing</td>\n",
       "      <td>20.19</td>\n",
       "      <td>2.30</td>\n",
       "      <td>12.96</td>\n",
       "      <td>4.44</td>\n",
       "      <td>39.89</td>\n",
       "    </tr>\n",
       "    <tr>\n",
       "      <td>Fighting</td>\n",
       "      <td>8.55</td>\n",
       "      <td>7.65</td>\n",
       "      <td>15.55</td>\n",
       "      <td>3.56</td>\n",
       "      <td>35.31</td>\n",
       "    </tr>\n",
       "    <tr>\n",
       "      <td>Adventure</td>\n",
       "      <td>8.25</td>\n",
       "      <td>5.82</td>\n",
       "      <td>7.14</td>\n",
       "      <td>2.43</td>\n",
       "      <td>23.64</td>\n",
       "    </tr>\n",
       "    <tr>\n",
       "      <td>Simulation</td>\n",
       "      <td>10.92</td>\n",
       "      <td>4.52</td>\n",
       "      <td>4.86</td>\n",
       "      <td>1.46</td>\n",
       "      <td>21.76</td>\n",
       "    </tr>\n",
       "    <tr>\n",
       "      <td>Strategy</td>\n",
       "      <td>4.22</td>\n",
       "      <td>1.77</td>\n",
       "      <td>3.28</td>\n",
       "      <td>0.81</td>\n",
       "      <td>10.08</td>\n",
       "    </tr>\n",
       "    <tr>\n",
       "      <td>Puzzle</td>\n",
       "      <td>1.00</td>\n",
       "      <td>1.18</td>\n",
       "      <td>0.83</td>\n",
       "      <td>0.16</td>\n",
       "      <td>3.17</td>\n",
       "    </tr>\n",
       "  </tbody>\n",
       "</table>\n",
       "</div>"
      ],
      "text/plain": [
       "              eu_sales  jp_sales  na_sales  other_sales  world_sales\n",
       "genre                                                               \n",
       "Action          118.61     40.49    126.13        37.27       322.50\n",
       "Shooter          87.86      6.61    109.74        28.77       232.98\n",
       "Sports           60.52      5.41     65.27        19.45       150.65\n",
       "Role-Playing     36.97     51.04     46.40        11.48       145.89\n",
       "Misc             20.04      9.44     27.49         6.09        63.06\n",
       "Platform         15.58      4.79     18.14         4.12        42.63\n",
       "Racing           20.19      2.30     12.96         4.44        39.89\n",
       "Fighting          8.55      7.65     15.55         3.56        35.31\n",
       "Adventure         8.25      5.82      7.14         2.43        23.64\n",
       "Simulation       10.92      4.52      4.86         1.46        21.76\n",
       "Strategy          4.22      1.77      3.28         0.81        10.08\n",
       "Puzzle            1.00      1.18      0.83         0.16         3.17"
      ]
     },
     "execution_count": 33,
     "metadata": {},
     "output_type": "execute_result"
    }
   ],
   "source": [
    "# продажа игр по жанрам в регионах и суммарно\n",
    "data.pivot_table(index='genre', values=['na_sales', 'eu_sales', 'jp_sales', 'other_sales', 'world_sales'],\n",
    "                 aggfunc='sum').sort_values('world_sales', ascending = False)"
   ]
  },
  {
   "cell_type": "markdown",
   "metadata": {},
   "source": [
    "Видно, что наибольшие продажи почти по всем популярным жанрам в Северной Америке, следом идут продажи в Европе. Но есть и интересное исключение, в Японии крайне популярен жанр Role-Playing, может с этим связано, что японцы так любят переодеваться в героев анимэ и игр. \n",
    "\n",
    "Из общих наблюдений: жанр Action самый многочисленный и продается больше всех, на втором месте по продажам жанр Shooter хотя по количеству игр он только 5-ый, жанр Sport золотая середина (многочисленный и хорошо продается), вызывает удивление жанр Adventure - он 3-ий по количеству игр, но продажи по нему в хвосте списка. Объемы продаж Strategy и Puzzle самые маленькие и таких игр действительно меньше."
   ]
  },
  {
   "cell_type": "code",
   "execution_count": 34,
   "metadata": {},
   "outputs": [
    {
     "data": {
      "image/png": "[encoded data removed]",
      "text/plain": [
       "<Figure size 1008x504 with 1 Axes>"
      ]
     },
     "metadata": {
      "needs_background": "light"
     },
     "output_type": "display_data"
    }
   ],
   "source": [
    "# смотрим пороговые значения по жанрам\n",
    "(\n",
    "    data.query('world_sales <= 2.0')\n",
    "    .boxplot(column = 'world_sales', by = 'genre', figsize=(14, 7))\n",
    ")\n",
    "plt.xlabel('Жанры игр')\n",
    "plt.ylabel('Проданные копии, млн. шт.')\n",
    "plt.suptitle('')\n",
    "plt.title('Диаграммы размаха глобальных продаж игр в разбивке по платформам');"
   ]
  },
  {
   "cell_type": "code",
   "execution_count": 35,
   "metadata": {},
   "outputs": [
    {
     "data": {
      "text/html": [
       "<div>\n",
       "<style scoped>\n",
       "    .dataframe tbody tr th:only-of-type {\n",
       "        vertical-align: middle;\n",
       "    }\n",
       "\n",
       "    .dataframe tbody tr th {\n",
       "        vertical-align: top;\n",
       "    }\n",
       "\n",
       "    .dataframe thead th {\n",
       "        text-align: right;\n",
       "    }\n",
       "</style>\n",
       "<table border=\"1\" class=\"dataframe\">\n",
       "  <thead>\n",
       "    <tr style=\"text-align: right;\">\n",
       "      <th></th>\n",
       "      <th>world_sales</th>\n",
       "    </tr>\n",
       "    <tr>\n",
       "      <th>genre</th>\n",
       "      <th></th>\n",
       "    </tr>\n",
       "  </thead>\n",
       "  <tbody>\n",
       "    <tr>\n",
       "      <td>Shooter</td>\n",
       "      <td>178.25</td>\n",
       "    </tr>\n",
       "    <tr>\n",
       "      <td>Action</td>\n",
       "      <td>166.69</td>\n",
       "    </tr>\n",
       "    <tr>\n",
       "      <td>Sports</td>\n",
       "      <td>91.33</td>\n",
       "    </tr>\n",
       "    <tr>\n",
       "      <td>Role-Playing</td>\n",
       "      <td>80.30</td>\n",
       "    </tr>\n",
       "    <tr>\n",
       "      <td>Misc</td>\n",
       "      <td>34.33</td>\n",
       "    </tr>\n",
       "    <tr>\n",
       "      <td>Racing</td>\n",
       "      <td>22.51</td>\n",
       "    </tr>\n",
       "    <tr>\n",
       "      <td>Platform</td>\n",
       "      <td>22.35</td>\n",
       "    </tr>\n",
       "    <tr>\n",
       "      <td>Fighting</td>\n",
       "      <td>15.20</td>\n",
       "    </tr>\n",
       "    <tr>\n",
       "      <td>Simulation</td>\n",
       "      <td>11.32</td>\n",
       "    </tr>\n",
       "    <tr>\n",
       "      <td>Adventure</td>\n",
       "      <td>3.30</td>\n",
       "    </tr>\n",
       "    <tr>\n",
       "      <td>Strategy</td>\n",
       "      <td>1.67</td>\n",
       "    </tr>\n",
       "    <tr>\n",
       "      <td>Puzzle</td>\n",
       "      <td>0.00</td>\n",
       "    </tr>\n",
       "  </tbody>\n",
       "</table>\n",
       "</div>"
      ],
      "text/plain": [
       "              world_sales\n",
       "genre                    \n",
       "Shooter            178.25\n",
       "Action             166.69\n",
       "Sports              91.33\n",
       "Role-Playing        80.30\n",
       "Misc                34.33\n",
       "Racing              22.51\n",
       "Platform            22.35\n",
       "Fighting            15.20\n",
       "Simulation          11.32\n",
       "Adventure            3.30\n",
       "Strategy             1.67\n",
       "Puzzle               0.00"
      ]
     },
     "execution_count": 35,
     "metadata": {},
     "output_type": "execute_result"
    }
   ],
   "source": [
    "# посмотрим влияние на продажи по жанрам с учетом выбивающихся значений (берем порог в 1.50 млн. копий)\n",
    "(\n",
    "    data.query('world_sales > 1.50')\n",
    "    .pivot_table(index='genre', values='world_sales', aggfunc='sum').sort_values('world_sales', ascending = False)\n",
    ")"
   ]
  },
  {
   "cell_type": "markdown",
   "metadata": {},
   "source": [
    "Действительно в жанре Shooter присутствует больший % игр, которые стали бестселлерами, у него же самое высокое медианное значение. В жанре Adventure медианное значение продаж самое маленькое."
   ]
  },
  {
   "cell_type": "markdown",
   "metadata": {},
   "source": [
    "### Вывод по анализу\n",
    "<a id=\"conclusion_3\"></a>\n",
    "1. Выделили характерный срок жизни платформы, за который появляется и исчезают игровая платформа - около 10 лет. При этом если сравнивать платформы одной линейки (например, PS2, PS3, PS4), то обновленная платформа PS3 вышла через 5 лет после PS2, а PS4 через 8 лет после PS3, то есть какое-то время они сосуществуют.\n",
    "2. Актуальный период данных для нашего исследования определили с 2013 года, это срок выхода последних платформ от Xbox и PlayStation.\n",
    "3. У платформ PS4 и XOne есть перспективы лидировать в 2017 году по продажам игр, так как они появились сравнительно недавно. Тройку лидеров продаж в 2016 году замыкает платформа 3DS, но ее срок жизни подходит к концу.\n",
    "4. Можно сказать, что медианные средние значения продаж игр по платформам не превышают 250 тыс. копий по игре. В лидерах по медианному значению продаж платформа X360. Для популярных платформ граница нормальных значений продаж за игру не превышает 1.5 млн. копий.\n",
    "5. Никакой корреляции по отзывам пользователей с продажами не наблюдается. А вот по хорошим отзывам критиков можно сказать, что тенденция к повышению продаж есть у всех самых популярных платформ (TОП-5 по продажам с 2013 года: 1) PS4 2) PS3 3) XOne 4) 3DS 5) X360).\n",
    "6. Количество проданных копий игр по определенному жанру безусловно зависит от всего количества выпущенных игр данного жанра. В лидерах по продажам в мире жанры: Action, Shooter, Sports. Лучшие продажи по этим жанрам в Северной Америке. Но есть и интересные факты - 1) в Японии крайне популярен жанр Role-Playing (и его продажи больше чем в других регионах) 2) в жанре Shooter присутствует больший % игр, которые стали бестселлерами (с выбивающимися значениями продаж) 3) в жанре Adventure выпускается много игр, но продажи по нему низкие, в том числе из-за малого количества бестселлеров."
   ]
  },
  {
   "cell_type": "markdown",
   "metadata": {},
   "source": [
    "## Портрет пользователей по регионам\n",
    "<a id=\"portrait\"></a>\n",
    "Определим для пользователей регионов (NA, EU, JP):\n",
    "*\tСамые популярные платформы (топ-5)\n",
    "*\tСамые популярные жанры (топ-5)\n",
    "*\tВлияние рейтинга ESRB на продажи"
   ]
  },
  {
   "cell_type": "code",
   "execution_count": 36,
   "metadata": {
    "scrolled": true
   },
   "outputs": [
    {
     "name": "stdout",
     "output_type": "stream",
     "text": [
      "Самые популярные платформы (топ-5) для региона NA:\n"
     ]
    },
    {
     "data": {
      "text/html": [
       "<div>\n",
       "<style scoped>\n",
       "    .dataframe tbody tr th:only-of-type {\n",
       "        vertical-align: middle;\n",
       "    }\n",
       "\n",
       "    .dataframe tbody tr th {\n",
       "        vertical-align: top;\n",
       "    }\n",
       "\n",
       "    .dataframe thead th {\n",
       "        text-align: right;\n",
       "    }\n",
       "</style>\n",
       "<table border=\"1\" class=\"dataframe\">\n",
       "  <thead>\n",
       "    <tr style=\"text-align: right;\">\n",
       "      <th></th>\n",
       "      <th>na_sales</th>\n",
       "    </tr>\n",
       "    <tr>\n",
       "      <th>platform</th>\n",
       "      <th></th>\n",
       "    </tr>\n",
       "  </thead>\n",
       "  <tbody>\n",
       "    <tr>\n",
       "      <td>PS4</td>\n",
       "      <td>108.74</td>\n",
       "    </tr>\n",
       "    <tr>\n",
       "      <td>XOne</td>\n",
       "      <td>93.12</td>\n",
       "    </tr>\n",
       "    <tr>\n",
       "      <td>X360</td>\n",
       "      <td>81.66</td>\n",
       "    </tr>\n",
       "    <tr>\n",
       "      <td>PS3</td>\n",
       "      <td>63.50</td>\n",
       "    </tr>\n",
       "    <tr>\n",
       "      <td>3DS</td>\n",
       "      <td>38.20</td>\n",
       "    </tr>\n",
       "  </tbody>\n",
       "</table>\n",
       "</div>"
      ],
      "text/plain": [
       "          na_sales\n",
       "platform          \n",
       "PS4         108.74\n",
       "XOne         93.12\n",
       "X360         81.66\n",
       "PS3          63.50\n",
       "3DS          38.20"
      ]
     },
     "metadata": {},
     "output_type": "display_data"
    },
    {
     "name": "stdout",
     "output_type": "stream",
     "text": [
      "\n",
      "Самые популярные жанры (топ-5) для региона NA:\n"
     ]
    },
    {
     "data": {
      "text/html": [
       "<div>\n",
       "<style scoped>\n",
       "    .dataframe tbody tr th:only-of-type {\n",
       "        vertical-align: middle;\n",
       "    }\n",
       "\n",
       "    .dataframe tbody tr th {\n",
       "        vertical-align: top;\n",
       "    }\n",
       "\n",
       "    .dataframe thead th {\n",
       "        text-align: right;\n",
       "    }\n",
       "</style>\n",
       "<table border=\"1\" class=\"dataframe\">\n",
       "  <thead>\n",
       "    <tr style=\"text-align: right;\">\n",
       "      <th></th>\n",
       "      <th>na_sales</th>\n",
       "    </tr>\n",
       "    <tr>\n",
       "      <th>genre</th>\n",
       "      <th></th>\n",
       "    </tr>\n",
       "  </thead>\n",
       "  <tbody>\n",
       "    <tr>\n",
       "      <td>Action</td>\n",
       "      <td>126.13</td>\n",
       "    </tr>\n",
       "    <tr>\n",
       "      <td>Shooter</td>\n",
       "      <td>109.74</td>\n",
       "    </tr>\n",
       "    <tr>\n",
       "      <td>Sports</td>\n",
       "      <td>65.27</td>\n",
       "    </tr>\n",
       "    <tr>\n",
       "      <td>Role-Playing</td>\n",
       "      <td>46.40</td>\n",
       "    </tr>\n",
       "    <tr>\n",
       "      <td>Misc</td>\n",
       "      <td>27.49</td>\n",
       "    </tr>\n",
       "  </tbody>\n",
       "</table>\n",
       "</div>"
      ],
      "text/plain": [
       "              na_sales\n",
       "genre                 \n",
       "Action          126.13\n",
       "Shooter         109.74\n",
       "Sports           65.27\n",
       "Role-Playing     46.40\n",
       "Misc             27.49"
      ]
     },
     "metadata": {},
     "output_type": "display_data"
    },
    {
     "name": "stdout",
     "output_type": "stream",
     "text": [
      "\n",
      "Самые популярные платформы (топ-5) для региона EU:\n"
     ]
    },
    {
     "data": {
      "text/html": [
       "<div>\n",
       "<style scoped>\n",
       "    .dataframe tbody tr th:only-of-type {\n",
       "        vertical-align: middle;\n",
       "    }\n",
       "\n",
       "    .dataframe tbody tr th {\n",
       "        vertical-align: top;\n",
       "    }\n",
       "\n",
       "    .dataframe thead th {\n",
       "        text-align: right;\n",
       "    }\n",
       "</style>\n",
       "<table border=\"1\" class=\"dataframe\">\n",
       "  <thead>\n",
       "    <tr style=\"text-align: right;\">\n",
       "      <th></th>\n",
       "      <th>eu_sales</th>\n",
       "    </tr>\n",
       "    <tr>\n",
       "      <th>platform</th>\n",
       "      <th></th>\n",
       "    </tr>\n",
       "  </thead>\n",
       "  <tbody>\n",
       "    <tr>\n",
       "      <td>PS4</td>\n",
       "      <td>141.09</td>\n",
       "    </tr>\n",
       "    <tr>\n",
       "      <td>PS3</td>\n",
       "      <td>67.81</td>\n",
       "    </tr>\n",
       "    <tr>\n",
       "      <td>XOne</td>\n",
       "      <td>51.59</td>\n",
       "    </tr>\n",
       "    <tr>\n",
       "      <td>X360</td>\n",
       "      <td>42.52</td>\n",
       "    </tr>\n",
       "    <tr>\n",
       "      <td>3DS</td>\n",
       "      <td>30.96</td>\n",
       "    </tr>\n",
       "  </tbody>\n",
       "</table>\n",
       "</div>"
      ],
      "text/plain": [
       "          eu_sales\n",
       "platform          \n",
       "PS4         141.09\n",
       "PS3          67.81\n",
       "XOne         51.59\n",
       "X360         42.52\n",
       "3DS          30.96"
      ]
     },
     "metadata": {},
     "output_type": "display_data"
    },
    {
     "name": "stdout",
     "output_type": "stream",
     "text": [
      "\n",
      "Самые популярные жанры (топ-5) для региона EU:\n"
     ]
    },
    {
     "data": {
      "text/html": [
       "<div>\n",
       "<style scoped>\n",
       "    .dataframe tbody tr th:only-of-type {\n",
       "        vertical-align: middle;\n",
       "    }\n",
       "\n",
       "    .dataframe tbody tr th {\n",
       "        vertical-align: top;\n",
       "    }\n",
       "\n",
       "    .dataframe thead th {\n",
       "        text-align: right;\n",
       "    }\n",
       "</style>\n",
       "<table border=\"1\" class=\"dataframe\">\n",
       "  <thead>\n",
       "    <tr style=\"text-align: right;\">\n",
       "      <th></th>\n",
       "      <th>eu_sales</th>\n",
       "    </tr>\n",
       "    <tr>\n",
       "      <th>genre</th>\n",
       "      <th></th>\n",
       "    </tr>\n",
       "  </thead>\n",
       "  <tbody>\n",
       "    <tr>\n",
       "      <td>Action</td>\n",
       "      <td>118.61</td>\n",
       "    </tr>\n",
       "    <tr>\n",
       "      <td>Shooter</td>\n",
       "      <td>87.86</td>\n",
       "    </tr>\n",
       "    <tr>\n",
       "      <td>Sports</td>\n",
       "      <td>60.52</td>\n",
       "    </tr>\n",
       "    <tr>\n",
       "      <td>Role-Playing</td>\n",
       "      <td>36.97</td>\n",
       "    </tr>\n",
       "    <tr>\n",
       "      <td>Racing</td>\n",
       "      <td>20.19</td>\n",
       "    </tr>\n",
       "  </tbody>\n",
       "</table>\n",
       "</div>"
      ],
      "text/plain": [
       "              eu_sales\n",
       "genre                 \n",
       "Action          118.61\n",
       "Shooter          87.86\n",
       "Sports           60.52\n",
       "Role-Playing     36.97\n",
       "Racing           20.19"
      ]
     },
     "metadata": {},
     "output_type": "display_data"
    },
    {
     "name": "stdout",
     "output_type": "stream",
     "text": [
      "\n",
      "Самые популярные платформы (топ-5) для региона JP:\n"
     ]
    },
    {
     "data": {
      "text/html": [
       "<div>\n",
       "<style scoped>\n",
       "    .dataframe tbody tr th:only-of-type {\n",
       "        vertical-align: middle;\n",
       "    }\n",
       "\n",
       "    .dataframe tbody tr th {\n",
       "        vertical-align: top;\n",
       "    }\n",
       "\n",
       "    .dataframe thead th {\n",
       "        text-align: right;\n",
       "    }\n",
       "</style>\n",
       "<table border=\"1\" class=\"dataframe\">\n",
       "  <thead>\n",
       "    <tr style=\"text-align: right;\">\n",
       "      <th></th>\n",
       "      <th>jp_sales</th>\n",
       "    </tr>\n",
       "    <tr>\n",
       "      <th>platform</th>\n",
       "      <th></th>\n",
       "    </tr>\n",
       "  </thead>\n",
       "  <tbody>\n",
       "    <tr>\n",
       "      <td>3DS</td>\n",
       "      <td>67.81</td>\n",
       "    </tr>\n",
       "    <tr>\n",
       "      <td>PS3</td>\n",
       "      <td>23.35</td>\n",
       "    </tr>\n",
       "    <tr>\n",
       "      <td>PSV</td>\n",
       "      <td>18.59</td>\n",
       "    </tr>\n",
       "    <tr>\n",
       "      <td>PS4</td>\n",
       "      <td>15.96</td>\n",
       "    </tr>\n",
       "    <tr>\n",
       "      <td>WiiU</td>\n",
       "      <td>10.88</td>\n",
       "    </tr>\n",
       "  </tbody>\n",
       "</table>\n",
       "</div>"
      ],
      "text/plain": [
       "          jp_sales\n",
       "platform          \n",
       "3DS          67.81\n",
       "PS3          23.35\n",
       "PSV          18.59\n",
       "PS4          15.96\n",
       "WiiU         10.88"
      ]
     },
     "metadata": {},
     "output_type": "display_data"
    },
    {
     "name": "stdout",
     "output_type": "stream",
     "text": [
      "\n",
      "Самые популярные жанры (топ-5) для региона JP:\n"
     ]
    },
    {
     "data": {
      "text/html": [
       "<div>\n",
       "<style scoped>\n",
       "    .dataframe tbody tr th:only-of-type {\n",
       "        vertical-align: middle;\n",
       "    }\n",
       "\n",
       "    .dataframe tbody tr th {\n",
       "        vertical-align: top;\n",
       "    }\n",
       "\n",
       "    .dataframe thead th {\n",
       "        text-align: right;\n",
       "    }\n",
       "</style>\n",
       "<table border=\"1\" class=\"dataframe\">\n",
       "  <thead>\n",
       "    <tr style=\"text-align: right;\">\n",
       "      <th></th>\n",
       "      <th>jp_sales</th>\n",
       "    </tr>\n",
       "    <tr>\n",
       "      <th>genre</th>\n",
       "      <th></th>\n",
       "    </tr>\n",
       "  </thead>\n",
       "  <tbody>\n",
       "    <tr>\n",
       "      <td>Role-Playing</td>\n",
       "      <td>51.04</td>\n",
       "    </tr>\n",
       "    <tr>\n",
       "      <td>Action</td>\n",
       "      <td>40.49</td>\n",
       "    </tr>\n",
       "    <tr>\n",
       "      <td>Misc</td>\n",
       "      <td>9.44</td>\n",
       "    </tr>\n",
       "    <tr>\n",
       "      <td>Fighting</td>\n",
       "      <td>7.65</td>\n",
       "    </tr>\n",
       "    <tr>\n",
       "      <td>Shooter</td>\n",
       "      <td>6.61</td>\n",
       "    </tr>\n",
       "  </tbody>\n",
       "</table>\n",
       "</div>"
      ],
      "text/plain": [
       "              jp_sales\n",
       "genre                 \n",
       "Role-Playing     51.04\n",
       "Action           40.49\n",
       "Misc              9.44\n",
       "Fighting          7.65\n",
       "Shooter           6.61"
      ]
     },
     "metadata": {},
     "output_type": "display_data"
    },
    {
     "name": "stdout",
     "output_type": "stream",
     "text": [
      "\n"
     ]
    }
   ],
   "source": [
    "# автоматизирую вывод по первым двум вопросам через вложенный цикл по словарю\n",
    "\n",
    "regions_dict = {'NA':'na_sales', 'EU':'eu_sales', 'JP':'jp_sales'}\n",
    "for i,j in regions_dict.items():\n",
    "    print(f\"Самые популярные платформы (топ-5) для региона {i}:\")\n",
    "    display(data.groupby('platform').agg({j:'sum'}).sort_values(j, ascending = False).head())\n",
    "    print('')\n",
    "    print(f\"Самые популярные жанры (топ-5) для региона {i}:\")\n",
    "    display(data.groupby('genre').agg({j:'sum'}).sort_values(j, ascending = False).head())\n",
    "    print('')"
   ]
  },
  {
   "cell_type": "markdown",
   "metadata": {},
   "source": [
    "Строим пай чарт для анализа влияния рейтинга ESRB на продажи по регионам:"
   ]
  },
  {
   "cell_type": "code",
   "execution_count": 37,
   "metadata": {},
   "outputs": [
    {
     "name": "stdout",
     "output_type": "stream",
     "text": [
      "Пай чарт долей продаж по рейтингу ESRB для региона NA:\n"
     ]
    },
    {
     "data": {
      "image/png": "[encoded data removed]",
      "text/plain": [
       "<Figure size 504x504 with 1 Axes>"
      ]
     },
     "metadata": {},
     "output_type": "display_data"
    },
    {
     "name": "stdout",
     "output_type": "stream",
     "text": [
      "\n",
      "Пай чарт долей продаж по рейтингу ESRB для региона EU:\n"
     ]
    },
    {
     "data": {
      "image/png": "[encoded data removed]",
      "text/plain": [
       "<Figure size 504x504 with 1 Axes>"
      ]
     },
     "metadata": {},
     "output_type": "display_data"
    },
    {
     "name": "stdout",
     "output_type": "stream",
     "text": [
      "\n",
      "Пай чарт долей продаж по рейтингу ESRB для региона JP:\n"
     ]
    },
    {
     "data": {
      "image/png": "[encoded data removed]",
      "text/plain": [
       "<Figure size 504x504 with 1 Axes>"
      ]
     },
     "metadata": {},
     "output_type": "display_data"
    },
    {
     "name": "stdout",
     "output_type": "stream",
     "text": [
      "\n"
     ]
    }
   ],
   "source": [
    "for i,j in regions_dict.items():\n",
    "    print(f\"Пай чарт долей продаж по рейтингу ESRB для региона {i}:\")\n",
    "    data.groupby(['rating']).sum()[j].loc[lambda x: x > 0].plot(kind='pie', y=j, figsize=(7, 7), autopct='%1.2f%%')\n",
    "    #data.groupby('rating').agg({j:'sum'})[j].loc[lambda x: x > 0].plot(kind='pie', y=j, figsize=(7, 7), autopct='%1.1f%%')\n",
    "    plt.legend(bbox_to_anchor=(1,1))\n",
    "    plt.show()\n",
    "    print('')"
   ]
  },
  {
   "cell_type": "code",
   "execution_count": 38,
   "metadata": {},
   "outputs": [
    {
     "name": "stdout",
     "output_type": "stream",
     "text": [
      "Продажи по рейтингу ESRB для региона NA:\n"
     ]
    },
    {
     "data": {
      "image/png": "[encoded data removed]",
      "text/plain": [
       "<Figure size 504x504 with 1 Axes>"
      ]
     },
     "metadata": {
      "needs_background": "light"
     },
     "output_type": "display_data"
    },
    {
     "name": "stdout",
     "output_type": "stream",
     "text": [
      "\n",
      "Продажи по рейтингу ESRB для региона EU:\n"
     ]
    },
    {
     "data": {
      "image/png": "[encoded data removed]",
      "text/plain": [
       "<Figure size 504x504 with 1 Axes>"
      ]
     },
     "metadata": {
      "needs_background": "light"
     },
     "output_type": "display_data"
    },
    {
     "name": "stdout",
     "output_type": "stream",
     "text": [
      "\n",
      "Продажи по рейтингу ESRB для региона JP:\n"
     ]
    },
    {
     "data": {
      "image/png": "[encoded data removed]",
      "text/plain": [
       "<Figure size 504x504 with 1 Axes>"
      ]
     },
     "metadata": {
      "needs_background": "light"
     },
     "output_type": "display_data"
    },
    {
     "name": "stdout",
     "output_type": "stream",
     "text": [
      "\n"
     ]
    }
   ],
   "source": [
    "# представление в столбчатых диаграммах\n",
    "for i,j in regions_dict.items():\n",
    "    print(f\"Продажи по рейтингу ESRB для региона {i}:\")\n",
    "    data.groupby(['rating']).sum().sort_values(j, ascending = False)[j].loc[lambda x: x > 0].plot(kind='barh', y=j, figsize=(7, 7))\n",
    "    plt.ylabel('Название возрастной группы (рейтинга)')\n",
    "    plt.xlabel('Проданные копии, млн. шт.')\n",
    "    plt.show()\n",
    "    print('')"
   ]
  },
  {
   "cell_type": "code",
   "execution_count": 39,
   "metadata": {},
   "outputs": [
    {
     "data": {
      "text/html": [
       "<div>\n",
       "<style scoped>\n",
       "    .dataframe tbody tr th:only-of-type {\n",
       "        vertical-align: middle;\n",
       "    }\n",
       "\n",
       "    .dataframe tbody tr th {\n",
       "        vertical-align: top;\n",
       "    }\n",
       "\n",
       "    .dataframe thead tr th {\n",
       "        text-align: left;\n",
       "    }\n",
       "\n",
       "    .dataframe thead tr:last-of-type th {\n",
       "        text-align: right;\n",
       "    }\n",
       "</style>\n",
       "<table border=\"1\" class=\"dataframe\">\n",
       "  <thead>\n",
       "    <tr>\n",
       "      <th></th>\n",
       "      <th colspan=\"3\" halign=\"left\">sum</th>\n",
       "      <th colspan=\"3\" halign=\"left\">median</th>\n",
       "    </tr>\n",
       "    <tr>\n",
       "      <th></th>\n",
       "      <th>eu_sales</th>\n",
       "      <th>jp_sales</th>\n",
       "      <th>na_sales</th>\n",
       "      <th>eu_sales</th>\n",
       "      <th>jp_sales</th>\n",
       "      <th>na_sales</th>\n",
       "    </tr>\n",
       "    <tr>\n",
       "      <th>rating</th>\n",
       "      <th></th>\n",
       "      <th></th>\n",
       "      <th></th>\n",
       "      <th></th>\n",
       "      <th></th>\n",
       "      <th></th>\n",
       "    </tr>\n",
       "  </thead>\n",
       "  <tbody>\n",
       "    <tr>\n",
       "      <td>Adults Only 18+</td>\n",
       "      <td>0.00</td>\n",
       "      <td>0.00</td>\n",
       "      <td>0.00</td>\n",
       "      <td>NaN</td>\n",
       "      <td>NaN</td>\n",
       "      <td>NaN</td>\n",
       "    </tr>\n",
       "    <tr>\n",
       "      <td>Early Childhood</td>\n",
       "      <td>0.00</td>\n",
       "      <td>0.00</td>\n",
       "      <td>0.00</td>\n",
       "      <td>NaN</td>\n",
       "      <td>NaN</td>\n",
       "      <td>NaN</td>\n",
       "    </tr>\n",
       "    <tr>\n",
       "      <td>Everyone</td>\n",
       "      <td>83.36</td>\n",
       "      <td>15.14</td>\n",
       "      <td>79.05</td>\n",
       "      <td>0.055</td>\n",
       "      <td>0.00</td>\n",
       "      <td>0.050</td>\n",
       "    </tr>\n",
       "    <tr>\n",
       "      <td>Everyone 10+</td>\n",
       "      <td>42.69</td>\n",
       "      <td>5.89</td>\n",
       "      <td>54.24</td>\n",
       "      <td>0.100</td>\n",
       "      <td>0.00</td>\n",
       "      <td>0.120</td>\n",
       "    </tr>\n",
       "    <tr>\n",
       "      <td>Kids to Adults</td>\n",
       "      <td>0.00</td>\n",
       "      <td>0.00</td>\n",
       "      <td>0.00</td>\n",
       "      <td>NaN</td>\n",
       "      <td>NaN</td>\n",
       "      <td>NaN</td>\n",
       "    </tr>\n",
       "    <tr>\n",
       "      <td>Mature 17+</td>\n",
       "      <td>145.80</td>\n",
       "      <td>14.11</td>\n",
       "      <td>165.29</td>\n",
       "      <td>0.130</td>\n",
       "      <td>0.00</td>\n",
       "      <td>0.135</td>\n",
       "    </tr>\n",
       "    <tr>\n",
       "      <td>Rating Pending</td>\n",
       "      <td>0.00</td>\n",
       "      <td>0.00</td>\n",
       "      <td>0.00</td>\n",
       "      <td>NaN</td>\n",
       "      <td>NaN</td>\n",
       "      <td>NaN</td>\n",
       "    </tr>\n",
       "    <tr>\n",
       "      <td>Teen</td>\n",
       "      <td>41.95</td>\n",
       "      <td>20.59</td>\n",
       "      <td>49.79</td>\n",
       "      <td>0.040</td>\n",
       "      <td>0.01</td>\n",
       "      <td>0.040</td>\n",
       "    </tr>\n",
       "    <tr>\n",
       "      <td>Unknown</td>\n",
       "      <td>78.91</td>\n",
       "      <td>85.29</td>\n",
       "      <td>89.42</td>\n",
       "      <td>0.000</td>\n",
       "      <td>0.02</td>\n",
       "      <td>0.000</td>\n",
       "    </tr>\n",
       "  </tbody>\n",
       "</table>\n",
       "</div>"
      ],
      "text/plain": [
       "                     sum                     median                  \n",
       "                eu_sales jp_sales na_sales eu_sales jp_sales na_sales\n",
       "rating                                                               \n",
       "Adults Only 18+     0.00     0.00     0.00      NaN      NaN      NaN\n",
       "Early Childhood     0.00     0.00     0.00      NaN      NaN      NaN\n",
       "Everyone           83.36    15.14    79.05    0.055     0.00    0.050\n",
       "Everyone 10+       42.69     5.89    54.24    0.100     0.00    0.120\n",
       "Kids to Adults      0.00     0.00     0.00      NaN      NaN      NaN\n",
       "Mature 17+        145.80    14.11   165.29    0.130     0.00    0.135\n",
       "Rating Pending      0.00     0.00     0.00      NaN      NaN      NaN\n",
       "Teen               41.95    20.59    49.79    0.040     0.01    0.040\n",
       "Unknown            78.91    85.29    89.42    0.000     0.02    0.000"
      ]
     },
     "execution_count": 39,
     "metadata": {},
     "output_type": "execute_result"
    }
   ],
   "source": [
    "# смотрим абсолютные продажи и медианные значения для рейтингов\n",
    "data.pivot_table(index='rating', values=['na_sales', 'eu_sales', 'jp_sales'],\n",
    "                 aggfunc=['sum', 'median'])"
   ]
  },
  {
   "cell_type": "markdown",
   "metadata": {},
   "source": [
    "Большая часть игр японского региона не имеет рейтинга. Скорее всего потому что для японского рынка выходит много отдельных игр (которые не распространяются в других регионах) и у них есть свой рейтинг CERO, а рейтинг ESRB в основном для американского рынка."
   ]
  },
  {
   "cell_type": "markdown",
   "metadata": {},
   "source": [
    "### Вывод по региональным портретам\n",
    "<a id=\"conclusion_4\"></a>\n",
    "В Северной Америке и Европе популярнее всего оказалась платформа PS4, но при этом в Северной Америке сильнее всего позиции у Xbox (если брать суммарные продажи игр для XOne и X360), а в Японии с большим отрывом лидирует Nintendo (3DS). По популярным жанрам в Северной Америке и Европе разница только в 5-ом места (Misc в NA и Racing в EU), а в остальном совпадают с выводами из предыдущего анализа (\"В лидерах по продажам в мире жанры: Action, Shooter, Sports\"). В Японии интересный топ-5: на первом месте жанр Role-Playing, в 5-ке есть жанр Fighting и нет Sports.\n",
    "\n",
    "Касательно влияния рейтинга ESRB:\n",
    "\n",
    "Для Северной Америки - 1) Mature 17+ (37.76%), 2) Unknown (20.43%), 3) Everyone (18.06%), 4) Everyone 10+ (12.39%), 5) Teen (11.37%);\n",
    "\n",
    "Для Европы - 1) Mature 17+ (37.13%), 2) Everyone (21.23%), 3) Unknown (20.09%), 4) Everyone 10+ (10.87%), 5) Teen (10.68%);\n",
    "\n",
    "Для Японии - 1) Unknown (60.48%), 2) Teen (14.60%), 3) Everyone (10.74%), 4) Mature 17+ (10.01%), 5) Everyone 10+ (4.18%).\n",
    "\n",
    "По Северной Америке и Европе картина похожая, в Японии очень много игр без наличия этого рейтинга. Лучшие медианные значения продаж по рейтингам Mature 17+ и Everyone 10+."
   ]
  },
  {
   "cell_type": "markdown",
   "metadata": {},
   "source": [
    "## Проверка гипотез\n",
    "<a id=\"hypotheses\"></a>"
   ]
  },
  {
   "cell_type": "markdown",
   "metadata": {},
   "source": [
    "### Проверка первой гипотезы\n",
    "\n",
    "1-ая гипотеза звучит так - \"Средние пользовательские рейтинги платформ Xbox One и PC одинаковые\".\n",
    "Примем за нулевую гипотезу H₀ - Средние рейтинги по user_score у платформ XOne и PC равны.\n",
    "Примем за алтернативную гипотезу H₁ - Средние рейтинги по user_score у платформ XOne и PC не равны.\n",
    "\n",
    "Посмотрим на средние значения рейтингов игр по каждой платформе, стандартные отклонения и оценим распределения (перед этим избавимся от отсутствующих значений user_score в выборке):"
   ]
  },
  {
   "cell_type": "code",
   "execution_count": 40,
   "metadata": {},
   "outputs": [
    {
     "name": "stdout",
     "output_type": "stream",
     "text": [
      "Средний пользовательский рейтинг по платформе XOne: 6.52\n",
      "Стандартное отклонение пользовательского рейтинга по платформе XOne: 1.38\n",
      "\n",
      "Средний пользовательский рейтинг по платформе PC: 6.28\n",
      "Стандартное отклонение пользовательского рейтинга по платформе PC: 1.74\n"
     ]
    },
    {
     "data": {
      "image/png": "[encoded data removed]",
      "text/plain": [
       "<Figure size 432x288 with 1 Axes>"
      ]
     },
     "metadata": {
      "needs_background": "light"
     },
     "output_type": "display_data"
    }
   ],
   "source": [
    "data = data.dropna(subset=['user_score'])\n",
    "\n",
    "user_score_x1_avg = data.query('platform == \"XOne\"')['user_score'].mean()\n",
    "user_score_x1_var_estimate = np.var(data.query('platform == \"XOne\"')['user_score'], ddof=1)\n",
    "user_score_x1_std_deviation = np.sqrt(user_score_x1_var_estimate)\n",
    "\n",
    "user_score_pc_avg = data.query('platform == \"PC\"')['user_score'].mean()\n",
    "user_score_pc_var_estimate = np.var(data.query('platform == \"PC\"')['user_score'], ddof=1)\n",
    "user_score_pc_std_deviation = np.sqrt(user_score_pc_var_estimate)\n",
    "\n",
    "print('Средний пользовательский рейтинг по платформе XOne:', round(user_score_x1_avg, 2))\n",
    "print('Стандартное отклонение пользовательского рейтинга по платформе XOne:', round(user_score_x1_std_deviation, 2))\n",
    "print('')\n",
    "print('Средний пользовательский рейтинг по платформе PC:', round(user_score_pc_avg, 2))\n",
    "print('Стандартное отклонение пользовательского рейтинга по платформе PC:', round(user_score_pc_std_deviation, 2))\n",
    "\n",
    "# совместная гистограмма\n",
    "sns.distplot(data.query('platform == \"XOne\"')['user_score'], label='XOne')\n",
    "sns.distplot(data.query('platform == \"PC\"')['user_score'], label='PC')\n",
    "plt.xlabel('Пользовательские оценки')\n",
    "plt.ylabel('Плотность распределения')\n",
    "plt.title('Наложение гистограмм по пользовательским оценкам игр на платформах XOne и PC')\n",
    "plt.legend();"
   ]
  },
  {
   "cell_type": "markdown",
   "metadata": {},
   "source": [
    "Проверим нулевую гипотезу - Проведем статистический тест на равенство средних двух генеральных совокупностей по их выборкам (принимаем, что дисперсии примерно одинаковы):"
   ]
  },
  {
   "cell_type": "code",
   "execution_count": 41,
   "metadata": {},
   "outputs": [
    {
     "name": "stdout",
     "output_type": "stream",
     "text": [
      "p-значение: 0.15503167687396294\n",
      "Не получилось отвергнуть нулевую гипотезу\n"
     ]
    }
   ],
   "source": [
    "# Определяем критический уровень статистической значимости\n",
    "alpha = 0.05\n",
    "\n",
    "results_1 = st.ttest_ind(data.query('platform == \"XOne\"')['user_score'], data.query('platform == \"PC\"')['user_score'])\n",
    "print('p-значение:', results_1.pvalue)\n",
    "\n",
    "if results_1.pvalue < alpha:\n",
    "    print('Отвергаем нулевую гипотезу')\n",
    "else:\n",
    "    print('Не получилось отвергнуть нулевую гипотезу')"
   ]
  },
  {
   "cell_type": "markdown",
   "metadata": {},
   "source": [
    "Основываясь на статистическом тесте данные из выборок не противоречат нулевой гипотезе - Средние пользовательские рейтинги по платформам XOne и PC равны."
   ]
  },
  {
   "cell_type": "markdown",
   "metadata": {},
   "source": [
    "### Проверка второй гипотезы\n",
    "\n",
    "2-ая гипотеза звучит так - \"Средние пользовательские рейтинги жанров Action и Sports разные\".\n",
    "Примем за нулевую гипотезу H₀ - Средние рейтинги по user_score жанров Action и Sports равны.\n",
    "Примем за алтернативную гипотезу H₁ - Средние рейтинги по user_score жанров Action и Sports не равны.\n",
    "\n",
    "Посмотрим на средние значения рейтингов игр по этим жанрам, стандартные отклонения и оценим распределения:"
   ]
  },
  {
   "cell_type": "code",
   "execution_count": 42,
   "metadata": {},
   "outputs": [
    {
     "name": "stdout",
     "output_type": "stream",
     "text": [
      "Средний пользовательский рейтинг по жанру Action: 6.84\n",
      "Стандартное отклонение пользовательского рейтинга по жанру Action: 1.33\n",
      "\n",
      "Средний пользовательский рейтинг по жанру Sports: 5.24\n",
      "Стандартное отклонение пользовательского рейтинга по жанру Sports: 1.78\n"
     ]
    },
    {
     "data": {
      "image/png": "[encoded data removed]",
      "text/plain": [
       "<Figure size 432x288 with 1 Axes>"
      ]
     },
     "metadata": {
      "needs_background": "light"
     },
     "output_type": "display_data"
    }
   ],
   "source": [
    "user_score_action_avg = data.query('genre == \"Action\"')['user_score'].mean()\n",
    "user_score_action_var_estimate = np.var(data.query('genre == \"Action\"')['user_score'], ddof=1)\n",
    "user_score_action_std_deviation = np.sqrt(user_score_action_var_estimate)\n",
    "\n",
    "user_score_sports_avg = data.query('genre == \"Sports\"')['user_score'].mean()\n",
    "user_score_sports_var_estimate = np.var(data.query('genre == \"Sports\"')['user_score'], ddof=1)\n",
    "user_score_sports_std_deviation = np.sqrt(user_score_sports_var_estimate)\n",
    "\n",
    "print('Средний пользовательский рейтинг по жанру Action:', round(user_score_action_avg, 2))\n",
    "print('Стандартное отклонение пользовательского рейтинга по жанру Action:', round(user_score_action_std_deviation, 2))\n",
    "print('')\n",
    "print('Средний пользовательский рейтинг по жанру Sports:', round(user_score_sports_avg, 2))\n",
    "print('Стандартное отклонение пользовательского рейтинга по жанру Sports:', round(user_score_sports_std_deviation, 2))\n",
    "\n",
    "# совместная гистограмма\n",
    "sns.distplot(data.query('genre == \"Action\"')['user_score'], label='Action')\n",
    "sns.distplot(data.query('genre == \"Sports\"')['user_score'], label='Sports')\n",
    "plt.xlabel('Пользовательские оценки')\n",
    "plt.ylabel('Плотность распределения')\n",
    "plt.title('Наложение гистограмм по пользовательским оценкам игр жанров Action и Sports')\n",
    "plt.legend();"
   ]
  },
  {
   "cell_type": "markdown",
   "metadata": {},
   "source": [
    "Проверим нулевую гипотезу - Проведем статистический тест на равенство средних двух генеральных совокупностей по их выборкам (принимаем, что дисперсии примерно одинаковы):"
   ]
  },
  {
   "cell_type": "code",
   "execution_count": 43,
   "metadata": {},
   "outputs": [
    {
     "name": "stdout",
     "output_type": "stream",
     "text": [
      "p-значение: 8.11729623919141e-28\n",
      "Отвергаем нулевую гипотезу\n"
     ]
    }
   ],
   "source": [
    "results_2 = st.ttest_ind(data.query('genre == \"Action\"')['user_score'], data.query('genre == \"Sports\"')['user_score'])\n",
    "print('p-значение:', results_2.pvalue)\n",
    "\n",
    "if results_2.pvalue < alpha:\n",
    "    print('Отвергаем нулевую гипотезу')\n",
    "else:\n",
    "    print('Не получилось отвергнуть нулевую гипотезу')"
   ]
  },
  {
   "cell_type": "markdown",
   "metadata": {},
   "source": [
    "Нулевая гипотеза отвергается в пользу альтернативной на любом разумном уровне значимости, т.е. средние пользовательсике рейтинги жанров Action и Sports не равны."
   ]
  },
  {
   "cell_type": "markdown",
   "metadata": {},
   "source": [
    "### Общий вывод по исследованию\n",
    "<a id=\"conclusion\"></a>\n",
    "Данные для анализа потребовали предобработки. В результате нее были обработаны пропущенные значения, где это было разумно, заменен тип данных у нескольких столбцов для удобства анализа и общей производительности, обогащен данными столбец возрастного рейтинга от организации ESRB для его понимания.\n",
    "\n",
    "Было проведено исследование по параметрам, влияющим на успешность (продаваемость) игр, для планирования рекламной кампании на 2017 год.\n",
    "Выводы по исследованию и рекомендации:\n",
    "1. Для планирования подходят не все данные, а лишь с 2013 года, когда вышли последние платформы (PS4 и XOne). Игровая индустрия быстро меняется;\n",
    "2. Лидеры по мировым продажам с 2013 года такие: 1) PS4 2) PS3 3) XOne 4) 3DS 5)X360;\n",
    "3. Медианные средние значения продаж игр по платформам не превышают 250 тыс. копий по игре. Но медианные значения продаж у платформ Xbox выше всех, а у платформ PlayStation больше игр, которые становятся бестселлерами и продаются многомиллионными тиражами.\n",
    "4. Никакой корреляции по отзывам пользователей с продажами не наблюдается. А вот по хорошим отзывам критиков можно сказать, что тенденция к повышению продаж есть у всех популярных платформ, но явной корреляции все-таки нет.\n",
    "5. Самые продаваемые в мире жанры: 1) Action, 2) Shooter, 3) Sports, 4) Role-Playing 5) Misc. Есть и интересные факты - 1) в Японии крайне популярен жанр Role-Playing, его продажи самые большие в мире именно там 2) в жанре Shooter присутствует больший % игр, которые стали бестселлерами 3) в жанре Adventure выпускается много игр, но продажи по нему низкие.\n",
    "6. По региональному портрету: 1) для Европы на 5-ом месте по популярности присутствует жанр Racing, в остальном как в целом по миру 2) В Европе популярнее платформы от PlayStation, в Америке популярно играть и в PlayStation и в Xbox, в Японии лидер Nintendo 3) Если смотреть на рейтинг ESRB в Сев. Америке и Европе, то большие продажи у категорий Mature 17+, Everyone, Everyone 10+. Лучшие медианные значения продаж по рейтингам Mature 17+ и Everyone 10+.\n",
    "**Итого**: Рекомендация для рекламной кампании на 2017 год - делать больше ставку на игры от PlayStation (платформы PS4), в меньшей доле на Xbox (Xone), и оставить небольшие доли игр для платформ PS3, 3DS и X360 соответственно. По жанрам делать ставку на 1) Action, 2) Shooter, 3) Sports, 4) Role-Playing 5) Misc./Racing. Посматривать на высокие рейтинги критиков для игр, но сильно на них не ориентироваться. Ориентироваться на игры со следующими рейтингами ESRB: Mature 17+, Everyone, Everyone 10+.\n",
    "\n",
    "В исследовании также проверялись гипотезы:\n",
    "1. Средние пользовательские рейтинги платформ Xbox One и PC одинаковые;\n",
    "2. Средние пользовательские рейтинги жанров Action и Sports разные.\n",
    "\n",
    "Гипотезы подтвердились на статистических тестах по имеющимся выборкам."
   ]
  }
 ],
 "metadata": {
  "ExecuteTimeLog": [
   {
    "duration": 1161,
    "start_time": "2021-12-13T08:23:59.429Z"
   },
   {
    "duration": 60,
    "start_time": "2021-12-13T08:27:03.183Z"
   },
   {
    "duration": 14,
    "start_time": "2021-12-13T08:32:56.494Z"
   },
   {
    "duration": 90,
    "start_time": "2021-12-13T08:41:51.947Z"
   },
   {
    "duration": 51,
    "start_time": "2021-12-13T08:42:17.690Z"
   },
   {
    "duration": 57,
    "start_time": "2021-12-13T08:43:24.993Z"
   },
   {
    "duration": 50,
    "start_time": "2021-12-13T08:44:49.245Z"
   },
   {
    "duration": 374,
    "start_time": "2021-12-13T08:52:43.303Z"
   },
   {
    "duration": 29368,
    "start_time": "2021-12-13T08:53:27.569Z"
   },
   {
    "duration": 15,
    "start_time": "2021-12-13T08:54:54.044Z"
   },
   {
    "duration": 5,
    "start_time": "2021-12-13T08:55:16.363Z"
   },
   {
    "duration": 10,
    "start_time": "2021-12-13T08:55:21.654Z"
   },
   {
    "duration": 3,
    "start_time": "2021-12-13T08:57:03.817Z"
   },
   {
    "duration": 2,
    "start_time": "2021-12-13T10:52:30.574Z"
   },
   {
    "duration": 5,
    "start_time": "2021-12-13T10:58:17.915Z"
   },
   {
    "duration": 33,
    "start_time": "2021-12-13T11:03:10.909Z"
   },
   {
    "duration": 32,
    "start_time": "2021-12-13T11:04:03.301Z"
   },
   {
    "duration": 26,
    "start_time": "2021-12-13T11:06:18.941Z"
   },
   {
    "duration": 32,
    "start_time": "2021-12-13T11:07:31.953Z"
   },
   {
    "duration": 31,
    "start_time": "2021-12-13T11:07:53.572Z"
   },
   {
    "duration": 43,
    "start_time": "2021-12-13T11:08:14.463Z"
   },
   {
    "duration": 29,
    "start_time": "2021-12-13T11:08:53.163Z"
   },
   {
    "duration": 34,
    "start_time": "2021-12-13T11:09:31.741Z"
   },
   {
    "duration": 38,
    "start_time": "2021-12-13T11:10:00.715Z"
   },
   {
    "duration": 40,
    "start_time": "2021-12-13T11:10:52.134Z"
   },
   {
    "duration": 52,
    "start_time": "2021-12-13T11:12:47.707Z"
   },
   {
    "duration": 21,
    "start_time": "2021-12-13T11:17:00.433Z"
   },
   {
    "duration": 10,
    "start_time": "2021-12-13T11:19:35.160Z"
   },
   {
    "duration": 18,
    "start_time": "2021-12-13T11:20:08.552Z"
   },
   {
    "duration": 26,
    "start_time": "2021-12-13T11:22:48.856Z"
   },
   {
    "duration": 29,
    "start_time": "2021-12-13T11:23:02.769Z"
   },
   {
    "duration": 5,
    "start_time": "2021-12-13T11:32:14.597Z"
   },
   {
    "duration": 17,
    "start_time": "2021-12-13T11:56:29.424Z"
   },
   {
    "duration": 16,
    "start_time": "2021-12-13T11:59:53.767Z"
   },
   {
    "duration": 332,
    "start_time": "2021-12-13T12:05:11.246Z"
   },
   {
    "duration": 285,
    "start_time": "2021-12-13T12:07:16.842Z"
   },
   {
    "duration": 9,
    "start_time": "2021-12-13T12:11:54.017Z"
   },
   {
    "duration": 16,
    "start_time": "2021-12-13T12:14:55.376Z"
   },
   {
    "duration": 14,
    "start_time": "2021-12-13T12:15:14.693Z"
   },
   {
    "duration": 99,
    "start_time": "2021-12-13T12:15:35.774Z"
   },
   {
    "duration": 9,
    "start_time": "2021-12-13T12:16:28.377Z"
   },
   {
    "duration": 8,
    "start_time": "2021-12-13T12:18:21.594Z"
   },
   {
    "duration": 10,
    "start_time": "2021-12-13T12:18:31.443Z"
   },
   {
    "duration": 3,
    "start_time": "2021-12-13T12:20:14.953Z"
   },
   {
    "duration": 59,
    "start_time": "2021-12-13T12:20:14.958Z"
   },
   {
    "duration": 16,
    "start_time": "2021-12-13T12:20:15.020Z"
   },
   {
    "duration": 56,
    "start_time": "2021-12-13T12:20:15.045Z"
   },
   {
    "duration": 5,
    "start_time": "2021-12-13T12:20:15.102Z"
   },
   {
    "duration": 87,
    "start_time": "2021-12-13T12:20:15.109Z"
   },
   {
    "duration": 53,
    "start_time": "2021-12-13T12:20:15.198Z"
   },
   {
    "duration": 5,
    "start_time": "2021-12-13T12:20:15.254Z"
   },
   {
    "duration": 20,
    "start_time": "2021-12-13T12:20:15.261Z"
   },
   {
    "duration": 13,
    "start_time": "2021-12-13T12:21:32.192Z"
   },
   {
    "duration": 11,
    "start_time": "2021-12-13T12:23:33.688Z"
   },
   {
    "duration": 7,
    "start_time": "2021-12-13T12:23:40.640Z"
   },
   {
    "duration": 5,
    "start_time": "2021-12-13T12:24:18.238Z"
   },
   {
    "duration": 6,
    "start_time": "2021-12-13T12:24:36.117Z"
   },
   {
    "duration": 321,
    "start_time": "2021-12-13T12:24:45.825Z"
   },
   {
    "duration": 294,
    "start_time": "2021-12-13T12:29:18.292Z"
   },
   {
    "duration": 14,
    "start_time": "2021-12-13T12:29:29.323Z"
   },
   {
    "duration": 13,
    "start_time": "2021-12-13T12:30:11.375Z"
   },
   {
    "duration": 273,
    "start_time": "2021-12-13T12:31:55.533Z"
   },
   {
    "duration": 17,
    "start_time": "2021-12-13T12:32:07.493Z"
   },
   {
    "duration": 20,
    "start_time": "2021-12-13T12:36:22.530Z"
   },
   {
    "duration": 25,
    "start_time": "2021-12-13T12:39:33.033Z"
   },
   {
    "duration": 15,
    "start_time": "2021-12-13T12:39:53.054Z"
   },
   {
    "duration": 15,
    "start_time": "2021-12-13T12:40:20.385Z"
   },
   {
    "duration": 23,
    "start_time": "2021-12-13T12:41:12.802Z"
   },
   {
    "duration": 18,
    "start_time": "2021-12-13T12:44:56.476Z"
   },
   {
    "duration": 396,
    "start_time": "2021-12-13T13:03:49.806Z"
   },
   {
    "duration": 1519,
    "start_time": "2021-12-13T15:19:34.596Z"
   },
   {
    "duration": 77,
    "start_time": "2021-12-13T15:19:36.118Z"
   },
   {
    "duration": 22,
    "start_time": "2021-12-13T15:19:36.198Z"
   },
   {
    "duration": 106,
    "start_time": "2021-12-13T15:19:36.223Z"
   },
   {
    "duration": 6,
    "start_time": "2021-12-13T15:19:36.332Z"
   },
   {
    "duration": 108,
    "start_time": "2021-12-13T15:19:36.340Z"
   },
   {
    "duration": 60,
    "start_time": "2021-12-13T15:19:36.451Z"
   },
   {
    "duration": 8,
    "start_time": "2021-12-13T15:19:36.513Z"
   },
   {
    "duration": 58,
    "start_time": "2021-12-13T15:19:36.524Z"
   },
   {
    "duration": 20,
    "start_time": "2021-12-13T15:19:36.585Z"
   },
   {
    "duration": 21,
    "start_time": "2021-12-13T15:19:36.607Z"
   },
   {
    "duration": 51,
    "start_time": "2021-12-13T15:19:36.631Z"
   },
   {
    "duration": 48,
    "start_time": "2021-12-13T15:19:36.685Z"
   },
   {
    "duration": 409,
    "start_time": "2021-12-13T15:19:36.736Z"
   },
   {
    "duration": 281,
    "start_time": "2021-12-13T15:22:57.193Z"
   },
   {
    "duration": 291,
    "start_time": "2021-12-13T15:23:30.929Z"
   },
   {
    "duration": 6677,
    "start_time": "2021-12-13T15:24:24.419Z"
   },
   {
    "duration": 8,
    "start_time": "2021-12-13T15:25:16.516Z"
   },
   {
    "duration": 291,
    "start_time": "2021-12-13T15:27:48.475Z"
   },
   {
    "duration": 69118,
    "start_time": "2021-12-13T15:28:39.768Z"
   },
   {
    "duration": 69979,
    "start_time": "2021-12-13T15:31:19.241Z"
   },
   {
    "duration": 21,
    "start_time": "2021-12-13T15:33:46.524Z"
   },
   {
    "duration": 32,
    "start_time": "2021-12-13T15:34:37.095Z"
   },
   {
    "duration": 275,
    "start_time": "2021-12-13T15:37:12.395Z"
   },
   {
    "duration": 269,
    "start_time": "2021-12-13T15:38:38.333Z"
   },
   {
    "duration": 274,
    "start_time": "2021-12-13T15:40:10.714Z"
   },
   {
    "duration": 315,
    "start_time": "2021-12-13T15:40:47.538Z"
   },
   {
    "duration": 24,
    "start_time": "2021-12-13T15:41:04.900Z"
   },
   {
    "duration": 7,
    "start_time": "2021-12-13T15:45:14.111Z"
   },
   {
    "duration": 13945,
    "start_time": "2021-12-13T15:45:29.207Z"
   },
   {
    "duration": 8,
    "start_time": "2021-12-13T15:46:22.856Z"
   },
   {
    "duration": 22,
    "start_time": "2021-12-13T15:50:22.900Z"
   },
   {
    "duration": 68570,
    "start_time": "2021-12-13T15:52:40.264Z"
   },
   {
    "duration": 10412,
    "start_time": "2021-12-13T16:09:10.713Z"
   },
   {
    "duration": 377,
    "start_time": "2021-12-13T16:09:32.545Z"
   },
   {
    "duration": 266,
    "start_time": "2021-12-13T17:04:03.222Z"
   },
   {
    "duration": 295,
    "start_time": "2021-12-13T17:04:14.535Z"
   },
   {
    "duration": 16,
    "start_time": "2021-12-13T17:32:42.887Z"
   },
   {
    "duration": 6,
    "start_time": "2021-12-13T17:32:57.068Z"
   },
   {
    "duration": 294,
    "start_time": "2021-12-13T18:02:23.464Z"
   },
   {
    "duration": 15,
    "start_time": "2021-12-13T18:02:34.204Z"
   },
   {
    "duration": 86,
    "start_time": "2021-12-13T18:04:05.566Z"
   },
   {
    "duration": 6,
    "start_time": "2021-12-13T18:10:42.184Z"
   },
   {
    "duration": 6,
    "start_time": "2021-12-13T18:22:49.405Z"
   },
   {
    "duration": 93,
    "start_time": "2021-12-13T18:23:26.509Z"
   },
   {
    "duration": 6,
    "start_time": "2021-12-13T18:24:00.155Z"
   },
   {
    "duration": 93,
    "start_time": "2021-12-13T18:24:03.542Z"
   },
   {
    "duration": 6,
    "start_time": "2021-12-13T18:28:32.759Z"
   },
   {
    "duration": 91,
    "start_time": "2021-12-13T18:28:40.865Z"
   },
   {
    "duration": 12,
    "start_time": "2021-12-13T18:29:12.116Z"
   },
   {
    "duration": 7,
    "start_time": "2021-12-13T18:35:43.814Z"
   },
   {
    "duration": 23,
    "start_time": "2021-12-13T18:42:13.262Z"
   },
   {
    "duration": 1456,
    "start_time": "2021-12-14T06:51:18.621Z"
   },
   {
    "duration": 73,
    "start_time": "2021-12-14T06:51:20.079Z"
   },
   {
    "duration": 22,
    "start_time": "2021-12-14T06:51:20.155Z"
   },
   {
    "duration": 97,
    "start_time": "2021-12-14T06:51:20.179Z"
   },
   {
    "duration": 7,
    "start_time": "2021-12-14T06:51:20.278Z"
   },
   {
    "duration": 99,
    "start_time": "2021-12-14T06:51:20.287Z"
   },
   {
    "duration": 71,
    "start_time": "2021-12-14T06:51:20.388Z"
   },
   {
    "duration": 8,
    "start_time": "2021-12-14T06:51:20.462Z"
   },
   {
    "duration": 51,
    "start_time": "2021-12-14T06:51:20.472Z"
   },
   {
    "duration": 19,
    "start_time": "2021-12-14T06:51:20.525Z"
   },
   {
    "duration": 19,
    "start_time": "2021-12-14T06:51:20.547Z"
   },
   {
    "duration": 19,
    "start_time": "2021-12-14T06:51:20.568Z"
   },
   {
    "duration": 23,
    "start_time": "2021-12-14T06:51:20.624Z"
   },
   {
    "duration": 61641,
    "start_time": "2021-12-14T06:51:20.649Z"
   },
   {
    "duration": 6,
    "start_time": "2021-12-14T06:52:22.292Z"
   },
   {
    "duration": 23,
    "start_time": "2021-12-14T06:52:22.300Z"
   },
   {
    "duration": 19,
    "start_time": "2021-12-14T06:52:22.326Z"
   },
   {
    "duration": 4,
    "start_time": "2021-12-14T06:56:00.597Z"
   },
   {
    "duration": 2072,
    "start_time": "2021-12-14T07:07:20.867Z"
   },
   {
    "duration": 1326,
    "start_time": "2021-12-14T07:07:35.072Z"
   },
   {
    "duration": 505,
    "start_time": "2021-12-14T07:14:43.926Z"
   },
   {
    "duration": 304,
    "start_time": "2021-12-14T07:18:02.612Z"
   },
   {
    "duration": 465,
    "start_time": "2021-12-14T07:20:15.219Z"
   },
   {
    "duration": 493,
    "start_time": "2021-12-14T07:25:14.290Z"
   },
   {
    "duration": 979,
    "start_time": "2021-12-14T07:38:09.208Z"
   },
   {
    "duration": 485,
    "start_time": "2021-12-14T07:38:46.067Z"
   },
   {
    "duration": 41,
    "start_time": "2021-12-14T07:46:17.724Z"
   },
   {
    "duration": 5,
    "start_time": "2021-12-14T07:46:52.729Z"
   },
   {
    "duration": 23,
    "start_time": "2021-12-14T07:48:35.833Z"
   },
   {
    "duration": 21,
    "start_time": "2021-12-14T07:50:50.855Z"
   },
   {
    "duration": 882,
    "start_time": "2021-12-14T08:53:40.691Z"
   },
   {
    "duration": 24,
    "start_time": "2021-12-14T08:54:32.535Z"
   },
   {
    "duration": 876,
    "start_time": "2021-12-14T08:54:55.426Z"
   },
   {
    "duration": 861,
    "start_time": "2021-12-14T08:56:31.445Z"
   },
   {
    "duration": 21,
    "start_time": "2021-12-14T08:57:11.438Z"
   },
   {
    "duration": 307,
    "start_time": "2021-12-14T08:57:47.541Z"
   },
   {
    "duration": 887,
    "start_time": "2021-12-14T08:58:51.686Z"
   },
   {
    "duration": 1289,
    "start_time": "2021-12-14T09:26:39.730Z"
   },
   {
    "duration": 896,
    "start_time": "2021-12-14T09:32:12.269Z"
   },
   {
    "duration": 685,
    "start_time": "2021-12-14T09:33:06.538Z"
   },
   {
    "duration": 21,
    "start_time": "2021-12-14T09:50:10.843Z"
   },
   {
    "duration": 142,
    "start_time": "2021-12-14T09:54:32.871Z"
   },
   {
    "duration": 426,
    "start_time": "2021-12-14T09:54:49.978Z"
   },
   {
    "duration": 415,
    "start_time": "2021-12-14T09:56:06.875Z"
   },
   {
    "duration": 555,
    "start_time": "2021-12-14T10:01:59.845Z"
   },
   {
    "duration": 443,
    "start_time": "2021-12-14T10:03:07.109Z"
   },
   {
    "duration": 456,
    "start_time": "2021-12-14T10:03:19.598Z"
   },
   {
    "duration": 310,
    "start_time": "2021-12-14T12:54:40.469Z"
   },
   {
    "duration": 1221,
    "start_time": "2021-12-14T12:54:45.914Z"
   },
   {
    "duration": 57,
    "start_time": "2021-12-14T12:54:47.137Z"
   },
   {
    "duration": 15,
    "start_time": "2021-12-14T12:54:47.196Z"
   },
   {
    "duration": 74,
    "start_time": "2021-12-14T12:54:47.213Z"
   },
   {
    "duration": 4,
    "start_time": "2021-12-14T12:54:47.289Z"
   },
   {
    "duration": 77,
    "start_time": "2021-12-14T12:54:47.295Z"
   },
   {
    "duration": 29,
    "start_time": "2021-12-14T12:54:47.374Z"
   },
   {
    "duration": 5,
    "start_time": "2021-12-14T12:54:47.406Z"
   },
   {
    "duration": 19,
    "start_time": "2021-12-14T12:54:47.413Z"
   },
   {
    "duration": 45,
    "start_time": "2021-12-14T12:54:47.433Z"
   },
   {
    "duration": 15,
    "start_time": "2021-12-14T12:54:47.479Z"
   },
   {
    "duration": 13,
    "start_time": "2021-12-14T12:54:47.496Z"
   },
   {
    "duration": 14,
    "start_time": "2021-12-14T12:54:47.511Z"
   },
   {
    "duration": 39637,
    "start_time": "2021-12-14T12:54:47.527Z"
   },
   {
    "duration": 4,
    "start_time": "2021-12-14T12:55:27.165Z"
   },
   {
    "duration": 9,
    "start_time": "2021-12-14T12:55:27.171Z"
   },
   {
    "duration": 18,
    "start_time": "2021-12-14T12:55:27.181Z"
   },
   {
    "duration": 5,
    "start_time": "2021-12-14T12:55:27.200Z"
   },
   {
    "duration": 319,
    "start_time": "2021-12-14T12:55:27.206Z"
   },
   {
    "duration": 14,
    "start_time": "2021-12-14T12:55:27.527Z"
   },
   {
    "duration": 302,
    "start_time": "2021-12-14T12:55:27.542Z"
   },
   {
    "duration": 267,
    "start_time": "2021-12-14T12:56:15.029Z"
   },
   {
    "duration": 252,
    "start_time": "2021-12-14T12:57:26.160Z"
   },
   {
    "duration": 352,
    "start_time": "2021-12-14T12:59:08.902Z"
   },
   {
    "duration": 289,
    "start_time": "2021-12-14T12:59:51.854Z"
   },
   {
    "duration": 500,
    "start_time": "2021-12-14T13:01:44.856Z"
   },
   {
    "duration": 393,
    "start_time": "2021-12-14T13:01:59.327Z"
   },
   {
    "duration": 299,
    "start_time": "2021-12-14T13:02:28.779Z"
   },
   {
    "duration": 390,
    "start_time": "2021-12-14T13:03:03.057Z"
   },
   {
    "duration": 363,
    "start_time": "2021-12-14T13:10:39.334Z"
   },
   {
    "duration": 379,
    "start_time": "2021-12-14T13:10:56.642Z"
   },
   {
    "duration": 387,
    "start_time": "2021-12-14T13:17:20.346Z"
   },
   {
    "duration": 22,
    "start_time": "2021-12-14T13:30:10.122Z"
   },
   {
    "duration": 6,
    "start_time": "2021-12-14T13:33:07.500Z"
   },
   {
    "duration": 549,
    "start_time": "2021-12-14T13:36:59.359Z"
   },
   {
    "duration": 362,
    "start_time": "2021-12-14T13:39:22.680Z"
   },
   {
    "duration": 1437,
    "start_time": "2021-12-14T18:01:59.737Z"
   },
   {
    "duration": 126,
    "start_time": "2021-12-14T18:02:01.177Z"
   },
   {
    "duration": 32,
    "start_time": "2021-12-14T18:02:01.306Z"
   },
   {
    "duration": 92,
    "start_time": "2021-12-14T18:02:01.342Z"
   },
   {
    "duration": 6,
    "start_time": "2021-12-14T18:02:01.437Z"
   },
   {
    "duration": 105,
    "start_time": "2021-12-14T18:02:01.445Z"
   },
   {
    "duration": 45,
    "start_time": "2021-12-14T18:02:01.552Z"
   },
   {
    "duration": 7,
    "start_time": "2021-12-14T18:02:01.627Z"
   },
   {
    "duration": 35,
    "start_time": "2021-12-14T18:02:01.637Z"
   },
   {
    "duration": 56,
    "start_time": "2021-12-14T18:02:01.675Z"
   },
   {
    "duration": 26,
    "start_time": "2021-12-14T18:02:01.735Z"
   },
   {
    "duration": 28,
    "start_time": "2021-12-14T18:02:01.764Z"
   },
   {
    "duration": 53,
    "start_time": "2021-12-14T18:02:01.794Z"
   },
   {
    "duration": 62178,
    "start_time": "2021-12-14T18:02:01.850Z"
   },
   {
    "duration": 6,
    "start_time": "2021-12-14T18:03:04.030Z"
   },
   {
    "duration": 10,
    "start_time": "2021-12-14T18:03:04.038Z"
   },
   {
    "duration": 46,
    "start_time": "2021-12-14T18:03:04.051Z"
   },
   {
    "duration": 30,
    "start_time": "2021-12-14T18:03:04.100Z"
   },
   {
    "duration": 518,
    "start_time": "2021-12-14T18:03:04.132Z"
   },
   {
    "duration": 24,
    "start_time": "2021-12-14T18:03:04.653Z"
   },
   {
    "duration": 647,
    "start_time": "2021-12-14T18:03:04.680Z"
   },
   {
    "duration": 8,
    "start_time": "2021-12-14T18:03:05.330Z"
   },
   {
    "duration": 598,
    "start_time": "2021-12-14T18:03:05.342Z"
   },
   {
    "duration": 112,
    "start_time": "2021-12-14T18:27:15.443Z"
   },
   {
    "duration": 16,
    "start_time": "2021-12-14T18:27:30.142Z"
   },
   {
    "duration": 442,
    "start_time": "2021-12-14T18:28:09.994Z"
   },
   {
    "duration": 17,
    "start_time": "2021-12-14T18:28:52.761Z"
   },
   {
    "duration": 16,
    "start_time": "2021-12-14T18:29:31.137Z"
   },
   {
    "duration": 40,
    "start_time": "2021-12-14T18:30:04.516Z"
   },
   {
    "duration": 93,
    "start_time": "2021-12-14T18:32:00.600Z"
   },
   {
    "duration": 17,
    "start_time": "2021-12-14T18:32:09.999Z"
   },
   {
    "duration": 16,
    "start_time": "2021-12-14T18:32:22.050Z"
   },
   {
    "duration": 17,
    "start_time": "2021-12-14T18:34:57.077Z"
   },
   {
    "duration": 42,
    "start_time": "2021-12-14T18:35:37.938Z"
   },
   {
    "duration": 11,
    "start_time": "2021-12-14T18:36:17.924Z"
   },
   {
    "duration": 789,
    "start_time": "2021-12-14T18:49:46.558Z"
   },
   {
    "duration": 829,
    "start_time": "2021-12-14T18:52:24.825Z"
   },
   {
    "duration": 753,
    "start_time": "2021-12-14T19:08:15.081Z"
   },
   {
    "duration": 912,
    "start_time": "2021-12-14T19:13:20.774Z"
   },
   {
    "duration": 1201,
    "start_time": "2021-12-15T06:59:48.007Z"
   },
   {
    "duration": 96,
    "start_time": "2021-12-15T06:59:49.209Z"
   },
   {
    "duration": 16,
    "start_time": "2021-12-15T06:59:49.308Z"
   },
   {
    "duration": 70,
    "start_time": "2021-12-15T06:59:49.326Z"
   },
   {
    "duration": 5,
    "start_time": "2021-12-15T06:59:49.397Z"
   },
   {
    "duration": 90,
    "start_time": "2021-12-15T06:59:49.405Z"
   },
   {
    "duration": 48,
    "start_time": "2021-12-15T06:59:49.497Z"
   },
   {
    "duration": 6,
    "start_time": "2021-12-15T06:59:49.551Z"
   },
   {
    "duration": 17,
    "start_time": "2021-12-15T06:59:49.560Z"
   },
   {
    "duration": 12,
    "start_time": "2021-12-15T06:59:49.579Z"
   },
   {
    "duration": 15,
    "start_time": "2021-12-15T06:59:49.593Z"
   },
   {
    "duration": 44,
    "start_time": "2021-12-15T06:59:49.610Z"
   },
   {
    "duration": 36,
    "start_time": "2021-12-15T06:59:49.656Z"
   },
   {
    "duration": 44400,
    "start_time": "2021-12-15T06:59:49.693Z"
   },
   {
    "duration": 5,
    "start_time": "2021-12-15T07:00:34.094Z"
   },
   {
    "duration": 11,
    "start_time": "2021-12-15T07:00:34.100Z"
   },
   {
    "duration": 46,
    "start_time": "2021-12-15T07:00:34.113Z"
   },
   {
    "duration": 5,
    "start_time": "2021-12-15T07:00:34.161Z"
   },
   {
    "duration": 339,
    "start_time": "2021-12-15T07:00:34.167Z"
   },
   {
    "duration": 16,
    "start_time": "2021-12-15T07:00:34.507Z"
   },
   {
    "duration": 445,
    "start_time": "2021-12-15T07:00:34.525Z"
   },
   {
    "duration": 6,
    "start_time": "2021-12-15T07:00:34.972Z"
   },
   {
    "duration": 437,
    "start_time": "2021-12-15T07:00:34.981Z"
   },
   {
    "duration": 507,
    "start_time": "2021-12-15T07:00:35.420Z"
   },
   {
    "duration": 558,
    "start_time": "2021-12-15T07:00:35.929Z"
   },
   {
    "duration": 551,
    "start_time": "2021-12-15T07:04:28.129Z"
   },
   {
    "duration": 792,
    "start_time": "2021-12-15T07:24:14.562Z"
   },
   {
    "duration": 553,
    "start_time": "2021-12-15T07:24:37.460Z"
   },
   {
    "duration": 616,
    "start_time": "2021-12-15T07:25:50.086Z"
   },
   {
    "duration": 652,
    "start_time": "2021-12-15T07:26:03.750Z"
   },
   {
    "duration": 568,
    "start_time": "2021-12-15T07:26:12.863Z"
   },
   {
    "duration": 476,
    "start_time": "2021-12-15T07:30:29.728Z"
   },
   {
    "duration": 136,
    "start_time": "2021-12-15T07:35:48.234Z"
   },
   {
    "duration": 489,
    "start_time": "2021-12-15T07:36:06.116Z"
   },
   {
    "duration": 565,
    "start_time": "2021-12-15T07:36:47.451Z"
   },
   {
    "duration": 282,
    "start_time": "2021-12-15T07:43:07.910Z"
   },
   {
    "duration": 310,
    "start_time": "2021-12-15T07:45:39.469Z"
   },
   {
    "duration": 426,
    "start_time": "2021-12-15T07:50:01.481Z"
   },
   {
    "duration": 447,
    "start_time": "2021-12-15T07:50:55.635Z"
   },
   {
    "duration": 468,
    "start_time": "2021-12-15T07:51:34.141Z"
   },
   {
    "duration": 482,
    "start_time": "2021-12-15T07:52:17.540Z"
   },
   {
    "duration": 484,
    "start_time": "2021-12-15T07:52:39.860Z"
   },
   {
    "duration": 405,
    "start_time": "2021-12-15T07:53:16.878Z"
   },
   {
    "duration": 24,
    "start_time": "2021-12-15T08:19:15.212Z"
   },
   {
    "duration": 31,
    "start_time": "2021-12-15T08:20:45.215Z"
   },
   {
    "duration": 8,
    "start_time": "2021-12-15T08:22:40.051Z"
   },
   {
    "duration": 114,
    "start_time": "2021-12-15T08:27:46.687Z"
   },
   {
    "duration": 10,
    "start_time": "2021-12-15T08:28:31.245Z"
   },
   {
    "duration": 11,
    "start_time": "2021-12-15T08:31:18.556Z"
   },
   {
    "duration": 6,
    "start_time": "2021-12-15T08:32:10.619Z"
   },
   {
    "duration": 11,
    "start_time": "2021-12-15T08:32:22.061Z"
   },
   {
    "duration": 6,
    "start_time": "2021-12-15T08:33:48.861Z"
   },
   {
    "duration": 10,
    "start_time": "2021-12-15T08:36:12.992Z"
   },
   {
    "duration": 7,
    "start_time": "2021-12-15T08:36:36.864Z"
   },
   {
    "duration": 16,
    "start_time": "2021-12-15T08:41:07.390Z"
   },
   {
    "duration": 18,
    "start_time": "2021-12-15T08:41:54.041Z"
   },
   {
    "duration": 134,
    "start_time": "2021-12-15T08:43:54.404Z"
   },
   {
    "duration": 21,
    "start_time": "2021-12-15T08:44:04.334Z"
   },
   {
    "duration": 20,
    "start_time": "2021-12-15T08:44:50.829Z"
   },
   {
    "duration": 19,
    "start_time": "2021-12-15T08:46:03.200Z"
   },
   {
    "duration": 404,
    "start_time": "2021-12-15T09:04:34.842Z"
   },
   {
    "duration": 481,
    "start_time": "2021-12-15T09:18:13.652Z"
   },
   {
    "duration": 18,
    "start_time": "2021-12-15T09:18:21.110Z"
   },
   {
    "duration": 17,
    "start_time": "2021-12-15T09:18:40.948Z"
   },
   {
    "duration": 279,
    "start_time": "2021-12-15T09:48:35.900Z"
   },
   {
    "duration": 287,
    "start_time": "2021-12-15T09:49:14.159Z"
   },
   {
    "duration": 20,
    "start_time": "2021-12-15T09:49:38.168Z"
   },
   {
    "duration": 1737,
    "start_time": "2021-12-15T12:58:34.241Z"
   },
   {
    "duration": 151,
    "start_time": "2021-12-15T12:58:35.981Z"
   },
   {
    "duration": 35,
    "start_time": "2021-12-15T12:58:36.136Z"
   },
   {
    "duration": 107,
    "start_time": "2021-12-15T12:58:36.173Z"
   },
   {
    "duration": 6,
    "start_time": "2021-12-15T12:58:36.283Z"
   },
   {
    "duration": 117,
    "start_time": "2021-12-15T12:58:36.292Z"
   },
   {
    "duration": 67,
    "start_time": "2021-12-15T12:58:36.412Z"
   },
   {
    "duration": 7,
    "start_time": "2021-12-15T12:58:36.485Z"
   },
   {
    "duration": 44,
    "start_time": "2021-12-15T12:58:36.496Z"
   },
   {
    "duration": 36,
    "start_time": "2021-12-15T12:58:36.543Z"
   },
   {
    "duration": 39,
    "start_time": "2021-12-15T12:58:36.582Z"
   },
   {
    "duration": 27,
    "start_time": "2021-12-15T12:58:36.624Z"
   },
   {
    "duration": 42,
    "start_time": "2021-12-15T12:58:36.653Z"
   },
   {
    "duration": 72106,
    "start_time": "2021-12-15T12:58:36.697Z"
   },
   {
    "duration": 6,
    "start_time": "2021-12-15T12:59:48.805Z"
   },
   {
    "duration": 10,
    "start_time": "2021-12-15T12:59:48.814Z"
   },
   {
    "duration": 79,
    "start_time": "2021-12-15T12:59:48.827Z"
   },
   {
    "duration": 7,
    "start_time": "2021-12-15T12:59:48.909Z"
   },
   {
    "duration": 579,
    "start_time": "2021-12-15T12:59:48.918Z"
   },
   {
    "duration": 25,
    "start_time": "2021-12-15T12:59:49.499Z"
   },
   {
    "duration": 772,
    "start_time": "2021-12-15T12:59:49.527Z"
   },
   {
    "duration": 9,
    "start_time": "2021-12-15T12:59:50.301Z"
   },
   {
    "duration": 701,
    "start_time": "2021-12-15T12:59:50.315Z"
   },
   {
    "duration": 877,
    "start_time": "2021-12-15T12:59:51.019Z"
   },
   {
    "duration": 968,
    "start_time": "2021-12-15T12:59:51.899Z"
   },
   {
    "duration": 697,
    "start_time": "2021-12-15T12:59:52.870Z"
   },
   {
    "duration": 14,
    "start_time": "2021-12-15T12:59:53.571Z"
   },
   {
    "duration": 34,
    "start_time": "2021-12-15T12:59:53.588Z"
   },
   {
    "duration": 57,
    "start_time": "2021-12-15T12:59:53.624Z"
   },
   {
    "duration": 15,
    "start_time": "2021-12-15T13:04:08.177Z"
   },
   {
    "duration": 19,
    "start_time": "2021-12-15T13:04:48.384Z"
   },
   {
    "duration": 420,
    "start_time": "2021-12-15T13:30:32.844Z"
   },
   {
    "duration": 329,
    "start_time": "2021-12-15T13:31:20.571Z"
   },
   {
    "duration": 280,
    "start_time": "2021-12-15T13:32:21.118Z"
   },
   {
    "duration": 311,
    "start_time": "2021-12-15T13:33:55.445Z"
   },
   {
    "duration": 325,
    "start_time": "2021-12-15T13:35:50.428Z"
   },
   {
    "duration": 1882,
    "start_time": "2021-12-15T13:37:35.653Z"
   },
   {
    "duration": 2158,
    "start_time": "2021-12-15T13:38:31.228Z"
   },
   {
    "duration": 297,
    "start_time": "2021-12-15T13:39:49.836Z"
   },
   {
    "duration": 1796,
    "start_time": "2021-12-15T13:40:06.144Z"
   },
   {
    "duration": 1798,
    "start_time": "2021-12-15T13:40:59.269Z"
   },
   {
    "duration": 6944,
    "start_time": "2021-12-15T13:41:29.166Z"
   },
   {
    "duration": 1900,
    "start_time": "2021-12-15T13:44:27.979Z"
   },
   {
    "duration": 294,
    "start_time": "2021-12-15T13:49:02.297Z"
   },
   {
    "duration": 103,
    "start_time": "2021-12-15T13:50:39.518Z"
   },
   {
    "duration": 1794,
    "start_time": "2021-12-15T13:51:42.588Z"
   },
   {
    "duration": 1894,
    "start_time": "2021-12-15T13:51:59.287Z"
   },
   {
    "duration": 1497,
    "start_time": "2021-12-15T17:19:22.181Z"
   },
   {
    "duration": 136,
    "start_time": "2021-12-15T17:19:23.680Z"
   },
   {
    "duration": 23,
    "start_time": "2021-12-15T17:19:23.819Z"
   },
   {
    "duration": 98,
    "start_time": "2021-12-15T17:19:23.845Z"
   },
   {
    "duration": 7,
    "start_time": "2021-12-15T17:19:23.946Z"
   },
   {
    "duration": 102,
    "start_time": "2021-12-15T17:19:23.955Z"
   },
   {
    "duration": 69,
    "start_time": "2021-12-15T17:19:24.060Z"
   },
   {
    "duration": 7,
    "start_time": "2021-12-15T17:19:24.135Z"
   },
   {
    "duration": 25,
    "start_time": "2021-12-15T17:19:24.146Z"
   },
   {
    "duration": 57,
    "start_time": "2021-12-15T17:19:24.174Z"
   },
   {
    "duration": 19,
    "start_time": "2021-12-15T17:19:24.234Z"
   },
   {
    "duration": 19,
    "start_time": "2021-12-15T17:19:24.256Z"
   },
   {
    "duration": 51,
    "start_time": "2021-12-15T17:19:24.278Z"
   },
   {
    "duration": 66166,
    "start_time": "2021-12-15T17:19:24.331Z"
   },
   {
    "duration": 6,
    "start_time": "2021-12-15T17:20:30.499Z"
   },
   {
    "duration": 8,
    "start_time": "2021-12-15T17:20:30.517Z"
   },
   {
    "duration": 58,
    "start_time": "2021-12-15T17:20:30.527Z"
   },
   {
    "duration": 7,
    "start_time": "2021-12-15T17:20:30.588Z"
   },
   {
    "duration": 544,
    "start_time": "2021-12-15T17:20:30.597Z"
   },
   {
    "duration": 21,
    "start_time": "2021-12-15T17:20:31.144Z"
   },
   {
    "duration": 692,
    "start_time": "2021-12-15T17:20:31.167Z"
   },
   {
    "duration": 9,
    "start_time": "2021-12-15T17:20:31.861Z"
   },
   {
    "duration": 643,
    "start_time": "2021-12-15T17:20:31.875Z"
   },
   {
    "duration": 799,
    "start_time": "2021-12-15T17:20:32.521Z"
   },
   {
    "duration": 1016,
    "start_time": "2021-12-15T17:20:33.322Z"
   },
   {
    "duration": 703,
    "start_time": "2021-12-15T17:20:34.340Z"
   },
   {
    "duration": 100,
    "start_time": "2021-12-15T17:20:35.045Z"
   },
   {
    "duration": 8,
    "start_time": "2021-12-15T17:20:35.147Z"
   },
   {
    "duration": 29,
    "start_time": "2021-12-15T17:20:35.158Z"
   },
   {
    "duration": 46,
    "start_time": "2021-12-15T17:20:35.189Z"
   },
   {
    "duration": 459,
    "start_time": "2021-12-15T17:25:55.647Z"
   },
   {
    "duration": 80,
    "start_time": "2021-12-15T17:29:43.069Z"
   },
   {
    "duration": 80,
    "start_time": "2021-12-15T17:30:22.088Z"
   },
   {
    "duration": 96,
    "start_time": "2021-12-15T17:30:54.945Z"
   },
   {
    "duration": 73,
    "start_time": "2021-12-15T17:31:13.554Z"
   },
   {
    "duration": 81,
    "start_time": "2021-12-15T17:31:38.005Z"
   },
   {
    "duration": 148,
    "start_time": "2021-12-15T17:32:12.976Z"
   },
   {
    "duration": 166,
    "start_time": "2021-12-15T17:38:11.310Z"
   },
   {
    "duration": 245,
    "start_time": "2021-12-15T18:18:08.009Z"
   },
   {
    "duration": 291,
    "start_time": "2021-12-15T18:18:28.741Z"
   },
   {
    "duration": 19,
    "start_time": "2021-12-15T18:21:19.977Z"
   },
   {
    "duration": 36,
    "start_time": "2021-12-15T18:24:45.163Z"
   },
   {
    "duration": 29,
    "start_time": "2021-12-15T18:25:08.026Z"
   },
   {
    "duration": 5,
    "start_time": "2021-12-15T18:27:03.024Z"
   },
   {
    "duration": 34,
    "start_time": "2021-12-15T18:27:16.812Z"
   },
   {
    "duration": 73,
    "start_time": "2021-12-15T18:30:12.392Z"
   },
   {
    "duration": 1605,
    "start_time": "2021-12-16T00:15:49.626Z"
   },
   {
    "duration": 141,
    "start_time": "2021-12-16T00:15:51.234Z"
   },
   {
    "duration": 23,
    "start_time": "2021-12-16T00:15:51.378Z"
   },
   {
    "duration": 96,
    "start_time": "2021-12-16T00:15:51.404Z"
   },
   {
    "duration": 6,
    "start_time": "2021-12-16T00:15:51.502Z"
   },
   {
    "duration": 99,
    "start_time": "2021-12-16T00:15:51.510Z"
   },
   {
    "duration": 67,
    "start_time": "2021-12-16T00:15:51.612Z"
   },
   {
    "duration": 6,
    "start_time": "2021-12-16T00:15:51.683Z"
   },
   {
    "duration": 22,
    "start_time": "2021-12-16T00:15:51.692Z"
   },
   {
    "duration": 46,
    "start_time": "2021-12-16T00:15:51.716Z"
   },
   {
    "duration": 18,
    "start_time": "2021-12-16T00:15:51.764Z"
   },
   {
    "duration": 18,
    "start_time": "2021-12-16T00:15:51.784Z"
   },
   {
    "duration": 21,
    "start_time": "2021-12-16T00:15:51.805Z"
   },
   {
    "duration": 63646,
    "start_time": "2021-12-16T00:15:51.860Z"
   },
   {
    "duration": 5,
    "start_time": "2021-12-16T00:16:55.508Z"
   },
   {
    "duration": 8,
    "start_time": "2021-12-16T00:16:55.515Z"
   },
   {
    "duration": 69,
    "start_time": "2021-12-16T00:16:55.525Z"
   },
   {
    "duration": 6,
    "start_time": "2021-12-16T00:16:55.596Z"
   },
   {
    "duration": 533,
    "start_time": "2021-12-16T00:16:55.604Z"
   },
   {
    "duration": 30,
    "start_time": "2021-12-16T00:16:56.140Z"
   },
   {
    "duration": 652,
    "start_time": "2021-12-16T00:16:56.173Z"
   },
   {
    "duration": 9,
    "start_time": "2021-12-16T00:16:56.828Z"
   },
   {
    "duration": 621,
    "start_time": "2021-12-16T00:16:56.842Z"
   },
   {
    "duration": 782,
    "start_time": "2021-12-16T00:16:57.466Z"
   },
   {
    "duration": 861,
    "start_time": "2021-12-16T00:16:58.251Z"
   },
   {
    "duration": 797,
    "start_time": "2021-12-16T00:16:59.115Z"
   },
   {
    "duration": 182,
    "start_time": "2021-12-16T00:16:59.915Z"
   },
   {
    "duration": 9,
    "start_time": "2021-12-16T00:17:00.100Z"
   },
   {
    "duration": 50,
    "start_time": "2021-12-16T00:17:00.111Z"
   },
   {
    "duration": 26,
    "start_time": "2021-12-16T00:17:00.163Z"
   },
   {
    "duration": 100,
    "start_time": "2021-12-16T00:17:00.192Z"
   },
   {
    "duration": 717,
    "start_time": "2021-12-16T00:17:42.398Z"
   },
   {
    "duration": 699,
    "start_time": "2021-12-16T00:21:10.711Z"
   },
   {
    "duration": 26,
    "start_time": "2021-12-16T00:28:53.607Z"
   },
   {
    "duration": 691,
    "start_time": "2021-12-16T00:33:44.150Z"
   },
   {
    "duration": 938,
    "start_time": "2021-12-16T00:54:45.665Z"
   },
   {
    "duration": 718,
    "start_time": "2021-12-16T00:56:17.124Z"
   },
   {
    "duration": 254,
    "start_time": "2021-12-16T00:57:26.208Z"
   },
   {
    "duration": 337,
    "start_time": "2021-12-16T00:58:51.346Z"
   },
   {
    "duration": 484,
    "start_time": "2021-12-16T01:01:56.363Z"
   },
   {
    "duration": 420,
    "start_time": "2021-12-16T01:03:33.699Z"
   },
   {
    "duration": 21171,
    "start_time": "2021-12-16T01:05:13.669Z"
   },
   {
    "duration": 432,
    "start_time": "2021-12-16T01:05:37.223Z"
   },
   {
    "duration": 392,
    "start_time": "2021-12-16T01:07:33.893Z"
   },
   {
    "duration": 3476,
    "start_time": "2021-12-16T01:08:10.919Z"
   },
   {
    "duration": 379,
    "start_time": "2021-12-16T01:08:23.772Z"
   },
   {
    "duration": 7,
    "start_time": "2021-12-16T01:09:01.539Z"
   },
   {
    "duration": 820,
    "start_time": "2021-12-16T01:11:36.107Z"
   },
   {
    "duration": 799,
    "start_time": "2021-12-16T01:13:17.427Z"
   },
   {
    "duration": 5,
    "start_time": "2021-12-16T01:15:19.914Z"
   },
   {
    "duration": 146,
    "start_time": "2021-12-16T01:15:19.922Z"
   },
   {
    "duration": 30,
    "start_time": "2021-12-16T01:15:20.071Z"
   },
   {
    "duration": 106,
    "start_time": "2021-12-16T01:15:20.104Z"
   },
   {
    "duration": 6,
    "start_time": "2021-12-16T01:15:20.212Z"
   },
   {
    "duration": 104,
    "start_time": "2021-12-16T01:15:20.220Z"
   },
   {
    "duration": 65,
    "start_time": "2021-12-16T01:15:20.327Z"
   },
   {
    "duration": 6,
    "start_time": "2021-12-16T01:15:20.395Z"
   },
   {
    "duration": 57,
    "start_time": "2021-12-16T01:15:20.405Z"
   },
   {
    "duration": 20,
    "start_time": "2021-12-16T01:15:20.465Z"
   },
   {
    "duration": 21,
    "start_time": "2021-12-16T01:15:20.487Z"
   },
   {
    "duration": 51,
    "start_time": "2021-12-16T01:15:20.511Z"
   },
   {
    "duration": 23,
    "start_time": "2021-12-16T01:15:20.564Z"
   },
   {
    "duration": 64807,
    "start_time": "2021-12-16T01:15:20.590Z"
   },
   {
    "duration": 5,
    "start_time": "2021-12-16T01:16:25.399Z"
   },
   {
    "duration": 11,
    "start_time": "2021-12-16T01:16:25.407Z"
   },
   {
    "duration": 75,
    "start_time": "2021-12-16T01:16:25.420Z"
   },
   {
    "duration": 6,
    "start_time": "2021-12-16T01:16:25.497Z"
   },
   {
    "duration": 519,
    "start_time": "2021-12-16T01:16:25.505Z"
   },
   {
    "duration": 35,
    "start_time": "2021-12-16T01:16:26.026Z"
   },
   {
    "duration": 659,
    "start_time": "2021-12-16T01:16:26.063Z"
   },
   {
    "duration": 9,
    "start_time": "2021-12-16T01:16:26.724Z"
   },
   {
    "duration": 628,
    "start_time": "2021-12-16T01:16:26.735Z"
   },
   {
    "duration": 912,
    "start_time": "2021-12-16T01:16:27.366Z"
   },
   {
    "duration": 794,
    "start_time": "2021-12-16T01:16:28.280Z"
   },
   {
    "duration": 835,
    "start_time": "2021-12-16T01:16:29.076Z"
   },
   {
    "duration": 179,
    "start_time": "2021-12-16T01:16:29.916Z"
   },
   {
    "duration": 9,
    "start_time": "2021-12-16T01:16:30.098Z"
   },
   {
    "duration": 33,
    "start_time": "2021-12-16T01:16:30.109Z"
   },
   {
    "duration": 722,
    "start_time": "2021-12-16T01:16:30.160Z"
   },
   {
    "duration": 27,
    "start_time": "2021-12-16T01:16:30.885Z"
   },
   {
    "duration": 102,
    "start_time": "2021-12-16T01:16:30.914Z"
   },
   {
    "duration": 861,
    "start_time": "2021-12-16T01:16:31.018Z"
   },
   {
    "duration": 5,
    "start_time": "2021-12-16T01:18:30.183Z"
   },
   {
    "duration": 4,
    "start_time": "2021-12-16T01:19:14.972Z"
   },
   {
    "duration": 136,
    "start_time": "2021-12-16T01:19:14.979Z"
   },
   {
    "duration": 23,
    "start_time": "2021-12-16T01:19:15.118Z"
   },
   {
    "duration": 92,
    "start_time": "2021-12-16T01:19:15.143Z"
   },
   {
    "duration": 21,
    "start_time": "2021-12-16T01:19:15.238Z"
   },
   {
    "duration": 118,
    "start_time": "2021-12-16T01:19:15.262Z"
   },
   {
    "duration": 46,
    "start_time": "2021-12-16T01:19:15.383Z"
   },
   {
    "duration": 30,
    "start_time": "2021-12-16T01:19:15.432Z"
   },
   {
    "duration": 25,
    "start_time": "2021-12-16T01:19:15.464Z"
   },
   {
    "duration": 23,
    "start_time": "2021-12-16T01:19:15.491Z"
   },
   {
    "duration": 51,
    "start_time": "2021-12-16T01:19:15.516Z"
   },
   {
    "duration": 21,
    "start_time": "2021-12-16T01:19:15.569Z"
   },
   {
    "duration": 27,
    "start_time": "2021-12-16T01:19:15.593Z"
   },
   {
    "duration": 68742,
    "start_time": "2021-12-16T01:19:15.623Z"
   },
   {
    "duration": 5,
    "start_time": "2021-12-16T01:20:24.367Z"
   },
   {
    "duration": 8,
    "start_time": "2021-12-16T01:20:24.375Z"
   },
   {
    "duration": 74,
    "start_time": "2021-12-16T01:20:24.385Z"
   },
   {
    "duration": 6,
    "start_time": "2021-12-16T01:20:24.461Z"
   },
   {
    "duration": 527,
    "start_time": "2021-12-16T01:20:24.471Z"
   },
   {
    "duration": 22,
    "start_time": "2021-12-16T01:20:25.001Z"
   },
   {
    "duration": 901,
    "start_time": "2021-12-16T01:20:25.026Z"
   },
   {
    "duration": 31,
    "start_time": "2021-12-16T01:20:25.930Z"
   },
   {
    "duration": 615,
    "start_time": "2021-12-16T01:20:25.964Z"
   },
   {
    "duration": 798,
    "start_time": "2021-12-16T01:20:26.582Z"
   },
   {
    "duration": 804,
    "start_time": "2021-12-16T01:20:27.382Z"
   },
   {
    "duration": 742,
    "start_time": "2021-12-16T01:20:28.188Z"
   },
   {
    "duration": 177,
    "start_time": "2021-12-16T01:20:28.933Z"
   },
   {
    "duration": 10,
    "start_time": "2021-12-16T01:20:29.113Z"
   },
   {
    "duration": 57,
    "start_time": "2021-12-16T01:20:29.126Z"
   },
   {
    "duration": 698,
    "start_time": "2021-12-16T01:20:29.186Z"
   },
   {
    "duration": 26,
    "start_time": "2021-12-16T01:20:29.886Z"
   },
   {
    "duration": 95,
    "start_time": "2021-12-16T01:20:29.914Z"
   },
   {
    "duration": 826,
    "start_time": "2021-12-16T01:20:30.011Z"
   },
   {
    "duration": 890,
    "start_time": "2021-12-16T01:22:01.144Z"
   },
   {
    "duration": 852,
    "start_time": "2021-12-16T01:22:27.060Z"
   },
   {
    "duration": 5,
    "start_time": "2021-12-16T01:24:32.381Z"
   },
   {
    "duration": 5,
    "start_time": "2021-12-16T01:25:25.953Z"
   },
   {
    "duration": 154,
    "start_time": "2021-12-16T01:25:25.961Z"
   },
   {
    "duration": 22,
    "start_time": "2021-12-16T01:25:26.118Z"
   },
   {
    "duration": 76,
    "start_time": "2021-12-16T01:25:26.159Z"
   },
   {
    "duration": 24,
    "start_time": "2021-12-16T01:25:26.237Z"
   },
   {
    "duration": 105,
    "start_time": "2021-12-16T01:25:26.263Z"
   },
   {
    "duration": 43,
    "start_time": "2021-12-16T01:25:26.372Z"
   },
   {
    "duration": 6,
    "start_time": "2021-12-16T01:25:26.418Z"
   },
   {
    "duration": 53,
    "start_time": "2021-12-16T01:25:26.426Z"
   },
   {
    "duration": 18,
    "start_time": "2021-12-16T01:25:26.482Z"
   },
   {
    "duration": 18,
    "start_time": "2021-12-16T01:25:26.502Z"
   },
   {
    "duration": 53,
    "start_time": "2021-12-16T01:25:26.522Z"
   },
   {
    "duration": 22,
    "start_time": "2021-12-16T01:25:26.577Z"
   },
   {
    "duration": 68833,
    "start_time": "2021-12-16T01:25:26.601Z"
   },
   {
    "duration": 5,
    "start_time": "2021-12-16T01:26:35.437Z"
   },
   {
    "duration": 25,
    "start_time": "2021-12-16T01:26:35.444Z"
   },
   {
    "duration": 49,
    "start_time": "2021-12-16T01:26:35.471Z"
   },
   {
    "duration": 5,
    "start_time": "2021-12-16T01:26:35.523Z"
   },
   {
    "duration": 626,
    "start_time": "2021-12-16T01:26:35.533Z"
   },
   {
    "duration": 23,
    "start_time": "2021-12-16T01:26:36.162Z"
   },
   {
    "duration": 692,
    "start_time": "2021-12-16T01:26:36.187Z"
   },
   {
    "duration": 10,
    "start_time": "2021-12-16T01:26:36.881Z"
   },
   {
    "duration": 624,
    "start_time": "2021-12-16T01:26:36.894Z"
   },
   {
    "duration": 797,
    "start_time": "2021-12-16T01:26:37.521Z"
   },
   {
    "duration": 801,
    "start_time": "2021-12-16T01:26:38.320Z"
   },
   {
    "duration": 889,
    "start_time": "2021-12-16T01:26:39.123Z"
   },
   {
    "duration": 186,
    "start_time": "2021-12-16T01:26:40.014Z"
   },
   {
    "duration": 9,
    "start_time": "2021-12-16T01:26:40.203Z"
   },
   {
    "duration": 54,
    "start_time": "2021-12-16T01:26:40.214Z"
   },
   {
    "duration": 724,
    "start_time": "2021-12-16T01:26:40.270Z"
   },
   {
    "duration": 30,
    "start_time": "2021-12-16T01:26:40.997Z"
   },
   {
    "duration": 139,
    "start_time": "2021-12-16T01:26:41.029Z"
   },
   {
    "duration": 836,
    "start_time": "2021-12-16T01:26:41.171Z"
   },
   {
    "duration": 762,
    "start_time": "2021-12-16T01:30:58.569Z"
   },
   {
    "duration": 778,
    "start_time": "2021-12-16T01:31:24.240Z"
   },
   {
    "duration": 817,
    "start_time": "2021-12-16T01:31:57.184Z"
   },
   {
    "duration": 618,
    "start_time": "2021-12-16T01:32:52.279Z"
   },
   {
    "duration": 706,
    "start_time": "2021-12-16T01:33:08.225Z"
   },
   {
    "duration": 897,
    "start_time": "2021-12-16T01:34:47.466Z"
   },
   {
    "duration": 780,
    "start_time": "2021-12-16T01:35:06.085Z"
   },
   {
    "duration": 775,
    "start_time": "2021-12-16T01:35:26.807Z"
   },
   {
    "duration": 956,
    "start_time": "2021-12-16T01:39:29.519Z"
   },
   {
    "duration": 864,
    "start_time": "2021-12-16T01:40:19.436Z"
   },
   {
    "duration": 971,
    "start_time": "2021-12-16T01:40:35.526Z"
   },
   {
    "duration": 1009,
    "start_time": "2021-12-16T01:41:21.663Z"
   },
   {
    "duration": 862,
    "start_time": "2021-12-16T01:49:51.303Z"
   },
   {
    "duration": 853,
    "start_time": "2021-12-16T01:50:43.213Z"
   },
   {
    "duration": 967,
    "start_time": "2021-12-16T01:50:52.351Z"
   },
   {
    "duration": 633,
    "start_time": "2021-12-16T01:51:36.795Z"
   },
   {
    "duration": 826,
    "start_time": "2021-12-16T01:51:47.890Z"
   },
   {
    "duration": 1012,
    "start_time": "2021-12-16T01:53:32.751Z"
   },
   {
    "duration": 849,
    "start_time": "2021-12-16T01:53:56.753Z"
   },
   {
    "duration": 849,
    "start_time": "2021-12-16T01:55:00.710Z"
   },
   {
    "duration": 844,
    "start_time": "2021-12-16T01:55:20.350Z"
   },
   {
    "duration": 873,
    "start_time": "2021-12-16T01:58:34.551Z"
   },
   {
    "duration": 800,
    "start_time": "2021-12-16T01:59:02.333Z"
   },
   {
    "duration": 1097,
    "start_time": "2021-12-16T01:59:24.337Z"
   },
   {
    "duration": 882,
    "start_time": "2021-12-16T02:14:20.923Z"
   },
   {
    "duration": 1513,
    "start_time": "2021-12-16T09:31:44.375Z"
   },
   {
    "duration": 145,
    "start_time": "2021-12-16T09:31:45.890Z"
   },
   {
    "duration": 23,
    "start_time": "2021-12-16T09:31:46.038Z"
   },
   {
    "duration": 112,
    "start_time": "2021-12-16T09:31:46.064Z"
   },
   {
    "duration": 6,
    "start_time": "2021-12-16T09:31:46.178Z"
   },
   {
    "duration": 108,
    "start_time": "2021-12-16T09:31:46.187Z"
   },
   {
    "duration": 57,
    "start_time": "2021-12-16T09:31:46.298Z"
   },
   {
    "duration": 7,
    "start_time": "2021-12-16T09:31:46.359Z"
   },
   {
    "duration": 56,
    "start_time": "2021-12-16T09:31:46.368Z"
   },
   {
    "duration": 20,
    "start_time": "2021-12-16T09:31:46.426Z"
   },
   {
    "duration": 47,
    "start_time": "2021-12-16T09:31:46.448Z"
   },
   {
    "duration": 49,
    "start_time": "2021-12-16T09:31:46.497Z"
   },
   {
    "duration": 39,
    "start_time": "2021-12-16T09:31:46.549Z"
   },
   {
    "duration": 67405,
    "start_time": "2021-12-16T09:31:46.590Z"
   },
   {
    "duration": 5,
    "start_time": "2021-12-16T09:32:53.997Z"
   },
   {
    "duration": 8,
    "start_time": "2021-12-16T09:32:54.016Z"
   },
   {
    "duration": 63,
    "start_time": "2021-12-16T09:32:54.026Z"
   },
   {
    "duration": 27,
    "start_time": "2021-12-16T09:32:54.092Z"
   },
   {
    "duration": 625,
    "start_time": "2021-12-16T09:32:54.121Z"
   },
   {
    "duration": 22,
    "start_time": "2021-12-16T09:32:54.748Z"
   },
   {
    "duration": 714,
    "start_time": "2021-12-16T09:32:54.773Z"
   },
   {
    "duration": 27,
    "start_time": "2021-12-16T09:32:55.490Z"
   },
   {
    "duration": 646,
    "start_time": "2021-12-16T09:32:55.522Z"
   },
   {
    "duration": 808,
    "start_time": "2021-12-16T09:32:56.171Z"
   },
   {
    "duration": 914,
    "start_time": "2021-12-16T09:32:56.982Z"
   },
   {
    "duration": 795,
    "start_time": "2021-12-16T09:32:57.899Z"
   },
   {
    "duration": 181,
    "start_time": "2021-12-16T09:32:58.696Z"
   },
   {
    "duration": 11,
    "start_time": "2021-12-16T09:32:58.880Z"
   },
   {
    "duration": 59,
    "start_time": "2021-12-16T09:32:58.895Z"
   },
   {
    "duration": 760,
    "start_time": "2021-12-16T09:32:58.957Z"
   },
   {
    "duration": 24,
    "start_time": "2021-12-16T09:32:59.719Z"
   },
   {
    "duration": 104,
    "start_time": "2021-12-16T09:32:59.745Z"
   },
   {
    "duration": 1011,
    "start_time": "2021-12-16T09:32:59.852Z"
   },
   {
    "duration": 710,
    "start_time": "2021-12-16T09:38:57.052Z"
   },
   {
    "duration": 1078,
    "start_time": "2021-12-16T09:39:13.882Z"
   },
   {
    "duration": 950,
    "start_time": "2021-12-16T09:39:32.988Z"
   },
   {
    "duration": 831,
    "start_time": "2021-12-16T09:39:46.861Z"
   },
   {
    "duration": 331,
    "start_time": "2021-12-16T09:50:41.471Z"
   },
   {
    "duration": 849,
    "start_time": "2021-12-16T09:57:40.188Z"
   },
   {
    "duration": 9666,
    "start_time": "2021-12-16T10:01:59.449Z"
   },
   {
    "duration": 13,
    "start_time": "2021-12-16T10:02:40.221Z"
   },
   {
    "duration": 299,
    "start_time": "2021-12-16T10:05:04.139Z"
   },
   {
    "duration": 372,
    "start_time": "2021-12-16T10:05:56.022Z"
   },
   {
    "duration": 920,
    "start_time": "2021-12-16T10:06:19.331Z"
   },
   {
    "duration": 17,
    "start_time": "2021-12-16T10:10:17.554Z"
   },
   {
    "duration": 267,
    "start_time": "2021-12-16T10:12:00.607Z"
   },
   {
    "duration": 923,
    "start_time": "2021-12-16T10:13:19.958Z"
   },
   {
    "duration": 249,
    "start_time": "2021-12-16T10:14:57.380Z"
   },
   {
    "duration": 83,
    "start_time": "2021-12-16T10:15:15.706Z"
   },
   {
    "duration": 265,
    "start_time": "2021-12-16T10:15:56.553Z"
   },
   {
    "duration": 270,
    "start_time": "2021-12-16T10:19:08.813Z"
   },
   {
    "duration": 296,
    "start_time": "2021-12-16T10:19:23.977Z"
   },
   {
    "duration": 258,
    "start_time": "2021-12-16T10:19:52.221Z"
   },
   {
    "duration": 228,
    "start_time": "2021-12-16T10:21:36.481Z"
   },
   {
    "duration": 117,
    "start_time": "2021-12-16T10:36:24.905Z"
   },
   {
    "duration": 248,
    "start_time": "2021-12-16T10:38:51.893Z"
   },
   {
    "duration": 245,
    "start_time": "2021-12-16T10:39:22.745Z"
   },
   {
    "duration": 781,
    "start_time": "2021-12-16T10:40:37.208Z"
   },
   {
    "duration": 759,
    "start_time": "2021-12-16T10:41:50.344Z"
   },
   {
    "duration": 792,
    "start_time": "2021-12-16T10:42:31.482Z"
   },
   {
    "duration": 870,
    "start_time": "2021-12-16T10:43:56.239Z"
   },
   {
    "duration": 777,
    "start_time": "2021-12-16T10:44:29.260Z"
   },
   {
    "duration": 15,
    "start_time": "2021-12-16T10:45:05.897Z"
   },
   {
    "duration": 17,
    "start_time": "2021-12-16T10:45:39.257Z"
   },
   {
    "duration": 779,
    "start_time": "2021-12-16T10:46:05.498Z"
   },
   {
    "duration": 785,
    "start_time": "2021-12-16T10:46:48.390Z"
   },
   {
    "duration": 1480,
    "start_time": "2021-12-16T11:18:13.406Z"
   },
   {
    "duration": 138,
    "start_time": "2021-12-16T11:18:14.889Z"
   },
   {
    "duration": 24,
    "start_time": "2021-12-16T11:18:15.030Z"
   },
   {
    "duration": 104,
    "start_time": "2021-12-16T11:18:15.056Z"
   },
   {
    "duration": 6,
    "start_time": "2021-12-16T11:18:15.162Z"
   },
   {
    "duration": 97,
    "start_time": "2021-12-16T11:18:15.170Z"
   },
   {
    "duration": 70,
    "start_time": "2021-12-16T11:18:15.269Z"
   },
   {
    "duration": 8,
    "start_time": "2021-12-16T11:18:15.346Z"
   },
   {
    "duration": 24,
    "start_time": "2021-12-16T11:18:15.356Z"
   },
   {
    "duration": 49,
    "start_time": "2021-12-16T11:18:15.382Z"
   },
   {
    "duration": 18,
    "start_time": "2021-12-16T11:18:15.433Z"
   },
   {
    "duration": 19,
    "start_time": "2021-12-16T11:18:15.453Z"
   },
   {
    "duration": 53,
    "start_time": "2021-12-16T11:18:15.475Z"
   },
   {
    "duration": 65823,
    "start_time": "2021-12-16T11:18:15.531Z"
   },
   {
    "duration": 8,
    "start_time": "2021-12-16T11:19:21.357Z"
   },
   {
    "duration": 22,
    "start_time": "2021-12-16T11:19:21.368Z"
   },
   {
    "duration": 61,
    "start_time": "2021-12-16T11:19:21.393Z"
   },
   {
    "duration": 8,
    "start_time": "2021-12-16T11:19:21.457Z"
   },
   {
    "duration": 543,
    "start_time": "2021-12-16T11:19:21.467Z"
   },
   {
    "duration": 22,
    "start_time": "2021-12-16T11:19:22.017Z"
   },
   {
    "duration": 710,
    "start_time": "2021-12-16T11:19:22.042Z"
   },
   {
    "duration": 10,
    "start_time": "2021-12-16T11:19:22.754Z"
   },
   {
    "duration": 658,
    "start_time": "2021-12-16T11:19:22.768Z"
   },
   {
    "duration": 815,
    "start_time": "2021-12-16T11:19:23.428Z"
   },
   {
    "duration": 1083,
    "start_time": "2021-12-16T11:19:24.246Z"
   },
   {
    "duration": 760,
    "start_time": "2021-12-16T11:19:25.332Z"
   },
   {
    "duration": 173,
    "start_time": "2021-12-16T11:19:26.095Z"
   },
   {
    "duration": 8,
    "start_time": "2021-12-16T11:19:26.271Z"
   },
   {
    "duration": 52,
    "start_time": "2021-12-16T11:19:26.282Z"
   },
   {
    "duration": 733,
    "start_time": "2021-12-16T11:19:26.337Z"
   },
   {
    "duration": 27,
    "start_time": "2021-12-16T11:19:27.072Z"
   },
   {
    "duration": 102,
    "start_time": "2021-12-16T11:19:27.118Z"
   },
   {
    "duration": 818,
    "start_time": "2021-12-16T11:19:27.222Z"
   },
   {
    "duration": 1623,
    "start_time": "2021-12-16T13:18:30.864Z"
   },
   {
    "duration": 136,
    "start_time": "2021-12-16T13:18:32.489Z"
   },
   {
    "duration": 22,
    "start_time": "2021-12-16T13:18:32.628Z"
   },
   {
    "duration": 129,
    "start_time": "2021-12-16T13:18:32.653Z"
   },
   {
    "duration": 7,
    "start_time": "2021-12-16T13:18:32.785Z"
   },
   {
    "duration": 100,
    "start_time": "2021-12-16T13:18:32.795Z"
   },
   {
    "duration": 70,
    "start_time": "2021-12-16T13:18:32.897Z"
   },
   {
    "duration": 9,
    "start_time": "2021-12-16T13:18:32.973Z"
   },
   {
    "duration": 49,
    "start_time": "2021-12-16T13:18:32.985Z"
   },
   {
    "duration": 19,
    "start_time": "2021-12-16T13:18:33.036Z"
   },
   {
    "duration": 36,
    "start_time": "2021-12-16T13:18:33.058Z"
   },
   {
    "duration": 36,
    "start_time": "2021-12-16T13:18:33.097Z"
   },
   {
    "duration": 26,
    "start_time": "2021-12-16T13:18:33.135Z"
   },
   {
    "duration": 63772,
    "start_time": "2021-12-16T13:18:33.164Z"
   },
   {
    "duration": 5,
    "start_time": "2021-12-16T13:19:36.939Z"
   },
   {
    "duration": 8,
    "start_time": "2021-12-16T13:19:36.946Z"
   },
   {
    "duration": 80,
    "start_time": "2021-12-16T13:19:36.957Z"
   },
   {
    "duration": 5,
    "start_time": "2021-12-16T13:19:37.040Z"
   },
   {
    "duration": 751,
    "start_time": "2021-12-16T13:19:37.048Z"
   },
   {
    "duration": 31,
    "start_time": "2021-12-16T13:19:37.802Z"
   },
   {
    "duration": 700,
    "start_time": "2021-12-16T13:19:37.836Z"
   },
   {
    "duration": 8,
    "start_time": "2021-12-16T13:19:38.538Z"
   },
   {
    "duration": 645,
    "start_time": "2021-12-16T13:19:38.550Z"
   },
   {
    "duration": 857,
    "start_time": "2021-12-16T13:19:39.198Z"
   },
   {
    "duration": 954,
    "start_time": "2021-12-16T13:19:40.058Z"
   },
   {
    "duration": 921,
    "start_time": "2021-12-16T13:19:41.015Z"
   },
   {
    "duration": 211,
    "start_time": "2021-12-16T13:19:41.939Z"
   },
   {
    "duration": 9,
    "start_time": "2021-12-16T13:19:42.152Z"
   },
   {
    "duration": 33,
    "start_time": "2021-12-16T13:19:42.164Z"
   },
   {
    "duration": 706,
    "start_time": "2021-12-16T13:19:42.199Z"
   },
   {
    "duration": 37,
    "start_time": "2021-12-16T13:19:42.908Z"
   },
   {
    "duration": 29,
    "start_time": "2021-12-16T13:19:42.947Z"
   },
   {
    "duration": 752,
    "start_time": "2021-12-16T13:19:42.978Z"
   },
   {
    "duration": 5,
    "start_time": "2021-12-16T13:25:53.441Z"
   },
   {
    "duration": 113,
    "start_time": "2021-12-16T13:26:02.220Z"
   },
   {
    "duration": 33,
    "start_time": "2021-12-16T13:44:20.178Z"
   },
   {
    "duration": 709,
    "start_time": "2021-12-16T13:47:37.217Z"
   },
   {
    "duration": 204,
    "start_time": "2021-12-16T18:12:48.896Z"
   },
   {
    "duration": 1137,
    "start_time": "2021-12-16T18:13:01.330Z"
   },
   {
    "duration": 98,
    "start_time": "2021-12-16T18:13:02.469Z"
   },
   {
    "duration": 24,
    "start_time": "2021-12-16T18:13:02.569Z"
   },
   {
    "duration": 61,
    "start_time": "2021-12-16T18:13:02.595Z"
   },
   {
    "duration": 4,
    "start_time": "2021-12-16T18:13:02.658Z"
   },
   {
    "duration": 75,
    "start_time": "2021-12-16T18:13:02.663Z"
   },
   {
    "duration": 51,
    "start_time": "2021-12-16T18:13:02.740Z"
   },
   {
    "duration": 7,
    "start_time": "2021-12-16T18:13:02.793Z"
   },
   {
    "duration": 17,
    "start_time": "2021-12-16T18:13:02.803Z"
   },
   {
    "duration": 13,
    "start_time": "2021-12-16T18:13:02.822Z"
   },
   {
    "duration": 17,
    "start_time": "2021-12-16T18:13:02.837Z"
   },
   {
    "duration": 38,
    "start_time": "2021-12-16T18:13:02.855Z"
   },
   {
    "duration": 18,
    "start_time": "2021-12-16T18:13:02.895Z"
   },
   {
    "duration": 42395,
    "start_time": "2021-12-16T18:13:02.914Z"
   },
   {
    "duration": 5,
    "start_time": "2021-12-16T18:13:45.310Z"
   },
   {
    "duration": 7,
    "start_time": "2021-12-16T18:13:45.316Z"
   },
   {
    "duration": 34,
    "start_time": "2021-12-16T18:13:45.324Z"
   },
   {
    "duration": 4,
    "start_time": "2021-12-16T18:13:45.360Z"
   },
   {
    "duration": 356,
    "start_time": "2021-12-16T18:13:45.365Z"
   },
   {
    "duration": 15,
    "start_time": "2021-12-16T18:13:45.722Z"
   },
   {
    "duration": 447,
    "start_time": "2021-12-16T18:13:45.738Z"
   },
   {
    "duration": 8,
    "start_time": "2021-12-16T18:13:46.186Z"
   },
   {
    "duration": 431,
    "start_time": "2021-12-16T18:13:46.196Z"
   },
   {
    "duration": 516,
    "start_time": "2021-12-16T18:13:46.628Z"
   },
   {
    "duration": 601,
    "start_time": "2021-12-16T18:13:47.147Z"
   },
   {
    "duration": 549,
    "start_time": "2021-12-16T18:13:47.749Z"
   },
   {
    "duration": 118,
    "start_time": "2021-12-16T18:13:48.302Z"
   },
   {
    "duration": 6,
    "start_time": "2021-12-16T18:13:48.422Z"
   },
   {
    "duration": 19,
    "start_time": "2021-12-16T18:13:48.429Z"
   },
   {
    "duration": 486,
    "start_time": "2021-12-16T18:13:48.451Z"
   },
   {
    "duration": 17,
    "start_time": "2021-12-16T18:13:48.939Z"
   },
   {
    "duration": 62,
    "start_time": "2021-12-16T18:13:48.958Z"
   },
   {
    "duration": 531,
    "start_time": "2021-12-16T18:13:49.022Z"
   },
   {
    "duration": 40,
    "start_time": "2021-12-16T18:13:49.555Z"
   },
   {
    "duration": 396,
    "start_time": "2021-12-16T18:13:49.597Z"
   },
   {
    "duration": 29,
    "start_time": "2021-12-16T18:19:32.455Z"
   },
   {
    "duration": 15,
    "start_time": "2021-12-16T18:21:03.730Z"
   },
   {
    "duration": 30,
    "start_time": "2021-12-16T18:25:28.984Z"
   },
   {
    "duration": 426,
    "start_time": "2021-12-16T18:30:37.050Z"
   },
   {
    "duration": 482,
    "start_time": "2021-12-16T18:33:09.176Z"
   },
   {
    "duration": 434,
    "start_time": "2021-12-16T18:38:57.682Z"
   },
   {
    "duration": 6,
    "start_time": "2021-12-16T19:00:36.975Z"
   },
   {
    "duration": 7,
    "start_time": "2021-12-16T19:00:51.674Z"
   },
   {
    "duration": 393,
    "start_time": "2021-12-16T19:00:51.683Z"
   },
   {
    "duration": 449,
    "start_time": "2021-12-16T19:00:52.078Z"
   },
   {
    "duration": 565,
    "start_time": "2021-12-16T19:00:52.529Z"
   },
   {
    "duration": 130,
    "start_time": "2021-12-16T19:00:53.096Z"
   },
   {
    "duration": 6,
    "start_time": "2021-12-16T19:00:53.228Z"
   },
   {
    "duration": 34,
    "start_time": "2021-12-16T19:00:53.236Z"
   },
   {
    "duration": 522,
    "start_time": "2021-12-16T19:00:53.273Z"
   },
   {
    "duration": 18,
    "start_time": "2021-12-16T19:00:53.797Z"
   },
   {
    "duration": 177,
    "start_time": "2021-12-16T19:00:53.816Z"
   },
   {
    "duration": 626,
    "start_time": "2021-12-16T19:00:53.994Z"
   },
   {
    "duration": 462,
    "start_time": "2021-12-16T19:00:54.622Z"
   },
   {
    "duration": 364,
    "start_time": "2021-12-16T19:00:55.086Z"
   },
   {
    "duration": 6,
    "start_time": "2021-12-16T19:10:03.357Z"
   },
   {
    "duration": 412,
    "start_time": "2021-12-16T19:10:11.880Z"
   },
   {
    "duration": 440,
    "start_time": "2021-12-16T19:10:12.295Z"
   },
   {
    "duration": 543,
    "start_time": "2021-12-16T19:10:12.737Z"
   },
   {
    "duration": 214,
    "start_time": "2021-12-16T19:10:13.282Z"
   },
   {
    "duration": 7,
    "start_time": "2021-12-16T19:10:13.498Z"
   },
   {
    "duration": 19,
    "start_time": "2021-12-16T19:10:13.506Z"
   },
   {
    "duration": 475,
    "start_time": "2021-12-16T19:10:13.527Z"
   },
   {
    "duration": 17,
    "start_time": "2021-12-16T19:10:14.004Z"
   },
   {
    "duration": 78,
    "start_time": "2021-12-16T19:10:14.023Z"
   },
   {
    "duration": 526,
    "start_time": "2021-12-16T19:10:14.102Z"
   },
   {
    "duration": 419,
    "start_time": "2021-12-16T19:10:14.630Z"
   },
   {
    "duration": 369,
    "start_time": "2021-12-16T19:10:15.051Z"
   },
   {
    "duration": 557,
    "start_time": "2021-12-16T19:21:28.370Z"
   },
   {
    "duration": 134,
    "start_time": "2021-12-16T19:24:44.163Z"
   },
   {
    "duration": 58,
    "start_time": "2021-12-16T19:25:05.534Z"
   },
   {
    "duration": 550,
    "start_time": "2021-12-16T19:31:29.680Z"
   },
   {
    "duration": 38,
    "start_time": "2021-12-16T20:25:46.001Z"
   },
   {
    "duration": 1105,
    "start_time": "2021-12-17T06:54:08.610Z"
   },
   {
    "duration": 94,
    "start_time": "2021-12-17T06:54:09.717Z"
   },
   {
    "duration": 14,
    "start_time": "2021-12-17T06:54:09.813Z"
   },
   {
    "duration": 75,
    "start_time": "2021-12-17T06:54:09.829Z"
   },
   {
    "duration": 5,
    "start_time": "2021-12-17T06:54:09.906Z"
   },
   {
    "duration": 76,
    "start_time": "2021-12-17T06:54:09.912Z"
   },
   {
    "duration": 29,
    "start_time": "2021-12-17T06:54:09.989Z"
   },
   {
    "duration": 6,
    "start_time": "2021-12-17T06:54:10.019Z"
   },
   {
    "duration": 46,
    "start_time": "2021-12-17T06:54:10.027Z"
   },
   {
    "duration": 27,
    "start_time": "2021-12-17T06:54:10.075Z"
   },
   {
    "duration": 35,
    "start_time": "2021-12-17T06:54:10.103Z"
   },
   {
    "duration": 38,
    "start_time": "2021-12-17T06:54:10.139Z"
   },
   {
    "duration": 21,
    "start_time": "2021-12-17T06:54:10.179Z"
   },
   {
    "duration": 41176,
    "start_time": "2021-12-17T06:54:10.202Z"
   },
   {
    "duration": 4,
    "start_time": "2021-12-17T06:54:51.379Z"
   },
   {
    "duration": 9,
    "start_time": "2021-12-17T06:54:51.385Z"
   },
   {
    "duration": 34,
    "start_time": "2021-12-17T06:54:51.396Z"
   },
   {
    "duration": 5,
    "start_time": "2021-12-17T06:54:51.432Z"
   },
   {
    "duration": 333,
    "start_time": "2021-12-17T06:54:51.438Z"
   },
   {
    "duration": 15,
    "start_time": "2021-12-17T06:54:51.773Z"
   },
   {
    "duration": 417,
    "start_time": "2021-12-17T06:54:51.790Z"
   },
   {
    "duration": 9,
    "start_time": "2021-12-17T06:54:52.209Z"
   },
   {
    "duration": 382,
    "start_time": "2021-12-17T06:54:52.220Z"
   },
   {
    "duration": 8,
    "start_time": "2021-12-17T06:54:52.604Z"
   },
   {
    "duration": 384,
    "start_time": "2021-12-17T06:54:52.614Z"
   },
   {
    "duration": 469,
    "start_time": "2021-12-17T06:54:53.001Z"
   },
   {
    "duration": 17,
    "start_time": "2021-12-17T06:54:53.473Z"
   },
   {
    "duration": 573,
    "start_time": "2021-12-17T06:54:53.492Z"
   },
   {
    "duration": 51,
    "start_time": "2021-12-17T06:54:54.067Z"
   },
   {
    "duration": 6,
    "start_time": "2021-12-17T06:54:54.119Z"
   },
   {
    "duration": 40,
    "start_time": "2021-12-17T06:54:54.126Z"
   },
   {
    "duration": 401,
    "start_time": "2021-12-17T06:54:54.167Z"
   },
   {
    "duration": 16,
    "start_time": "2021-12-17T06:54:54.570Z"
   },
   {
    "duration": 79,
    "start_time": "2021-12-17T06:54:54.587Z"
   },
   {
    "duration": 481,
    "start_time": "2021-12-17T06:54:54.667Z"
   },
   {
    "duration": 37,
    "start_time": "2021-12-17T06:54:55.150Z"
   },
   {
    "duration": 446,
    "start_time": "2021-12-17T06:54:55.189Z"
   },
   {
    "duration": 311,
    "start_time": "2021-12-17T07:04:13.698Z"
   },
   {
    "duration": 10,
    "start_time": "2021-12-17T07:09:05.768Z"
   },
   {
    "duration": 10,
    "start_time": "2021-12-17T07:09:30.133Z"
   },
   {
    "duration": 2,
    "start_time": "2021-12-17T07:14:02.159Z"
   },
   {
    "duration": 350,
    "start_time": "2021-12-17T07:28:16.942Z"
   },
   {
    "duration": 273,
    "start_time": "2021-12-17T07:28:48.570Z"
   },
   {
    "duration": 12,
    "start_time": "2021-12-17T07:32:01.764Z"
   },
   {
    "duration": 11,
    "start_time": "2021-12-17T07:32:57.970Z"
   },
   {
    "duration": 12,
    "start_time": "2021-12-17T07:34:42.793Z"
   },
   {
    "duration": 3,
    "start_time": "2021-12-17T08:40:23.554Z"
   },
   {
    "duration": 124,
    "start_time": "2021-12-17T08:40:23.560Z"
   },
   {
    "duration": 19,
    "start_time": "2021-12-17T08:40:23.686Z"
   },
   {
    "duration": 67,
    "start_time": "2021-12-17T08:40:23.708Z"
   },
   {
    "duration": 4,
    "start_time": "2021-12-17T08:40:23.776Z"
   },
   {
    "duration": 72,
    "start_time": "2021-12-17T08:40:23.782Z"
   },
   {
    "duration": 29,
    "start_time": "2021-12-17T08:40:23.864Z"
   },
   {
    "duration": 10,
    "start_time": "2021-12-17T08:40:23.896Z"
   },
   {
    "duration": 30,
    "start_time": "2021-12-17T08:40:23.908Z"
   },
   {
    "duration": 24,
    "start_time": "2021-12-17T08:40:23.940Z"
   },
   {
    "duration": 36,
    "start_time": "2021-12-17T08:40:23.966Z"
   },
   {
    "duration": 25,
    "start_time": "2021-12-17T08:40:24.004Z"
   },
   {
    "duration": 18,
    "start_time": "2021-12-17T08:40:24.031Z"
   },
   {
    "duration": 45924,
    "start_time": "2021-12-17T08:40:24.052Z"
   },
   {
    "duration": 4,
    "start_time": "2021-12-17T08:41:09.978Z"
   },
   {
    "duration": 12,
    "start_time": "2021-12-17T08:41:09.984Z"
   },
   {
    "duration": 43,
    "start_time": "2021-12-17T08:41:09.998Z"
   },
   {
    "duration": 5,
    "start_time": "2021-12-17T08:41:10.043Z"
   },
   {
    "duration": 332,
    "start_time": "2021-12-17T08:41:10.064Z"
   },
   {
    "duration": 17,
    "start_time": "2021-12-17T08:41:10.398Z"
   },
   {
    "duration": 460,
    "start_time": "2021-12-17T08:41:10.419Z"
   },
   {
    "duration": 8,
    "start_time": "2021-12-17T08:41:10.881Z"
   },
   {
    "duration": 405,
    "start_time": "2021-12-17T08:41:10.891Z"
   },
   {
    "duration": 7,
    "start_time": "2021-12-17T08:41:11.298Z"
   },
   {
    "duration": 467,
    "start_time": "2021-12-17T08:41:11.306Z"
   },
   {
    "duration": 416,
    "start_time": "2021-12-17T08:41:11.775Z"
   },
   {
    "duration": 17,
    "start_time": "2021-12-17T08:41:12.193Z"
   },
   {
    "duration": 671,
    "start_time": "2021-12-17T08:41:12.212Z"
   },
   {
    "duration": 54,
    "start_time": "2021-12-17T08:41:12.885Z"
   },
   {
    "duration": 22,
    "start_time": "2021-12-17T08:41:12.941Z"
   },
   {
    "duration": 22,
    "start_time": "2021-12-17T08:41:12.965Z"
   },
   {
    "duration": 433,
    "start_time": "2021-12-17T08:41:12.989Z"
   },
   {
    "duration": 19,
    "start_time": "2021-12-17T08:41:13.424Z"
   },
   {
    "duration": 65,
    "start_time": "2021-12-17T08:41:13.444Z"
   },
   {
    "duration": 565,
    "start_time": "2021-12-17T08:41:13.511Z"
   },
   {
    "duration": 30,
    "start_time": "2021-12-17T08:41:14.077Z"
   },
   {
    "duration": 299,
    "start_time": "2021-12-17T08:41:14.108Z"
   },
   {
    "duration": 10,
    "start_time": "2021-12-17T08:41:14.408Z"
   },
   {
    "duration": 304,
    "start_time": "2021-12-17T08:41:14.420Z"
   },
   {
    "duration": 13,
    "start_time": "2021-12-17T08:41:14.726Z"
   },
   {
    "duration": 4,
    "start_time": "2021-12-17T08:44:13.882Z"
   },
   {
    "duration": 93,
    "start_time": "2021-12-17T08:44:13.887Z"
   },
   {
    "duration": 14,
    "start_time": "2021-12-17T08:44:13.982Z"
   },
   {
    "duration": 69,
    "start_time": "2021-12-17T08:44:13.998Z"
   },
   {
    "duration": 4,
    "start_time": "2021-12-17T08:44:14.069Z"
   },
   {
    "duration": 58,
    "start_time": "2021-12-17T08:44:14.075Z"
   },
   {
    "duration": 51,
    "start_time": "2021-12-17T08:44:14.135Z"
   },
   {
    "duration": 4,
    "start_time": "2021-12-17T08:44:14.189Z"
   },
   {
    "duration": 17,
    "start_time": "2021-12-17T08:44:14.195Z"
   },
   {
    "duration": 11,
    "start_time": "2021-12-17T08:44:14.214Z"
   },
   {
    "duration": 50,
    "start_time": "2021-12-17T08:44:14.227Z"
   },
   {
    "duration": 13,
    "start_time": "2021-12-17T08:44:14.279Z"
   },
   {
    "duration": 14,
    "start_time": "2021-12-17T08:44:14.293Z"
   },
   {
    "duration": 42805,
    "start_time": "2021-12-17T08:44:14.308Z"
   },
   {
    "duration": 5,
    "start_time": "2021-12-17T08:44:57.115Z"
   },
   {
    "duration": 10,
    "start_time": "2021-12-17T08:44:57.122Z"
   },
   {
    "duration": 62,
    "start_time": "2021-12-17T08:44:57.134Z"
   },
   {
    "duration": 5,
    "start_time": "2021-12-17T08:44:57.198Z"
   },
   {
    "duration": 389,
    "start_time": "2021-12-17T08:44:57.205Z"
   },
   {
    "duration": 20,
    "start_time": "2021-12-17T08:44:57.596Z"
   },
   {
    "duration": 553,
    "start_time": "2021-12-17T08:44:57.617Z"
   },
   {
    "duration": 8,
    "start_time": "2021-12-17T08:44:58.172Z"
   },
   {
    "duration": 434,
    "start_time": "2021-12-17T08:44:58.184Z"
   },
   {
    "duration": 8,
    "start_time": "2021-12-17T08:44:58.620Z"
   },
   {
    "duration": 417,
    "start_time": "2021-12-17T08:44:58.630Z"
   },
   {
    "duration": 405,
    "start_time": "2021-12-17T08:44:59.048Z"
   },
   {
    "duration": 21,
    "start_time": "2021-12-17T08:44:59.455Z"
   },
   {
    "duration": 597,
    "start_time": "2021-12-17T08:44:59.478Z"
   },
   {
    "duration": 60,
    "start_time": "2021-12-17T08:45:00.076Z"
   },
   {
    "duration": 6,
    "start_time": "2021-12-17T08:45:00.138Z"
   },
   {
    "duration": 19,
    "start_time": "2021-12-17T08:45:00.164Z"
   },
   {
    "duration": 451,
    "start_time": "2021-12-17T08:45:00.185Z"
   },
   {
    "duration": 27,
    "start_time": "2021-12-17T08:45:00.638Z"
   },
   {
    "duration": 202,
    "start_time": "2021-12-17T08:45:00.667Z"
   },
   {
    "duration": 521,
    "start_time": "2021-12-17T08:45:00.871Z"
   },
   {
    "duration": 32,
    "start_time": "2021-12-17T08:45:01.394Z"
   },
   {
    "duration": 307,
    "start_time": "2021-12-17T08:45:01.428Z"
   },
   {
    "duration": 24,
    "start_time": "2021-12-17T08:45:01.738Z"
   },
   {
    "duration": 316,
    "start_time": "2021-12-17T08:45:01.765Z"
   },
   {
    "duration": 11,
    "start_time": "2021-12-17T08:45:02.082Z"
   },
   {
    "duration": 1220,
    "start_time": "2021-12-17T19:04:44.611Z"
   },
   {
    "duration": 89,
    "start_time": "2021-12-17T19:04:45.833Z"
   },
   {
    "duration": 13,
    "start_time": "2021-12-17T19:04:45.923Z"
   },
   {
    "duration": 46,
    "start_time": "2021-12-17T19:04:45.937Z"
   },
   {
    "duration": 4,
    "start_time": "2021-12-17T19:04:45.987Z"
   },
   {
    "duration": 57,
    "start_time": "2021-12-17T19:04:45.992Z"
   },
   {
    "duration": 59,
    "start_time": "2021-12-17T19:04:46.051Z"
   },
   {
    "duration": 4,
    "start_time": "2021-12-17T19:04:46.113Z"
   },
   {
    "duration": 27,
    "start_time": "2021-12-17T19:04:46.119Z"
   },
   {
    "duration": 11,
    "start_time": "2021-12-17T19:04:46.147Z"
   },
   {
    "duration": 30,
    "start_time": "2021-12-17T19:04:46.160Z"
   },
   {
    "duration": 19,
    "start_time": "2021-12-17T19:04:46.192Z"
   },
   {
    "duration": 13,
    "start_time": "2021-12-17T19:04:46.213Z"
   },
   {
    "duration": 43513,
    "start_time": "2021-12-17T19:04:46.227Z"
   },
   {
    "duration": 4,
    "start_time": "2021-12-17T19:05:29.741Z"
   },
   {
    "duration": 9,
    "start_time": "2021-12-17T19:05:29.746Z"
   },
   {
    "duration": 51,
    "start_time": "2021-12-17T19:05:29.756Z"
   },
   {
    "duration": 6,
    "start_time": "2021-12-17T19:05:29.810Z"
   },
   {
    "duration": 385,
    "start_time": "2021-12-17T19:05:29.818Z"
   },
   {
    "duration": 17,
    "start_time": "2021-12-17T19:05:30.205Z"
   },
   {
    "duration": 398,
    "start_time": "2021-12-17T19:05:30.223Z"
   },
   {
    "duration": 13,
    "start_time": "2021-12-17T19:05:30.624Z"
   },
   {
    "duration": 442,
    "start_time": "2021-12-17T19:05:30.640Z"
   },
   {
    "duration": 10,
    "start_time": "2021-12-17T19:05:31.088Z"
   },
   {
    "duration": 424,
    "start_time": "2021-12-17T19:05:31.102Z"
   },
   {
    "duration": 498,
    "start_time": "2021-12-17T19:05:31.528Z"
   },
   {
    "duration": 16,
    "start_time": "2021-12-17T19:05:32.028Z"
   },
   {
    "duration": 582,
    "start_time": "2021-12-17T19:05:32.046Z"
   },
   {
    "duration": 77,
    "start_time": "2021-12-17T19:05:32.631Z"
   },
   {
    "duration": 8,
    "start_time": "2021-12-17T19:05:32.710Z"
   },
   {
    "duration": 19,
    "start_time": "2021-12-17T19:05:32.720Z"
   },
   {
    "duration": 434,
    "start_time": "2021-12-17T19:05:32.740Z"
   },
   {
    "duration": 22,
    "start_time": "2021-12-17T19:05:33.176Z"
   },
   {
    "duration": 28,
    "start_time": "2021-12-17T19:05:33.200Z"
   },
   {
    "duration": 437,
    "start_time": "2021-12-17T19:05:33.230Z"
   },
   {
    "duration": 39,
    "start_time": "2021-12-17T19:05:33.668Z"
   },
   {
    "duration": 277,
    "start_time": "2021-12-17T19:05:33.708Z"
   },
   {
    "duration": 17,
    "start_time": "2021-12-17T19:05:33.988Z"
   },
   {
    "duration": 291,
    "start_time": "2021-12-17T19:05:34.007Z"
   },
   {
    "duration": 12,
    "start_time": "2021-12-17T19:05:34.300Z"
   },
   {
    "duration": 18,
    "start_time": "2021-12-17T19:09:08.517Z"
   },
   {
    "duration": 51,
    "start_time": "2021-12-17T19:09:27.013Z"
   },
   {
    "duration": 1920,
    "start_time": "2021-12-18T11:04:55.329Z"
   },
   {
    "duration": 135,
    "start_time": "2021-12-18T11:04:57.253Z"
   },
   {
    "duration": 36,
    "start_time": "2021-12-18T11:04:57.391Z"
   },
   {
    "duration": 99,
    "start_time": "2021-12-18T11:04:57.430Z"
   },
   {
    "duration": 7,
    "start_time": "2021-12-18T11:04:57.532Z"
   },
   {
    "duration": 117,
    "start_time": "2021-12-18T11:04:57.542Z"
   },
   {
    "duration": 69,
    "start_time": "2021-12-18T11:04:57.662Z"
   },
   {
    "duration": 7,
    "start_time": "2021-12-18T11:04:57.736Z"
   },
   {
    "duration": 25,
    "start_time": "2021-12-18T11:04:57.746Z"
   },
   {
    "duration": 51,
    "start_time": "2021-12-18T11:04:57.774Z"
   },
   {
    "duration": 19,
    "start_time": "2021-12-18T11:04:57.828Z"
   },
   {
    "duration": 33,
    "start_time": "2021-12-18T11:04:57.850Z"
   },
   {
    "duration": 62,
    "start_time": "2021-12-18T11:04:57.886Z"
   },
   {
    "duration": 68102,
    "start_time": "2021-12-18T11:04:57.951Z"
   },
   {
    "duration": 5,
    "start_time": "2021-12-18T11:06:06.056Z"
   },
   {
    "duration": 35,
    "start_time": "2021-12-18T11:06:06.064Z"
   },
   {
    "duration": 76,
    "start_time": "2021-12-18T11:06:06.101Z"
   },
   {
    "duration": 7,
    "start_time": "2021-12-18T11:06:06.180Z"
   },
   {
    "duration": 493,
    "start_time": "2021-12-18T11:06:06.189Z"
   },
   {
    "duration": 40,
    "start_time": "2021-12-18T11:06:06.685Z"
   },
   {
    "duration": 644,
    "start_time": "2021-12-18T11:06:06.728Z"
   },
   {
    "duration": 10,
    "start_time": "2021-12-18T11:06:07.375Z"
   },
   {
    "duration": 596,
    "start_time": "2021-12-18T11:06:07.391Z"
   },
   {
    "duration": 11,
    "start_time": "2021-12-18T11:06:07.991Z"
   },
   {
    "duration": 618,
    "start_time": "2021-12-18T11:06:08.005Z"
   },
   {
    "duration": 709,
    "start_time": "2021-12-18T11:06:08.625Z"
   },
   {
    "duration": 25,
    "start_time": "2021-12-18T11:06:09.337Z"
   },
   {
    "duration": 713,
    "start_time": "2021-12-18T11:06:09.364Z"
   },
   {
    "duration": 109,
    "start_time": "2021-12-18T11:06:10.079Z"
   },
   {
    "duration": 10,
    "start_time": "2021-12-18T11:06:10.190Z"
   },
   {
    "duration": 27,
    "start_time": "2021-12-18T11:06:10.224Z"
   },
   {
    "duration": 673,
    "start_time": "2021-12-18T11:06:10.253Z"
   },
   {
    "duration": 26,
    "start_time": "2021-12-18T11:06:10.928Z"
   },
   {
    "duration": 92,
    "start_time": "2021-12-18T11:06:10.956Z"
   },
   {
    "duration": 697,
    "start_time": "2021-12-18T11:06:11.051Z"
   },
   {
    "duration": 44,
    "start_time": "2021-12-18T11:06:11.750Z"
   },
   {
    "duration": 447,
    "start_time": "2021-12-18T11:06:11.797Z"
   },
   {
    "duration": 14,
    "start_time": "2021-12-18T11:06:12.246Z"
   },
   {
    "duration": 464,
    "start_time": "2021-12-18T11:06:12.262Z"
   },
   {
    "duration": 15,
    "start_time": "2021-12-18T11:06:12.729Z"
   },
   {
    "duration": 4,
    "start_time": "2021-12-18T12:03:48.168Z"
   },
   {
    "duration": 164,
    "start_time": "2021-12-18T12:03:48.175Z"
   },
   {
    "duration": 21,
    "start_time": "2021-12-18T12:03:48.342Z"
   },
   {
    "duration": 94,
    "start_time": "2021-12-18T12:03:48.365Z"
   },
   {
    "duration": 33,
    "start_time": "2021-12-18T12:05:20.211Z"
   },
   {
    "duration": 59,
    "start_time": "2021-12-18T12:07:37.228Z"
   },
   {
    "duration": 28,
    "start_time": "2021-12-18T12:08:44.858Z"
   },
   {
    "duration": 115,
    "start_time": "2021-12-18T12:11:48.474Z"
   },
   {
    "duration": 5,
    "start_time": "2021-12-18T13:00:14.183Z"
   },
   {
    "duration": 145,
    "start_time": "2021-12-18T13:00:14.190Z"
   },
   {
    "duration": 22,
    "start_time": "2021-12-18T13:00:14.338Z"
   },
   {
    "duration": 101,
    "start_time": "2021-12-18T13:00:14.364Z"
   },
   {
    "duration": 7,
    "start_time": "2021-12-18T13:00:14.469Z"
   },
   {
    "duration": 102,
    "start_time": "2021-12-18T13:00:14.479Z"
   },
   {
    "duration": 63,
    "start_time": "2021-12-18T13:00:14.584Z"
   },
   {
    "duration": 6,
    "start_time": "2021-12-18T13:00:14.650Z"
   },
   {
    "duration": 23,
    "start_time": "2021-12-18T13:00:14.658Z"
   },
   {
    "duration": 53,
    "start_time": "2021-12-18T13:00:14.683Z"
   },
   {
    "duration": 17,
    "start_time": "2021-12-18T13:00:14.738Z"
   },
   {
    "duration": 19,
    "start_time": "2021-12-18T13:00:14.757Z"
   },
   {
    "duration": 50,
    "start_time": "2021-12-18T13:00:14.778Z"
   },
   {
    "duration": 66492,
    "start_time": "2021-12-18T13:00:14.831Z"
   },
   {
    "duration": 5,
    "start_time": "2021-12-18T13:01:21.325Z"
   },
   {
    "duration": 19,
    "start_time": "2021-12-18T13:01:21.333Z"
   },
   {
    "duration": 68,
    "start_time": "2021-12-18T13:01:21.354Z"
   },
   {
    "duration": 6,
    "start_time": "2021-12-18T13:01:21.424Z"
   },
   {
    "duration": 504,
    "start_time": "2021-12-18T13:01:21.434Z"
   },
   {
    "duration": 22,
    "start_time": "2021-12-18T13:01:21.941Z"
   },
   {
    "duration": 914,
    "start_time": "2021-12-18T13:01:21.966Z"
   },
   {
    "duration": 448,
    "start_time": "2021-12-18T13:10:26.173Z"
   },
   {
    "duration": 21,
    "start_time": "2021-12-18T13:10:49.232Z"
   },
   {
    "duration": 335,
    "start_time": "2021-12-18T13:12:48.126Z"
   },
   {
    "duration": 42,
    "start_time": "2021-12-18T13:15:08.900Z"
   },
   {
    "duration": 360,
    "start_time": "2021-12-18T13:18:25.576Z"
   },
   {
    "duration": 355,
    "start_time": "2021-12-18T13:21:54.960Z"
   },
   {
    "duration": 302,
    "start_time": "2021-12-18T13:22:33.708Z"
   },
   {
    "duration": 475,
    "start_time": "2021-12-18T13:22:57.381Z"
   },
   {
    "duration": 299,
    "start_time": "2021-12-18T13:23:27.738Z"
   },
   {
    "duration": 318,
    "start_time": "2021-12-18T13:25:10.048Z"
   },
   {
    "duration": 342,
    "start_time": "2021-12-18T13:27:29.272Z"
   },
   {
    "duration": 23,
    "start_time": "2021-12-18T13:27:49.522Z"
   },
   {
    "duration": 24,
    "start_time": "2021-12-18T13:28:08.844Z"
   },
   {
    "duration": 30,
    "start_time": "2021-12-18T13:28:32.613Z"
   },
   {
    "duration": 24,
    "start_time": "2021-12-18T13:30:38.511Z"
   },
   {
    "duration": 33,
    "start_time": "2021-12-18T13:30:55.419Z"
   },
   {
    "duration": 30,
    "start_time": "2021-12-18T13:31:36.874Z"
   },
   {
    "duration": 39,
    "start_time": "2021-12-18T13:32:58.965Z"
   },
   {
    "duration": 39,
    "start_time": "2021-12-18T13:35:00.434Z"
   },
   {
    "duration": 38,
    "start_time": "2021-12-18T13:35:34.002Z"
   },
   {
    "duration": 38,
    "start_time": "2021-12-18T13:36:08.780Z"
   },
   {
    "duration": 46,
    "start_time": "2021-12-18T13:37:25.212Z"
   },
   {
    "duration": 67,
    "start_time": "2021-12-18T13:40:19.178Z"
   },
   {
    "duration": 64,
    "start_time": "2021-12-18T13:42:51.774Z"
   },
   {
    "duration": 630,
    "start_time": "2021-12-18T13:43:46.122Z"
   },
   {
    "duration": 69,
    "start_time": "2021-12-18T13:44:02.722Z"
   },
   {
    "duration": 327,
    "start_time": "2021-12-18T14:07:55.531Z"
   },
   {
    "duration": 70,
    "start_time": "2021-12-18T14:08:31.767Z"
   },
   {
    "duration": 63,
    "start_time": "2021-12-18T14:09:30.745Z"
   },
   {
    "duration": 59,
    "start_time": "2021-12-18T14:10:00.000Z"
   },
   {
    "duration": 48,
    "start_time": "2021-12-18T14:11:18.926Z"
   },
   {
    "duration": 122,
    "start_time": "2021-12-18T14:22:16.367Z"
   },
   {
    "duration": 7,
    "start_time": "2021-12-18T14:25:20.044Z"
   },
   {
    "duration": 208,
    "start_time": "2021-12-18T14:25:20.055Z"
   },
   {
    "duration": 24,
    "start_time": "2021-12-18T14:25:20.266Z"
   },
   {
    "duration": 101,
    "start_time": "2021-12-18T14:25:20.294Z"
   },
   {
    "duration": 26,
    "start_time": "2021-12-18T14:25:20.397Z"
   },
   {
    "duration": 100,
    "start_time": "2021-12-18T14:25:20.425Z"
   },
   {
    "duration": 45,
    "start_time": "2021-12-18T14:25:20.527Z"
   },
   {
    "duration": 5,
    "start_time": "2021-12-18T14:25:20.576Z"
   },
   {
    "duration": 54,
    "start_time": "2021-12-18T14:25:20.584Z"
   },
   {
    "duration": 20,
    "start_time": "2021-12-18T14:25:20.641Z"
   },
   {
    "duration": 21,
    "start_time": "2021-12-18T14:25:20.664Z"
   },
   {
    "duration": 52,
    "start_time": "2021-12-18T14:25:20.687Z"
   },
   {
    "duration": 31,
    "start_time": "2021-12-18T14:25:20.741Z"
   },
   {
    "duration": 68087,
    "start_time": "2021-12-18T14:25:20.775Z"
   },
   {
    "duration": 8,
    "start_time": "2021-12-18T14:26:28.865Z"
   },
   {
    "duration": 11,
    "start_time": "2021-12-18T14:26:28.875Z"
   },
   {
    "duration": 72,
    "start_time": "2021-12-18T14:26:28.889Z"
   },
   {
    "duration": 8,
    "start_time": "2021-12-18T14:26:28.964Z"
   },
   {
    "duration": 526,
    "start_time": "2021-12-18T14:26:28.975Z"
   },
   {
    "duration": 35,
    "start_time": "2021-12-18T14:26:29.504Z"
   },
   {
    "duration": 787,
    "start_time": "2021-12-18T14:26:29.542Z"
   },
   {
    "duration": 47,
    "start_time": "2021-12-18T14:26:30.332Z"
   },
   {
    "duration": 10,
    "start_time": "2021-12-18T14:26:30.383Z"
   },
   {
    "duration": 669,
    "start_time": "2021-12-18T14:26:30.396Z"
   },
   {
    "duration": 10,
    "start_time": "2021-12-18T14:26:31.068Z"
   },
   {
    "duration": 889,
    "start_time": "2021-12-18T14:26:31.081Z"
   },
   {
    "duration": 679,
    "start_time": "2021-12-18T14:26:31.973Z"
   },
   {
    "duration": 26,
    "start_time": "2021-12-18T14:26:32.655Z"
   },
   {
    "duration": 793,
    "start_time": "2021-12-18T14:26:32.683Z"
   },
   {
    "duration": 192,
    "start_time": "2021-12-18T14:26:33.478Z"
   },
   {
    "duration": 176,
    "start_time": "2021-12-18T15:23:17.438Z"
   },
   {
    "duration": 156,
    "start_time": "2021-12-18T15:23:39.688Z"
   },
   {
    "duration": 179,
    "start_time": "2021-12-18T15:23:50.609Z"
   },
   {
    "duration": 169,
    "start_time": "2021-12-18T15:24:09.220Z"
   },
   {
    "duration": 585,
    "start_time": "2021-12-18T15:24:18.492Z"
   },
   {
    "duration": 182,
    "start_time": "2021-12-18T15:25:49.445Z"
   },
   {
    "duration": 355,
    "start_time": "2021-12-18T15:26:13.719Z"
   },
   {
    "duration": 11,
    "start_time": "2021-12-18T15:27:00.630Z"
   },
   {
    "duration": 9,
    "start_time": "2021-12-18T15:28:57.185Z"
   },
   {
    "duration": 14,
    "start_time": "2021-12-18T15:31:03.306Z"
   },
   {
    "duration": 15,
    "start_time": "2021-12-18T15:31:20.183Z"
   },
   {
    "duration": 8,
    "start_time": "2021-12-18T15:31:49.583Z"
   },
   {
    "duration": 19,
    "start_time": "2021-12-18T15:59:16.874Z"
   },
   {
    "duration": 16,
    "start_time": "2021-12-18T16:00:21.909Z"
   },
   {
    "duration": 24,
    "start_time": "2021-12-18T16:01:19.006Z"
   },
   {
    "duration": 9,
    "start_time": "2021-12-18T16:04:11.546Z"
   },
   {
    "duration": 17,
    "start_time": "2021-12-18T16:48:32.503Z"
   },
   {
    "duration": 15,
    "start_time": "2021-12-18T16:48:45.592Z"
   },
   {
    "duration": 21,
    "start_time": "2021-12-18T16:49:11.376Z"
   },
   {
    "duration": 22,
    "start_time": "2021-12-18T16:49:23.006Z"
   },
   {
    "duration": 22,
    "start_time": "2021-12-18T16:51:34.131Z"
   },
   {
    "duration": 49,
    "start_time": "2021-12-18T16:59:23.376Z"
   },
   {
    "duration": 50,
    "start_time": "2021-12-18T17:01:29.992Z"
   },
   {
    "duration": 49,
    "start_time": "2021-12-18T17:02:58.716Z"
   },
   {
    "duration": 49,
    "start_time": "2021-12-18T17:03:34.287Z"
   },
   {
    "duration": 55,
    "start_time": "2021-12-18T17:04:06.505Z"
   },
   {
    "duration": 51,
    "start_time": "2021-12-18T17:04:49.943Z"
   },
   {
    "duration": 50,
    "start_time": "2021-12-18T17:05:29.579Z"
   },
   {
    "duration": 15,
    "start_time": "2021-12-18T17:07:55.113Z"
   },
   {
    "duration": 15,
    "start_time": "2021-12-18T17:08:46.188Z"
   },
   {
    "duration": 16,
    "start_time": "2021-12-18T17:09:44.059Z"
   },
   {
    "duration": 28,
    "start_time": "2021-12-18T17:13:29.078Z"
   },
   {
    "duration": 27,
    "start_time": "2021-12-18T17:16:00.689Z"
   },
   {
    "duration": 31,
    "start_time": "2021-12-18T17:16:42.431Z"
   },
   {
    "duration": 69,
    "start_time": "2021-12-18T17:51:10.521Z"
   },
   {
    "duration": 68,
    "start_time": "2021-12-18T17:53:14.179Z"
   },
   {
    "duration": 76,
    "start_time": "2021-12-18T17:56:15.483Z"
   },
   {
    "duration": 9,
    "start_time": "2021-12-18T18:19:12.673Z"
   },
   {
    "duration": 49,
    "start_time": "2021-12-18T18:25:14.206Z"
   },
   {
    "duration": 77,
    "start_time": "2021-12-18T18:25:43.105Z"
   },
   {
    "duration": 52,
    "start_time": "2021-12-18T18:26:24.942Z"
   },
   {
    "duration": 79,
    "start_time": "2021-12-18T18:27:25.602Z"
   },
   {
    "duration": 10,
    "start_time": "2021-12-18T18:32:01.876Z"
   },
   {
    "duration": 49,
    "start_time": "2021-12-18T18:58:57.778Z"
   },
   {
    "duration": 51,
    "start_time": "2021-12-18T19:01:13.303Z"
   },
   {
    "duration": 50,
    "start_time": "2021-12-18T19:02:40.151Z"
   },
   {
    "duration": 8,
    "start_time": "2021-12-18T19:07:03.110Z"
   },
   {
    "duration": 5,
    "start_time": "2021-12-18T19:39:20.082Z"
   },
   {
    "duration": 152,
    "start_time": "2021-12-18T19:39:20.089Z"
   },
   {
    "duration": 22,
    "start_time": "2021-12-18T19:39:20.245Z"
   },
   {
    "duration": 99,
    "start_time": "2021-12-18T19:39:20.271Z"
   },
   {
    "duration": 6,
    "start_time": "2021-12-18T19:39:20.372Z"
   },
   {
    "duration": 100,
    "start_time": "2021-12-18T19:39:20.380Z"
   },
   {
    "duration": 64,
    "start_time": "2021-12-18T19:39:20.482Z"
   },
   {
    "duration": 7,
    "start_time": "2021-12-18T19:39:20.549Z"
   },
   {
    "duration": 26,
    "start_time": "2021-12-18T19:39:20.560Z"
   },
   {
    "duration": 18,
    "start_time": "2021-12-18T19:39:20.624Z"
   },
   {
    "duration": 18,
    "start_time": "2021-12-18T19:39:20.644Z"
   },
   {
    "duration": 19,
    "start_time": "2021-12-18T19:39:20.664Z"
   },
   {
    "duration": 57,
    "start_time": "2021-12-18T19:39:20.685Z"
   },
   {
    "duration": 70050,
    "start_time": "2021-12-18T19:39:20.744Z"
   },
   {
    "duration": 6,
    "start_time": "2021-12-18T19:40:30.796Z"
   },
   {
    "duration": 27,
    "start_time": "2021-12-18T19:40:30.804Z"
   },
   {
    "duration": 72,
    "start_time": "2021-12-18T19:40:30.834Z"
   },
   {
    "duration": 6,
    "start_time": "2021-12-18T19:40:30.909Z"
   },
   {
    "duration": 582,
    "start_time": "2021-12-18T19:40:30.918Z"
   },
   {
    "duration": 27,
    "start_time": "2021-12-18T19:40:31.502Z"
   },
   {
    "duration": 947,
    "start_time": "2021-12-18T19:40:31.532Z"
   },
   {
    "duration": 60,
    "start_time": "2021-12-18T19:40:32.481Z"
   },
   {
    "duration": 8,
    "start_time": "2021-12-18T19:40:32.546Z"
   },
   {
    "duration": 715,
    "start_time": "2021-12-18T19:40:32.557Z"
   },
   {
    "duration": 11,
    "start_time": "2021-12-18T19:40:33.275Z"
   },
   {
    "duration": 735,
    "start_time": "2021-12-18T19:40:33.288Z"
   },
   {
    "duration": 660,
    "start_time": "2021-12-18T19:40:34.025Z"
   },
   {
    "duration": 8,
    "start_time": "2021-12-18T19:40:34.687Z"
   },
   {
    "duration": 46,
    "start_time": "2021-12-18T19:40:34.698Z"
   },
   {
    "duration": 668,
    "start_time": "2021-12-18T19:40:34.746Z"
   },
   {
    "duration": 218,
    "start_time": "2021-12-18T19:40:35.424Z"
   },
   {
    "duration": 10,
    "start_time": "2021-12-18T19:40:35.644Z"
   },
   {
    "duration": 68,
    "start_time": "2021-12-18T19:40:35.657Z"
   },
   {
    "duration": 707,
    "start_time": "2021-12-18T19:40:35.728Z"
   },
   {
    "duration": 26,
    "start_time": "2021-12-18T19:40:36.438Z"
   },
   {
    "duration": 109,
    "start_time": "2021-12-18T19:40:36.467Z"
   },
   {
    "duration": 750,
    "start_time": "2021-12-18T19:40:36.579Z"
   },
   {
    "duration": 416,
    "start_time": "2021-12-18T19:46:27.516Z"
   },
   {
    "duration": 312,
    "start_time": "2021-12-18T19:46:53.525Z"
   },
   {
    "duration": 375,
    "start_time": "2021-12-18T19:48:28.389Z"
   },
   {
    "duration": 314,
    "start_time": "2021-12-18T19:49:15.936Z"
   },
   {
    "duration": 902,
    "start_time": "2021-12-18T20:01:35.281Z"
   },
   {
    "duration": 886,
    "start_time": "2021-12-18T20:06:54.159Z"
   },
   {
    "duration": 855,
    "start_time": "2021-12-18T20:11:25.045Z"
   },
   {
    "duration": 887,
    "start_time": "2021-12-18T20:11:48.547Z"
   },
   {
    "duration": 335,
    "start_time": "2021-12-18T20:24:51.841Z"
   },
   {
    "duration": 1152,
    "start_time": "2021-12-18T20:26:05.139Z"
   },
   {
    "duration": 146,
    "start_time": "2021-12-18T20:27:45.485Z"
   },
   {
    "duration": 4,
    "start_time": "2021-12-18T20:40:17.103Z"
   },
   {
    "duration": 152,
    "start_time": "2021-12-18T20:40:17.110Z"
   },
   {
    "duration": 24,
    "start_time": "2021-12-18T20:40:17.265Z"
   },
   {
    "duration": 103,
    "start_time": "2021-12-18T20:40:17.292Z"
   },
   {
    "duration": 7,
    "start_time": "2021-12-18T20:40:17.397Z"
   },
   {
    "duration": 106,
    "start_time": "2021-12-18T20:40:17.424Z"
   },
   {
    "duration": 45,
    "start_time": "2021-12-18T20:40:17.533Z"
   },
   {
    "duration": 6,
    "start_time": "2021-12-18T20:40:17.581Z"
   },
   {
    "duration": 24,
    "start_time": "2021-12-18T20:40:17.623Z"
   },
   {
    "duration": 18,
    "start_time": "2021-12-18T20:40:17.650Z"
   },
   {
    "duration": 53,
    "start_time": "2021-12-18T20:40:17.671Z"
   },
   {
    "duration": 21,
    "start_time": "2021-12-18T20:40:17.726Z"
   },
   {
    "duration": 24,
    "start_time": "2021-12-18T20:40:17.749Z"
   },
   {
    "duration": 69075,
    "start_time": "2021-12-18T20:40:17.775Z"
   },
   {
    "duration": 6,
    "start_time": "2021-12-18T20:41:26.853Z"
   },
   {
    "duration": 11,
    "start_time": "2021-12-18T20:41:26.861Z"
   },
   {
    "duration": 72,
    "start_time": "2021-12-18T20:41:26.874Z"
   },
   {
    "duration": 5,
    "start_time": "2021-12-18T20:41:26.949Z"
   },
   {
    "duration": 490,
    "start_time": "2021-12-18T20:41:26.956Z"
   },
   {
    "duration": 23,
    "start_time": "2021-12-18T20:41:27.448Z"
   },
   {
    "duration": 661,
    "start_time": "2021-12-18T20:41:27.474Z"
   },
   {
    "duration": 45,
    "start_time": "2021-12-18T20:41:28.137Z"
   },
   {
    "duration": 8,
    "start_time": "2021-12-18T20:41:28.187Z"
   },
   {
    "duration": 626,
    "start_time": "2021-12-18T20:41:28.223Z"
   },
   {
    "duration": 8,
    "start_time": "2021-12-18T20:41:28.852Z"
   },
   {
    "duration": 729,
    "start_time": "2021-12-18T20:41:28.862Z"
   },
   {
    "duration": 725,
    "start_time": "2021-12-18T20:41:29.593Z"
   },
   {
    "duration": 8,
    "start_time": "2021-12-18T20:41:30.324Z"
   },
   {
    "duration": 27,
    "start_time": "2021-12-18T20:41:30.334Z"
   },
   {
    "duration": 723,
    "start_time": "2021-12-18T20:41:30.363Z"
   },
   {
    "duration": 167,
    "start_time": "2021-12-18T20:41:31.089Z"
   },
   {
    "duration": 11,
    "start_time": "2021-12-18T20:41:31.259Z"
   },
   {
    "duration": 67,
    "start_time": "2021-12-18T20:41:31.273Z"
   },
   {
    "duration": 683,
    "start_time": "2021-12-18T20:41:31.344Z"
   },
   {
    "duration": 29,
    "start_time": "2021-12-18T20:41:32.030Z"
   },
   {
    "duration": 107,
    "start_time": "2021-12-18T20:41:32.061Z"
   },
   {
    "duration": 733,
    "start_time": "2021-12-18T20:41:32.171Z"
   },
   {
    "duration": 882,
    "start_time": "2021-12-18T20:41:32.907Z"
   },
   {
    "duration": 56,
    "start_time": "2021-12-18T20:41:33.792Z"
   },
   {
    "duration": 617,
    "start_time": "2021-12-18T20:41:33.850Z"
   },
   {
    "duration": 13,
    "start_time": "2021-12-18T20:41:34.470Z"
   },
   {
    "duration": 449,
    "start_time": "2021-12-18T20:41:34.486Z"
   },
   {
    "duration": 14,
    "start_time": "2021-12-18T20:41:34.937Z"
   },
   {
    "duration": 5,
    "start_time": "2021-12-18T20:46:31.535Z"
   },
   {
    "duration": 150,
    "start_time": "2021-12-18T20:46:31.542Z"
   },
   {
    "duration": 43,
    "start_time": "2021-12-18T20:46:31.695Z"
   },
   {
    "duration": 88,
    "start_time": "2021-12-18T20:46:31.740Z"
   },
   {
    "duration": 5,
    "start_time": "2021-12-18T20:46:31.831Z"
   },
   {
    "duration": 107,
    "start_time": "2021-12-18T20:46:31.839Z"
   },
   {
    "duration": 44,
    "start_time": "2021-12-18T20:46:31.949Z"
   },
   {
    "duration": 28,
    "start_time": "2021-12-18T20:46:31.997Z"
   },
   {
    "duration": 26,
    "start_time": "2021-12-18T20:46:32.030Z"
   },
   {
    "duration": 20,
    "start_time": "2021-12-18T20:46:32.059Z"
   },
   {
    "duration": 21,
    "start_time": "2021-12-18T20:46:32.123Z"
   },
   {
    "duration": 21,
    "start_time": "2021-12-18T20:46:32.147Z"
   },
   {
    "duration": 55,
    "start_time": "2021-12-18T20:46:32.170Z"
   },
   {
    "duration": 68299,
    "start_time": "2021-12-18T20:46:32.228Z"
   },
   {
    "duration": 5,
    "start_time": "2021-12-18T20:47:40.530Z"
   },
   {
    "duration": 16,
    "start_time": "2021-12-18T20:47:40.538Z"
   },
   {
    "duration": 56,
    "start_time": "2021-12-18T20:47:40.557Z"
   },
   {
    "duration": 6,
    "start_time": "2021-12-18T20:47:40.623Z"
   },
   {
    "duration": 498,
    "start_time": "2021-12-18T20:47:40.631Z"
   },
   {
    "duration": 22,
    "start_time": "2021-12-18T20:47:41.131Z"
   },
   {
    "duration": 660,
    "start_time": "2021-12-18T20:47:41.155Z"
   },
   {
    "duration": 46,
    "start_time": "2021-12-18T20:47:41.817Z"
   },
   {
    "duration": 9,
    "start_time": "2021-12-18T20:47:41.867Z"
   },
   {
    "duration": 624,
    "start_time": "2021-12-18T20:47:41.879Z"
   },
   {
    "duration": 20,
    "start_time": "2021-12-18T20:47:42.506Z"
   },
   {
    "duration": 609,
    "start_time": "2021-12-18T20:47:42.528Z"
   },
   {
    "duration": 644,
    "start_time": "2021-12-18T20:47:43.139Z"
   },
   {
    "duration": 9,
    "start_time": "2021-12-18T20:47:43.785Z"
   },
   {
    "duration": 39,
    "start_time": "2021-12-18T20:47:43.796Z"
   },
   {
    "duration": 770,
    "start_time": "2021-12-18T20:47:43.837Z"
   },
   {
    "duration": 158,
    "start_time": "2021-12-18T20:47:44.609Z"
   },
   {
    "duration": 9,
    "start_time": "2021-12-18T20:47:44.769Z"
   },
   {
    "duration": 69,
    "start_time": "2021-12-18T20:47:44.780Z"
   },
   {
    "duration": 688,
    "start_time": "2021-12-18T20:47:44.851Z"
   },
   {
    "duration": 30,
    "start_time": "2021-12-18T20:47:45.541Z"
   },
   {
    "duration": 118,
    "start_time": "2021-12-18T20:47:45.574Z"
   },
   {
    "duration": 870,
    "start_time": "2021-12-18T20:47:45.696Z"
   },
   {
    "duration": 1035,
    "start_time": "2021-12-18T20:47:46.570Z"
   },
   {
    "duration": 46,
    "start_time": "2021-12-18T20:47:47.622Z"
   },
   {
    "duration": 478,
    "start_time": "2021-12-18T20:47:47.671Z"
   },
   {
    "duration": 15,
    "start_time": "2021-12-18T20:47:48.152Z"
   },
   {
    "duration": 661,
    "start_time": "2021-12-18T20:47:48.170Z"
   },
   {
    "duration": 16,
    "start_time": "2021-12-18T20:47:48.834Z"
   },
   {
    "duration": 4,
    "start_time": "2021-12-18T20:49:16.195Z"
   },
   {
    "duration": 149,
    "start_time": "2021-12-18T20:49:16.202Z"
   },
   {
    "duration": 21,
    "start_time": "2021-12-18T20:49:16.354Z"
   },
   {
    "duration": 106,
    "start_time": "2021-12-18T20:49:16.378Z"
   },
   {
    "duration": 5,
    "start_time": "2021-12-18T20:49:16.487Z"
   },
   {
    "duration": 107,
    "start_time": "2021-12-18T20:49:16.494Z"
   },
   {
    "duration": 63,
    "start_time": "2021-12-18T20:49:16.606Z"
   },
   {
    "duration": 8,
    "start_time": "2021-12-18T20:49:16.673Z"
   },
   {
    "duration": 62,
    "start_time": "2021-12-18T20:49:16.683Z"
   },
   {
    "duration": 21,
    "start_time": "2021-12-18T20:49:16.748Z"
   },
   {
    "duration": 19,
    "start_time": "2021-12-18T20:49:16.772Z"
   },
   {
    "duration": 21,
    "start_time": "2021-12-18T20:49:16.823Z"
   },
   {
    "duration": 36,
    "start_time": "2021-12-18T20:49:16.847Z"
   },
   {
    "duration": 69108,
    "start_time": "2021-12-18T20:49:16.886Z"
   },
   {
    "duration": 5,
    "start_time": "2021-12-18T20:50:25.996Z"
   },
   {
    "duration": 19,
    "start_time": "2021-12-18T20:50:26.004Z"
   },
   {
    "duration": 49,
    "start_time": "2021-12-18T20:50:26.025Z"
   },
   {
    "duration": 6,
    "start_time": "2021-12-18T20:50:26.076Z"
   },
   {
    "duration": 508,
    "start_time": "2021-12-18T20:50:26.088Z"
   },
   {
    "duration": 36,
    "start_time": "2021-12-18T20:50:26.599Z"
   },
   {
    "duration": 656,
    "start_time": "2021-12-18T20:50:26.637Z"
   },
   {
    "duration": 62,
    "start_time": "2021-12-18T20:50:27.296Z"
   },
   {
    "duration": 9,
    "start_time": "2021-12-18T20:50:27.360Z"
   },
   {
    "duration": 623,
    "start_time": "2021-12-18T20:50:27.371Z"
   },
   {
    "duration": 9,
    "start_time": "2021-12-18T20:50:27.996Z"
   },
   {
    "duration": 643,
    "start_time": "2021-12-18T20:50:28.008Z"
   },
   {
    "duration": 649,
    "start_time": "2021-12-18T20:50:28.654Z"
   },
   {
    "duration": 17,
    "start_time": "2021-12-18T20:50:29.306Z"
   },
   {
    "duration": 23,
    "start_time": "2021-12-18T20:50:29.326Z"
   },
   {
    "duration": 842,
    "start_time": "2021-12-18T20:50:29.352Z"
   },
   {
    "duration": 169,
    "start_time": "2021-12-18T20:50:30.196Z"
   },
   {
    "duration": 8,
    "start_time": "2021-12-18T20:50:30.368Z"
   },
   {
    "duration": 67,
    "start_time": "2021-12-18T20:50:30.379Z"
   },
   {
    "duration": 700,
    "start_time": "2021-12-18T20:50:30.449Z"
   },
   {
    "duration": 27,
    "start_time": "2021-12-18T20:50:31.153Z"
   },
   {
    "duration": 93,
    "start_time": "2021-12-18T20:50:31.182Z"
   },
   {
    "duration": 733,
    "start_time": "2021-12-18T20:50:31.277Z"
   },
   {
    "duration": 891,
    "start_time": "2021-12-18T20:50:32.013Z"
   },
   {
    "duration": 59,
    "start_time": "2021-12-18T20:50:32.907Z"
   },
   {
    "duration": 466,
    "start_time": "2021-12-18T20:50:32.969Z"
   },
   {
    "duration": 14,
    "start_time": "2021-12-18T20:50:33.438Z"
   },
   {
    "duration": 449,
    "start_time": "2021-12-18T20:50:33.455Z"
   },
   {
    "duration": 23,
    "start_time": "2021-12-18T20:50:33.907Z"
   },
   {
    "duration": 1457,
    "start_time": "2021-12-18T20:51:07.527Z"
   },
   {
    "duration": 133,
    "start_time": "2021-12-18T20:51:08.987Z"
   },
   {
    "duration": 22,
    "start_time": "2021-12-18T20:51:09.123Z"
   },
   {
    "duration": 92,
    "start_time": "2021-12-18T20:51:09.147Z"
   },
   {
    "duration": 6,
    "start_time": "2021-12-18T20:51:09.241Z"
   },
   {
    "duration": 108,
    "start_time": "2021-12-18T20:51:09.249Z"
   },
   {
    "duration": 65,
    "start_time": "2021-12-18T20:51:09.360Z"
   },
   {
    "duration": 8,
    "start_time": "2021-12-18T20:51:09.427Z"
   },
   {
    "duration": 25,
    "start_time": "2021-12-18T20:51:09.439Z"
   },
   {
    "duration": 18,
    "start_time": "2021-12-18T20:51:09.467Z"
   },
   {
    "duration": 19,
    "start_time": "2021-12-18T20:51:09.523Z"
   },
   {
    "duration": 19,
    "start_time": "2021-12-18T20:51:09.545Z"
   },
   {
    "duration": 56,
    "start_time": "2021-12-18T20:51:09.567Z"
   },
   {
    "duration": 64611,
    "start_time": "2021-12-18T20:51:09.625Z"
   },
   {
    "duration": 7,
    "start_time": "2021-12-18T20:52:14.239Z"
   },
   {
    "duration": 11,
    "start_time": "2021-12-18T20:52:14.248Z"
   },
   {
    "duration": 74,
    "start_time": "2021-12-18T20:52:14.261Z"
   },
   {
    "duration": 7,
    "start_time": "2021-12-18T20:52:14.338Z"
   },
   {
    "duration": 546,
    "start_time": "2021-12-18T20:52:14.347Z"
   },
   {
    "duration": 30,
    "start_time": "2021-12-18T20:52:14.896Z"
   },
   {
    "duration": 670,
    "start_time": "2021-12-18T20:52:14.929Z"
   },
   {
    "duration": 57,
    "start_time": "2021-12-18T20:52:15.601Z"
   },
   {
    "duration": 9,
    "start_time": "2021-12-18T20:52:15.661Z"
   },
   {
    "duration": 636,
    "start_time": "2021-12-18T20:52:15.673Z"
   },
   {
    "duration": 19,
    "start_time": "2021-12-18T20:52:16.312Z"
   },
   {
    "duration": 652,
    "start_time": "2021-12-18T20:52:16.334Z"
   },
   {
    "duration": 722,
    "start_time": "2021-12-18T20:52:16.993Z"
   },
   {
    "duration": 10,
    "start_time": "2021-12-18T20:52:17.719Z"
   },
   {
    "duration": 25,
    "start_time": "2021-12-18T20:52:17.732Z"
   },
   {
    "duration": 758,
    "start_time": "2021-12-18T20:52:17.760Z"
   },
   {
    "duration": 155,
    "start_time": "2021-12-18T20:52:18.524Z"
   },
   {
    "duration": 44,
    "start_time": "2021-12-18T20:52:18.681Z"
   },
   {
    "duration": 27,
    "start_time": "2021-12-18T20:52:18.727Z"
   },
   {
    "duration": 683,
    "start_time": "2021-12-18T20:52:18.756Z"
   },
   {
    "duration": 24,
    "start_time": "2021-12-18T20:52:19.442Z"
   },
   {
    "duration": 92,
    "start_time": "2021-12-18T20:52:19.469Z"
   },
   {
    "duration": 777,
    "start_time": "2021-12-18T20:52:19.563Z"
   },
   {
    "duration": 999,
    "start_time": "2021-12-18T20:52:20.342Z"
   },
   {
    "duration": 47,
    "start_time": "2021-12-18T20:52:21.343Z"
   },
   {
    "duration": 485,
    "start_time": "2021-12-18T20:52:21.393Z"
   },
   {
    "duration": 14,
    "start_time": "2021-12-18T20:52:21.881Z"
   },
   {
    "duration": 463,
    "start_time": "2021-12-18T20:52:21.897Z"
   },
   {
    "duration": 16,
    "start_time": "2021-12-18T20:52:22.362Z"
   }
  ],
  "kernelspec": {
   "display_name": "Python 3 (ipykernel)",
   "language": "python",
   "name": "python3"
  },
  "language_info": {
   "codemirror_mode": {
    "name": "ipython",
    "version": 3
   },
   "file_extension": ".py",
   "mimetype": "text/x-python",
   "name": "python",
   "nbconvert_exporter": "python",
   "pygments_lexer": "ipython3",
   "version": "3.7.8"
  },
  "toc": {
   "base_numbering": 1,
   "nav_menu": {},
   "number_sections": true,
   "sideBar": true,
   "skip_h1_title": true,
   "title_cell": "Table of Contents",
   "title_sidebar": "Contents",
   "toc_cell": false,
   "toc_position": {},
   "toc_section_display": true,
   "toc_window_display": false
  }
 },
 "nbformat": 4,
 "nbformat_minor": 2
}
