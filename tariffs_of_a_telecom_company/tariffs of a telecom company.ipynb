{
 "cells": [
  {
   "cell_type": "markdown",
   "metadata": {},
   "source": [
    "# Исследование тарифов телеком компании\n",
    "\n",
    "Даны два тарифных плана федерального оператора сотовой связи: «Смарт» и «Ультра»:\n",
    "\n",
    "**Тариф «Смарт»**\n",
    "1.\tЕжемесячная плата: 550 рублей\n",
    "2.\tВключено 500 минут разговора, 50 сообщений и 15 Гб интернет-трафика\n",
    "3.\tСтоимость услуг сверх тарифного пакета: 1. минута разговора: 3 рубля («Мегалайн» всегда округляет вверх значения минут и мегабайтов. Если пользователь проговорил всего 1 секунду, в тарифе засчитывается целая минута); 2. сообщение: 3 рубля; 3. 1 Гб интернет-трафика: 200 рублей.\n",
    "\n",
    "**Тариф «Ультра»**\n",
    "1.\tЕжемесячная плата: 1950 рублей\n",
    "2.\tВключено 3000 минут разговора, 1000 сообщений и 30 Гб интернет-трафика\n",
    "3.\tСтоимость услуг сверх тарифного пакета: 1. минута разговора: 1 рубль; 2. сообщение: 1 рубль; 3. 1 Гб интернет-трафика: 150 рублей.\n",
    "\n",
    "<u>Примечание</u>: Оператор всегда округляет секунды до минут, а мегабайты за месяц — до гигабайт. \n",
    "\n",
    "Нужно понять, какой тариф приносит больше денег, для корректировки бюджета на рекламу. В нашем распоряжении данные 500 пользователей, чье поведение нужно проанализировать: кто они, откуда, каким тарифом пользуются, сколько звонков и сообщений каждый отправил за 2018 год. Данные предоставлены в файлах: calls.csv (информация о звонках), internet.csv (информация об интернет-сессиях), messages.csv (информация о сообщениях), tariffs.csv (информация о тарифах), users.csv (информация о пользователях).\n",
    "\n",
    "**Цель исследования** — проверить гипотезы:\n",
    "1. Cредняя выручка пользователей тарифов «Ультра» и «Смарт» различается.\n",
    "2. Cредняя выручка пользователей из Москвы отличается от выручки пользователей из других регионов.\n",
    "\n",
    "**Оглавление проекта**\n",
    "1. [Изучение данных из файлов](#start)\n",
    "    * 1.1. [Вывод](#conclusion_1)\n",
    "2. [Предобработка данных](#preprocessing)\n",
    "    * 2.1. [Замена типа данных](#preprocessing_1)\n",
    "    * 2.2. [Подготовка пользовательских данных](#preprocessing_2)\n",
    "3. [Анализ и описание данных](#analysis)\n",
    "    * 3.1. [Подсчет средних и разброс значений](#analysis_1)\n",
    "    * 3.2. [Гистограммы](#analysis_2)\n",
    "    * 3.3. [Вывод по распределениям](#conclusion_3)\n",
    "4. [Проверка гипотез](#hypotheses)\n",
    "5. [Общий вывод](#conclusion)"
   ]
  },
  {
   "cell_type": "markdown",
   "metadata": {},
   "source": [
    "## Изучение данных из файлов\n",
    "<a id=\"start\"></a>"
   ]
  },
  {
   "cell_type": "code",
   "execution_count": 1,
   "metadata": {},
   "outputs": [],
   "source": [
    "# импорт необходимых библиотек\n",
    "import pandas as pd\n",
    "import matplotlib.pyplot as plt\n",
    "import seaborn as sns\n",
    "from scipy import stats as st\n",
    "import numpy as np\n",
    "import math\n",
    "import warnings\n",
    "warnings.filterwarnings('ignore')\n",
    "from IPython.core.interactiveshell import InteractiveShell\n",
    "InteractiveShell.ast_node_interactivity = \"all\""
   ]
  },
  {
   "cell_type": "markdown",
   "metadata": {},
   "source": [
    "Получение общей информации о данных и первых 10 строк всех таблиц:"
   ]
  },
  {
   "cell_type": "code",
   "execution_count": 2,
   "metadata": {},
   "outputs": [
    {
     "name": "stdout",
     "output_type": "stream",
     "text": [
      "Получение информации по файлу calls:\n",
      "\n",
      "<class 'pandas.core.frame.DataFrame'>\n",
      "RangeIndex: 202607 entries, 0 to 202606\n",
      "Data columns (total 4 columns):\n",
      "id           202607 non-null object\n",
      "call_date    202607 non-null object\n",
      "duration     202607 non-null float64\n",
      "user_id      202607 non-null int64\n",
      "dtypes: float64(1), int64(1), object(2)\n",
      "memory usage: 6.2+ MB\n"
     ]
    },
    {
     "data": {
      "text/html": [
       "<div>\n",
       "<style scoped>\n",
       "    .dataframe tbody tr th:only-of-type {\n",
       "        vertical-align: middle;\n",
       "    }\n",
       "\n",
       "    .dataframe tbody tr th {\n",
       "        vertical-align: top;\n",
       "    }\n",
       "\n",
       "    .dataframe thead th {\n",
       "        text-align: right;\n",
       "    }\n",
       "</style>\n",
       "<table border=\"1\" class=\"dataframe\">\n",
       "  <thead>\n",
       "    <tr style=\"text-align: right;\">\n",
       "      <th></th>\n",
       "      <th>id</th>\n",
       "      <th>call_date</th>\n",
       "      <th>duration</th>\n",
       "      <th>user_id</th>\n",
       "    </tr>\n",
       "  </thead>\n",
       "  <tbody>\n",
       "    <tr>\n",
       "      <td>0</td>\n",
       "      <td>1000_0</td>\n",
       "      <td>2018-07-25</td>\n",
       "      <td>0.00</td>\n",
       "      <td>1000</td>\n",
       "    </tr>\n",
       "    <tr>\n",
       "      <td>1</td>\n",
       "      <td>1000_1</td>\n",
       "      <td>2018-08-17</td>\n",
       "      <td>0.00</td>\n",
       "      <td>1000</td>\n",
       "    </tr>\n",
       "    <tr>\n",
       "      <td>2</td>\n",
       "      <td>1000_2</td>\n",
       "      <td>2018-06-11</td>\n",
       "      <td>2.85</td>\n",
       "      <td>1000</td>\n",
       "    </tr>\n",
       "    <tr>\n",
       "      <td>3</td>\n",
       "      <td>1000_3</td>\n",
       "      <td>2018-09-21</td>\n",
       "      <td>13.80</td>\n",
       "      <td>1000</td>\n",
       "    </tr>\n",
       "    <tr>\n",
       "      <td>4</td>\n",
       "      <td>1000_4</td>\n",
       "      <td>2018-12-15</td>\n",
       "      <td>5.18</td>\n",
       "      <td>1000</td>\n",
       "    </tr>\n",
       "    <tr>\n",
       "      <td>5</td>\n",
       "      <td>1000_5</td>\n",
       "      <td>2018-11-02</td>\n",
       "      <td>0.00</td>\n",
       "      <td>1000</td>\n",
       "    </tr>\n",
       "    <tr>\n",
       "      <td>6</td>\n",
       "      <td>1000_6</td>\n",
       "      <td>2018-10-18</td>\n",
       "      <td>0.00</td>\n",
       "      <td>1000</td>\n",
       "    </tr>\n",
       "    <tr>\n",
       "      <td>7</td>\n",
       "      <td>1000_7</td>\n",
       "      <td>2018-08-22</td>\n",
       "      <td>18.31</td>\n",
       "      <td>1000</td>\n",
       "    </tr>\n",
       "    <tr>\n",
       "      <td>8</td>\n",
       "      <td>1000_8</td>\n",
       "      <td>2018-09-15</td>\n",
       "      <td>18.44</td>\n",
       "      <td>1000</td>\n",
       "    </tr>\n",
       "    <tr>\n",
       "      <td>9</td>\n",
       "      <td>1000_9</td>\n",
       "      <td>2018-08-15</td>\n",
       "      <td>0.00</td>\n",
       "      <td>1000</td>\n",
       "    </tr>\n",
       "  </tbody>\n",
       "</table>\n",
       "</div>"
      ],
      "text/plain": [
       "       id   call_date  duration  user_id\n",
       "0  1000_0  2018-07-25      0.00     1000\n",
       "1  1000_1  2018-08-17      0.00     1000\n",
       "2  1000_2  2018-06-11      2.85     1000\n",
       "3  1000_3  2018-09-21     13.80     1000\n",
       "4  1000_4  2018-12-15      5.18     1000\n",
       "5  1000_5  2018-11-02      0.00     1000\n",
       "6  1000_6  2018-10-18      0.00     1000\n",
       "7  1000_7  2018-08-22     18.31     1000\n",
       "8  1000_8  2018-09-15     18.44     1000\n",
       "9  1000_9  2018-08-15      0.00     1000"
      ]
     },
     "execution_count": 2,
     "metadata": {},
     "output_type": "execute_result"
    },
    {
     "name": "stdout",
     "output_type": "stream",
     "text": [
      "\n",
      "Получение информации по файлу internet:\n",
      "\n",
      "<class 'pandas.core.frame.DataFrame'>\n",
      "RangeIndex: 149396 entries, 0 to 149395\n",
      "Data columns (total 5 columns):\n",
      "Unnamed: 0      149396 non-null int64\n",
      "id              149396 non-null object\n",
      "mb_used         149396 non-null float64\n",
      "session_date    149396 non-null object\n",
      "user_id         149396 non-null int64\n",
      "dtypes: float64(1), int64(2), object(2)\n",
      "memory usage: 5.7+ MB\n"
     ]
    },
    {
     "data": {
      "text/html": [
       "<div>\n",
       "<style scoped>\n",
       "    .dataframe tbody tr th:only-of-type {\n",
       "        vertical-align: middle;\n",
       "    }\n",
       "\n",
       "    .dataframe tbody tr th {\n",
       "        vertical-align: top;\n",
       "    }\n",
       "\n",
       "    .dataframe thead th {\n",
       "        text-align: right;\n",
       "    }\n",
       "</style>\n",
       "<table border=\"1\" class=\"dataframe\">\n",
       "  <thead>\n",
       "    <tr style=\"text-align: right;\">\n",
       "      <th></th>\n",
       "      <th>Unnamed: 0</th>\n",
       "      <th>id</th>\n",
       "      <th>mb_used</th>\n",
       "      <th>session_date</th>\n",
       "      <th>user_id</th>\n",
       "    </tr>\n",
       "  </thead>\n",
       "  <tbody>\n",
       "    <tr>\n",
       "      <td>0</td>\n",
       "      <td>0</td>\n",
       "      <td>1000_0</td>\n",
       "      <td>112.95</td>\n",
       "      <td>2018-11-25</td>\n",
       "      <td>1000</td>\n",
       "    </tr>\n",
       "    <tr>\n",
       "      <td>1</td>\n",
       "      <td>1</td>\n",
       "      <td>1000_1</td>\n",
       "      <td>1052.81</td>\n",
       "      <td>2018-09-07</td>\n",
       "      <td>1000</td>\n",
       "    </tr>\n",
       "    <tr>\n",
       "      <td>2</td>\n",
       "      <td>2</td>\n",
       "      <td>1000_2</td>\n",
       "      <td>1197.26</td>\n",
       "      <td>2018-06-25</td>\n",
       "      <td>1000</td>\n",
       "    </tr>\n",
       "    <tr>\n",
       "      <td>3</td>\n",
       "      <td>3</td>\n",
       "      <td>1000_3</td>\n",
       "      <td>550.27</td>\n",
       "      <td>2018-08-22</td>\n",
       "      <td>1000</td>\n",
       "    </tr>\n",
       "    <tr>\n",
       "      <td>4</td>\n",
       "      <td>4</td>\n",
       "      <td>1000_4</td>\n",
       "      <td>302.56</td>\n",
       "      <td>2018-09-24</td>\n",
       "      <td>1000</td>\n",
       "    </tr>\n",
       "    <tr>\n",
       "      <td>5</td>\n",
       "      <td>5</td>\n",
       "      <td>1000_5</td>\n",
       "      <td>399.97</td>\n",
       "      <td>2018-10-02</td>\n",
       "      <td>1000</td>\n",
       "    </tr>\n",
       "    <tr>\n",
       "      <td>6</td>\n",
       "      <td>6</td>\n",
       "      <td>1000_6</td>\n",
       "      <td>540.08</td>\n",
       "      <td>2018-09-07</td>\n",
       "      <td>1000</td>\n",
       "    </tr>\n",
       "    <tr>\n",
       "      <td>7</td>\n",
       "      <td>7</td>\n",
       "      <td>1000_7</td>\n",
       "      <td>415.70</td>\n",
       "      <td>2018-07-11</td>\n",
       "      <td>1000</td>\n",
       "    </tr>\n",
       "    <tr>\n",
       "      <td>8</td>\n",
       "      <td>8</td>\n",
       "      <td>1000_8</td>\n",
       "      <td>505.40</td>\n",
       "      <td>2018-10-08</td>\n",
       "      <td>1000</td>\n",
       "    </tr>\n",
       "    <tr>\n",
       "      <td>9</td>\n",
       "      <td>9</td>\n",
       "      <td>1000_9</td>\n",
       "      <td>345.54</td>\n",
       "      <td>2018-09-03</td>\n",
       "      <td>1000</td>\n",
       "    </tr>\n",
       "  </tbody>\n",
       "</table>\n",
       "</div>"
      ],
      "text/plain": [
       "   Unnamed: 0      id  mb_used session_date  user_id\n",
       "0           0  1000_0   112.95   2018-11-25     1000\n",
       "1           1  1000_1  1052.81   2018-09-07     1000\n",
       "2           2  1000_2  1197.26   2018-06-25     1000\n",
       "3           3  1000_3   550.27   2018-08-22     1000\n",
       "4           4  1000_4   302.56   2018-09-24     1000\n",
       "5           5  1000_5   399.97   2018-10-02     1000\n",
       "6           6  1000_6   540.08   2018-09-07     1000\n",
       "7           7  1000_7   415.70   2018-07-11     1000\n",
       "8           8  1000_8   505.40   2018-10-08     1000\n",
       "9           9  1000_9   345.54   2018-09-03     1000"
      ]
     },
     "execution_count": 2,
     "metadata": {},
     "output_type": "execute_result"
    },
    {
     "name": "stdout",
     "output_type": "stream",
     "text": [
      "\n",
      "Получение информации по файлу messages:\n",
      "\n",
      "<class 'pandas.core.frame.DataFrame'>\n",
      "RangeIndex: 123036 entries, 0 to 123035\n",
      "Data columns (total 3 columns):\n",
      "id              123036 non-null object\n",
      "message_date    123036 non-null object\n",
      "user_id         123036 non-null int64\n",
      "dtypes: int64(1), object(2)\n",
      "memory usage: 2.8+ MB\n"
     ]
    },
    {
     "data": {
      "text/html": [
       "<div>\n",
       "<style scoped>\n",
       "    .dataframe tbody tr th:only-of-type {\n",
       "        vertical-align: middle;\n",
       "    }\n",
       "\n",
       "    .dataframe tbody tr th {\n",
       "        vertical-align: top;\n",
       "    }\n",
       "\n",
       "    .dataframe thead th {\n",
       "        text-align: right;\n",
       "    }\n",
       "</style>\n",
       "<table border=\"1\" class=\"dataframe\">\n",
       "  <thead>\n",
       "    <tr style=\"text-align: right;\">\n",
       "      <th></th>\n",
       "      <th>id</th>\n",
       "      <th>message_date</th>\n",
       "      <th>user_id</th>\n",
       "    </tr>\n",
       "  </thead>\n",
       "  <tbody>\n",
       "    <tr>\n",
       "      <td>0</td>\n",
       "      <td>1000_0</td>\n",
       "      <td>2018-06-27</td>\n",
       "      <td>1000</td>\n",
       "    </tr>\n",
       "    <tr>\n",
       "      <td>1</td>\n",
       "      <td>1000_1</td>\n",
       "      <td>2018-10-08</td>\n",
       "      <td>1000</td>\n",
       "    </tr>\n",
       "    <tr>\n",
       "      <td>2</td>\n",
       "      <td>1000_2</td>\n",
       "      <td>2018-08-04</td>\n",
       "      <td>1000</td>\n",
       "    </tr>\n",
       "    <tr>\n",
       "      <td>3</td>\n",
       "      <td>1000_3</td>\n",
       "      <td>2018-06-16</td>\n",
       "      <td>1000</td>\n",
       "    </tr>\n",
       "    <tr>\n",
       "      <td>4</td>\n",
       "      <td>1000_4</td>\n",
       "      <td>2018-12-05</td>\n",
       "      <td>1000</td>\n",
       "    </tr>\n",
       "    <tr>\n",
       "      <td>5</td>\n",
       "      <td>1000_5</td>\n",
       "      <td>2018-06-20</td>\n",
       "      <td>1000</td>\n",
       "    </tr>\n",
       "    <tr>\n",
       "      <td>6</td>\n",
       "      <td>1000_6</td>\n",
       "      <td>2018-11-19</td>\n",
       "      <td>1000</td>\n",
       "    </tr>\n",
       "    <tr>\n",
       "      <td>7</td>\n",
       "      <td>1000_7</td>\n",
       "      <td>2018-10-29</td>\n",
       "      <td>1000</td>\n",
       "    </tr>\n",
       "    <tr>\n",
       "      <td>8</td>\n",
       "      <td>1000_8</td>\n",
       "      <td>2018-06-25</td>\n",
       "      <td>1000</td>\n",
       "    </tr>\n",
       "    <tr>\n",
       "      <td>9</td>\n",
       "      <td>1000_9</td>\n",
       "      <td>2018-12-18</td>\n",
       "      <td>1000</td>\n",
       "    </tr>\n",
       "  </tbody>\n",
       "</table>\n",
       "</div>"
      ],
      "text/plain": [
       "       id message_date  user_id\n",
       "0  1000_0   2018-06-27     1000\n",
       "1  1000_1   2018-10-08     1000\n",
       "2  1000_2   2018-08-04     1000\n",
       "3  1000_3   2018-06-16     1000\n",
       "4  1000_4   2018-12-05     1000\n",
       "5  1000_5   2018-06-20     1000\n",
       "6  1000_6   2018-11-19     1000\n",
       "7  1000_7   2018-10-29     1000\n",
       "8  1000_8   2018-06-25     1000\n",
       "9  1000_9   2018-12-18     1000"
      ]
     },
     "execution_count": 2,
     "metadata": {},
     "output_type": "execute_result"
    },
    {
     "name": "stdout",
     "output_type": "stream",
     "text": [
      "\n",
      "Получение информации по файлу tariffs:\n",
      "\n",
      "<class 'pandas.core.frame.DataFrame'>\n",
      "RangeIndex: 2 entries, 0 to 1\n",
      "Data columns (total 8 columns):\n",
      "messages_included        2 non-null int64\n",
      "mb_per_month_included    2 non-null int64\n",
      "minutes_included         2 non-null int64\n",
      "rub_monthly_fee          2 non-null int64\n",
      "rub_per_gb               2 non-null int64\n",
      "rub_per_message          2 non-null int64\n",
      "rub_per_minute           2 non-null int64\n",
      "tariff_name              2 non-null object\n",
      "dtypes: int64(7), object(1)\n",
      "memory usage: 256.0+ bytes\n"
     ]
    },
    {
     "data": {
      "text/html": [
       "<div>\n",
       "<style scoped>\n",
       "    .dataframe tbody tr th:only-of-type {\n",
       "        vertical-align: middle;\n",
       "    }\n",
       "\n",
       "    .dataframe tbody tr th {\n",
       "        vertical-align: top;\n",
       "    }\n",
       "\n",
       "    .dataframe thead th {\n",
       "        text-align: right;\n",
       "    }\n",
       "</style>\n",
       "<table border=\"1\" class=\"dataframe\">\n",
       "  <thead>\n",
       "    <tr style=\"text-align: right;\">\n",
       "      <th></th>\n",
       "      <th>messages_included</th>\n",
       "      <th>mb_per_month_included</th>\n",
       "      <th>minutes_included</th>\n",
       "      <th>rub_monthly_fee</th>\n",
       "      <th>rub_per_gb</th>\n",
       "      <th>rub_per_message</th>\n",
       "      <th>rub_per_minute</th>\n",
       "      <th>tariff_name</th>\n",
       "    </tr>\n",
       "  </thead>\n",
       "  <tbody>\n",
       "    <tr>\n",
       "      <td>0</td>\n",
       "      <td>50</td>\n",
       "      <td>15360</td>\n",
       "      <td>500</td>\n",
       "      <td>550</td>\n",
       "      <td>200</td>\n",
       "      <td>3</td>\n",
       "      <td>3</td>\n",
       "      <td>smart</td>\n",
       "    </tr>\n",
       "    <tr>\n",
       "      <td>1</td>\n",
       "      <td>1000</td>\n",
       "      <td>30720</td>\n",
       "      <td>3000</td>\n",
       "      <td>1950</td>\n",
       "      <td>150</td>\n",
       "      <td>1</td>\n",
       "      <td>1</td>\n",
       "      <td>ultra</td>\n",
       "    </tr>\n",
       "  </tbody>\n",
       "</table>\n",
       "</div>"
      ],
      "text/plain": [
       "   messages_included  mb_per_month_included  minutes_included  \\\n",
       "0                 50                  15360               500   \n",
       "1               1000                  30720              3000   \n",
       "\n",
       "   rub_monthly_fee  rub_per_gb  rub_per_message  rub_per_minute tariff_name  \n",
       "0              550         200                3               3       smart  \n",
       "1             1950         150                1               1       ultra  "
      ]
     },
     "execution_count": 2,
     "metadata": {},
     "output_type": "execute_result"
    },
    {
     "name": "stdout",
     "output_type": "stream",
     "text": [
      "\n",
      "Получение информации по файлу users:\n",
      "\n",
      "<class 'pandas.core.frame.DataFrame'>\n",
      "RangeIndex: 500 entries, 0 to 499\n",
      "Data columns (total 8 columns):\n",
      "user_id       500 non-null int64\n",
      "age           500 non-null int64\n",
      "churn_date    38 non-null object\n",
      "city          500 non-null object\n",
      "first_name    500 non-null object\n",
      "last_name     500 non-null object\n",
      "reg_date      500 non-null object\n",
      "tariff        500 non-null object\n",
      "dtypes: int64(2), object(6)\n",
      "memory usage: 31.4+ KB\n"
     ]
    },
    {
     "data": {
      "text/html": [
       "<div>\n",
       "<style scoped>\n",
       "    .dataframe tbody tr th:only-of-type {\n",
       "        vertical-align: middle;\n",
       "    }\n",
       "\n",
       "    .dataframe tbody tr th {\n",
       "        vertical-align: top;\n",
       "    }\n",
       "\n",
       "    .dataframe thead th {\n",
       "        text-align: right;\n",
       "    }\n",
       "</style>\n",
       "<table border=\"1\" class=\"dataframe\">\n",
       "  <thead>\n",
       "    <tr style=\"text-align: right;\">\n",
       "      <th></th>\n",
       "      <th>user_id</th>\n",
       "      <th>age</th>\n",
       "      <th>churn_date</th>\n",
       "      <th>city</th>\n",
       "      <th>first_name</th>\n",
       "      <th>last_name</th>\n",
       "      <th>reg_date</th>\n",
       "      <th>tariff</th>\n",
       "    </tr>\n",
       "  </thead>\n",
       "  <tbody>\n",
       "    <tr>\n",
       "      <td>0</td>\n",
       "      <td>1000</td>\n",
       "      <td>52</td>\n",
       "      <td>NaN</td>\n",
       "      <td>Краснодар</td>\n",
       "      <td>Рафаил</td>\n",
       "      <td>Верещагин</td>\n",
       "      <td>2018-05-25</td>\n",
       "      <td>ultra</td>\n",
       "    </tr>\n",
       "    <tr>\n",
       "      <td>1</td>\n",
       "      <td>1001</td>\n",
       "      <td>41</td>\n",
       "      <td>NaN</td>\n",
       "      <td>Москва</td>\n",
       "      <td>Иван</td>\n",
       "      <td>Ежов</td>\n",
       "      <td>2018-11-01</td>\n",
       "      <td>smart</td>\n",
       "    </tr>\n",
       "    <tr>\n",
       "      <td>2</td>\n",
       "      <td>1002</td>\n",
       "      <td>59</td>\n",
       "      <td>NaN</td>\n",
       "      <td>Стерлитамак</td>\n",
       "      <td>Евгений</td>\n",
       "      <td>Абрамович</td>\n",
       "      <td>2018-06-17</td>\n",
       "      <td>smart</td>\n",
       "    </tr>\n",
       "    <tr>\n",
       "      <td>3</td>\n",
       "      <td>1003</td>\n",
       "      <td>23</td>\n",
       "      <td>NaN</td>\n",
       "      <td>Москва</td>\n",
       "      <td>Белла</td>\n",
       "      <td>Белякова</td>\n",
       "      <td>2018-08-17</td>\n",
       "      <td>ultra</td>\n",
       "    </tr>\n",
       "    <tr>\n",
       "      <td>4</td>\n",
       "      <td>1004</td>\n",
       "      <td>68</td>\n",
       "      <td>NaN</td>\n",
       "      <td>Новокузнецк</td>\n",
       "      <td>Татьяна</td>\n",
       "      <td>Авдеенко</td>\n",
       "      <td>2018-05-14</td>\n",
       "      <td>ultra</td>\n",
       "    </tr>\n",
       "    <tr>\n",
       "      <td>5</td>\n",
       "      <td>1005</td>\n",
       "      <td>67</td>\n",
       "      <td>NaN</td>\n",
       "      <td>Набережные Челны</td>\n",
       "      <td>Афанасий</td>\n",
       "      <td>Горлов</td>\n",
       "      <td>2018-01-25</td>\n",
       "      <td>smart</td>\n",
       "    </tr>\n",
       "    <tr>\n",
       "      <td>6</td>\n",
       "      <td>1006</td>\n",
       "      <td>21</td>\n",
       "      <td>NaN</td>\n",
       "      <td>Ульяновск</td>\n",
       "      <td>Леонид</td>\n",
       "      <td>Ермолаев</td>\n",
       "      <td>2018-02-26</td>\n",
       "      <td>smart</td>\n",
       "    </tr>\n",
       "    <tr>\n",
       "      <td>7</td>\n",
       "      <td>1007</td>\n",
       "      <td>65</td>\n",
       "      <td>NaN</td>\n",
       "      <td>Москва</td>\n",
       "      <td>Юна</td>\n",
       "      <td>Березина</td>\n",
       "      <td>2018-04-19</td>\n",
       "      <td>smart</td>\n",
       "    </tr>\n",
       "    <tr>\n",
       "      <td>8</td>\n",
       "      <td>1008</td>\n",
       "      <td>63</td>\n",
       "      <td>NaN</td>\n",
       "      <td>Челябинск</td>\n",
       "      <td>Рустэм</td>\n",
       "      <td>Пономарёв</td>\n",
       "      <td>2018-12-19</td>\n",
       "      <td>smart</td>\n",
       "    </tr>\n",
       "    <tr>\n",
       "      <td>9</td>\n",
       "      <td>1009</td>\n",
       "      <td>24</td>\n",
       "      <td>NaN</td>\n",
       "      <td>Пермь</td>\n",
       "      <td>Василиса</td>\n",
       "      <td>Блинова</td>\n",
       "      <td>2018-03-22</td>\n",
       "      <td>smart</td>\n",
       "    </tr>\n",
       "  </tbody>\n",
       "</table>\n",
       "</div>"
      ],
      "text/plain": [
       "   user_id  age churn_date              city first_name  last_name  \\\n",
       "0     1000   52        NaN         Краснодар     Рафаил  Верещагин   \n",
       "1     1001   41        NaN            Москва       Иван       Ежов   \n",
       "2     1002   59        NaN       Стерлитамак    Евгений  Абрамович   \n",
       "3     1003   23        NaN            Москва      Белла   Белякова   \n",
       "4     1004   68        NaN       Новокузнецк    Татьяна   Авдеенко   \n",
       "5     1005   67        NaN  Набережные Челны   Афанасий     Горлов   \n",
       "6     1006   21        NaN         Ульяновск     Леонид   Ермолаев   \n",
       "7     1007   65        NaN            Москва        Юна   Березина   \n",
       "8     1008   63        NaN         Челябинск     Рустэм  Пономарёв   \n",
       "9     1009   24        NaN             Пермь   Василиса    Блинова   \n",
       "\n",
       "     reg_date tariff  \n",
       "0  2018-05-25  ultra  \n",
       "1  2018-11-01  smart  \n",
       "2  2018-06-17  smart  \n",
       "3  2018-08-17  ultra  \n",
       "4  2018-05-14  ultra  \n",
       "5  2018-01-25  smart  \n",
       "6  2018-02-26  smart  \n",
       "7  2018-04-19  smart  \n",
       "8  2018-12-19  smart  \n",
       "9  2018-03-22  smart  "
      ]
     },
     "execution_count": 2,
     "metadata": {},
     "output_type": "execute_result"
    },
    {
     "name": "stdout",
     "output_type": "stream",
     "text": [
      "\n"
     ]
    }
   ],
   "source": [
    "path = 'C:/Data/telecom/'\n",
    "data_calls = pd.read_csv(path + 'calls.csv')\n",
    "data_internet = pd.read_csv(path + 'internet.csv')\n",
    "data_messages = pd.read_csv(path + 'messages.csv')\n",
    "data_tariffs = pd.read_csv(path + 'tariffs.csv')\n",
    "data_users = pd.read_csv(path + 'users.csv')\n",
    "\n",
    "# добавляем название файлов и датафреймы в словарь\n",
    "files_dict = {'calls':data_calls, 'internet':data_internet, 'messages':data_messages, 'tariffs':data_tariffs, 'users':data_users}\n",
    "for i,j in files_dict.items():\n",
    "    print(f\"Получение информации по файлу {i}:\")\n",
    "    print('')\n",
    "    j.info()\n",
    "    j.head(10)\n",
    "    print('')"
   ]
  },
  {
   "cell_type": "markdown",
   "metadata": {},
   "source": [
    "Получение случайных 10 значений по всем таблицам кроме **tariffs**:"
   ]
  },
  {
   "cell_type": "code",
   "execution_count": 3,
   "metadata": {},
   "outputs": [
    {
     "name": "stdout",
     "output_type": "stream",
     "text": [
      "Получение случайных 10 строк по файлу calls:\n"
     ]
    },
    {
     "data": {
      "text/html": [
       "<div>\n",
       "<style scoped>\n",
       "    .dataframe tbody tr th:only-of-type {\n",
       "        vertical-align: middle;\n",
       "    }\n",
       "\n",
       "    .dataframe tbody tr th {\n",
       "        vertical-align: top;\n",
       "    }\n",
       "\n",
       "    .dataframe thead th {\n",
       "        text-align: right;\n",
       "    }\n",
       "</style>\n",
       "<table border=\"1\" class=\"dataframe\">\n",
       "  <thead>\n",
       "    <tr style=\"text-align: right;\">\n",
       "      <th></th>\n",
       "      <th>id</th>\n",
       "      <th>call_date</th>\n",
       "      <th>duration</th>\n",
       "      <th>user_id</th>\n",
       "    </tr>\n",
       "  </thead>\n",
       "  <tbody>\n",
       "    <tr>\n",
       "      <td>26953</td>\n",
       "      <td>1066_374</td>\n",
       "      <td>2018-08-26</td>\n",
       "      <td>0.00</td>\n",
       "      <td>1066</td>\n",
       "    </tr>\n",
       "    <tr>\n",
       "      <td>66122</td>\n",
       "      <td>1168_1273</td>\n",
       "      <td>2018-03-28</td>\n",
       "      <td>16.05</td>\n",
       "      <td>1168</td>\n",
       "    </tr>\n",
       "    <tr>\n",
       "      <td>67325</td>\n",
       "      <td>1171_350</td>\n",
       "      <td>2018-09-14</td>\n",
       "      <td>6.23</td>\n",
       "      <td>1171</td>\n",
       "    </tr>\n",
       "    <tr>\n",
       "      <td>74643</td>\n",
       "      <td>1186_465</td>\n",
       "      <td>2018-09-02</td>\n",
       "      <td>0.79</td>\n",
       "      <td>1186</td>\n",
       "    </tr>\n",
       "    <tr>\n",
       "      <td>192311</td>\n",
       "      <td>1472_124</td>\n",
       "      <td>2018-05-04</td>\n",
       "      <td>5.94</td>\n",
       "      <td>1472</td>\n",
       "    </tr>\n",
       "    <tr>\n",
       "      <td>47375</td>\n",
       "      <td>1118_664</td>\n",
       "      <td>2018-10-24</td>\n",
       "      <td>13.41</td>\n",
       "      <td>1118</td>\n",
       "    </tr>\n",
       "    <tr>\n",
       "      <td>91143</td>\n",
       "      <td>1227_563</td>\n",
       "      <td>2018-08-03</td>\n",
       "      <td>15.15</td>\n",
       "      <td>1227</td>\n",
       "    </tr>\n",
       "    <tr>\n",
       "      <td>3818</td>\n",
       "      <td>1010_67</td>\n",
       "      <td>2018-08-16</td>\n",
       "      <td>14.29</td>\n",
       "      <td>1010</td>\n",
       "    </tr>\n",
       "    <tr>\n",
       "      <td>182822</td>\n",
       "      <td>1454_574</td>\n",
       "      <td>2018-09-23</td>\n",
       "      <td>9.98</td>\n",
       "      <td>1454</td>\n",
       "    </tr>\n",
       "    <tr>\n",
       "      <td>187346</td>\n",
       "      <td>1463_0</td>\n",
       "      <td>2018-12-05</td>\n",
       "      <td>10.63</td>\n",
       "      <td>1463</td>\n",
       "    </tr>\n",
       "  </tbody>\n",
       "</table>\n",
       "</div>"
      ],
      "text/plain": [
       "               id   call_date  duration  user_id\n",
       "26953    1066_374  2018-08-26      0.00     1066\n",
       "66122   1168_1273  2018-03-28     16.05     1168\n",
       "67325    1171_350  2018-09-14      6.23     1171\n",
       "74643    1186_465  2018-09-02      0.79     1186\n",
       "192311   1472_124  2018-05-04      5.94     1472\n",
       "47375    1118_664  2018-10-24     13.41     1118\n",
       "91143    1227_563  2018-08-03     15.15     1227\n",
       "3818      1010_67  2018-08-16     14.29     1010\n",
       "182822   1454_574  2018-09-23      9.98     1454\n",
       "187346     1463_0  2018-12-05     10.63     1463"
      ]
     },
     "execution_count": 3,
     "metadata": {},
     "output_type": "execute_result"
    },
    {
     "name": "stdout",
     "output_type": "stream",
     "text": [
      "\n",
      "Получение случайных 10 строк по файлу internet:\n"
     ]
    },
    {
     "data": {
      "text/html": [
       "<div>\n",
       "<style scoped>\n",
       "    .dataframe tbody tr th:only-of-type {\n",
       "        vertical-align: middle;\n",
       "    }\n",
       "\n",
       "    .dataframe tbody tr th {\n",
       "        vertical-align: top;\n",
       "    }\n",
       "\n",
       "    .dataframe thead th {\n",
       "        text-align: right;\n",
       "    }\n",
       "</style>\n",
       "<table border=\"1\" class=\"dataframe\">\n",
       "  <thead>\n",
       "    <tr style=\"text-align: right;\">\n",
       "      <th></th>\n",
       "      <th>Unnamed: 0</th>\n",
       "      <th>id</th>\n",
       "      <th>mb_used</th>\n",
       "      <th>session_date</th>\n",
       "      <th>user_id</th>\n",
       "    </tr>\n",
       "  </thead>\n",
       "  <tbody>\n",
       "    <tr>\n",
       "      <td>35745</td>\n",
       "      <td>35745</td>\n",
       "      <td>1124_125</td>\n",
       "      <td>122.45</td>\n",
       "      <td>2018-12-03</td>\n",
       "      <td>1124</td>\n",
       "    </tr>\n",
       "    <tr>\n",
       "      <td>18383</td>\n",
       "      <td>18383</td>\n",
       "      <td>1064_102</td>\n",
       "      <td>320.60</td>\n",
       "      <td>2018-12-19</td>\n",
       "      <td>1064</td>\n",
       "    </tr>\n",
       "    <tr>\n",
       "      <td>59774</td>\n",
       "      <td>59774</td>\n",
       "      <td>1203_22</td>\n",
       "      <td>605.96</td>\n",
       "      <td>2018-06-17</td>\n",
       "      <td>1203</td>\n",
       "    </tr>\n",
       "    <tr>\n",
       "      <td>56317</td>\n",
       "      <td>56317</td>\n",
       "      <td>1188_123</td>\n",
       "      <td>781.73</td>\n",
       "      <td>2018-05-08</td>\n",
       "      <td>1188</td>\n",
       "    </tr>\n",
       "    <tr>\n",
       "      <td>52231</td>\n",
       "      <td>52231</td>\n",
       "      <td>1176_386</td>\n",
       "      <td>150.98</td>\n",
       "      <td>2018-08-20</td>\n",
       "      <td>1176</td>\n",
       "    </tr>\n",
       "    <tr>\n",
       "      <td>20276</td>\n",
       "      <td>20276</td>\n",
       "      <td>1068_26</td>\n",
       "      <td>389.65</td>\n",
       "      <td>2018-12-04</td>\n",
       "      <td>1068</td>\n",
       "    </tr>\n",
       "    <tr>\n",
       "      <td>82748</td>\n",
       "      <td>82748</td>\n",
       "      <td>1281_64</td>\n",
       "      <td>841.89</td>\n",
       "      <td>2018-11-07</td>\n",
       "      <td>1281</td>\n",
       "    </tr>\n",
       "    <tr>\n",
       "      <td>129266</td>\n",
       "      <td>129266</td>\n",
       "      <td>1431_300</td>\n",
       "      <td>461.23</td>\n",
       "      <td>2018-11-26</td>\n",
       "      <td>1431</td>\n",
       "    </tr>\n",
       "    <tr>\n",
       "      <td>46783</td>\n",
       "      <td>46783</td>\n",
       "      <td>1160_75</td>\n",
       "      <td>0.00</td>\n",
       "      <td>2018-08-15</td>\n",
       "      <td>1160</td>\n",
       "    </tr>\n",
       "    <tr>\n",
       "      <td>48492</td>\n",
       "      <td>48492</td>\n",
       "      <td>1168_260</td>\n",
       "      <td>336.06</td>\n",
       "      <td>2018-07-28</td>\n",
       "      <td>1168</td>\n",
       "    </tr>\n",
       "  </tbody>\n",
       "</table>\n",
       "</div>"
      ],
      "text/plain": [
       "        Unnamed: 0        id  mb_used session_date  user_id\n",
       "35745        35745  1124_125   122.45   2018-12-03     1124\n",
       "18383        18383  1064_102   320.60   2018-12-19     1064\n",
       "59774        59774   1203_22   605.96   2018-06-17     1203\n",
       "56317        56317  1188_123   781.73   2018-05-08     1188\n",
       "52231        52231  1176_386   150.98   2018-08-20     1176\n",
       "20276        20276   1068_26   389.65   2018-12-04     1068\n",
       "82748        82748   1281_64   841.89   2018-11-07     1281\n",
       "129266      129266  1431_300   461.23   2018-11-26     1431\n",
       "46783        46783   1160_75     0.00   2018-08-15     1160\n",
       "48492        48492  1168_260   336.06   2018-07-28     1168"
      ]
     },
     "execution_count": 3,
     "metadata": {},
     "output_type": "execute_result"
    },
    {
     "name": "stdout",
     "output_type": "stream",
     "text": [
      "\n",
      "Получение случайных 10 строк по файлу messages:\n"
     ]
    },
    {
     "data": {
      "text/html": [
       "<div>\n",
       "<style scoped>\n",
       "    .dataframe tbody tr th:only-of-type {\n",
       "        vertical-align: middle;\n",
       "    }\n",
       "\n",
       "    .dataframe tbody tr th {\n",
       "        vertical-align: top;\n",
       "    }\n",
       "\n",
       "    .dataframe thead th {\n",
       "        text-align: right;\n",
       "    }\n",
       "</style>\n",
       "<table border=\"1\" class=\"dataframe\">\n",
       "  <thead>\n",
       "    <tr style=\"text-align: right;\">\n",
       "      <th></th>\n",
       "      <th>id</th>\n",
       "      <th>message_date</th>\n",
       "      <th>user_id</th>\n",
       "    </tr>\n",
       "  </thead>\n",
       "  <tbody>\n",
       "    <tr>\n",
       "      <td>45696</td>\n",
       "      <td>1197_26</td>\n",
       "      <td>2018-12-31</td>\n",
       "      <td>1197</td>\n",
       "    </tr>\n",
       "    <tr>\n",
       "      <td>66091</td>\n",
       "      <td>1282_523</td>\n",
       "      <td>2018-11-30</td>\n",
       "      <td>1282</td>\n",
       "    </tr>\n",
       "    <tr>\n",
       "      <td>18743</td>\n",
       "      <td>1082_184</td>\n",
       "      <td>2018-10-18</td>\n",
       "      <td>1082</td>\n",
       "    </tr>\n",
       "    <tr>\n",
       "      <td>33759</td>\n",
       "      <td>1146_557</td>\n",
       "      <td>2018-12-22</td>\n",
       "      <td>1146</td>\n",
       "    </tr>\n",
       "    <tr>\n",
       "      <td>11403</td>\n",
       "      <td>1048_49</td>\n",
       "      <td>2018-09-27</td>\n",
       "      <td>1048</td>\n",
       "    </tr>\n",
       "    <tr>\n",
       "      <td>97793</td>\n",
       "      <td>1401_125</td>\n",
       "      <td>2018-08-10</td>\n",
       "      <td>1401</td>\n",
       "    </tr>\n",
       "    <tr>\n",
       "      <td>406</td>\n",
       "      <td>1000_406</td>\n",
       "      <td>2018-12-29</td>\n",
       "      <td>1000</td>\n",
       "    </tr>\n",
       "    <tr>\n",
       "      <td>71393</td>\n",
       "      <td>1302_221</td>\n",
       "      <td>2018-10-23</td>\n",
       "      <td>1302</td>\n",
       "    </tr>\n",
       "    <tr>\n",
       "      <td>103004</td>\n",
       "      <td>1420_11</td>\n",
       "      <td>2018-12-12</td>\n",
       "      <td>1420</td>\n",
       "    </tr>\n",
       "    <tr>\n",
       "      <td>53795</td>\n",
       "      <td>1238_208</td>\n",
       "      <td>2018-10-08</td>\n",
       "      <td>1238</td>\n",
       "    </tr>\n",
       "  </tbody>\n",
       "</table>\n",
       "</div>"
      ],
      "text/plain": [
       "              id message_date  user_id\n",
       "45696    1197_26   2018-12-31     1197\n",
       "66091   1282_523   2018-11-30     1282\n",
       "18743   1082_184   2018-10-18     1082\n",
       "33759   1146_557   2018-12-22     1146\n",
       "11403    1048_49   2018-09-27     1048\n",
       "97793   1401_125   2018-08-10     1401\n",
       "406     1000_406   2018-12-29     1000\n",
       "71393   1302_221   2018-10-23     1302\n",
       "103004   1420_11   2018-12-12     1420\n",
       "53795   1238_208   2018-10-08     1238"
      ]
     },
     "execution_count": 3,
     "metadata": {},
     "output_type": "execute_result"
    },
    {
     "name": "stdout",
     "output_type": "stream",
     "text": [
      "\n",
      "Получение случайных 10 строк по файлу users:\n"
     ]
    },
    {
     "data": {
      "text/html": [
       "<div>\n",
       "<style scoped>\n",
       "    .dataframe tbody tr th:only-of-type {\n",
       "        vertical-align: middle;\n",
       "    }\n",
       "\n",
       "    .dataframe tbody tr th {\n",
       "        vertical-align: top;\n",
       "    }\n",
       "\n",
       "    .dataframe thead th {\n",
       "        text-align: right;\n",
       "    }\n",
       "</style>\n",
       "<table border=\"1\" class=\"dataframe\">\n",
       "  <thead>\n",
       "    <tr style=\"text-align: right;\">\n",
       "      <th></th>\n",
       "      <th>user_id</th>\n",
       "      <th>age</th>\n",
       "      <th>churn_date</th>\n",
       "      <th>city</th>\n",
       "      <th>first_name</th>\n",
       "      <th>last_name</th>\n",
       "      <th>reg_date</th>\n",
       "      <th>tariff</th>\n",
       "    </tr>\n",
       "  </thead>\n",
       "  <tbody>\n",
       "    <tr>\n",
       "      <td>304</td>\n",
       "      <td>1304</td>\n",
       "      <td>68</td>\n",
       "      <td>NaN</td>\n",
       "      <td>Владимир</td>\n",
       "      <td>Илья</td>\n",
       "      <td>Соловьёв</td>\n",
       "      <td>2018-11-05</td>\n",
       "      <td>ultra</td>\n",
       "    </tr>\n",
       "    <tr>\n",
       "      <td>340</td>\n",
       "      <td>1340</td>\n",
       "      <td>50</td>\n",
       "      <td>NaN</td>\n",
       "      <td>Пенза</td>\n",
       "      <td>Тимофей</td>\n",
       "      <td>Алютин</td>\n",
       "      <td>2018-01-30</td>\n",
       "      <td>smart</td>\n",
       "    </tr>\n",
       "    <tr>\n",
       "      <td>47</td>\n",
       "      <td>1047</td>\n",
       "      <td>67</td>\n",
       "      <td>NaN</td>\n",
       "      <td>Саратов</td>\n",
       "      <td>Милица</td>\n",
       "      <td>Меркулова</td>\n",
       "      <td>2018-10-29</td>\n",
       "      <td>smart</td>\n",
       "    </tr>\n",
       "    <tr>\n",
       "      <td>67</td>\n",
       "      <td>1067</td>\n",
       "      <td>45</td>\n",
       "      <td>NaN</td>\n",
       "      <td>Москва</td>\n",
       "      <td>Юзефа</td>\n",
       "      <td>Абашкина</td>\n",
       "      <td>2018-04-09</td>\n",
       "      <td>smart</td>\n",
       "    </tr>\n",
       "    <tr>\n",
       "      <td>479</td>\n",
       "      <td>1479</td>\n",
       "      <td>40</td>\n",
       "      <td>NaN</td>\n",
       "      <td>Хабаровск</td>\n",
       "      <td>Игорь</td>\n",
       "      <td>Богданов</td>\n",
       "      <td>2018-07-03</td>\n",
       "      <td>smart</td>\n",
       "    </tr>\n",
       "    <tr>\n",
       "      <td>485</td>\n",
       "      <td>1485</td>\n",
       "      <td>34</td>\n",
       "      <td>NaN</td>\n",
       "      <td>Киров</td>\n",
       "      <td>Таисия</td>\n",
       "      <td>Сухова</td>\n",
       "      <td>2018-12-29</td>\n",
       "      <td>ultra</td>\n",
       "    </tr>\n",
       "    <tr>\n",
       "      <td>310</td>\n",
       "      <td>1310</td>\n",
       "      <td>28</td>\n",
       "      <td>NaN</td>\n",
       "      <td>Уфа</td>\n",
       "      <td>Рудольф</td>\n",
       "      <td>Нестеров</td>\n",
       "      <td>2018-03-22</td>\n",
       "      <td>ultra</td>\n",
       "    </tr>\n",
       "    <tr>\n",
       "      <td>31</td>\n",
       "      <td>1031</td>\n",
       "      <td>66</td>\n",
       "      <td>NaN</td>\n",
       "      <td>Москва</td>\n",
       "      <td>Лаврентий</td>\n",
       "      <td>Тимофеев</td>\n",
       "      <td>2018-11-02</td>\n",
       "      <td>smart</td>\n",
       "    </tr>\n",
       "    <tr>\n",
       "      <td>249</td>\n",
       "      <td>1249</td>\n",
       "      <td>25</td>\n",
       "      <td>NaN</td>\n",
       "      <td>Курск</td>\n",
       "      <td>Изольда</td>\n",
       "      <td>Авдушева</td>\n",
       "      <td>2018-08-14</td>\n",
       "      <td>smart</td>\n",
       "    </tr>\n",
       "    <tr>\n",
       "      <td>90</td>\n",
       "      <td>1090</td>\n",
       "      <td>54</td>\n",
       "      <td>2018-12-03</td>\n",
       "      <td>Череповец</td>\n",
       "      <td>Екатерина</td>\n",
       "      <td>Астафьева</td>\n",
       "      <td>2018-10-11</td>\n",
       "      <td>ultra</td>\n",
       "    </tr>\n",
       "  </tbody>\n",
       "</table>\n",
       "</div>"
      ],
      "text/plain": [
       "     user_id  age  churn_date       city first_name  last_name    reg_date  \\\n",
       "304     1304   68         NaN   Владимир       Илья   Соловьёв  2018-11-05   \n",
       "340     1340   50         NaN      Пенза    Тимофей     Алютин  2018-01-30   \n",
       "47      1047   67         NaN    Саратов     Милица  Меркулова  2018-10-29   \n",
       "67      1067   45         NaN     Москва      Юзефа   Абашкина  2018-04-09   \n",
       "479     1479   40         NaN  Хабаровск      Игорь   Богданов  2018-07-03   \n",
       "485     1485   34         NaN      Киров     Таисия     Сухова  2018-12-29   \n",
       "310     1310   28         NaN        Уфа    Рудольф   Нестеров  2018-03-22   \n",
       "31      1031   66         NaN     Москва  Лаврентий   Тимофеев  2018-11-02   \n",
       "249     1249   25         NaN      Курск    Изольда   Авдушева  2018-08-14   \n",
       "90      1090   54  2018-12-03  Череповец  Екатерина  Астафьева  2018-10-11   \n",
       "\n",
       "    tariff  \n",
       "304  ultra  \n",
       "340  smart  \n",
       "47   smart  \n",
       "67   smart  \n",
       "479  smart  \n",
       "485  ultra  \n",
       "310  ultra  \n",
       "31   smart  \n",
       "249  smart  \n",
       "90   ultra  "
      ]
     },
     "execution_count": 3,
     "metadata": {},
     "output_type": "execute_result"
    },
    {
     "name": "stdout",
     "output_type": "stream",
     "text": [
      "\n"
     ]
    }
   ],
   "source": [
    "files_dict = {'calls':data_calls, 'internet':data_internet, 'messages':data_messages, 'users':data_users}\n",
    "for i,j in files_dict.items():\n",
    "    print(f\"Получение случайных 10 строк по файлу {i}:\")\n",
    "    j.sample(n=10, random_state=1)\n",
    "    print('')"
   ]
  },
  {
   "cell_type": "markdown",
   "metadata": {},
   "source": [
    "Вывод описательной статистики для таблиц по столбцам в транспонированном виде:"
   ]
  },
  {
   "cell_type": "code",
   "execution_count": 4,
   "metadata": {},
   "outputs": [
    {
     "name": "stdout",
     "output_type": "stream",
     "text": [
      "Описательная статистика по файлу calls:\n"
     ]
    },
    {
     "data": {
      "text/html": [
       "<div>\n",
       "<style scoped>\n",
       "    .dataframe tbody tr th:only-of-type {\n",
       "        vertical-align: middle;\n",
       "    }\n",
       "\n",
       "    .dataframe tbody tr th {\n",
       "        vertical-align: top;\n",
       "    }\n",
       "\n",
       "    .dataframe thead th {\n",
       "        text-align: right;\n",
       "    }\n",
       "</style>\n",
       "<table border=\"1\" class=\"dataframe\">\n",
       "  <thead>\n",
       "    <tr style=\"text-align: right;\">\n",
       "      <th></th>\n",
       "      <th>count</th>\n",
       "      <th>unique</th>\n",
       "      <th>top</th>\n",
       "      <th>freq</th>\n",
       "      <th>mean</th>\n",
       "      <th>std</th>\n",
       "      <th>min</th>\n",
       "      <th>25%</th>\n",
       "      <th>50%</th>\n",
       "      <th>75%</th>\n",
       "      <th>max</th>\n",
       "    </tr>\n",
       "  </thead>\n",
       "  <tbody>\n",
       "    <tr>\n",
       "      <td>id</td>\n",
       "      <td>202607</td>\n",
       "      <td>202607</td>\n",
       "      <td>1150_10</td>\n",
       "      <td>1</td>\n",
       "      <td>NaN</td>\n",
       "      <td>NaN</td>\n",
       "      <td>NaN</td>\n",
       "      <td>NaN</td>\n",
       "      <td>NaN</td>\n",
       "      <td>NaN</td>\n",
       "      <td>NaN</td>\n",
       "    </tr>\n",
       "    <tr>\n",
       "      <td>call_date</td>\n",
       "      <td>202607</td>\n",
       "      <td>365</td>\n",
       "      <td>2018-12-31</td>\n",
       "      <td>1435</td>\n",
       "      <td>NaN</td>\n",
       "      <td>NaN</td>\n",
       "      <td>NaN</td>\n",
       "      <td>NaN</td>\n",
       "      <td>NaN</td>\n",
       "      <td>NaN</td>\n",
       "      <td>NaN</td>\n",
       "    </tr>\n",
       "    <tr>\n",
       "      <td>duration</td>\n",
       "      <td>202607</td>\n",
       "      <td>NaN</td>\n",
       "      <td>NaN</td>\n",
       "      <td>NaN</td>\n",
       "      <td>6.75589</td>\n",
       "      <td>5.84337</td>\n",
       "      <td>0</td>\n",
       "      <td>1.3</td>\n",
       "      <td>6</td>\n",
       "      <td>10.7</td>\n",
       "      <td>38</td>\n",
       "    </tr>\n",
       "    <tr>\n",
       "      <td>user_id</td>\n",
       "      <td>202607</td>\n",
       "      <td>NaN</td>\n",
       "      <td>NaN</td>\n",
       "      <td>NaN</td>\n",
       "      <td>1253.94</td>\n",
       "      <td>144.723</td>\n",
       "      <td>1000</td>\n",
       "      <td>1126</td>\n",
       "      <td>1260</td>\n",
       "      <td>1379</td>\n",
       "      <td>1499</td>\n",
       "    </tr>\n",
       "  </tbody>\n",
       "</table>\n",
       "</div>"
      ],
      "text/plain": [
       "            count  unique         top  freq     mean      std   min   25%  \\\n",
       "id         202607  202607     1150_10     1      NaN      NaN   NaN   NaN   \n",
       "call_date  202607     365  2018-12-31  1435      NaN      NaN   NaN   NaN   \n",
       "duration   202607     NaN         NaN   NaN  6.75589  5.84337     0   1.3   \n",
       "user_id    202607     NaN         NaN   NaN  1253.94  144.723  1000  1126   \n",
       "\n",
       "            50%   75%   max  \n",
       "id          NaN   NaN   NaN  \n",
       "call_date   NaN   NaN   NaN  \n",
       "duration      6  10.7    38  \n",
       "user_id    1260  1379  1499  "
      ]
     },
     "execution_count": 4,
     "metadata": {},
     "output_type": "execute_result"
    },
    {
     "name": "stdout",
     "output_type": "stream",
     "text": [
      "\n",
      "Описательная статистика по файлу internet:\n"
     ]
    },
    {
     "data": {
      "text/html": [
       "<div>\n",
       "<style scoped>\n",
       "    .dataframe tbody tr th:only-of-type {\n",
       "        vertical-align: middle;\n",
       "    }\n",
       "\n",
       "    .dataframe tbody tr th {\n",
       "        vertical-align: top;\n",
       "    }\n",
       "\n",
       "    .dataframe thead th {\n",
       "        text-align: right;\n",
       "    }\n",
       "</style>\n",
       "<table border=\"1\" class=\"dataframe\">\n",
       "  <thead>\n",
       "    <tr style=\"text-align: right;\">\n",
       "      <th></th>\n",
       "      <th>count</th>\n",
       "      <th>unique</th>\n",
       "      <th>top</th>\n",
       "      <th>freq</th>\n",
       "      <th>mean</th>\n",
       "      <th>std</th>\n",
       "      <th>min</th>\n",
       "      <th>25%</th>\n",
       "      <th>50%</th>\n",
       "      <th>75%</th>\n",
       "      <th>max</th>\n",
       "    </tr>\n",
       "  </thead>\n",
       "  <tbody>\n",
       "    <tr>\n",
       "      <td>Unnamed: 0</td>\n",
       "      <td>149396</td>\n",
       "      <td>NaN</td>\n",
       "      <td>NaN</td>\n",
       "      <td>NaN</td>\n",
       "      <td>74697.5</td>\n",
       "      <td>43127.1</td>\n",
       "      <td>0</td>\n",
       "      <td>37348.8</td>\n",
       "      <td>74697.5</td>\n",
       "      <td>112046</td>\n",
       "      <td>149395</td>\n",
       "    </tr>\n",
       "    <tr>\n",
       "      <td>id</td>\n",
       "      <td>149396</td>\n",
       "      <td>149396</td>\n",
       "      <td>1310_238</td>\n",
       "      <td>1</td>\n",
       "      <td>NaN</td>\n",
       "      <td>NaN</td>\n",
       "      <td>NaN</td>\n",
       "      <td>NaN</td>\n",
       "      <td>NaN</td>\n",
       "      <td>NaN</td>\n",
       "      <td>NaN</td>\n",
       "    </tr>\n",
       "    <tr>\n",
       "      <td>mb_used</td>\n",
       "      <td>149396</td>\n",
       "      <td>NaN</td>\n",
       "      <td>NaN</td>\n",
       "      <td>NaN</td>\n",
       "      <td>370.192</td>\n",
       "      <td>278.301</td>\n",
       "      <td>0</td>\n",
       "      <td>138.188</td>\n",
       "      <td>348.015</td>\n",
       "      <td>559.553</td>\n",
       "      <td>1724.83</td>\n",
       "    </tr>\n",
       "    <tr>\n",
       "      <td>session_date</td>\n",
       "      <td>149396</td>\n",
       "      <td>365</td>\n",
       "      <td>2018-12-31</td>\n",
       "      <td>1057</td>\n",
       "      <td>NaN</td>\n",
       "      <td>NaN</td>\n",
       "      <td>NaN</td>\n",
       "      <td>NaN</td>\n",
       "      <td>NaN</td>\n",
       "      <td>NaN</td>\n",
       "      <td>NaN</td>\n",
       "    </tr>\n",
       "    <tr>\n",
       "      <td>user_id</td>\n",
       "      <td>149396</td>\n",
       "      <td>NaN</td>\n",
       "      <td>NaN</td>\n",
       "      <td>NaN</td>\n",
       "      <td>1252.1</td>\n",
       "      <td>144.051</td>\n",
       "      <td>1000</td>\n",
       "      <td>1130</td>\n",
       "      <td>1251</td>\n",
       "      <td>1380</td>\n",
       "      <td>1499</td>\n",
       "    </tr>\n",
       "  </tbody>\n",
       "</table>\n",
       "</div>"
      ],
      "text/plain": [
       "               count  unique         top  freq     mean      std   min  \\\n",
       "Unnamed: 0    149396     NaN         NaN   NaN  74697.5  43127.1     0   \n",
       "id            149396  149396    1310_238     1      NaN      NaN   NaN   \n",
       "mb_used       149396     NaN         NaN   NaN  370.192  278.301     0   \n",
       "session_date  149396     365  2018-12-31  1057      NaN      NaN   NaN   \n",
       "user_id       149396     NaN         NaN   NaN   1252.1  144.051  1000   \n",
       "\n",
       "                  25%      50%      75%      max  \n",
       "Unnamed: 0    37348.8  74697.5   112046   149395  \n",
       "id                NaN      NaN      NaN      NaN  \n",
       "mb_used       138.188  348.015  559.553  1724.83  \n",
       "session_date      NaN      NaN      NaN      NaN  \n",
       "user_id          1130     1251     1380     1499  "
      ]
     },
     "execution_count": 4,
     "metadata": {},
     "output_type": "execute_result"
    },
    {
     "name": "stdout",
     "output_type": "stream",
     "text": [
      "\n",
      "Описательная статистика по файлу messages:\n"
     ]
    },
    {
     "data": {
      "text/html": [
       "<div>\n",
       "<style scoped>\n",
       "    .dataframe tbody tr th:only-of-type {\n",
       "        vertical-align: middle;\n",
       "    }\n",
       "\n",
       "    .dataframe tbody tr th {\n",
       "        vertical-align: top;\n",
       "    }\n",
       "\n",
       "    .dataframe thead th {\n",
       "        text-align: right;\n",
       "    }\n",
       "</style>\n",
       "<table border=\"1\" class=\"dataframe\">\n",
       "  <thead>\n",
       "    <tr style=\"text-align: right;\">\n",
       "      <th></th>\n",
       "      <th>count</th>\n",
       "      <th>unique</th>\n",
       "      <th>top</th>\n",
       "      <th>freq</th>\n",
       "      <th>mean</th>\n",
       "      <th>std</th>\n",
       "      <th>min</th>\n",
       "      <th>25%</th>\n",
       "      <th>50%</th>\n",
       "      <th>75%</th>\n",
       "      <th>max</th>\n",
       "    </tr>\n",
       "  </thead>\n",
       "  <tbody>\n",
       "    <tr>\n",
       "      <td>id</td>\n",
       "      <td>123036</td>\n",
       "      <td>123036</td>\n",
       "      <td>1431_765</td>\n",
       "      <td>1</td>\n",
       "      <td>NaN</td>\n",
       "      <td>NaN</td>\n",
       "      <td>NaN</td>\n",
       "      <td>NaN</td>\n",
       "      <td>NaN</td>\n",
       "      <td>NaN</td>\n",
       "      <td>NaN</td>\n",
       "    </tr>\n",
       "    <tr>\n",
       "      <td>message_date</td>\n",
       "      <td>123036</td>\n",
       "      <td>364</td>\n",
       "      <td>2018-12-31</td>\n",
       "      <td>859</td>\n",
       "      <td>NaN</td>\n",
       "      <td>NaN</td>\n",
       "      <td>NaN</td>\n",
       "      <td>NaN</td>\n",
       "      <td>NaN</td>\n",
       "      <td>NaN</td>\n",
       "      <td>NaN</td>\n",
       "    </tr>\n",
       "    <tr>\n",
       "      <td>user_id</td>\n",
       "      <td>123036</td>\n",
       "      <td>NaN</td>\n",
       "      <td>NaN</td>\n",
       "      <td>NaN</td>\n",
       "      <td>1256.99</td>\n",
       "      <td>143.524</td>\n",
       "      <td>1000</td>\n",
       "      <td>1134</td>\n",
       "      <td>1271</td>\n",
       "      <td>1381</td>\n",
       "      <td>1499</td>\n",
       "    </tr>\n",
       "  </tbody>\n",
       "</table>\n",
       "</div>"
      ],
      "text/plain": [
       "               count  unique         top freq     mean      std   min   25%  \\\n",
       "id            123036  123036    1431_765    1      NaN      NaN   NaN   NaN   \n",
       "message_date  123036     364  2018-12-31  859      NaN      NaN   NaN   NaN   \n",
       "user_id       123036     NaN         NaN  NaN  1256.99  143.524  1000  1134   \n",
       "\n",
       "               50%   75%   max  \n",
       "id             NaN   NaN   NaN  \n",
       "message_date   NaN   NaN   NaN  \n",
       "user_id       1271  1381  1499  "
      ]
     },
     "execution_count": 4,
     "metadata": {},
     "output_type": "execute_result"
    },
    {
     "name": "stdout",
     "output_type": "stream",
     "text": [
      "\n",
      "Описательная статистика по файлу users:\n"
     ]
    },
    {
     "data": {
      "text/html": [
       "<div>\n",
       "<style scoped>\n",
       "    .dataframe tbody tr th:only-of-type {\n",
       "        vertical-align: middle;\n",
       "    }\n",
       "\n",
       "    .dataframe tbody tr th {\n",
       "        vertical-align: top;\n",
       "    }\n",
       "\n",
       "    .dataframe thead th {\n",
       "        text-align: right;\n",
       "    }\n",
       "</style>\n",
       "<table border=\"1\" class=\"dataframe\">\n",
       "  <thead>\n",
       "    <tr style=\"text-align: right;\">\n",
       "      <th></th>\n",
       "      <th>count</th>\n",
       "      <th>unique</th>\n",
       "      <th>top</th>\n",
       "      <th>freq</th>\n",
       "      <th>mean</th>\n",
       "      <th>std</th>\n",
       "      <th>min</th>\n",
       "      <th>25%</th>\n",
       "      <th>50%</th>\n",
       "      <th>75%</th>\n",
       "      <th>max</th>\n",
       "    </tr>\n",
       "  </thead>\n",
       "  <tbody>\n",
       "    <tr>\n",
       "      <td>user_id</td>\n",
       "      <td>500</td>\n",
       "      <td>NaN</td>\n",
       "      <td>NaN</td>\n",
       "      <td>NaN</td>\n",
       "      <td>1249.5</td>\n",
       "      <td>144.482</td>\n",
       "      <td>1000</td>\n",
       "      <td>1124.75</td>\n",
       "      <td>1249.5</td>\n",
       "      <td>1374.25</td>\n",
       "      <td>1499</td>\n",
       "    </tr>\n",
       "    <tr>\n",
       "      <td>age</td>\n",
       "      <td>500</td>\n",
       "      <td>NaN</td>\n",
       "      <td>NaN</td>\n",
       "      <td>NaN</td>\n",
       "      <td>46.588</td>\n",
       "      <td>16.6676</td>\n",
       "      <td>18</td>\n",
       "      <td>32</td>\n",
       "      <td>46</td>\n",
       "      <td>62</td>\n",
       "      <td>75</td>\n",
       "    </tr>\n",
       "    <tr>\n",
       "      <td>churn_date</td>\n",
       "      <td>38</td>\n",
       "      <td>33</td>\n",
       "      <td>2018-12-21</td>\n",
       "      <td>2</td>\n",
       "      <td>NaN</td>\n",
       "      <td>NaN</td>\n",
       "      <td>NaN</td>\n",
       "      <td>NaN</td>\n",
       "      <td>NaN</td>\n",
       "      <td>NaN</td>\n",
       "      <td>NaN</td>\n",
       "    </tr>\n",
       "    <tr>\n",
       "      <td>city</td>\n",
       "      <td>500</td>\n",
       "      <td>76</td>\n",
       "      <td>Москва</td>\n",
       "      <td>99</td>\n",
       "      <td>NaN</td>\n",
       "      <td>NaN</td>\n",
       "      <td>NaN</td>\n",
       "      <td>NaN</td>\n",
       "      <td>NaN</td>\n",
       "      <td>NaN</td>\n",
       "      <td>NaN</td>\n",
       "    </tr>\n",
       "    <tr>\n",
       "      <td>first_name</td>\n",
       "      <td>500</td>\n",
       "      <td>246</td>\n",
       "      <td>Радим</td>\n",
       "      <td>6</td>\n",
       "      <td>NaN</td>\n",
       "      <td>NaN</td>\n",
       "      <td>NaN</td>\n",
       "      <td>NaN</td>\n",
       "      <td>NaN</td>\n",
       "      <td>NaN</td>\n",
       "      <td>NaN</td>\n",
       "    </tr>\n",
       "    <tr>\n",
       "      <td>last_name</td>\n",
       "      <td>500</td>\n",
       "      <td>419</td>\n",
       "      <td>Андреенко</td>\n",
       "      <td>5</td>\n",
       "      <td>NaN</td>\n",
       "      <td>NaN</td>\n",
       "      <td>NaN</td>\n",
       "      <td>NaN</td>\n",
       "      <td>NaN</td>\n",
       "      <td>NaN</td>\n",
       "      <td>NaN</td>\n",
       "    </tr>\n",
       "    <tr>\n",
       "      <td>reg_date</td>\n",
       "      <td>500</td>\n",
       "      <td>270</td>\n",
       "      <td>2018-05-28</td>\n",
       "      <td>8</td>\n",
       "      <td>NaN</td>\n",
       "      <td>NaN</td>\n",
       "      <td>NaN</td>\n",
       "      <td>NaN</td>\n",
       "      <td>NaN</td>\n",
       "      <td>NaN</td>\n",
       "      <td>NaN</td>\n",
       "    </tr>\n",
       "    <tr>\n",
       "      <td>tariff</td>\n",
       "      <td>500</td>\n",
       "      <td>2</td>\n",
       "      <td>smart</td>\n",
       "      <td>351</td>\n",
       "      <td>NaN</td>\n",
       "      <td>NaN</td>\n",
       "      <td>NaN</td>\n",
       "      <td>NaN</td>\n",
       "      <td>NaN</td>\n",
       "      <td>NaN</td>\n",
       "      <td>NaN</td>\n",
       "    </tr>\n",
       "  </tbody>\n",
       "</table>\n",
       "</div>"
      ],
      "text/plain": [
       "           count unique         top freq    mean      std   min      25%  \\\n",
       "user_id      500    NaN         NaN  NaN  1249.5  144.482  1000  1124.75   \n",
       "age          500    NaN         NaN  NaN  46.588  16.6676    18       32   \n",
       "churn_date    38     33  2018-12-21    2     NaN      NaN   NaN      NaN   \n",
       "city         500     76      Москва   99     NaN      NaN   NaN      NaN   \n",
       "first_name   500    246       Радим    6     NaN      NaN   NaN      NaN   \n",
       "last_name    500    419   Андреенко    5     NaN      NaN   NaN      NaN   \n",
       "reg_date     500    270  2018-05-28    8     NaN      NaN   NaN      NaN   \n",
       "tariff       500      2       smart  351     NaN      NaN   NaN      NaN   \n",
       "\n",
       "               50%      75%   max  \n",
       "user_id     1249.5  1374.25  1499  \n",
       "age             46       62    75  \n",
       "churn_date     NaN      NaN   NaN  \n",
       "city           NaN      NaN   NaN  \n",
       "first_name     NaN      NaN   NaN  \n",
       "last_name      NaN      NaN   NaN  \n",
       "reg_date       NaN      NaN   NaN  \n",
       "tariff         NaN      NaN   NaN  "
      ]
     },
     "execution_count": 4,
     "metadata": {},
     "output_type": "execute_result"
    },
    {
     "name": "stdout",
     "output_type": "stream",
     "text": [
      "\n"
     ]
    }
   ],
   "source": [
    "for i,j in files_dict.items():\n",
    "    print(f\"Описательная статистика по файлу {i}:\")\n",
    "    j.describe(include='all').T\n",
    "    print('')"
   ]
  },
  {
   "cell_type": "markdown",
   "metadata": {},
   "source": [
    "### Вывод\n",
    "<a id=\"conclusion_1\"></a>\n",
    "В таблице **calls** 4 столбца:\n",
    "\n",
    "* `id` — уникальный номер звонка, тип object;\n",
    "* `call_date` — дата звонка, тип object;  \n",
    "* `duration` — длительность звонка в минутах, тип float64;\n",
    "* `user_id` — идентификатор пользователя, сделавшего звонок, тип int64.\n",
    "\n",
    "Пропущенных значений в таблице нет. Столбец `call_date` уместнее перевести в тип datetime. В столбце `duration` много звонков с нулевой продолжительностью. Это не ошибка: нулями обозначены пропущенные звонки, поэтому их не нужно удалять согласно документации.\n",
    "\n",
    "В таблице **internet** 5 столбцов:\n",
    "\n",
    "* `Unnamed: 0` - столбец отсутствует в документации, тип int64;\n",
    "* `id` — уникальный номер сессии, тип object;\n",
    "* `mb_used` — объём потраченного за сессию интернет-трафика в мегабайтах, тип float64;\n",
    "* `session_date` — дата интернет-сессии, тип object;\n",
    "* `user_id` — идентификатор пользователя, тип int64.\n",
    "\n",
    "Пропущенных значений в таблице нет. Столбец `Unnamed: 0` можно просто удалить, т.к. он не несет доп. информации и копирует индексы, скорее всего добавился в результате тех. ошибки. Столбец `session_date` уместнее перевести в тип datetime.\n",
    "\n",
    "В таблице **messages** 3 столбца:\n",
    "\n",
    "* `id` — уникальный номер сообщения, тип object;\n",
    "* `message_date` — дата сообщения, тип object; \n",
    "* `user_id` — идентификатор пользователя, тип int64.\n",
    "\n",
    "Пропущенных значений в таблице нет. Столбец `message_date` уместнее перевести в тип datetime.\n",
    "\n",
    "В таблице **tariffs** 8 столбцов:\n",
    "\n",
    "* `tariff_name` — название тарифа, тип object;\n",
    "* `rub_monthly_fee` — ежемесячная абонентская плата в рублях, тип int64;\n",
    "* `minutes_included` — количество минут разговора в месяц (включённых в абонентскую плату), тип int64;\n",
    "* `messages_included` — количество сообщений в месяц (включённых в абонентскую плату), тип int64;\n",
    "* `mb_per_month_included` — объём интернет-трафика (включённого в абонентскую плату в мегабайтах), тип int64;\n",
    "* `rub_per_minute` — стоимость минуты разговора сверх тарифного пакета (например, если в тарифе 100 минут разговора в месяц, то со 101 минуты будет взиматься плата), тип int64;\n",
    "* `rub_per_message` — стоимость отправки сообщения сверх тарифного пакета, тип int64;\n",
    "* `rub_per_gb` — стоимость дополнительного гигабайта интернет-трафика сверх тарифного пакета (1 гигабайт = 1024 мегабайта), тип int64.\n",
    "\n",
    "Пропущенных значений в таблице нет. Данные по тарифам совпадают с заявленными заказчиком.\n",
    "\n",
    "В таблице **users** 8 столбцов:\n",
    "\n",
    "* `user_id` — уникальный идентификатор пользователя, тип int64;\n",
    "* `first_name` — имя пользователя, тип object;\n",
    "* `last_name` — фамилия пользователя, тип object;\n",
    "* `age` — возраст пользователя (годы), тип int64;\n",
    "* `reg_date` — дата подключения тарифа (день, месяц, год), тип object;\n",
    "* `churn_date` — дата прекращения пользования тарифом (если значение пропущено, то тариф ещё действовал на момент выгрузки данных), тип object;\n",
    "* `city` — город проживания пользователя, тип object;\n",
    "* `tarif` — название тарифного плана, тип object.\n",
    "\n",
    "Есть большое количество пропущенных значений в столбце `churn_date`, но это не является ошибкой, как указано в документации. Столбец `reg_date` уместнее перевести в тип datetime.\n",
    "\n",
    "В данных информация по 500 пользователям, идентификаторы в таблицах с 1000 по 1499. Из них 351 пользователь использовал тариф smart, т.е. тарифом ultra пользовались 149 пользователей. Предварительно можно утверждать, что данных достаточно для проверки гипотез. Чтобы ответить на поставленные вопросы, нужно устранить проблемы в данных."
   ]
  },
  {
   "cell_type": "markdown",
   "metadata": {},
   "source": [
    "## Предобработка данных\n",
    "<a id=\"preprocessing\"></a>"
   ]
  },
  {
   "cell_type": "code",
   "execution_count": 5,
   "metadata": {},
   "outputs": [
    {
     "name": "stdout",
     "output_type": "stream",
     "text": [
      "Найдено дубликатов: 0\n"
     ]
    },
    {
     "data": {
      "text/plain": [
       "сабина озерова            1\n",
       "таисия богданова          1\n",
       "олег любимов              1\n",
       "марта ситникова           1\n",
       "софья терехова            1\n",
       "                         ..\n",
       "авксентий фокин           1\n",
       "геодар афонин             1\n",
       "евфросинья серебрякова    1\n",
       "артём аракчеев            1\n",
       "георгий вишняков          1\n",
       "Name: full_name, Length: 500, dtype: int64"
      ]
     },
     "execution_count": 5,
     "metadata": {},
     "output_type": "execute_result"
    }
   ],
   "source": [
    "# проверка таблиц на явные и неявные дубликаты (проверял, где было уместно, для примера оставил по таблице users)\n",
    "print('Найдено дубликатов:', data_users.duplicated().sum())\n",
    "data_users['full_name'] = data_users['first_name'] + ' ' + data_users['last_name']\n",
    "data_users['full_name'].str.lower().value_counts()"
   ]
  },
  {
   "cell_type": "code",
   "execution_count": 6,
   "metadata": {},
   "outputs": [],
   "source": [
    "# удаление ненужного столбца\n",
    "data_internet = data_internet.drop('Unnamed: 0', 1)"
   ]
  },
  {
   "cell_type": "markdown",
   "metadata": {},
   "source": [
    "### Замена типа данных\n",
    "<a id=\"preprocessing_1\"></a>"
   ]
  },
  {
   "cell_type": "code",
   "execution_count": 7,
   "metadata": {},
   "outputs": [],
   "source": [
    "DAY_FORMAT = '%Y.%m.%d'\n",
    "data_calls['call_date'] = pd.to_datetime(data_calls['call_date'], format=DAY_FORMAT)\n",
    "data_internet['session_date'] = pd.to_datetime(data_internet['session_date'], format=DAY_FORMAT)\n",
    "data_messages['message_date'] = pd.to_datetime(data_messages['message_date'], format=DAY_FORMAT)\n",
    "data_users['reg_date'] = pd.to_datetime(data_users['reg_date'], format=DAY_FORMAT)\n",
    "data_users['churn_date'] = pd.to_datetime(data_users['churn_date'], format=DAY_FORMAT)"
   ]
  },
  {
   "cell_type": "code",
   "execution_count": 8,
   "metadata": {},
   "outputs": [],
   "source": [
    "# выделяем месяц\n",
    "data_calls['month'] = data_calls['call_date'].dt.month\n",
    "data_internet['month'] = data_internet['session_date'].dt.month\n",
    "data_messages['month'] = data_messages['message_date'].dt.month"
   ]
  },
  {
   "cell_type": "markdown",
   "metadata": {},
   "source": [
    "### Подготовка пользовательских данных\n",
    "<a id=\"preprocessing_2\"></a>\n",
    "Посчитаем для каждого пользователя:\n",
    "* количество сделанных звонков и израсходованных минут разговора по месяцам;\n",
    "* количество отправленных сообщений по месяцам;\n",
    "* объем израсходованного интернет-трафика по месяцам;\n",
    "* помесячную выручку с каждого пользователя (вычтем бесплатный лимит из суммарного количества звонков, сообщений и интернет-трафика; остаток умножим на значение из тарифного плана; прибавим абонентскую плату, соответствующую тарифному плану)."
   ]
  },
  {
   "cell_type": "code",
   "execution_count": 9,
   "metadata": {},
   "outputs": [
    {
     "data": {
      "text/html": [
       "<div>\n",
       "<style scoped>\n",
       "    .dataframe tbody tr th:only-of-type {\n",
       "        vertical-align: middle;\n",
       "    }\n",
       "\n",
       "    .dataframe tbody tr th {\n",
       "        vertical-align: top;\n",
       "    }\n",
       "\n",
       "    .dataframe thead th {\n",
       "        text-align: right;\n",
       "    }\n",
       "</style>\n",
       "<table border=\"1\" class=\"dataframe\">\n",
       "  <thead>\n",
       "    <tr style=\"text-align: right;\">\n",
       "      <th></th>\n",
       "      <th>user_id</th>\n",
       "      <th>month</th>\n",
       "      <th>calls_count</th>\n",
       "      <th>duration_sum</th>\n",
       "      <th>messages_count</th>\n",
       "      <th>mb_used</th>\n",
       "      <th>age</th>\n",
       "      <th>churn_date</th>\n",
       "      <th>city</th>\n",
       "      <th>first_name</th>\n",
       "      <th>...</th>\n",
       "      <th>reg_date</th>\n",
       "      <th>tariff_name</th>\n",
       "      <th>full_name</th>\n",
       "      <th>messages_included</th>\n",
       "      <th>mb_per_month_included</th>\n",
       "      <th>minutes_included</th>\n",
       "      <th>rub_monthly_fee</th>\n",
       "      <th>rub_per_gb</th>\n",
       "      <th>rub_per_message</th>\n",
       "      <th>rub_per_minute</th>\n",
       "    </tr>\n",
       "  </thead>\n",
       "  <tbody>\n",
       "    <tr>\n",
       "      <td>0</td>\n",
       "      <td>1000</td>\n",
       "      <td>5</td>\n",
       "      <td>22.0</td>\n",
       "      <td>159.0</td>\n",
       "      <td>22.0</td>\n",
       "      <td>2253.49</td>\n",
       "      <td>52</td>\n",
       "      <td>NaT</td>\n",
       "      <td>Краснодар</td>\n",
       "      <td>Рафаил</td>\n",
       "      <td>...</td>\n",
       "      <td>2018-05-25</td>\n",
       "      <td>ultra</td>\n",
       "      <td>Рафаил Верещагин</td>\n",
       "      <td>1000</td>\n",
       "      <td>30720</td>\n",
       "      <td>3000</td>\n",
       "      <td>1950</td>\n",
       "      <td>150</td>\n",
       "      <td>1</td>\n",
       "      <td>1</td>\n",
       "    </tr>\n",
       "    <tr>\n",
       "      <td>1</td>\n",
       "      <td>1000</td>\n",
       "      <td>6</td>\n",
       "      <td>43.0</td>\n",
       "      <td>172.0</td>\n",
       "      <td>60.0</td>\n",
       "      <td>23233.77</td>\n",
       "      <td>52</td>\n",
       "      <td>NaT</td>\n",
       "      <td>Краснодар</td>\n",
       "      <td>Рафаил</td>\n",
       "      <td>...</td>\n",
       "      <td>2018-05-25</td>\n",
       "      <td>ultra</td>\n",
       "      <td>Рафаил Верещагин</td>\n",
       "      <td>1000</td>\n",
       "      <td>30720</td>\n",
       "      <td>3000</td>\n",
       "      <td>1950</td>\n",
       "      <td>150</td>\n",
       "      <td>1</td>\n",
       "      <td>1</td>\n",
       "    </tr>\n",
       "    <tr>\n",
       "      <td>2</td>\n",
       "      <td>1000</td>\n",
       "      <td>7</td>\n",
       "      <td>47.0</td>\n",
       "      <td>340.0</td>\n",
       "      <td>75.0</td>\n",
       "      <td>14003.64</td>\n",
       "      <td>52</td>\n",
       "      <td>NaT</td>\n",
       "      <td>Краснодар</td>\n",
       "      <td>Рафаил</td>\n",
       "      <td>...</td>\n",
       "      <td>2018-05-25</td>\n",
       "      <td>ultra</td>\n",
       "      <td>Рафаил Верещагин</td>\n",
       "      <td>1000</td>\n",
       "      <td>30720</td>\n",
       "      <td>3000</td>\n",
       "      <td>1950</td>\n",
       "      <td>150</td>\n",
       "      <td>1</td>\n",
       "      <td>1</td>\n",
       "    </tr>\n",
       "    <tr>\n",
       "      <td>3</td>\n",
       "      <td>1000</td>\n",
       "      <td>8</td>\n",
       "      <td>52.0</td>\n",
       "      <td>408.0</td>\n",
       "      <td>81.0</td>\n",
       "      <td>14055.93</td>\n",
       "      <td>52</td>\n",
       "      <td>NaT</td>\n",
       "      <td>Краснодар</td>\n",
       "      <td>Рафаил</td>\n",
       "      <td>...</td>\n",
       "      <td>2018-05-25</td>\n",
       "      <td>ultra</td>\n",
       "      <td>Рафаил Верещагин</td>\n",
       "      <td>1000</td>\n",
       "      <td>30720</td>\n",
       "      <td>3000</td>\n",
       "      <td>1950</td>\n",
       "      <td>150</td>\n",
       "      <td>1</td>\n",
       "      <td>1</td>\n",
       "    </tr>\n",
       "    <tr>\n",
       "      <td>4</td>\n",
       "      <td>1000</td>\n",
       "      <td>9</td>\n",
       "      <td>58.0</td>\n",
       "      <td>466.0</td>\n",
       "      <td>57.0</td>\n",
       "      <td>14568.91</td>\n",
       "      <td>52</td>\n",
       "      <td>NaT</td>\n",
       "      <td>Краснодар</td>\n",
       "      <td>Рафаил</td>\n",
       "      <td>...</td>\n",
       "      <td>2018-05-25</td>\n",
       "      <td>ultra</td>\n",
       "      <td>Рафаил Верещагин</td>\n",
       "      <td>1000</td>\n",
       "      <td>30720</td>\n",
       "      <td>3000</td>\n",
       "      <td>1950</td>\n",
       "      <td>150</td>\n",
       "      <td>1</td>\n",
       "      <td>1</td>\n",
       "    </tr>\n",
       "    <tr>\n",
       "      <td>...</td>\n",
       "      <td>...</td>\n",
       "      <td>...</td>\n",
       "      <td>...</td>\n",
       "      <td>...</td>\n",
       "      <td>...</td>\n",
       "      <td>...</td>\n",
       "      <td>...</td>\n",
       "      <td>...</td>\n",
       "      <td>...</td>\n",
       "      <td>...</td>\n",
       "      <td>...</td>\n",
       "      <td>...</td>\n",
       "      <td>...</td>\n",
       "      <td>...</td>\n",
       "      <td>...</td>\n",
       "      <td>...</td>\n",
       "      <td>...</td>\n",
       "      <td>...</td>\n",
       "      <td>...</td>\n",
       "      <td>...</td>\n",
       "      <td>...</td>\n",
       "    </tr>\n",
       "    <tr>\n",
       "      <td>3209</td>\n",
       "      <td>1489</td>\n",
       "      <td>8</td>\n",
       "      <td>NaN</td>\n",
       "      <td>NaN</td>\n",
       "      <td>17.0</td>\n",
       "      <td>11050.56</td>\n",
       "      <td>35</td>\n",
       "      <td>NaT</td>\n",
       "      <td>Санкт-Петербург</td>\n",
       "      <td>Павел</td>\n",
       "      <td>...</td>\n",
       "      <td>2018-08-15</td>\n",
       "      <td>smart</td>\n",
       "      <td>Павел Гончаров</td>\n",
       "      <td>50</td>\n",
       "      <td>15360</td>\n",
       "      <td>500</td>\n",
       "      <td>550</td>\n",
       "      <td>200</td>\n",
       "      <td>3</td>\n",
       "      <td>3</td>\n",
       "    </tr>\n",
       "    <tr>\n",
       "      <td>3210</td>\n",
       "      <td>1489</td>\n",
       "      <td>9</td>\n",
       "      <td>NaN</td>\n",
       "      <td>NaN</td>\n",
       "      <td>32.0</td>\n",
       "      <td>17206.30</td>\n",
       "      <td>35</td>\n",
       "      <td>NaT</td>\n",
       "      <td>Санкт-Петербург</td>\n",
       "      <td>Павел</td>\n",
       "      <td>...</td>\n",
       "      <td>2018-08-15</td>\n",
       "      <td>smart</td>\n",
       "      <td>Павел Гончаров</td>\n",
       "      <td>50</td>\n",
       "      <td>15360</td>\n",
       "      <td>500</td>\n",
       "      <td>550</td>\n",
       "      <td>200</td>\n",
       "      <td>3</td>\n",
       "      <td>3</td>\n",
       "    </tr>\n",
       "    <tr>\n",
       "      <td>3211</td>\n",
       "      <td>1489</td>\n",
       "      <td>10</td>\n",
       "      <td>NaN</td>\n",
       "      <td>NaN</td>\n",
       "      <td>21.0</td>\n",
       "      <td>19559.44</td>\n",
       "      <td>35</td>\n",
       "      <td>NaT</td>\n",
       "      <td>Санкт-Петербург</td>\n",
       "      <td>Павел</td>\n",
       "      <td>...</td>\n",
       "      <td>2018-08-15</td>\n",
       "      <td>smart</td>\n",
       "      <td>Павел Гончаров</td>\n",
       "      <td>50</td>\n",
       "      <td>15360</td>\n",
       "      <td>500</td>\n",
       "      <td>550</td>\n",
       "      <td>200</td>\n",
       "      <td>3</td>\n",
       "      <td>3</td>\n",
       "    </tr>\n",
       "    <tr>\n",
       "      <td>3212</td>\n",
       "      <td>1489</td>\n",
       "      <td>11</td>\n",
       "      <td>NaN</td>\n",
       "      <td>NaN</td>\n",
       "      <td>20.0</td>\n",
       "      <td>17491.56</td>\n",
       "      <td>35</td>\n",
       "      <td>NaT</td>\n",
       "      <td>Санкт-Петербург</td>\n",
       "      <td>Павел</td>\n",
       "      <td>...</td>\n",
       "      <td>2018-08-15</td>\n",
       "      <td>smart</td>\n",
       "      <td>Павел Гончаров</td>\n",
       "      <td>50</td>\n",
       "      <td>15360</td>\n",
       "      <td>500</td>\n",
       "      <td>550</td>\n",
       "      <td>200</td>\n",
       "      <td>3</td>\n",
       "      <td>3</td>\n",
       "    </tr>\n",
       "    <tr>\n",
       "      <td>3213</td>\n",
       "      <td>1489</td>\n",
       "      <td>12</td>\n",
       "      <td>NaN</td>\n",
       "      <td>NaN</td>\n",
       "      <td>35.0</td>\n",
       "      <td>17322.51</td>\n",
       "      <td>35</td>\n",
       "      <td>NaT</td>\n",
       "      <td>Санкт-Петербург</td>\n",
       "      <td>Павел</td>\n",
       "      <td>...</td>\n",
       "      <td>2018-08-15</td>\n",
       "      <td>smart</td>\n",
       "      <td>Павел Гончаров</td>\n",
       "      <td>50</td>\n",
       "      <td>15360</td>\n",
       "      <td>500</td>\n",
       "      <td>550</td>\n",
       "      <td>200</td>\n",
       "      <td>3</td>\n",
       "      <td>3</td>\n",
       "    </tr>\n",
       "  </tbody>\n",
       "</table>\n",
       "<p>3214 rows × 21 columns</p>\n",
       "</div>"
      ],
      "text/plain": [
       "      user_id  month  calls_count  duration_sum  messages_count   mb_used  \\\n",
       "0        1000      5         22.0         159.0            22.0   2253.49   \n",
       "1        1000      6         43.0         172.0            60.0  23233.77   \n",
       "2        1000      7         47.0         340.0            75.0  14003.64   \n",
       "3        1000      8         52.0         408.0            81.0  14055.93   \n",
       "4        1000      9         58.0         466.0            57.0  14568.91   \n",
       "...       ...    ...          ...           ...             ...       ...   \n",
       "3209     1489      8          NaN           NaN            17.0  11050.56   \n",
       "3210     1489      9          NaN           NaN            32.0  17206.30   \n",
       "3211     1489     10          NaN           NaN            21.0  19559.44   \n",
       "3212     1489     11          NaN           NaN            20.0  17491.56   \n",
       "3213     1489     12          NaN           NaN            35.0  17322.51   \n",
       "\n",
       "      age churn_date             city first_name  ...   reg_date tariff_name  \\\n",
       "0      52        NaT        Краснодар     Рафаил  ... 2018-05-25       ultra   \n",
       "1      52        NaT        Краснодар     Рафаил  ... 2018-05-25       ultra   \n",
       "2      52        NaT        Краснодар     Рафаил  ... 2018-05-25       ultra   \n",
       "3      52        NaT        Краснодар     Рафаил  ... 2018-05-25       ultra   \n",
       "4      52        NaT        Краснодар     Рафаил  ... 2018-05-25       ultra   \n",
       "...   ...        ...              ...        ...  ...        ...         ...   \n",
       "3209   35        NaT  Санкт-Петербург      Павел  ... 2018-08-15       smart   \n",
       "3210   35        NaT  Санкт-Петербург      Павел  ... 2018-08-15       smart   \n",
       "3211   35        NaT  Санкт-Петербург      Павел  ... 2018-08-15       smart   \n",
       "3212   35        NaT  Санкт-Петербург      Павел  ... 2018-08-15       smart   \n",
       "3213   35        NaT  Санкт-Петербург      Павел  ... 2018-08-15       smart   \n",
       "\n",
       "             full_name messages_included  mb_per_month_included  \\\n",
       "0     Рафаил Верещагин              1000                  30720   \n",
       "1     Рафаил Верещагин              1000                  30720   \n",
       "2     Рафаил Верещагин              1000                  30720   \n",
       "3     Рафаил Верещагин              1000                  30720   \n",
       "4     Рафаил Верещагин              1000                  30720   \n",
       "...                ...               ...                    ...   \n",
       "3209    Павел Гончаров                50                  15360   \n",
       "3210    Павел Гончаров                50                  15360   \n",
       "3211    Павел Гончаров                50                  15360   \n",
       "3212    Павел Гончаров                50                  15360   \n",
       "3213    Павел Гончаров                50                  15360   \n",
       "\n",
       "      minutes_included  rub_monthly_fee  rub_per_gb  rub_per_message  \\\n",
       "0                 3000             1950         150                1   \n",
       "1                 3000             1950         150                1   \n",
       "2                 3000             1950         150                1   \n",
       "3                 3000             1950         150                1   \n",
       "4                 3000             1950         150                1   \n",
       "...                ...              ...         ...              ...   \n",
       "3209               500              550         200                3   \n",
       "3210               500              550         200                3   \n",
       "3211               500              550         200                3   \n",
       "3212               500              550         200                3   \n",
       "3213               500              550         200                3   \n",
       "\n",
       "      rub_per_minute  \n",
       "0                  1  \n",
       "1                  1  \n",
       "2                  1  \n",
       "3                  1  \n",
       "4                  1  \n",
       "...              ...  \n",
       "3209               3  \n",
       "3210               3  \n",
       "3211               3  \n",
       "3212               3  \n",
       "3213               3  \n",
       "\n",
       "[3214 rows x 21 columns]"
      ]
     },
     "execution_count": 9,
     "metadata": {},
     "output_type": "execute_result"
    }
   ],
   "source": [
    "# округление минут в большую сторону\n",
    "data_calls['duration'] = data_calls['duration'].apply(math.ceil)\n",
    "\n",
    "# группировка звонков по клиентам и месяцам\n",
    "calls_grouped = data_calls.groupby(['user_id', 'month']).agg({'duration': ['count', 'sum']}).reset_index()\n",
    "calls_grouped.columns = ['user_id', 'month', 'calls_count', 'duration_sum']\n",
    "\n",
    "# группировка сообщений по клиентам и месяцам\n",
    "messages_grouped = data_messages.groupby(['user_id', 'month']).agg({'id': 'count'}).reset_index()\n",
    "messages_grouped.columns = ['user_id', 'month', 'messages_count']\n",
    "\n",
    "# объединение в новую таблицу data группировки по звонкам и сообщениям\n",
    "data = calls_grouped.merge(messages_grouped, on = ['user_id', 'month'], how = 'outer')\n",
    "\n",
    "# группировка использования интернета по клиентам и месяцам\n",
    "internet_grouped = data_internet.groupby(['user_id', 'month']).agg({'mb_used': 'sum'}).reset_index()\n",
    "\n",
    "# объединение новой таблицы data и группировки использования интернета\n",
    "data = data.merge(internet_grouped, on = ['user_id', 'month'], how = 'outer')\n",
    "\n",
    "# объединение новой таблицы data с таблицами по пользователям и тарифам\n",
    "data = data.merge(data_users, on = 'user_id')\n",
    "data = data.rename(columns={'tariff': 'tariff_name'})\n",
    "data = data.merge(data_tariffs, on = 'tariff_name')\n",
    "data"
   ]
  },
  {
   "cell_type": "code",
   "execution_count": 10,
   "metadata": {},
   "outputs": [
    {
     "data": {
      "text/html": [
       "<div>\n",
       "<style scoped>\n",
       "    .dataframe tbody tr th:only-of-type {\n",
       "        vertical-align: middle;\n",
       "    }\n",
       "\n",
       "    .dataframe tbody tr th {\n",
       "        vertical-align: top;\n",
       "    }\n",
       "\n",
       "    .dataframe thead th {\n",
       "        text-align: right;\n",
       "    }\n",
       "</style>\n",
       "<table border=\"1\" class=\"dataframe\">\n",
       "  <thead>\n",
       "    <tr style=\"text-align: right;\">\n",
       "      <th></th>\n",
       "      <th>user_id</th>\n",
       "      <th>month</th>\n",
       "      <th>calls_count</th>\n",
       "      <th>duration_sum</th>\n",
       "      <th>messages_count</th>\n",
       "      <th>mb_used</th>\n",
       "      <th>age</th>\n",
       "      <th>churn_date</th>\n",
       "      <th>city</th>\n",
       "      <th>first_name</th>\n",
       "      <th>...</th>\n",
       "      <th>mb_per_month_included</th>\n",
       "      <th>minutes_included</th>\n",
       "      <th>rub_monthly_fee</th>\n",
       "      <th>rub_per_gb</th>\n",
       "      <th>rub_per_message</th>\n",
       "      <th>rub_per_minute</th>\n",
       "      <th>minutes_over</th>\n",
       "      <th>messages_over</th>\n",
       "      <th>gb_over</th>\n",
       "      <th>revenue_per_month</th>\n",
       "    </tr>\n",
       "  </thead>\n",
       "  <tbody>\n",
       "    <tr>\n",
       "      <td>0</td>\n",
       "      <td>1000</td>\n",
       "      <td>5</td>\n",
       "      <td>22.0</td>\n",
       "      <td>159.0</td>\n",
       "      <td>22.0</td>\n",
       "      <td>2253.49</td>\n",
       "      <td>52</td>\n",
       "      <td>NaT</td>\n",
       "      <td>Краснодар</td>\n",
       "      <td>Рафаил</td>\n",
       "      <td>...</td>\n",
       "      <td>30720</td>\n",
       "      <td>3000</td>\n",
       "      <td>1950</td>\n",
       "      <td>150</td>\n",
       "      <td>1</td>\n",
       "      <td>1</td>\n",
       "      <td>0.0</td>\n",
       "      <td>0.0</td>\n",
       "      <td>0</td>\n",
       "      <td>1950.0</td>\n",
       "    </tr>\n",
       "    <tr>\n",
       "      <td>1</td>\n",
       "      <td>1000</td>\n",
       "      <td>6</td>\n",
       "      <td>43.0</td>\n",
       "      <td>172.0</td>\n",
       "      <td>60.0</td>\n",
       "      <td>23233.77</td>\n",
       "      <td>52</td>\n",
       "      <td>NaT</td>\n",
       "      <td>Краснодар</td>\n",
       "      <td>Рафаил</td>\n",
       "      <td>...</td>\n",
       "      <td>30720</td>\n",
       "      <td>3000</td>\n",
       "      <td>1950</td>\n",
       "      <td>150</td>\n",
       "      <td>1</td>\n",
       "      <td>1</td>\n",
       "      <td>0.0</td>\n",
       "      <td>0.0</td>\n",
       "      <td>0</td>\n",
       "      <td>1950.0</td>\n",
       "    </tr>\n",
       "    <tr>\n",
       "      <td>2</td>\n",
       "      <td>1000</td>\n",
       "      <td>7</td>\n",
       "      <td>47.0</td>\n",
       "      <td>340.0</td>\n",
       "      <td>75.0</td>\n",
       "      <td>14003.64</td>\n",
       "      <td>52</td>\n",
       "      <td>NaT</td>\n",
       "      <td>Краснодар</td>\n",
       "      <td>Рафаил</td>\n",
       "      <td>...</td>\n",
       "      <td>30720</td>\n",
       "      <td>3000</td>\n",
       "      <td>1950</td>\n",
       "      <td>150</td>\n",
       "      <td>1</td>\n",
       "      <td>1</td>\n",
       "      <td>0.0</td>\n",
       "      <td>0.0</td>\n",
       "      <td>0</td>\n",
       "      <td>1950.0</td>\n",
       "    </tr>\n",
       "    <tr>\n",
       "      <td>3</td>\n",
       "      <td>1000</td>\n",
       "      <td>8</td>\n",
       "      <td>52.0</td>\n",
       "      <td>408.0</td>\n",
       "      <td>81.0</td>\n",
       "      <td>14055.93</td>\n",
       "      <td>52</td>\n",
       "      <td>NaT</td>\n",
       "      <td>Краснодар</td>\n",
       "      <td>Рафаил</td>\n",
       "      <td>...</td>\n",
       "      <td>30720</td>\n",
       "      <td>3000</td>\n",
       "      <td>1950</td>\n",
       "      <td>150</td>\n",
       "      <td>1</td>\n",
       "      <td>1</td>\n",
       "      <td>0.0</td>\n",
       "      <td>0.0</td>\n",
       "      <td>0</td>\n",
       "      <td>1950.0</td>\n",
       "    </tr>\n",
       "    <tr>\n",
       "      <td>4</td>\n",
       "      <td>1000</td>\n",
       "      <td>9</td>\n",
       "      <td>58.0</td>\n",
       "      <td>466.0</td>\n",
       "      <td>57.0</td>\n",
       "      <td>14568.91</td>\n",
       "      <td>52</td>\n",
       "      <td>NaT</td>\n",
       "      <td>Краснодар</td>\n",
       "      <td>Рафаил</td>\n",
       "      <td>...</td>\n",
       "      <td>30720</td>\n",
       "      <td>3000</td>\n",
       "      <td>1950</td>\n",
       "      <td>150</td>\n",
       "      <td>1</td>\n",
       "      <td>1</td>\n",
       "      <td>0.0</td>\n",
       "      <td>0.0</td>\n",
       "      <td>0</td>\n",
       "      <td>1950.0</td>\n",
       "    </tr>\n",
       "    <tr>\n",
       "      <td>...</td>\n",
       "      <td>...</td>\n",
       "      <td>...</td>\n",
       "      <td>...</td>\n",
       "      <td>...</td>\n",
       "      <td>...</td>\n",
       "      <td>...</td>\n",
       "      <td>...</td>\n",
       "      <td>...</td>\n",
       "      <td>...</td>\n",
       "      <td>...</td>\n",
       "      <td>...</td>\n",
       "      <td>...</td>\n",
       "      <td>...</td>\n",
       "      <td>...</td>\n",
       "      <td>...</td>\n",
       "      <td>...</td>\n",
       "      <td>...</td>\n",
       "      <td>...</td>\n",
       "      <td>...</td>\n",
       "      <td>...</td>\n",
       "      <td>...</td>\n",
       "    </tr>\n",
       "    <tr>\n",
       "      <td>3209</td>\n",
       "      <td>1489</td>\n",
       "      <td>8</td>\n",
       "      <td>0.0</td>\n",
       "      <td>0.0</td>\n",
       "      <td>17.0</td>\n",
       "      <td>11050.56</td>\n",
       "      <td>35</td>\n",
       "      <td>NaT</td>\n",
       "      <td>Санкт-Петербург</td>\n",
       "      <td>Павел</td>\n",
       "      <td>...</td>\n",
       "      <td>15360</td>\n",
       "      <td>500</td>\n",
       "      <td>550</td>\n",
       "      <td>200</td>\n",
       "      <td>3</td>\n",
       "      <td>3</td>\n",
       "      <td>0.0</td>\n",
       "      <td>0.0</td>\n",
       "      <td>0</td>\n",
       "      <td>550.0</td>\n",
       "    </tr>\n",
       "    <tr>\n",
       "      <td>3210</td>\n",
       "      <td>1489</td>\n",
       "      <td>9</td>\n",
       "      <td>0.0</td>\n",
       "      <td>0.0</td>\n",
       "      <td>32.0</td>\n",
       "      <td>17206.30</td>\n",
       "      <td>35</td>\n",
       "      <td>NaT</td>\n",
       "      <td>Санкт-Петербург</td>\n",
       "      <td>Павел</td>\n",
       "      <td>...</td>\n",
       "      <td>15360</td>\n",
       "      <td>500</td>\n",
       "      <td>550</td>\n",
       "      <td>200</td>\n",
       "      <td>3</td>\n",
       "      <td>3</td>\n",
       "      <td>0.0</td>\n",
       "      <td>0.0</td>\n",
       "      <td>400</td>\n",
       "      <td>950.0</td>\n",
       "    </tr>\n",
       "    <tr>\n",
       "      <td>3211</td>\n",
       "      <td>1489</td>\n",
       "      <td>10</td>\n",
       "      <td>0.0</td>\n",
       "      <td>0.0</td>\n",
       "      <td>21.0</td>\n",
       "      <td>19559.44</td>\n",
       "      <td>35</td>\n",
       "      <td>NaT</td>\n",
       "      <td>Санкт-Петербург</td>\n",
       "      <td>Павел</td>\n",
       "      <td>...</td>\n",
       "      <td>15360</td>\n",
       "      <td>500</td>\n",
       "      <td>550</td>\n",
       "      <td>200</td>\n",
       "      <td>3</td>\n",
       "      <td>3</td>\n",
       "      <td>0.0</td>\n",
       "      <td>0.0</td>\n",
       "      <td>1000</td>\n",
       "      <td>1550.0</td>\n",
       "    </tr>\n",
       "    <tr>\n",
       "      <td>3212</td>\n",
       "      <td>1489</td>\n",
       "      <td>11</td>\n",
       "      <td>0.0</td>\n",
       "      <td>0.0</td>\n",
       "      <td>20.0</td>\n",
       "      <td>17491.56</td>\n",
       "      <td>35</td>\n",
       "      <td>NaT</td>\n",
       "      <td>Санкт-Петербург</td>\n",
       "      <td>Павел</td>\n",
       "      <td>...</td>\n",
       "      <td>15360</td>\n",
       "      <td>500</td>\n",
       "      <td>550</td>\n",
       "      <td>200</td>\n",
       "      <td>3</td>\n",
       "      <td>3</td>\n",
       "      <td>0.0</td>\n",
       "      <td>0.0</td>\n",
       "      <td>600</td>\n",
       "      <td>1150.0</td>\n",
       "    </tr>\n",
       "    <tr>\n",
       "      <td>3213</td>\n",
       "      <td>1489</td>\n",
       "      <td>12</td>\n",
       "      <td>0.0</td>\n",
       "      <td>0.0</td>\n",
       "      <td>35.0</td>\n",
       "      <td>17322.51</td>\n",
       "      <td>35</td>\n",
       "      <td>NaT</td>\n",
       "      <td>Санкт-Петербург</td>\n",
       "      <td>Павел</td>\n",
       "      <td>...</td>\n",
       "      <td>15360</td>\n",
       "      <td>500</td>\n",
       "      <td>550</td>\n",
       "      <td>200</td>\n",
       "      <td>3</td>\n",
       "      <td>3</td>\n",
       "      <td>0.0</td>\n",
       "      <td>0.0</td>\n",
       "      <td>400</td>\n",
       "      <td>950.0</td>\n",
       "    </tr>\n",
       "  </tbody>\n",
       "</table>\n",
       "<p>3214 rows × 25 columns</p>\n",
       "</div>"
      ],
      "text/plain": [
       "      user_id  month  calls_count  duration_sum  messages_count   mb_used  \\\n",
       "0        1000      5         22.0         159.0            22.0   2253.49   \n",
       "1        1000      6         43.0         172.0            60.0  23233.77   \n",
       "2        1000      7         47.0         340.0            75.0  14003.64   \n",
       "3        1000      8         52.0         408.0            81.0  14055.93   \n",
       "4        1000      9         58.0         466.0            57.0  14568.91   \n",
       "...       ...    ...          ...           ...             ...       ...   \n",
       "3209     1489      8          0.0           0.0            17.0  11050.56   \n",
       "3210     1489      9          0.0           0.0            32.0  17206.30   \n",
       "3211     1489     10          0.0           0.0            21.0  19559.44   \n",
       "3212     1489     11          0.0           0.0            20.0  17491.56   \n",
       "3213     1489     12          0.0           0.0            35.0  17322.51   \n",
       "\n",
       "      age churn_date             city first_name  ... mb_per_month_included  \\\n",
       "0      52        NaT        Краснодар     Рафаил  ...                 30720   \n",
       "1      52        NaT        Краснодар     Рафаил  ...                 30720   \n",
       "2      52        NaT        Краснодар     Рафаил  ...                 30720   \n",
       "3      52        NaT        Краснодар     Рафаил  ...                 30720   \n",
       "4      52        NaT        Краснодар     Рафаил  ...                 30720   \n",
       "...   ...        ...              ...        ...  ...                   ...   \n",
       "3209   35        NaT  Санкт-Петербург      Павел  ...                 15360   \n",
       "3210   35        NaT  Санкт-Петербург      Павел  ...                 15360   \n",
       "3211   35        NaT  Санкт-Петербург      Павел  ...                 15360   \n",
       "3212   35        NaT  Санкт-Петербург      Павел  ...                 15360   \n",
       "3213   35        NaT  Санкт-Петербург      Павел  ...                 15360   \n",
       "\n",
       "     minutes_included rub_monthly_fee rub_per_gb  rub_per_message  \\\n",
       "0                3000            1950        150                1   \n",
       "1                3000            1950        150                1   \n",
       "2                3000            1950        150                1   \n",
       "3                3000            1950        150                1   \n",
       "4                3000            1950        150                1   \n",
       "...               ...             ...        ...              ...   \n",
       "3209              500             550        200                3   \n",
       "3210              500             550        200                3   \n",
       "3211              500             550        200                3   \n",
       "3212              500             550        200                3   \n",
       "3213              500             550        200                3   \n",
       "\n",
       "      rub_per_minute  minutes_over  messages_over  gb_over  revenue_per_month  \n",
       "0                  1           0.0            0.0        0             1950.0  \n",
       "1                  1           0.0            0.0        0             1950.0  \n",
       "2                  1           0.0            0.0        0             1950.0  \n",
       "3                  1           0.0            0.0        0             1950.0  \n",
       "4                  1           0.0            0.0        0             1950.0  \n",
       "...              ...           ...            ...      ...                ...  \n",
       "3209               3           0.0            0.0        0              550.0  \n",
       "3210               3           0.0            0.0      400              950.0  \n",
       "3211               3           0.0            0.0     1000             1550.0  \n",
       "3212               3           0.0            0.0      600             1150.0  \n",
       "3213               3           0.0            0.0      400              950.0  \n",
       "\n",
       "[3214 rows x 25 columns]"
      ]
     },
     "execution_count": 10,
     "metadata": {},
     "output_type": "execute_result"
    }
   ],
   "source": [
    "# заполняем отсутствующие значения нулем в сгруппированных столбцах \n",
    "data['calls_count'] = data['calls_count'].fillna(0)\n",
    "data['duration_sum'] = data['duration_sum'].fillna(0)\n",
    "data['messages_count'] = data['messages_count'].fillna(0)\n",
    "data['mb_used'] = data['mb_used'].fillna(0)\n",
    "\n",
    "# добавляем столбец со стоимостью превышенных минут\n",
    "data['minutes_over'] = (data['duration_sum'] - data['minutes_included']) * data['rub_per_minute']\n",
    "\n",
    "# добавляем столбец со стоимостью превышенных сообщений\n",
    "data['messages_over'] = (data['messages_count'] - data['messages_included']) * data['rub_per_message']\n",
    "\n",
    "# добавляем столбец со стоимостью превышенного интернет-траффика с округлением трафика\n",
    "data['gb_over'] = ((data['mb_used'] - data['mb_per_month_included'])/1024).apply(math.ceil) * data['rub_per_gb']\n",
    "\n",
    "# убираем отрицательные значения и приравниваем их к 0\n",
    "data.loc[(data['minutes_over'] < 0, 'minutes_over')] = 0\n",
    "data.loc[(data['messages_over'] < 0, 'messages_over')] = 0\n",
    "data.loc[(data['gb_over'] < 0, 'gb_over')] = 0\n",
    "\n",
    "# добавляем столбец с помесячным доходом\n",
    "data['revenue_per_month'] = data['rub_monthly_fee'] + data['minutes_over'] + data['messages_over'] + data['gb_over']\n",
    "\n",
    "data"
   ]
  },
  {
   "cell_type": "markdown",
   "metadata": {},
   "source": [
    "## Анализ и описание данных\n",
    "<a id=\"analysis\"></a>\n",
    "Каждая строка в сгруппированной таблице **data** - это помесячные данные по пользователям. Т.е. каждая строка дает одно наблюдение о том, сколько абоненты тратят в месяц. Возьмем все строки для каждого тарифа, ответим на вопросы - Сколько минут разговора, сколько сообщений и какой объём интернет-трафика требуется пользователям каждого тарифа в месяц? Посчитаем среднее количество, дисперсию и стандартное отклонение для каждого параметра."
   ]
  },
  {
   "cell_type": "markdown",
   "metadata": {},
   "source": [
    "### Подсчет средних и разброс значений\n",
    "<a id=\"analysis_1\"></a>"
   ]
  },
  {
   "cell_type": "code",
   "execution_count": 11,
   "metadata": {},
   "outputs": [
    {
     "name": "stdout",
     "output_type": "stream",
     "text": [
      "Среднее количество минут, которое требуется пользователям smart в мес.: 417.93\n",
      "Дисперсия для выборки по количеству минут для тарифа smart: 36219.32\n",
      "Стандартное отклонение по количеству минут для тарифа smart: 190.31\n",
      "\n",
      "Среднее количество сообщений, которое требуется пользователям smart в мес.: 33.38\n",
      "Дисперсия для выборки по количеству сообщений для тарифа smart: 796.81\n",
      "Стандартное отклонение по количеству минут для тарифа smart: 28.23\n",
      "\n",
      "Среднее количество интернет-трафика, которое требуется пользователям smart в мес.: 16208.39\n",
      "Дисперсия для выборки по количеству сообщений для тарифа smart: 34462496.46\n",
      "Стандартное отклонение по количеству минут для тарифа smart: 5870.48\n",
      "\n",
      "Среднее количество минут, которое требуется пользователям ultra в мес.: 526.62\n",
      "Дисперсия для выборки по количеству минут для тарифа ultra: 100873.63\n",
      "Стандартное отклонение по количеству минут для тарифа ultra: 317.61\n",
      "\n",
      "Среднее количество сообщений, которое требуется пользователям ultra в мес.: 49.36\n",
      "Дисперсия для выборки по количеству сообщений для тарифа ultra: 2285.27\n",
      "Стандартное отклонение по количеству минут для тарифа ultra: 47.8\n",
      "\n",
      "Среднее количество интернет-трафика, которое требуется пользователям ultra в мес.: 19468.81\n",
      "Дисперсия для выборки по количеству сообщений для тарифа ultra: 101751013.78\n",
      "Стандартное отклонение по количеству минут для тарифа ultra: 10087.17\n"
     ]
    }
   ],
   "source": [
    "data_smart = data.query('tariff_name == \"smart\"')\n",
    "\n",
    "duration_smart_avg = data_smart['duration_sum'].mean()\n",
    "messages_smart_avg = data_smart['messages_count'].mean()\n",
    "mb_smart_avg = data_smart['mb_used'].mean()\n",
    "\n",
    "duration_smart_var_estimate = np.var(data_smart['duration_sum'], ddof=1)\n",
    "messages_smart_var_estimate = np.var(data_smart['messages_count'], ddof=1)\n",
    "mb_smart_var_estimate = np.var(data_smart['mb_used'], ddof=1)\n",
    "\n",
    "duration_smart_std_deviation = np.sqrt(duration_smart_var_estimate)\n",
    "messages_smart_std_deviation = np.sqrt(messages_smart_var_estimate)\n",
    "mb_smart_std_deviation = np.sqrt(mb_smart_var_estimate)\n",
    "print('Среднее количество минут, которое требуется пользователям smart в мес.:', round(duration_smart_avg, 2))\n",
    "print('Дисперсия для выборки по количеству минут для тарифа smart:', round(duration_smart_var_estimate, 2))\n",
    "print('Стандартное отклонение по количеству минут для тарифа smart:', round(duration_smart_std_deviation, 2))\n",
    "print('')\n",
    "print('Среднее количество сообщений, которое требуется пользователям smart в мес.:', round(messages_smart_avg, 2))\n",
    "print('Дисперсия для выборки по количеству сообщений для тарифа smart:', round(messages_smart_var_estimate ,2))\n",
    "print('Стандартное отклонение по количеству минут для тарифа smart:', round(messages_smart_std_deviation, 2))\n",
    "print('')\n",
    "print('Среднее количество интернет-трафика, которое требуется пользователям smart в мес.:', round(mb_smart_avg, 2))\n",
    "print('Дисперсия для выборки по количеству сообщений для тарифа smart:', round(mb_smart_var_estimate, 2))\n",
    "print('Стандартное отклонение по количеству минут для тарифа smart:', round(mb_smart_std_deviation, 2))\n",
    "print('')\n",
    "\n",
    "data_ultra = data.query('tariff_name == \"ultra\"')\n",
    "\n",
    "duration_ultra_avg = data_ultra['duration_sum'].mean()\n",
    "messages_ultra_avg = data_ultra['messages_count'].mean()\n",
    "mb_ultra_avg = data_ultra['mb_used'].mean()\n",
    "\n",
    "duration_ultra_var_estimate = np.var(data_ultra['duration_sum'], ddof=1)\n",
    "messages_ultra_var_estimate = np.var(data_ultra['messages_count'], ddof=1)\n",
    "mb_ultra_var_estimate = np.var(data_ultra['mb_used'], ddof=1)\n",
    "\n",
    "duration_ultra_std_deviation = np.sqrt(duration_ultra_var_estimate)\n",
    "messages_ultra_std_deviation = np.sqrt(messages_ultra_var_estimate)\n",
    "mb_ultra_std_deviation = np.sqrt(mb_ultra_var_estimate)\n",
    "print('Среднее количество минут, которое требуется пользователям ultra в мес.:', round(duration_ultra_avg, 2))\n",
    "print('Дисперсия для выборки по количеству минут для тарифа ultra:', round(duration_ultra_var_estimate, 2))\n",
    "print('Стандартное отклонение по количеству минут для тарифа ultra:', round(duration_ultra_std_deviation, 2))\n",
    "print('')\n",
    "print('Среднее количество сообщений, которое требуется пользователям ultra в мес.:', round(messages_ultra_avg, 2))\n",
    "print('Дисперсия для выборки по количеству сообщений для тарифа ultra:', round(messages_ultra_var_estimate ,2))\n",
    "print('Стандартное отклонение по количеству минут для тарифа ultra:', round(messages_ultra_std_deviation, 2))\n",
    "print('')\n",
    "print('Среднее количество интернет-трафика, которое требуется пользователям ultra в мес.:', round(mb_ultra_avg, 2))\n",
    "print('Дисперсия для выборки по количеству сообщений для тарифа ultra:', round(mb_ultra_var_estimate, 2))\n",
    "print('Стандартное отклонение по количеству минут для тарифа ultra:', round(mb_ultra_std_deviation, 2))"
   ]
  },
  {
   "cell_type": "code",
   "execution_count": 12,
   "metadata": {},
   "outputs": [
    {
     "data": {
      "text/html": [
       "<div>\n",
       "<style scoped>\n",
       "    .dataframe tbody tr th:only-of-type {\n",
       "        vertical-align: middle;\n",
       "    }\n",
       "\n",
       "    .dataframe tbody tr th {\n",
       "        vertical-align: top;\n",
       "    }\n",
       "\n",
       "    .dataframe thead tr th {\n",
       "        text-align: left;\n",
       "    }\n",
       "\n",
       "    .dataframe thead tr:last-of-type th {\n",
       "        text-align: right;\n",
       "    }\n",
       "</style>\n",
       "<table border=\"1\" class=\"dataframe\">\n",
       "  <thead>\n",
       "    <tr>\n",
       "      <th></th>\n",
       "      <th colspan=\"3\" halign=\"left\">mean</th>\n",
       "      <th colspan=\"3\" halign=\"left\">var</th>\n",
       "      <th colspan=\"3\" halign=\"left\">std</th>\n",
       "    </tr>\n",
       "    <tr>\n",
       "      <th></th>\n",
       "      <th>duration_sum</th>\n",
       "      <th>mb_used</th>\n",
       "      <th>messages_count</th>\n",
       "      <th>duration_sum</th>\n",
       "      <th>mb_used</th>\n",
       "      <th>messages_count</th>\n",
       "      <th>duration_sum</th>\n",
       "      <th>mb_used</th>\n",
       "      <th>messages_count</th>\n",
       "    </tr>\n",
       "    <tr>\n",
       "      <th>tariff_name</th>\n",
       "      <th></th>\n",
       "      <th></th>\n",
       "      <th></th>\n",
       "      <th></th>\n",
       "      <th></th>\n",
       "      <th></th>\n",
       "      <th></th>\n",
       "      <th></th>\n",
       "      <th></th>\n",
       "    </tr>\n",
       "  </thead>\n",
       "  <tbody>\n",
       "    <tr>\n",
       "      <td>smart</td>\n",
       "      <td>417.93</td>\n",
       "      <td>16208.39</td>\n",
       "      <td>33.38</td>\n",
       "      <td>36219.32</td>\n",
       "      <td>3.446250e+07</td>\n",
       "      <td>796.81</td>\n",
       "      <td>190.31</td>\n",
       "      <td>5870.48</td>\n",
       "      <td>28.23</td>\n",
       "    </tr>\n",
       "    <tr>\n",
       "      <td>ultra</td>\n",
       "      <td>526.62</td>\n",
       "      <td>19468.81</td>\n",
       "      <td>49.36</td>\n",
       "      <td>100873.63</td>\n",
       "      <td>1.017510e+08</td>\n",
       "      <td>2285.27</td>\n",
       "      <td>317.61</td>\n",
       "      <td>10087.17</td>\n",
       "      <td>47.80</td>\n",
       "    </tr>\n",
       "  </tbody>\n",
       "</table>\n",
       "</div>"
      ],
      "text/plain": [
       "                    mean                                   var                \\\n",
       "            duration_sum   mb_used messages_count duration_sum       mb_used   \n",
       "tariff_name                                                                    \n",
       "smart             417.93  16208.39          33.38     36219.32  3.446250e+07   \n",
       "ultra             526.62  19468.81          49.36    100873.63  1.017510e+08   \n",
       "\n",
       "                                    std                           \n",
       "            messages_count duration_sum   mb_used messages_count  \n",
       "tariff_name                                                       \n",
       "smart               796.81       190.31   5870.48          28.23  \n",
       "ultra              2285.27       317.61  10087.17          47.80  "
      ]
     },
     "execution_count": 12,
     "metadata": {},
     "output_type": "execute_result"
    }
   ],
   "source": [
    "# удобный вывод анализируемых показателей через pivot_table\n",
    "data.pivot_table(index='tariff_name', values=['duration_sum', 'messages_count', 'mb_used'], \n",
    "                 aggfunc=['mean', np.var, np.std]).round(2)"
   ]
  },
  {
   "cell_type": "markdown",
   "metadata": {},
   "source": [
    "### Гистограммы\n",
    "<a id=\"analysis_2\"></a>\n",
    "Строим гистрограммы для гаждого параметра в сравнении по тарифам:"
   ]
  },
  {
   "cell_type": "code",
   "execution_count": 13,
   "metadata": {},
   "outputs": [
    {
     "data": {
      "image/png": "[encoded data removed]",
      "text/plain": [
       "<Figure size 1008x288 with 2 Axes>"
      ]
     },
     "metadata": {
      "needs_background": "light"
     },
     "output_type": "display_data"
    },
    {
     "data": {
      "image/png": "[encoded data removed]",
      "text/plain": [
       "<Figure size 432x288 with 1 Axes>"
      ]
     },
     "metadata": {
      "needs_background": "light"
     },
     "output_type": "display_data"
    },
    {
     "data": {
      "image/png": "[encoded data removed]",
      "text/plain": [
       "<Figure size 1008x288 with 2 Axes>"
      ]
     },
     "metadata": {
      "needs_background": "light"
     },
     "output_type": "display_data"
    },
    {
     "data": {
      "image/png": "[encoded data removed]",
      "text/plain": [
       "<Figure size 432x288 with 1 Axes>"
      ]
     },
     "metadata": {
      "needs_background": "light"
     },
     "output_type": "display_data"
    },
    {
     "data": {
      "image/png": "[encoded data removed]",
      "text/plain": [
       "<Figure size 1008x288 with 2 Axes>"
      ]
     },
     "metadata": {
      "needs_background": "light"
     },
     "output_type": "display_data"
    },
    {
     "data": {
      "image/png": "[encoded data removed]",
      "text/plain": [
       "<Figure size 432x288 with 1 Axes>"
      ]
     },
     "metadata": {
      "needs_background": "light"
     },
     "output_type": "display_data"
    }
   ],
   "source": [
    "# используем гистограммы c графиком плотности распределения\n",
    "fig, ax1 =plt.subplots(1, 2, figsize=(14, 4))\n",
    "sns.distplot(data_smart['duration_sum'], ax=ax1[0])\n",
    "ax1[0].set(xlabel = 'Количество минут в мес.', ylabel = 'Плотность распределения')\n",
    "ax1[0].set_title('По тарифу smart');\n",
    "sns.distplot(data_ultra['duration_sum'], ax=ax1[1])\n",
    "ax1[1].set(xlabel = 'Количество минут в мес.', ylabel = 'Плотность распределения')\n",
    "ax1[1].set_title('По тарифу ultra')\n",
    "plt.show();\n",
    "\n",
    "sns.distplot(data_smart['duration_sum'], label='smart')\n",
    "sns.distplot(data_ultra['duration_sum'], label='ultra')\n",
    "plt.xlabel('Количество минут в мес.')\n",
    "plt.ylabel('Плотность распределения')\n",
    "plt.title('Наложение гистограмм по количеству минут')\n",
    "plt.legend();\n",
    "\n",
    "fig, ax2 =plt.subplots(1, 2, figsize=(14, 4))\n",
    "sns.distplot(data_smart['messages_count'], ax=ax2[0])\n",
    "ax2[0].set(xlabel = 'Количество сообщений в мес.', ylabel = 'Плотность распределения')\n",
    "ax2[0].set_title('По тарифу smart');\n",
    "sns.distplot(data_ultra['messages_count'], ax=ax2[1])\n",
    "ax2[1].set(xlabel = 'Количество сообщений в мес.', ylabel = 'Плотность распределения')\n",
    "ax2[1].set_title('По тарифу ultra')\n",
    "plt.show();\n",
    "\n",
    "sns.distplot(data_smart['messages_count'], label='smart')\n",
    "sns.distplot(data_ultra['messages_count'], label='ultra')\n",
    "plt.xlabel('Количество сообщений в мес.')\n",
    "plt.ylabel('Плотность распределения')\n",
    "plt.title('Наложение гистограмм по количеству сообщений')\n",
    "plt.legend();\n",
    "\n",
    "fig, ax3 =plt.subplots(1, 2, figsize=(14, 4))\n",
    "sns.distplot(data_smart['mb_used'], ax=ax3[0])\n",
    "ax3[0].set(xlabel = 'Количество интернет-траффика в мес., Мбайт', ylabel = 'Плотность распределения')\n",
    "ax3[0].set_title('По тарифу smart');\n",
    "sns.distplot(data_ultra['mb_used'], ax=ax3[1])\n",
    "ax3[1].set(xlabel = 'Количество интернет-траффика в мес., Мбайт', ylabel = 'Плотность распределения')\n",
    "ax3[1].set_title('По тарифу ultra')\n",
    "plt.show();\n",
    "\n",
    "sns.distplot(data_smart['mb_used'], label='smart')\n",
    "sns.distplot(data_ultra['mb_used'], label='ultra')\n",
    "plt.xlabel('Количество интернет-траффика в мес.')\n",
    "plt.ylabel('Плотность распределения')\n",
    "plt.title('Наложение гистограмм по интернет-трафику')\n",
    "plt.legend();"
   ]
  },
  {
   "cell_type": "markdown",
   "metadata": {},
   "source": [
    "### Вывод по распределениям\n",
    "<a id=\"conclusion_3\"></a>\n",
    "По параметру ежемесячного количества минут для обоих тарифов значения распределены на гистограммах нормально (нормальное распределение). Среднее количество минут для тарифа smart почти 418 мин. со стандартным отклонением около 190 мин. при предоплаченном лимите в 500 мин. Среднее количество минут для тарифа ultra почти 527 мин. со стандартным отклонением около 318 мин. при предоплаченном лимите в 3000 мин. Стандартное отклонение по этому параметру на тарифе smart меньше (значения распределены кучнее к среднему значению), но по графику видно, что многие клиенты превышают предоплаченный лимит. На тарифе ultra клиенты не превышают выделенного ежемесячного лимита по количеству минут.\n",
    "\n",
    "По параметру ежемесячного количества сообщений для обоих тарифов значения распределены на гистограммах с положительной ассиметрией. Среднее количество сообщений для тарифа smart около 30 шт. со стандартным отклонением около 28 шт. при предоплаченном лимите в 50 сообщений. Среднее количество сообщений для тарифа ultra около 49 шт. со стандартным отклонением около 48 шт. при предоплаченном лимите в 1000 шт. Стандартное отклонение по этому параметру на тарифе smart меньше (значения распределены кучнее к среднему значению), но по графику видно, что многие клиенты превышают предоплаченный лимит. На тарифе ultra клиенты не превышают выделенного ежемесячного лимита по количеству сообщений.\n",
    "\n",
    "По параметру ежемесячного использования интернет-трафика для обоих тарифов значения распределены на гистограммах нормально (нормальное распределение). Среднее количество интернет-трафика для тарифа smart около 16208 МБ со стандартным отклонением около 5870 МБ при предоплаченном лимите в 15360 МБ. Среднее количество интернет-трафика для тарифа ultra почти 19469 МБ со стандартным отклонением около 10087 МБ при предоплаченном лимите в 30720 МБ. Стандартное отклонение по этому параметру на тарифе smart меньше (значения распределены кучнее к среднему значению), но даже среднее значение потребления интернета пользователями на тарифе smart превышает предоплаченный лимит. На тарифе ultra клиенты тоже превышают выделенный ежемесячный лимит интернет-трафика, но не так часто, как на тарифе smart, к тому же стоимость за 1 ГБ при превышении лимита на тарифе smart выше.\n",
    "\n",
    "Перейдем к проверке гипотез."
   ]
  },
  {
   "cell_type": "markdown",
   "metadata": {},
   "source": [
    "## Проверка гипотез\n",
    "<a id=\"hypotheses\"></a>"
   ]
  },
  {
   "cell_type": "markdown",
   "metadata": {},
   "source": [
    "### Проверка первой гипотезы\n",
    "\n",
    "1-ая гипотеза звучит так - \"средняя выручка пользователей тарифов «Ультра» и «Смарт» различается\".\n",
    "Примем за нулевую гипотезу H₀ - Средние выручки пользователей тарифов «Ультра» и «Смарт\" за месяц равны.\n",
    "Примем за алтернативную гипотезу H₁ - Средние выручки пользователей тарифов «Ультра» и «Смарт\" за месяц не равны.\n",
    "\n",
    "Посмотрим на средние значения выручек по кажому тарифу, стандартные отклонения и оценим распределения:"
   ]
  },
  {
   "cell_type": "code",
   "execution_count": 14,
   "metadata": {},
   "outputs": [
    {
     "name": "stdout",
     "output_type": "stream",
     "text": [
      "Средняя выручка по пользователям тарифа smart в мес.: 1289.97\n",
      "Дисперсия для выборки по ежемесячной выручке для тарифа smart: 669785.71\n",
      "Стандартное отклонение по ежемесячной выручке для тарифа smart: 818.4\n",
      "Общая выручка по пользователям тарифа smart за год: 2875351.0\n",
      "\n",
      "Средняя выручка по пользователям тарифа ultra в мес.: 2070.15\n",
      "Дисперсия для выборки по ежемесячной выручке для тарифа ultra: 141516.75\n",
      "Стандартное отклонение по ежемесячной выручке для тарифа ultra: 376.19\n",
      "Общая выручка по пользователям тарифа ultra за год: 2039100.0\n"
     ]
    },
    {
     "data": {
      "image/png": "[encoded data removed]",
      "text/plain": [
       "<Figure size 1008x288 with 2 Axes>"
      ]
     },
     "metadata": {
      "needs_background": "light"
     },
     "output_type": "display_data"
    },
    {
     "data": {
      "image/png": "[encoded data removed]",
      "text/plain": [
       "<Figure size 432x288 with 1 Axes>"
      ]
     },
     "metadata": {
      "needs_background": "light"
     },
     "output_type": "display_data"
    }
   ],
   "source": [
    "revenue_smart_avg = data_smart['revenue_per_month'].mean()\n",
    "revenue_smart_var_estimate = np.var(data_smart['revenue_per_month'], ddof=1)\n",
    "revenue_smart_std_deviation = np.sqrt(revenue_smart_var_estimate)\n",
    "\n",
    "revenue_ultra_avg = data_ultra['revenue_per_month'].mean()\n",
    "revenue_ultra_var_estimate = np.var(data_ultra['revenue_per_month'], ddof=1)\n",
    "revenue_ultra_std_deviation = np.sqrt(revenue_ultra_var_estimate)\n",
    "\n",
    "print('Средняя выручка по пользователям тарифа smart в мес.:', round(revenue_smart_avg, 2))\n",
    "print('Дисперсия для выборки по ежемесячной выручке для тарифа smart:', round(revenue_smart_var_estimate, 2))\n",
    "print('Стандартное отклонение по ежемесячной выручке для тарифа smart:', round(revenue_smart_std_deviation, 2))\n",
    "print('Общая выручка по пользователям тарифа smart за год:', data_smart['revenue_per_month'].sum())\n",
    "print('')\n",
    "print('Средняя выручка по пользователям тарифа ultra в мес.:', round(revenue_ultra_avg, 2))\n",
    "print('Дисперсия для выборки по ежемесячной выручке для тарифа ultra:', round(revenue_ultra_var_estimate, 2))\n",
    "print('Стандартное отклонение по ежемесячной выручке для тарифа ultra:', round(revenue_ultra_std_deviation, 2))\n",
    "print('Общая выручка по пользователям тарифа ultra за год:', data_ultra['revenue_per_month'].sum())\n",
    "\n",
    "# строим отдельные гистограммы по тарифам\n",
    "fig, ax4 =plt.subplots(1, 2, figsize=(14, 4))\n",
    "sns.distplot(data_smart['revenue_per_month'], ax=ax4[0])\n",
    "ax4[0].set(xlabel = 'Помесячная выручка по клиентам, Руб.', ylabel = 'Плотность распределения')\n",
    "ax4[0].set_title('По тарифу smart');\n",
    "sns.distplot(data_ultra['revenue_per_month'], ax=ax4[1])\n",
    "ax4[1].set(xlabel = 'Помесячная выручка по клиентам, Руб.', ylabel = 'Плотность распределения')\n",
    "ax4[1].set_title('По тарифу ultra')\n",
    "plt.show();\n",
    "\n",
    "# совместная гистограмма\n",
    "sns.distplot(data_smart['revenue_per_month'], label='smart')\n",
    "sns.distplot(data_ultra['revenue_per_month'], label='ultra')\n",
    "plt.xlabel('Помесячная выручка по клиентам, Руб.')\n",
    "plt.ylabel('Плотность распределения')\n",
    "plt.title('Наложение гистограмм по ежемесячной выручке')\n",
    "plt.legend();"
   ]
  },
  {
   "cell_type": "markdown",
   "metadata": {},
   "source": [
    "Проверим нулевую гипотезу - Проведем статистический тест на равенство средних двух генеральных совокупностей по их выборкам (принимаем, что дисперсии у выборок отличаются):"
   ]
  },
  {
   "cell_type": "code",
   "execution_count": 15,
   "metadata": {},
   "outputs": [
    {
     "name": "stdout",
     "output_type": "stream",
     "text": [
      "p-значение: 4.2606313931076085e-250\n",
      "Отвергаем нулевую гипотезу\n"
     ]
    }
   ],
   "source": [
    "# Определяем критический уровень статистической значимости\n",
    "alpha = 0.05\n",
    "\n",
    "results_1 = st.ttest_ind(data_smart['revenue_per_month'], data_ultra['revenue_per_month'], equal_var = False)\n",
    "print('p-значение:', results_1.pvalue)\n",
    "\n",
    "if results_1.pvalue < alpha:\n",
    "    print('Отвергаем нулевую гипотезу')\n",
    "else:\n",
    "    print('Не получилось отвергнуть нулевую гипотезу')"
   ]
  },
  {
   "cell_type": "markdown",
   "metadata": {},
   "source": [
    "Нулевая гипотеза отвергается в пользу альтернативной на любом разумном уровне значимости -  Средние выручки пользователей тарифов «Ультра» и «Смарт\" за месяц не равны."
   ]
  },
  {
   "cell_type": "markdown",
   "metadata": {},
   "source": [
    "### Вывод по первой гипотезе\n",
    "\n",
    "Первая гипотеза в нашем исследовании подтвердилась. Средние выручки в имеющихся выборках по тарифам также отличаются, средняя ежемесячная выручка по тарифу ultra значительно выше. Скорее всего при росте числа клиентов с тарифом ultra доход оператора сотовой связи увеличится."
   ]
  },
  {
   "cell_type": "markdown",
   "metadata": {},
   "source": [
    " ### Проверка второй гипотезы\n",
    " \n",
    "2-ая гипотеза звучит так - \"средняя выручка пользователей из Москвы отличается от выручки пользователей из других регионов\". Примем за нулевую гипотезу H₀ - Средние выручки пользователей из Москвы и из других регионов за месяц равны. Примем за алтернативную гипотезу H₁ - Средние выручки пользователей из Москвы и из других регионов за месяц не равны."
   ]
  },
  {
   "cell_type": "code",
   "execution_count": 16,
   "metadata": {},
   "outputs": [
    {
     "name": "stdout",
     "output_type": "stream",
     "text": [
      "Количество наблюдений по пользователям из Москвы: 611\n",
      "Средняя выручка по пользователям из Москвы в мес.: 1546.71\n",
      "Дисперсия для выборки по ежемесячной выручке для пользователей из Москвы: 565636.47\n",
      "Стандартное отклонение по ежемесячной выручке для пользователей из Москвы: 752.09\n",
      "Общая выручка по пользователям из Москвы за год: 945042.0\n",
      "\n",
      "Количество наблюдений по пользователям из регионов: 2603\n",
      "Средняя выручка по пользователям из регионов в мес.: 1524.94\n",
      "Дисперсия для выборки по ежемесячной выручке для пользователей из регионов: 654137.63\n",
      "Стандартное отклонение по ежемесячной выручке для пользователей из регионов: 808.79\n",
      "Общая выручка по пользователям из регионов за год: 3969409.0\n"
     ]
    },
    {
     "data": {
      "image/png": "[encoded data removed]",
      "text/plain": [
       "<Figure size 1008x288 with 2 Axes>"
      ]
     },
     "metadata": {
      "needs_background": "light"
     },
     "output_type": "display_data"
    },
    {
     "data": {
      "image/png": "[encoded data removed]",
      "text/plain": [
       "<Figure size 432x288 with 1 Axes>"
      ]
     },
     "metadata": {
      "needs_background": "light"
     },
     "output_type": "display_data"
    }
   ],
   "source": [
    "# выделяем выборки по Москве и регионам для исследования\n",
    "data_moscow = data.loc[data['city'] == 'Москва']\n",
    "data_regions = data.loc[data['city'] != 'Москва']\n",
    "\n",
    "# смотрим на средние значения выручек, стандартные отклонения и распределения по Москве и регионам\n",
    "revenue_moscow_avg = data_moscow['revenue_per_month'].mean()\n",
    "revenue_moscow_var_estimate = np.var(data_moscow['revenue_per_month'], ddof=1)\n",
    "revenue_moscow_std_deviation = np.sqrt(revenue_moscow_var_estimate)\n",
    "\n",
    "revenue_regions_avg = data_regions['revenue_per_month'].mean()\n",
    "revenue_regions_var_estimate = np.var(data_regions['revenue_per_month'], ddof=1)\n",
    "revenue_regions_std_deviation = np.sqrt(revenue_regions_var_estimate)\n",
    "\n",
    "print('Количество наблюдений по пользователям из Москвы:', len(data_moscow))\n",
    "print('Средняя выручка по пользователям из Москвы в мес.:', round(revenue_moscow_avg, 2))\n",
    "print('Дисперсия для выборки по ежемесячной выручке для пользователей из Москвы:', round(revenue_moscow_var_estimate, 2))\n",
    "print('Стандартное отклонение по ежемесячной выручке для пользователей из Москвы:', round(revenue_moscow_std_deviation, 2))\n",
    "print('Общая выручка по пользователям из Москвы за год:', data_moscow['revenue_per_month'].sum())\n",
    "print('')\n",
    "print('Количество наблюдений по пользователям из регионов:', len(data_regions))\n",
    "print('Средняя выручка по пользователям из регионов в мес.:', round(revenue_regions_avg, 2))\n",
    "print('Дисперсия для выборки по ежемесячной выручке для пользователей из регионов:', round(revenue_regions_var_estimate, 2))\n",
    "print('Стандартное отклонение по ежемесячной выручке для пользователей из регионов:', round(revenue_regions_std_deviation, 2))\n",
    "print('Общая выручка по пользователям из регионов за год:', data_regions['revenue_per_month'].sum())\n",
    "\n",
    "# строим отдельные гистограммы по тарифам\n",
    "fig, ax5 =plt.subplots(1, 2, figsize=(14, 4))\n",
    "sns.distplot(data_moscow['revenue_per_month'], ax=ax5[0])\n",
    "ax5[0].set(xlabel = 'Помесячная выручка по клиентам, Руб.', ylabel = 'Плотность распределения')\n",
    "ax5[0].set_title('По пользователям из Москвы');\n",
    "sns.distplot(data_regions['revenue_per_month'], ax=ax5[1])\n",
    "ax5[1].set(xlabel = 'Помесячная выручка по клиентам, Руб.', ylabel = 'Плотность распределения')\n",
    "ax5[1].set_title('По пользователям из регионов')\n",
    "plt.show();\n",
    "\n",
    "# совместная гистограмма\n",
    "sns.distplot(data_moscow['revenue_per_month'], label='Moscow')\n",
    "sns.distplot(data_regions['revenue_per_month'], label='Regions')\n",
    "plt.xlabel('Помесячная выручка по клиентам, Руб.')\n",
    "plt.ylabel('Плотность распределения')\n",
    "plt.title('Наложение гистограмм по ежемесячной выручке')\n",
    "plt.legend();"
   ]
  },
  {
   "cell_type": "markdown",
   "metadata": {},
   "source": [
    "Гистограммы распределений похожи, с двумя пиками соответствующим двум тарифным планам.\n",
    "\n",
    "Проверим нулевую гипотезу - Проведем статистический тест на равенство средних двух генеральных совокупностей по их выборкам (принимаем, что дисперсии примерно одинаковы):"
   ]
  },
  {
   "cell_type": "code",
   "execution_count": 17,
   "metadata": {},
   "outputs": [
    {
     "name": "stdout",
     "output_type": "stream",
     "text": [
      "p-значение: 0.5440152911670223\n",
      "Не получилось отвергнуть нулевую гипотезу\n"
     ]
    }
   ],
   "source": [
    "# Определяем критический уровень статистической значимости\n",
    "alpha = 0.05\n",
    "\n",
    "results_2 = st.ttest_ind(data_moscow['revenue_per_month'], data_regions['revenue_per_month'])\n",
    "print('p-значение:', results_2.pvalue)\n",
    "\n",
    "if results_2.pvalue < alpha:\n",
    "    print('Отвергаем нулевую гипотезу')\n",
    "else:\n",
    "    print('Не получилось отвергнуть нулевую гипотезу')"
   ]
  },
  {
   "cell_type": "markdown",
   "metadata": {},
   "source": [
    "Основываясь на статистическом тесте данные из выборок не противоречат нулевой гипотезе - Средние выручки пользователей из Москвы и из других регионов за месяц равны."
   ]
  },
  {
   "cell_type": "markdown",
   "metadata": {},
   "source": [
    "### Вывод по второй гипотезе\n",
    "\n",
    "Вторая гипотеза в нашем исследовании не подтвердилась. Средние ежемесячные выручки в имеющихся выборках по Москве и регионам практически не отличаются. "
   ]
  },
  {
   "cell_type": "markdown",
   "metadata": {},
   "source": [
    "## Общий вывод по исследованию\n",
    "<a id=\"conclusion\"></a>"
   ]
  },
  {
   "cell_type": "markdown",
   "metadata": {},
   "source": [
    "В исследовании проверялись гипотезы:\n",
    "1. Cредняя выручка пользователей тарифов «Ультра» и «Смарт» различается.\n",
    "2. Cредняя выручка пользователей из Москвы отличается от выручки пользователей из других регионов.\n",
    "\n",
    "Вместе с этим заказчика интересует, какой тариф приносит больше денег.\n",
    "\n",
    "Вывод по **первой гипотезе** и рекомендации:\n",
    "1-ая гипотеза в нашем исследовании подтвердилась, причем средняя выручка за месяц по тарифу «Ультра» заметно выше (2070 против 1290 руб.). В нашей выборке было всего 149 пользователей с тарифом «Ультра» из 500, то есть остальные 351 пользовались тарифом \"Смарт\". Таким образом пользователей с тарифом \"Смарт\" было в выборке больше чем в 2 раза, и они принесли выручку за год в размере 2 875 351 руб. Выручка по 149 пользователям тарифа «Ультра» составила 2 039 100 руб. Несложно прикинуть, что при равенстве количества пользователей по тарифам суммарная выручка по тарифу «Ультра» в среднем будет больше выручки по тарифу \"Смарт\". В тоже время случаи превышений предоплаченных тарифных лимитов по количеству минут, сообщений и интернет-трафику у пользователей тарифа \"Смарт\" происходят очень часто, и это приносит хорошую выручку. Рекомендую рекламировать больше тариф \"Ультра\", как для новых пользователей, так и для тех, кто использует тариф \"Смарт\". Тогда выручка будет еще больше, чем наблюдается сейчас.\n",
    "\n",
    "Вывод по **второй гипотезе** и рекомендации:\n",
    "2-ая гипотеза в нашем исследовании не подтвердилась, средняя ежемесячная выручка по пользователям из Москвы существенно не отличается от выручки по пользователям из регионов. Так как ежемесячный доход в Москве выше чем в регионах, есть предложение сделать отдельную линейку тарифов для Москвы, если это позволяет сделать конъюнктура на рынке сотовой связи в Москве, т.е. необходимо дополнительное исследование на этот счет."
   ]
  }
 ],
 "metadata": {
  "ExecuteTimeLog": [
   {
    "duration": 946,
    "start_time": "2021-12-05T10:52:36.622Z"
   },
   {
    "duration": 432,
    "start_time": "2021-12-05T11:01:20.620Z"
   },
   {
    "duration": 425,
    "start_time": "2021-12-05T11:02:45.416Z"
   },
   {
    "duration": 385,
    "start_time": "2021-12-05T11:03:59.672Z"
   },
   {
    "duration": 387,
    "start_time": "2021-12-05T11:06:47.523Z"
   },
   {
    "duration": 149,
    "start_time": "2021-12-05T11:07:26.745Z"
   },
   {
    "duration": 145,
    "start_time": "2021-12-05T11:07:39.674Z"
   },
   {
    "duration": 151,
    "start_time": "2021-12-05T11:07:56.931Z"
   },
   {
    "duration": 36,
    "start_time": "2021-12-05T11:08:12.422Z"
   },
   {
    "duration": 412,
    "start_time": "2021-12-05T11:19:18.747Z"
   },
   {
    "duration": 55,
    "start_time": "2021-12-05T11:21:27.249Z"
   },
   {
    "duration": 406,
    "start_time": "2021-12-05T11:23:19.986Z"
   },
   {
    "duration": 441,
    "start_time": "2021-12-05T11:26:03.264Z"
   },
   {
    "duration": 477,
    "start_time": "2021-12-05T11:31:29.293Z"
   },
   {
    "duration": 56,
    "start_time": "2021-12-05T11:44:50.980Z"
   },
   {
    "duration": 435,
    "start_time": "2021-12-05T11:45:17.350Z"
   },
   {
    "duration": 420,
    "start_time": "2021-12-05T11:46:21.816Z"
   },
   {
    "duration": 372,
    "start_time": "2021-12-05T11:47:16.551Z"
   },
   {
    "duration": 377,
    "start_time": "2021-12-05T11:47:36.486Z"
   },
   {
    "duration": 376,
    "start_time": "2021-12-05T11:47:49.454Z"
   },
   {
    "duration": 4,
    "start_time": "2021-12-05T11:54:58.187Z"
   },
   {
    "duration": 425,
    "start_time": "2021-12-05T11:55:02.824Z"
   },
   {
    "duration": 243,
    "start_time": "2021-12-05T11:55:36.250Z"
   },
   {
    "duration": 476,
    "start_time": "2021-12-05T11:56:43.564Z"
   },
   {
    "duration": 1126,
    "start_time": "2021-12-05T12:03:55.209Z"
   },
   {
    "duration": 801,
    "start_time": "2021-12-05T12:04:49.699Z"
   },
   {
    "duration": 544,
    "start_time": "2021-12-05T12:08:57.610Z"
   },
   {
    "duration": 438,
    "start_time": "2021-12-05T12:59:59.720Z"
   },
   {
    "duration": 474,
    "start_time": "2021-12-05T13:00:25.059Z"
   },
   {
    "duration": 10,
    "start_time": "2021-12-05T13:01:35.831Z"
   },
   {
    "duration": 453,
    "start_time": "2021-12-05T13:02:43.247Z"
   },
   {
    "duration": 1188,
    "start_time": "2021-12-05T13:08:35.265Z"
   },
   {
    "duration": 3,
    "start_time": "2021-12-05T13:21:14.854Z"
   },
   {
    "duration": 490,
    "start_time": "2021-12-05T13:21:14.859Z"
   },
   {
    "duration": 63,
    "start_time": "2021-12-05T13:21:15.352Z"
   },
   {
    "duration": 642,
    "start_time": "2021-12-05T13:25:18.684Z"
   },
   {
    "duration": 1259,
    "start_time": "2021-12-06T07:31:48.290Z"
   },
   {
    "duration": 600,
    "start_time": "2021-12-06T07:31:49.551Z"
   },
   {
    "duration": 43,
    "start_time": "2021-12-06T07:31:50.153Z"
   },
   {
    "duration": 755,
    "start_time": "2021-12-06T07:31:50.198Z"
   },
   {
    "duration": 3,
    "start_time": "2021-12-06T07:42:09.745Z"
   },
   {
    "duration": 472,
    "start_time": "2021-12-06T07:42:09.750Z"
   },
   {
    "duration": 61,
    "start_time": "2021-12-06T07:42:10.224Z"
   },
   {
    "duration": 709,
    "start_time": "2021-12-06T07:42:10.287Z"
   },
   {
    "duration": 98,
    "start_time": "2021-12-06T07:43:09.285Z"
   },
   {
    "duration": 60,
    "start_time": "2021-12-06T07:43:22.762Z"
   },
   {
    "duration": 42,
    "start_time": "2021-12-06T07:43:34.018Z"
   },
   {
    "duration": 8,
    "start_time": "2021-12-06T07:43:49.035Z"
   },
   {
    "duration": 7242,
    "start_time": "2021-12-06T07:45:19.272Z"
   },
   {
    "duration": 5,
    "start_time": "2021-12-06T07:45:30.988Z"
   },
   {
    "duration": 6,
    "start_time": "2021-12-06T07:48:18.002Z"
   },
   {
    "duration": 12,
    "start_time": "2021-12-06T07:56:26.055Z"
   },
   {
    "duration": 12,
    "start_time": "2021-12-06T08:02:12.826Z"
   },
   {
    "duration": 12,
    "start_time": "2021-12-06T08:03:34.648Z"
   },
   {
    "duration": 10,
    "start_time": "2021-12-06T08:04:35.972Z"
   },
   {
    "duration": 13,
    "start_time": "2021-12-06T08:08:16.993Z"
   },
   {
    "duration": 268,
    "start_time": "2021-12-06T08:16:43.281Z"
   },
   {
    "duration": 34,
    "start_time": "2021-12-06T08:16:54.772Z"
   },
   {
    "duration": 26,
    "start_time": "2021-12-06T08:17:22.341Z"
   },
   {
    "duration": 3,
    "start_time": "2021-12-06T08:28:29.849Z"
   },
   {
    "duration": 500,
    "start_time": "2021-12-06T08:28:29.854Z"
   },
   {
    "duration": 42,
    "start_time": "2021-12-06T08:28:30.356Z"
   },
   {
    "duration": 705,
    "start_time": "2021-12-06T08:28:30.400Z"
   },
   {
    "duration": 12,
    "start_time": "2021-12-06T08:28:31.106Z"
   },
   {
    "duration": 7,
    "start_time": "2021-12-06T08:28:41.592Z"
   },
   {
    "duration": 330,
    "start_time": "2021-12-06T08:29:01.126Z"
   },
   {
    "duration": 341,
    "start_time": "2021-12-06T08:29:49.354Z"
   },
   {
    "duration": 68,
    "start_time": "2021-12-06T08:30:00.981Z"
   },
   {
    "duration": 6,
    "start_time": "2021-12-06T08:31:22.629Z"
   },
   {
    "duration": 3,
    "start_time": "2021-12-06T08:31:48.186Z"
   },
   {
    "duration": 458,
    "start_time": "2021-12-06T08:31:48.191Z"
   },
   {
    "duration": 42,
    "start_time": "2021-12-06T08:31:48.651Z"
   },
   {
    "duration": 656,
    "start_time": "2021-12-06T08:31:48.695Z"
   },
   {
    "duration": 11,
    "start_time": "2021-12-06T08:31:49.353Z"
   },
   {
    "duration": 6,
    "start_time": "2021-12-06T08:31:49.366Z"
   },
   {
    "duration": 98,
    "start_time": "2021-12-06T08:31:49.375Z"
   },
   {
    "duration": 7,
    "start_time": "2021-12-06T08:31:49.475Z"
   },
   {
    "duration": 19,
    "start_time": "2021-12-06T08:32:12.295Z"
   },
   {
    "duration": 277,
    "start_time": "2021-12-06T08:34:44.481Z"
   },
   {
    "duration": 52,
    "start_time": "2021-12-06T08:34:56.497Z"
   },
   {
    "duration": 20,
    "start_time": "2021-12-06T08:35:01.172Z"
   },
   {
    "duration": 17,
    "start_time": "2021-12-06T08:36:21.067Z"
   },
   {
    "duration": 55,
    "start_time": "2021-12-06T08:41:22.441Z"
   },
   {
    "duration": 271,
    "start_time": "2021-12-06T08:53:02.299Z"
   },
   {
    "duration": 42,
    "start_time": "2021-12-06T08:53:13.363Z"
   },
   {
    "duration": 16,
    "start_time": "2021-12-06T08:53:38.913Z"
   },
   {
    "duration": 107,
    "start_time": "2021-12-06T08:55:09.466Z"
   },
   {
    "duration": 85,
    "start_time": "2021-12-06T08:56:19.335Z"
   },
   {
    "duration": 34,
    "start_time": "2021-12-06T08:56:48.142Z"
   },
   {
    "duration": 18,
    "start_time": "2021-12-06T08:56:51.041Z"
   },
   {
    "duration": 498,
    "start_time": "2021-12-06T08:58:04.049Z"
   },
   {
    "duration": 4,
    "start_time": "2021-12-06T09:01:04.748Z"
   },
   {
    "duration": 528,
    "start_time": "2021-12-06T09:01:04.754Z"
   },
   {
    "duration": 70,
    "start_time": "2021-12-06T09:01:05.285Z"
   },
   {
    "duration": 732,
    "start_time": "2021-12-06T09:01:05.357Z"
   },
   {
    "duration": 12,
    "start_time": "2021-12-06T09:01:06.090Z"
   },
   {
    "duration": 50,
    "start_time": "2021-12-06T09:01:06.104Z"
   },
   {
    "duration": 93,
    "start_time": "2021-12-06T09:01:06.156Z"
   },
   {
    "duration": 17,
    "start_time": "2021-12-06T09:01:06.251Z"
   },
   {
    "duration": 311,
    "start_time": "2021-12-06T09:42:57.388Z"
   },
   {
    "duration": 20,
    "start_time": "2021-12-06T09:43:48.490Z"
   },
   {
    "duration": 3,
    "start_time": "2021-12-06T09:44:39.263Z"
   },
   {
    "duration": 502,
    "start_time": "2021-12-06T09:44:39.268Z"
   },
   {
    "duration": 71,
    "start_time": "2021-12-06T09:44:39.773Z"
   },
   {
    "duration": 681,
    "start_time": "2021-12-06T09:44:39.846Z"
   },
   {
    "duration": 23,
    "start_time": "2021-12-06T09:44:40.529Z"
   },
   {
    "duration": 6,
    "start_time": "2021-12-06T09:44:40.553Z"
   },
   {
    "duration": 83,
    "start_time": "2021-12-06T09:44:40.561Z"
   },
   {
    "duration": 38,
    "start_time": "2021-12-06T09:44:45.743Z"
   },
   {
    "duration": 40,
    "start_time": "2021-12-06T09:48:05.895Z"
   },
   {
    "duration": 22,
    "start_time": "2021-12-06T09:48:31.717Z"
   },
   {
    "duration": 43,
    "start_time": "2021-12-06T09:59:52.218Z"
   },
   {
    "duration": 24,
    "start_time": "2021-12-06T09:59:59.630Z"
   },
   {
    "duration": 25,
    "start_time": "2021-12-06T10:04:19.092Z"
   },
   {
    "duration": 23,
    "start_time": "2021-12-06T10:18:53.085Z"
   },
   {
    "duration": 26,
    "start_time": "2021-12-06T10:19:38.553Z"
   },
   {
    "duration": 38,
    "start_time": "2021-12-06T10:22:53.106Z"
   },
   {
    "duration": 300,
    "start_time": "2021-12-06T10:23:37.212Z"
   },
   {
    "duration": 53,
    "start_time": "2021-12-06T10:23:55.652Z"
   },
   {
    "duration": 333,
    "start_time": "2021-12-06T10:25:04.742Z"
   },
   {
    "duration": 39,
    "start_time": "2021-12-06T10:25:53.682Z"
   },
   {
    "duration": 49,
    "start_time": "2021-12-06T10:26:35.978Z"
   },
   {
    "duration": 45,
    "start_time": "2021-12-06T11:14:39.223Z"
   },
   {
    "duration": 50,
    "start_time": "2021-12-06T11:18:12.375Z"
   },
   {
    "duration": 52,
    "start_time": "2021-12-06T11:19:50.688Z"
   },
   {
    "duration": 39,
    "start_time": "2021-12-06T11:21:20.496Z"
   },
   {
    "duration": 52,
    "start_time": "2021-12-06T11:21:55.277Z"
   },
   {
    "duration": 50,
    "start_time": "2021-12-06T11:24:10.063Z"
   },
   {
    "duration": 50,
    "start_time": "2021-12-06T11:27:06.852Z"
   },
   {
    "duration": 61,
    "start_time": "2021-12-06T11:30:20.532Z"
   },
   {
    "duration": 87,
    "start_time": "2021-12-06T11:32:35.622Z"
   },
   {
    "duration": 3,
    "start_time": "2021-12-06T11:33:01.350Z"
   },
   {
    "duration": 527,
    "start_time": "2021-12-06T11:33:01.355Z"
   },
   {
    "duration": 42,
    "start_time": "2021-12-06T11:33:01.884Z"
   },
   {
    "duration": 769,
    "start_time": "2021-12-06T11:33:01.927Z"
   },
   {
    "duration": 13,
    "start_time": "2021-12-06T11:33:02.698Z"
   },
   {
    "duration": 31,
    "start_time": "2021-12-06T11:33:02.713Z"
   },
   {
    "duration": 65,
    "start_time": "2021-12-06T11:33:02.746Z"
   },
   {
    "duration": 61,
    "start_time": "2021-12-06T11:33:02.813Z"
   },
   {
    "duration": 62,
    "start_time": "2021-12-06T11:33:49.325Z"
   },
   {
    "duration": 55,
    "start_time": "2021-12-06T11:35:35.669Z"
   },
   {
    "duration": 75,
    "start_time": "2021-12-06T11:38:27.238Z"
   },
   {
    "duration": 4,
    "start_time": "2021-12-06T11:39:30.676Z"
   },
   {
    "duration": 523,
    "start_time": "2021-12-06T11:39:30.682Z"
   },
   {
    "duration": 68,
    "start_time": "2021-12-06T11:39:31.207Z"
   },
   {
    "duration": 718,
    "start_time": "2021-12-06T11:39:31.277Z"
   },
   {
    "duration": 12,
    "start_time": "2021-12-06T11:39:31.997Z"
   },
   {
    "duration": 6,
    "start_time": "2021-12-06T11:39:32.011Z"
   },
   {
    "duration": 86,
    "start_time": "2021-12-06T11:39:32.018Z"
   },
   {
    "duration": 62,
    "start_time": "2021-12-06T11:39:32.106Z"
   },
   {
    "duration": 85,
    "start_time": "2021-12-06T11:39:32.170Z"
   },
   {
    "duration": 4,
    "start_time": "2021-12-06T11:41:02.444Z"
   },
   {
    "duration": 501,
    "start_time": "2021-12-06T11:41:02.450Z"
   },
   {
    "duration": 47,
    "start_time": "2021-12-06T11:41:02.954Z"
   },
   {
    "duration": 743,
    "start_time": "2021-12-06T11:41:03.003Z"
   },
   {
    "duration": 346,
    "start_time": "2021-12-06T11:41:03.748Z"
   },
   {
    "duration": -1716,
    "start_time": "2021-12-06T11:41:05.812Z"
   },
   {
    "duration": -1716,
    "start_time": "2021-12-06T11:41:05.814Z"
   },
   {
    "duration": -1733,
    "start_time": "2021-12-06T11:41:05.832Z"
   },
   {
    "duration": -1732,
    "start_time": "2021-12-06T11:41:05.833Z"
   },
   {
    "duration": 12,
    "start_time": "2021-12-06T11:52:07.107Z"
   },
   {
    "duration": 7,
    "start_time": "2021-12-06T11:52:19.719Z"
   },
   {
    "duration": 66,
    "start_time": "2021-12-06T11:52:29.559Z"
   },
   {
    "duration": 48,
    "start_time": "2021-12-06T11:52:29.627Z"
   },
   {
    "duration": 108,
    "start_time": "2021-12-06T11:52:29.677Z"
   },
   {
    "duration": 4,
    "start_time": "2021-12-06T12:01:31.112Z"
   },
   {
    "duration": 492,
    "start_time": "2021-12-06T12:01:31.118Z"
   },
   {
    "duration": 49,
    "start_time": "2021-12-06T12:01:31.644Z"
   },
   {
    "duration": 724,
    "start_time": "2021-12-06T12:01:31.695Z"
   },
   {
    "duration": 11,
    "start_time": "2021-12-06T12:01:32.421Z"
   },
   {
    "duration": 6,
    "start_time": "2021-12-06T12:01:32.445Z"
   },
   {
    "duration": 71,
    "start_time": "2021-12-06T12:01:32.452Z"
   },
   {
    "duration": 62,
    "start_time": "2021-12-06T12:01:32.525Z"
   },
   {
    "duration": 84,
    "start_time": "2021-12-06T12:01:32.589Z"
   },
   {
    "duration": 58,
    "start_time": "2021-12-06T12:02:07.214Z"
   },
   {
    "duration": 84,
    "start_time": "2021-12-06T12:02:16.617Z"
   },
   {
    "duration": 402,
    "start_time": "2021-12-06T14:41:19.590Z"
   },
   {
    "duration": 1467,
    "start_time": "2021-12-06T14:41:35.908Z"
   },
   {
    "duration": 710,
    "start_time": "2021-12-06T14:41:37.377Z"
   },
   {
    "duration": 129,
    "start_time": "2021-12-06T14:41:38.091Z"
   },
   {
    "duration": 1032,
    "start_time": "2021-12-06T14:41:38.224Z"
   },
   {
    "duration": 24,
    "start_time": "2021-12-06T14:41:39.259Z"
   },
   {
    "duration": 34,
    "start_time": "2021-12-06T14:41:39.285Z"
   },
   {
    "duration": 117,
    "start_time": "2021-12-06T14:41:39.321Z"
   },
   {
    "duration": 85,
    "start_time": "2021-12-06T14:41:39.441Z"
   },
   {
    "duration": 192,
    "start_time": "2021-12-06T14:41:39.529Z"
   },
   {
    "duration": 157,
    "start_time": "2021-12-06T14:55:33.800Z"
   },
   {
    "duration": 108,
    "start_time": "2021-12-06T14:56:51.180Z"
   },
   {
    "duration": 120,
    "start_time": "2021-12-06T14:57:02.883Z"
   },
   {
    "duration": 164,
    "start_time": "2021-12-06T14:57:30.495Z"
   },
   {
    "duration": 248,
    "start_time": "2021-12-06T14:58:36.533Z"
   },
   {
    "duration": 472,
    "start_time": "2021-12-06T15:28:23.460Z"
   },
   {
    "duration": 21,
    "start_time": "2021-12-06T15:28:39.890Z"
   },
   {
    "duration": 80,
    "start_time": "2021-12-06T15:28:45.283Z"
   },
   {
    "duration": 73,
    "start_time": "2021-12-06T15:36:41.932Z"
   },
   {
    "duration": 59,
    "start_time": "2021-12-06T15:41:29.038Z"
   },
   {
    "duration": 66,
    "start_time": "2021-12-06T15:47:06.283Z"
   },
   {
    "duration": 75,
    "start_time": "2021-12-06T15:51:56.889Z"
   },
   {
    "duration": 70,
    "start_time": "2021-12-06T15:55:37.004Z"
   },
   {
    "duration": 68,
    "start_time": "2021-12-06T15:59:06.906Z"
   },
   {
    "duration": 88,
    "start_time": "2021-12-06T15:59:40.047Z"
   },
   {
    "duration": 72,
    "start_time": "2021-12-06T16:11:04.671Z"
   },
   {
    "duration": 72,
    "start_time": "2021-12-06T16:15:22.449Z"
   },
   {
    "duration": 1064,
    "start_time": "2021-12-06T18:27:07.631Z"
   },
   {
    "duration": 491,
    "start_time": "2021-12-06T18:27:08.697Z"
   },
   {
    "duration": 45,
    "start_time": "2021-12-06T18:27:09.206Z"
   },
   {
    "duration": 735,
    "start_time": "2021-12-06T18:27:09.253Z"
   },
   {
    "duration": 27,
    "start_time": "2021-12-06T18:27:09.989Z"
   },
   {
    "duration": 6,
    "start_time": "2021-12-06T18:27:10.018Z"
   },
   {
    "duration": 72,
    "start_time": "2021-12-06T18:27:10.026Z"
   },
   {
    "duration": 52,
    "start_time": "2021-12-06T18:27:10.107Z"
   },
   {
    "duration": 105,
    "start_time": "2021-12-06T18:27:10.161Z"
   },
   {
    "duration": 53,
    "start_time": "2021-12-06T18:27:10.268Z"
   },
   {
    "duration": 428,
    "start_time": "2021-12-06T18:30:17.889Z"
   },
   {
    "duration": 1026,
    "start_time": "2021-12-06T18:35:03.904Z"
   },
   {
    "duration": 163,
    "start_time": "2021-12-06T18:35:33.429Z"
   },
   {
    "duration": 128,
    "start_time": "2021-12-06T18:44:51.790Z"
   },
   {
    "duration": 123,
    "start_time": "2021-12-06T18:56:12.489Z"
   },
   {
    "duration": 1378,
    "start_time": "2021-12-07T07:04:28.093Z"
   },
   {
    "duration": 634,
    "start_time": "2021-12-07T07:04:29.473Z"
   },
   {
    "duration": 46,
    "start_time": "2021-12-07T07:04:30.109Z"
   },
   {
    "duration": 910,
    "start_time": "2021-12-07T07:04:30.157Z"
   },
   {
    "duration": 36,
    "start_time": "2021-12-07T07:04:31.069Z"
   },
   {
    "duration": 7,
    "start_time": "2021-12-07T07:04:31.107Z"
   },
   {
    "duration": 86,
    "start_time": "2021-12-07T07:04:31.116Z"
   },
   {
    "duration": 54,
    "start_time": "2021-12-07T07:04:31.205Z"
   },
   {
    "duration": 191,
    "start_time": "2021-12-07T07:04:31.261Z"
   },
   {
    "duration": 49,
    "start_time": "2021-12-07T07:04:31.454Z"
   },
   {
    "duration": 51,
    "start_time": "2021-12-07T07:06:33.705Z"
   },
   {
    "duration": 42,
    "start_time": "2021-12-07T07:09:48.139Z"
   },
   {
    "duration": 45,
    "start_time": "2021-12-07T07:28:10.682Z"
   },
   {
    "duration": 4,
    "start_time": "2021-12-07T07:28:26.885Z"
   },
   {
    "duration": 658,
    "start_time": "2021-12-07T07:28:26.893Z"
   },
   {
    "duration": 67,
    "start_time": "2021-12-07T07:28:27.553Z"
   },
   {
    "duration": 697,
    "start_time": "2021-12-07T07:28:27.623Z"
   },
   {
    "duration": 11,
    "start_time": "2021-12-07T07:28:28.322Z"
   },
   {
    "duration": 5,
    "start_time": "2021-12-07T07:28:28.335Z"
   },
   {
    "duration": 87,
    "start_time": "2021-12-07T07:28:28.342Z"
   },
   {
    "duration": 52,
    "start_time": "2021-12-07T07:28:28.431Z"
   },
   {
    "duration": 176,
    "start_time": "2021-12-07T07:28:28.485Z"
   },
   {
    "duration": 60,
    "start_time": "2021-12-07T07:28:28.664Z"
   },
   {
    "duration": 34,
    "start_time": "2021-12-07T08:22:31.742Z"
   },
   {
    "duration": 103,
    "start_time": "2021-12-07T08:26:57.402Z"
   },
   {
    "duration": 13,
    "start_time": "2021-12-07T08:27:07.309Z"
   },
   {
    "duration": 7,
    "start_time": "2021-12-07T08:28:44.225Z"
   },
   {
    "duration": 9,
    "start_time": "2021-12-07T08:32:03.867Z"
   },
   {
    "duration": 13,
    "start_time": "2021-12-07T08:33:20.939Z"
   },
   {
    "duration": 12,
    "start_time": "2021-12-07T08:33:34.343Z"
   },
   {
    "duration": 12,
    "start_time": "2021-12-07T08:34:44.683Z"
   },
   {
    "duration": 3,
    "start_time": "2021-12-07T08:36:39.446Z"
   },
   {
    "duration": 520,
    "start_time": "2021-12-07T08:36:39.454Z"
   },
   {
    "duration": 71,
    "start_time": "2021-12-07T08:36:39.975Z"
   },
   {
    "duration": 696,
    "start_time": "2021-12-07T08:36:40.048Z"
   },
   {
    "duration": 12,
    "start_time": "2021-12-07T08:36:40.747Z"
   },
   {
    "duration": 7,
    "start_time": "2021-12-07T08:36:40.761Z"
   },
   {
    "duration": 101,
    "start_time": "2021-12-07T08:36:40.770Z"
   },
   {
    "duration": 57,
    "start_time": "2021-12-07T08:36:40.873Z"
   },
   {
    "duration": 166,
    "start_time": "2021-12-07T08:36:40.932Z"
   },
   {
    "duration": 48,
    "start_time": "2021-12-07T08:36:41.101Z"
   },
   {
    "duration": 16,
    "start_time": "2021-12-07T08:36:41.151Z"
   },
   {
    "duration": 15,
    "start_time": "2021-12-07T08:42:35.085Z"
   },
   {
    "duration": 25,
    "start_time": "2021-12-07T09:31:10.038Z"
   },
   {
    "duration": 113,
    "start_time": "2021-12-07T09:34:42.522Z"
   },
   {
    "duration": 89,
    "start_time": "2021-12-07T09:38:12.522Z"
   },
   {
    "duration": 245,
    "start_time": "2021-12-07T09:44:51.317Z"
   },
   {
    "duration": 345,
    "start_time": "2021-12-07T09:47:41.773Z"
   },
   {
    "duration": 229,
    "start_time": "2021-12-07T09:47:51.480Z"
   },
   {
    "duration": 242,
    "start_time": "2021-12-07T09:48:28.519Z"
   },
   {
    "duration": 381,
    "start_time": "2021-12-07T09:52:57.433Z"
   },
   {
    "duration": 375,
    "start_time": "2021-12-07T09:53:16.177Z"
   },
   {
    "duration": 651,
    "start_time": "2021-12-07T10:04:57.879Z"
   },
   {
    "duration": 720,
    "start_time": "2021-12-07T10:05:32.529Z"
   },
   {
    "duration": 616,
    "start_time": "2021-12-07T12:45:12.831Z"
   },
   {
    "duration": 1557,
    "start_time": "2021-12-07T12:45:22.074Z"
   },
   {
    "duration": 664,
    "start_time": "2021-12-07T12:45:23.634Z"
   },
   {
    "duration": 96,
    "start_time": "2021-12-07T12:45:24.302Z"
   },
   {
    "duration": 836,
    "start_time": "2021-12-07T12:45:24.400Z"
   },
   {
    "duration": 41,
    "start_time": "2021-12-07T12:45:25.239Z"
   },
   {
    "duration": 8,
    "start_time": "2021-12-07T12:45:25.283Z"
   },
   {
    "duration": 112,
    "start_time": "2021-12-07T12:45:25.294Z"
   },
   {
    "duration": 79,
    "start_time": "2021-12-07T12:45:25.409Z"
   },
   {
    "duration": 243,
    "start_time": "2021-12-07T12:45:25.491Z"
   },
   {
    "duration": 84,
    "start_time": "2021-12-07T12:45:25.736Z"
   },
   {
    "duration": 55,
    "start_time": "2021-12-07T12:45:25.823Z"
   },
   {
    "duration": 933,
    "start_time": "2021-12-07T12:45:25.881Z"
   },
   {
    "duration": -811,
    "start_time": "2021-12-07T12:45:27.629Z"
   },
   {
    "duration": 995,
    "start_time": "2021-12-07T12:45:57.343Z"
   },
   {
    "duration": 1153,
    "start_time": "2021-12-07T12:46:34.353Z"
   },
   {
    "duration": 693,
    "start_time": "2021-12-07T12:46:40.866Z"
   },
   {
    "duration": 738,
    "start_time": "2021-12-07T12:47:12.415Z"
   },
   {
    "duration": 710,
    "start_time": "2021-12-07T12:48:41.795Z"
   },
   {
    "duration": 710,
    "start_time": "2021-12-07T12:49:10.871Z"
   },
   {
    "duration": 690,
    "start_time": "2021-12-07T12:49:25.611Z"
   },
   {
    "duration": 925,
    "start_time": "2021-12-07T12:51:16.796Z"
   },
   {
    "duration": 877,
    "start_time": "2021-12-07T12:51:33.998Z"
   },
   {
    "duration": 706,
    "start_time": "2021-12-07T12:51:54.597Z"
   },
   {
    "duration": 1390,
    "start_time": "2021-12-07T12:53:43.898Z"
   },
   {
    "duration": 1390,
    "start_time": "2021-12-07T12:54:15.176Z"
   },
   {
    "duration": 2351,
    "start_time": "2021-12-07T13:01:06.581Z"
   },
   {
    "duration": 1342,
    "start_time": "2021-12-07T19:33:17.351Z"
   },
   {
    "duration": 557,
    "start_time": "2021-12-07T19:33:18.695Z"
   },
   {
    "duration": 82,
    "start_time": "2021-12-07T19:33:19.254Z"
   },
   {
    "duration": 817,
    "start_time": "2021-12-07T19:33:19.338Z"
   },
   {
    "duration": 18,
    "start_time": "2021-12-07T19:33:20.157Z"
   },
   {
    "duration": 34,
    "start_time": "2021-12-07T19:33:20.177Z"
   },
   {
    "duration": 74,
    "start_time": "2021-12-07T19:33:20.217Z"
   },
   {
    "duration": 60,
    "start_time": "2021-12-07T19:33:20.293Z"
   },
   {
    "duration": 231,
    "start_time": "2021-12-07T19:33:20.355Z"
   },
   {
    "duration": 78,
    "start_time": "2021-12-07T19:33:20.588Z"
   },
   {
    "duration": 57,
    "start_time": "2021-12-07T19:33:20.668Z"
   },
   {
    "duration": 1420,
    "start_time": "2021-12-07T19:37:23.130Z"
   },
   {
    "duration": 1451,
    "start_time": "2021-12-07T19:38:56.094Z"
   },
   {
    "duration": 1501,
    "start_time": "2021-12-08T07:26:28.569Z"
   },
   {
    "duration": 712,
    "start_time": "2021-12-08T07:26:30.073Z"
   },
   {
    "duration": 105,
    "start_time": "2021-12-08T07:26:30.788Z"
   },
   {
    "duration": 1023,
    "start_time": "2021-12-08T07:26:30.895Z"
   },
   {
    "duration": 24,
    "start_time": "2021-12-08T07:26:31.920Z"
   },
   {
    "duration": 32,
    "start_time": "2021-12-08T07:26:31.946Z"
   },
   {
    "duration": 123,
    "start_time": "2021-12-08T07:26:31.981Z"
   },
   {
    "duration": 78,
    "start_time": "2021-12-08T07:26:32.107Z"
   },
   {
    "duration": 262,
    "start_time": "2021-12-08T07:26:32.188Z"
   },
   {
    "duration": 83,
    "start_time": "2021-12-08T07:26:32.452Z"
   },
   {
    "duration": 61,
    "start_time": "2021-12-08T07:26:32.538Z"
   },
   {
    "duration": 2363,
    "start_time": "2021-12-08T07:26:32.602Z"
   },
   {
    "duration": 94,
    "start_time": "2021-12-08T07:41:29.034Z"
   },
   {
    "duration": 415,
    "start_time": "2021-12-08T07:52:50.711Z"
   },
   {
    "duration": 12,
    "start_time": "2021-12-08T07:53:45.905Z"
   },
   {
    "duration": 595,
    "start_time": "2021-12-08T07:58:29.710Z"
   },
   {
    "duration": 485,
    "start_time": "2021-12-08T07:58:38.104Z"
   },
   {
    "duration": 786,
    "start_time": "2021-12-08T08:07:17.749Z"
   },
   {
    "duration": 806,
    "start_time": "2021-12-08T08:29:35.431Z"
   },
   {
    "duration": 850,
    "start_time": "2021-12-08T09:36:26.017Z"
   },
   {
    "duration": 7,
    "start_time": "2021-12-08T09:39:15.554Z"
   },
   {
    "duration": 8,
    "start_time": "2021-12-08T09:40:13.053Z"
   },
   {
    "duration": 802,
    "start_time": "2021-12-08T09:52:06.707Z"
   },
   {
    "duration": 4,
    "start_time": "2021-12-08T10:08:30.052Z"
   },
   {
    "duration": 53,
    "start_time": "2021-12-08T11:24:56.201Z"
   },
   {
    "duration": 205,
    "start_time": "2021-12-08T11:25:41.781Z"
   },
   {
    "duration": 809,
    "start_time": "2021-12-08T11:38:29.632Z"
   },
   {
    "duration": 794,
    "start_time": "2021-12-08T11:42:50.726Z"
   },
   {
    "duration": 7,
    "start_time": "2021-12-08T11:46:09.240Z"
   },
   {
    "duration": 7,
    "start_time": "2021-12-08T11:49:01.729Z"
   },
   {
    "duration": 8,
    "start_time": "2021-12-08T11:49:48.762Z"
   },
   {
    "duration": 7,
    "start_time": "2021-12-08T11:50:00.207Z"
   },
   {
    "duration": 8,
    "start_time": "2021-12-08T11:51:39.152Z"
   },
   {
    "duration": 7,
    "start_time": "2021-12-08T11:51:51.627Z"
   },
   {
    "duration": 3,
    "start_time": "2021-12-08T12:00:55.850Z"
   },
   {
    "duration": 5,
    "start_time": "2021-12-08T12:56:47.229Z"
   },
   {
    "duration": 671,
    "start_time": "2021-12-08T12:56:47.236Z"
   },
   {
    "duration": 103,
    "start_time": "2021-12-08T12:56:47.910Z"
   },
   {
    "duration": 931,
    "start_time": "2021-12-08T12:56:48.016Z"
   },
   {
    "duration": 39,
    "start_time": "2021-12-08T12:56:48.949Z"
   },
   {
    "duration": 10,
    "start_time": "2021-12-08T12:56:48.990Z"
   },
   {
    "duration": 121,
    "start_time": "2021-12-08T12:56:49.002Z"
   },
   {
    "duration": 79,
    "start_time": "2021-12-08T12:56:49.127Z"
   },
   {
    "duration": 238,
    "start_time": "2021-12-08T12:56:49.209Z"
   },
   {
    "duration": 96,
    "start_time": "2021-12-08T12:56:49.449Z"
   },
   {
    "duration": 54,
    "start_time": "2021-12-08T12:56:49.548Z"
   },
   {
    "duration": 2370,
    "start_time": "2021-12-08T12:56:49.604Z"
   },
   {
    "duration": 946,
    "start_time": "2021-12-08T12:56:51.976Z"
   },
   {
    "duration": 7,
    "start_time": "2021-12-08T12:56:52.925Z"
   },
   {
    "duration": 833,
    "start_time": "2021-12-08T12:56:52.934Z"
   },
   {
    "duration": 8,
    "start_time": "2021-12-08T12:56:53.770Z"
   },
   {
    "duration": 113,
    "start_time": "2021-12-08T17:15:57.951Z"
   },
   {
    "duration": 1646,
    "start_time": "2021-12-08T17:16:04.613Z"
   },
   {
    "duration": 648,
    "start_time": "2021-12-08T17:16:06.261Z"
   },
   {
    "duration": 97,
    "start_time": "2021-12-08T17:16:06.912Z"
   },
   {
    "duration": 853,
    "start_time": "2021-12-08T17:16:07.012Z"
   },
   {
    "duration": 23,
    "start_time": "2021-12-08T17:16:07.867Z"
   },
   {
    "duration": 9,
    "start_time": "2021-12-08T17:16:07.892Z"
   },
   {
    "duration": 122,
    "start_time": "2021-12-08T17:16:07.904Z"
   },
   {
    "duration": 82,
    "start_time": "2021-12-08T17:16:08.030Z"
   },
   {
    "duration": 246,
    "start_time": "2021-12-08T17:16:08.115Z"
   },
   {
    "duration": 73,
    "start_time": "2021-12-08T17:16:08.364Z"
   },
   {
    "duration": 34,
    "start_time": "2021-12-08T17:16:08.459Z"
   },
   {
    "duration": 2160,
    "start_time": "2021-12-08T17:16:08.495Z"
   },
   {
    "duration": 859,
    "start_time": "2021-12-08T17:16:10.660Z"
   },
   {
    "duration": 7,
    "start_time": "2021-12-08T17:16:11.521Z"
   },
   {
    "duration": 782,
    "start_time": "2021-12-08T17:16:11.530Z"
   },
   {
    "duration": 7,
    "start_time": "2021-12-08T17:16:12.314Z"
   },
   {
    "duration": 29,
    "start_time": "2021-12-08T17:22:23.825Z"
   },
   {
    "duration": 24,
    "start_time": "2021-12-08T17:22:32.439Z"
   },
   {
    "duration": 24,
    "start_time": "2021-12-08T17:22:45.355Z"
   },
   {
    "duration": 17,
    "start_time": "2021-12-08T17:23:11.643Z"
   },
   {
    "duration": 10625,
    "start_time": "2021-12-08T17:23:24.131Z"
   },
   {
    "duration": 12,
    "start_time": "2021-12-08T17:23:45.337Z"
   },
   {
    "duration": 10238,
    "start_time": "2021-12-08T17:23:56.601Z"
   },
   {
    "duration": 9409,
    "start_time": "2021-12-08T17:24:10.770Z"
   },
   {
    "duration": 9,
    "start_time": "2021-12-08T17:24:28.491Z"
   },
   {
    "duration": 6,
    "start_time": "2021-12-08T17:24:31.639Z"
   },
   {
    "duration": 8,
    "start_time": "2021-12-08T17:24:34.411Z"
   },
   {
    "duration": 7,
    "start_time": "2021-12-08T17:24:35.240Z"
   },
   {
    "duration": 11,
    "start_time": "2021-12-08T17:24:47.623Z"
   },
   {
    "duration": 9,
    "start_time": "2021-12-08T17:24:50.811Z"
   },
   {
    "duration": 11,
    "start_time": "2021-12-08T17:24:53.519Z"
   },
   {
    "duration": 19,
    "start_time": "2021-12-08T17:25:00.543Z"
   },
   {
    "duration": 14,
    "start_time": "2021-12-08T17:25:09.807Z"
   },
   {
    "duration": 14,
    "start_time": "2021-12-08T17:25:24.659Z"
   },
   {
    "duration": 108,
    "start_time": "2021-12-08T17:28:49.031Z"
   },
   {
    "duration": 7,
    "start_time": "2021-12-08T17:30:20.359Z"
   },
   {
    "duration": 6,
    "start_time": "2021-12-08T17:30:25.770Z"
   },
   {
    "duration": 6,
    "start_time": "2021-12-08T17:38:42.754Z"
   },
   {
    "duration": 7,
    "start_time": "2021-12-08T17:39:25.031Z"
   },
   {
    "duration": 6,
    "start_time": "2021-12-08T17:39:36.577Z"
   },
   {
    "duration": 6,
    "start_time": "2021-12-08T17:39:45.759Z"
   },
   {
    "duration": 6,
    "start_time": "2021-12-08T17:40:24.553Z"
   },
   {
    "duration": 884,
    "start_time": "2021-12-08T17:40:48.984Z"
   },
   {
    "duration": 5,
    "start_time": "2021-12-08T17:40:52.556Z"
   },
   {
    "duration": 8127,
    "start_time": "2021-12-08T17:42:40.998Z"
   },
   {
    "duration": 11516,
    "start_time": "2021-12-08T17:42:59.757Z"
   },
   {
    "duration": 7,
    "start_time": "2021-12-08T17:43:22.877Z"
   },
   {
    "duration": 8211,
    "start_time": "2021-12-08T17:54:31.219Z"
   },
   {
    "duration": 8522,
    "start_time": "2021-12-08T17:55:03.173Z"
   },
   {
    "duration": 555,
    "start_time": "2021-12-08T17:55:30.208Z"
   },
   {
    "duration": 102,
    "start_time": "2021-12-08T18:09:48.432Z"
   },
   {
    "duration": 1544,
    "start_time": "2021-12-09T08:49:54.198Z"
   },
   {
    "duration": 620,
    "start_time": "2021-12-09T08:49:55.745Z"
   },
   {
    "duration": 96,
    "start_time": "2021-12-09T08:49:56.369Z"
   },
   {
    "duration": 990,
    "start_time": "2021-12-09T08:49:56.468Z"
   },
   {
    "duration": 23,
    "start_time": "2021-12-09T08:49:57.461Z"
   },
   {
    "duration": 37,
    "start_time": "2021-12-09T08:49:57.487Z"
   },
   {
    "duration": 100,
    "start_time": "2021-12-09T08:49:57.526Z"
   },
   {
    "duration": 70,
    "start_time": "2021-12-09T08:49:57.629Z"
   },
   {
    "duration": 247,
    "start_time": "2021-12-09T08:49:57.703Z"
   },
   {
    "duration": 97,
    "start_time": "2021-12-09T08:49:57.953Z"
   },
   {
    "duration": 41,
    "start_time": "2021-12-09T08:49:58.052Z"
   },
   {
    "duration": 2261,
    "start_time": "2021-12-09T08:49:58.095Z"
   },
   {
    "duration": 876,
    "start_time": "2021-12-09T08:50:00.359Z"
   },
   {
    "duration": 7,
    "start_time": "2021-12-09T08:50:01.238Z"
   },
   {
    "duration": 798,
    "start_time": "2021-12-09T08:50:01.247Z"
   },
   {
    "duration": 7,
    "start_time": "2021-12-09T08:50:02.047Z"
   },
   {
    "duration": 443,
    "start_time": "2021-12-09T09:05:53.710Z"
   },
   {
    "duration": 25,
    "start_time": "2021-12-09T09:06:28.359Z"
   },
   {
    "duration": 38,
    "start_time": "2021-12-09T09:18:25.768Z"
   },
   {
    "duration": 49,
    "start_time": "2021-12-09T09:24:53.729Z"
   },
   {
    "duration": 48,
    "start_time": "2021-12-09T09:27:04.395Z"
   },
   {
    "duration": 2507,
    "start_time": "2021-12-09T09:37:56.461Z"
   },
   {
    "duration": 2638,
    "start_time": "2021-12-09T09:46:37.897Z"
   },
   {
    "duration": 2729,
    "start_time": "2021-12-09T09:49:54.367Z"
   },
   {
    "duration": 2616,
    "start_time": "2021-12-09T09:52:21.654Z"
   },
   {
    "duration": 2974,
    "start_time": "2021-12-09T10:02:13.975Z"
   },
   {
    "duration": 2663,
    "start_time": "2021-12-09T10:02:36.845Z"
   },
   {
    "duration": 987,
    "start_time": "2021-12-09T10:03:58.880Z"
   },
   {
    "duration": 1015,
    "start_time": "2021-12-09T10:06:32.691Z"
   },
   {
    "duration": 2769,
    "start_time": "2021-12-09T10:06:52.828Z"
   },
   {
    "duration": 3704,
    "start_time": "2021-12-09T10:11:04.868Z"
   },
   {
    "duration": 2137,
    "start_time": "2021-12-09T11:20:53.289Z"
   },
   {
    "duration": 1300,
    "start_time": "2021-12-09T12:02:39.808Z"
   },
   {
    "duration": 114,
    "start_time": "2021-12-09T15:36:39.612Z"
   },
   {
    "duration": 1548,
    "start_time": "2021-12-09T15:37:22.702Z"
   },
   {
    "duration": 2185,
    "start_time": "2021-12-09T15:37:24.253Z"
   },
   {
    "duration": 101,
    "start_time": "2021-12-09T15:37:26.461Z"
   },
   {
    "duration": 954,
    "start_time": "2021-12-09T15:37:26.565Z"
   },
   {
    "duration": 44,
    "start_time": "2021-12-09T15:37:27.521Z"
   },
   {
    "duration": 12,
    "start_time": "2021-12-09T15:37:27.569Z"
   },
   {
    "duration": 183,
    "start_time": "2021-12-09T15:37:27.585Z"
   },
   {
    "duration": 101,
    "start_time": "2021-12-09T15:37:27.772Z"
   },
   {
    "duration": 263,
    "start_time": "2021-12-09T15:37:27.876Z"
   },
   {
    "duration": 77,
    "start_time": "2021-12-09T15:37:28.415Z"
   },
   {
    "duration": 56,
    "start_time": "2021-12-09T15:37:37.354Z"
   },
   {
    "duration": 73,
    "start_time": "2021-12-09T15:37:39.792Z"
   },
   {
    "duration": 75,
    "start_time": "2021-12-09T15:37:44.000Z"
   },
   {
    "duration": 57,
    "start_time": "2021-12-09T15:37:53.240Z"
   },
   {
    "duration": 65,
    "start_time": "2021-12-09T15:37:55.799Z"
   },
   {
    "duration": 81,
    "start_time": "2021-12-09T15:37:59.236Z"
   },
   {
    "duration": 122,
    "start_time": "2021-12-09T15:41:34.890Z"
   }
  ],
  "kernelspec": {
   "display_name": "Python 3 (ipykernel)",
   "language": "python",
   "name": "python3"
  },
  "language_info": {
   "codemirror_mode": {
    "name": "ipython",
    "version": 3
   },
   "file_extension": ".py",
   "mimetype": "text/x-python",
   "name": "python",
   "nbconvert_exporter": "python",
   "pygments_lexer": "ipython3",
   "version": "3.7.8"
  },
  "toc": {
   "base_numbering": 1,
   "nav_menu": {},
   "number_sections": true,
   "sideBar": true,
   "skip_h1_title": true,
   "title_cell": "Table of Contents",
   "title_sidebar": "Contents",
   "toc_cell": false,
   "toc_position": {
    "height": "calc(100% - 180px)",
    "left": "10px",
    "top": "150px",
    "width": "176px"
   },
   "toc_section_display": true,
   "toc_window_display": true
  }
 },
 "nbformat": 4,
 "nbformat_minor": 2
}
